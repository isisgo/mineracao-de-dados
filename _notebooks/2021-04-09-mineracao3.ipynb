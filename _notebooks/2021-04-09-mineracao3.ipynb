{
  "nbformat": 4,
  "nbformat_minor": 0,
  "metadata": {
    "colab": {
      "name": "Projeto Mineração - Dados Abertos UFRN.ipynb",
      "provenance": []
    },
    "kernelspec": {
      "name": "python3",
      "display_name": "Python 3"
    },
    "language_info": {
      "name": "python"
    }
  },
  "cells": [
    {
      "cell_type": "markdown",
      "metadata": {
        "id": "L02l4bMDXCGv"
      },
      "source": [
        "# Projeto Mineração - Dados Abertos UFRN\n",
        "\n"
      ]
    },
    {
      "cell_type": "code",
      "metadata": {
        "id": "hwtYIfZ3Wnme"
      },
      "source": [
        "#hide\n",
        "import pandas as pd\n",
        "import numpy as np\n",
        "\n",
        "projetos = pd.read_csv(\"http://dados.ufrn.br/dataset/e48162fa-0668-4098-869a-8aacfd177f9f/resource/3f12a9a4-7084-43e7-a4ac-091a8ae14020/download/projetos-de-pesquisa.csv\", sep=';')\n",
        "bolsistas = pd.read_csv(\"http://dados.ufrn.br/dataset/81608a4d-c76b-4758-a8d8-54be32209833/resource/d21c94fe-22ba-4cf3-89db-54d8e739c567/download/bolsas-iniciacao-cientifica.csv\", sep=';')"
      ],
      "execution_count": 3,
      "outputs": []
    },
    {
      "cell_type": "code",
      "metadata": {
        "id": "yefqArM9Wy9q"
      },
      "source": [
        "#hide\n",
        "bolsistas_categoria = bolsistas.groupby('categoria', as_index=False).agg({\"discente\": \"count\"})\n",
        "#print(bolsistas_categoria)\n",
        "\n",
        "bolsistas_tipo = bolsistas.groupby('tipo_de_bolsa', as_index=False).agg({\"discente\" : \"count\"})\n",
        "#print(bolsistas_tipo)\n",
        "\n",
        "bolsistas_status = bolsistas.groupby('status', as_index=False).agg({\"codigo_projeto\": \"count\"})\n",
        "#print(bolsistas_status)\n",
        "\n",
        "bolsistas_ano = bolsistas.groupby('ano', as_index=False).agg({\"discente\": \"count\"})\n",
        "#print(bolsistas_ano)\n",
        "\n",
        "grupo_projetos = bolsistas.groupby(\"id_projeto_pesquisa\")\n",
        "#print(grupo_projetos)\n",
        "\n",
        "projetos_situacao = projetos.groupby('situacao', as_index=False).agg({\"codigo_projeto\":\"count\"})\n",
        "#print(projetos_situacao)\n",
        "\n",
        "projetos_categoria = projetos.groupby('categoria_projeto', as_index=False).agg({\"codigo_projeto\":\"count\"})\n",
        "#print(projetos_categoria)\n",
        "\n",
        "projetos_unidades = projetos.groupby('unidade', as_index=False).agg({\"codigo_projeto\":\"count\"})\n",
        "#print(projetos_unidades)"
      ],
      "execution_count": 5,
      "outputs": []
    },
    {
      "cell_type": "code",
      "metadata": {
        "colab": {
          "base_uri": "https://localhost:8080/",
          "height": 1000
        },
        "id": "r2G9_2aXX-0O",
        "outputId": "efbc7303-bed4-494a-e9ee-742202ea90a3"
      },
      "source": [
        "#hide\n",
        "projetos.drop(columns=['data_inicio', 'data_fim', 'id_coordenador', 'coordenador', 'edital', 'objetivos_desenvolvimento_sustentavel', 'id_grupo_pesquisa', 'grupo_pesquisa'])\n",
        "bolsistas.drop(columns=['id_grupo_pesquisa', 'grupo_pesquisa', 'fim' ])\n",
        "#13\n",
        "#17"
      ],
      "execution_count": 6,
      "outputs": [
        {
          "output_type": "execute_result",
          "data": {
            "text/html": [
              "<div>\n",
              "<style scoped>\n",
              "    .dataframe tbody tr th:only-of-type {\n",
              "        vertical-align: middle;\n",
              "    }\n",
              "\n",
              "    .dataframe tbody tr th {\n",
              "        vertical-align: top;\n",
              "    }\n",
              "\n",
              "    .dataframe thead th {\n",
              "        text-align: right;\n",
              "    }\n",
              "</style>\n",
              "<table border=\"1\" class=\"dataframe\">\n",
              "  <thead>\n",
              "    <tr style=\"text-align: right;\">\n",
              "      <th></th>\n",
              "      <th>id_discente</th>\n",
              "      <th>matricula</th>\n",
              "      <th>discente</th>\n",
              "      <th>titulo</th>\n",
              "      <th>codigo_projeto</th>\n",
              "      <th>id_projeto_pesquisa</th>\n",
              "      <th>ano</th>\n",
              "      <th>id_orientador</th>\n",
              "      <th>orientador</th>\n",
              "      <th>categoria</th>\n",
              "      <th>tipo_de_bolsa</th>\n",
              "      <th>linha_pesquisa</th>\n",
              "      <th>cota</th>\n",
              "      <th>inicio</th>\n",
              "      <th>id_unidade</th>\n",
              "      <th>unidade</th>\n",
              "      <th>status</th>\n",
              "    </tr>\n",
              "  </thead>\n",
              "  <tbody>\n",
              "    <tr>\n",
              "      <th>0</th>\n",
              "      <td>88234</td>\n",
              "      <td>200504593</td>\n",
              "      <td>ABDON SILVA RIBEIRO DA CUNHA</td>\n",
              "      <td>ELEMENTOS DO COMPORTAMENTO ORGANIZACIONAL:Tipo...</td>\n",
              "      <td>PVE513-2008</td>\n",
              "      <td>5487590</td>\n",
              "      <td>2008</td>\n",
              "      <td>23198</td>\n",
              "      <td>WASHINGTON JOSE DE SOUSA</td>\n",
              "      <td>Iniciação Científica (IC)</td>\n",
              "      <td>PIBIC</td>\n",
              "      <td>Gestão de Organizações Sociais;Trabalho Volunt...</td>\n",
              "      <td>2008-2009</td>\n",
              "      <td>2008/11/06 00:00:00.000</td>\n",
              "      <td>443</td>\n",
              "      <td>CENTRO DE CIÊNCIAS SOCIAIS APLICADAS - CCSA</td>\n",
              "      <td>FINALIZADO</td>\n",
              "    </tr>\n",
              "    <tr>\n",
              "      <th>1</th>\n",
              "      <td>88234</td>\n",
              "      <td>200504593</td>\n",
              "      <td>ABDON SILVA RIBEIRO DA CUNHA</td>\n",
              "      <td>Geração e disseminação da inovação na carcinic...</td>\n",
              "      <td>PVE2463-2008</td>\n",
              "      <td>5554243</td>\n",
              "      <td>2008</td>\n",
              "      <td>64653</td>\n",
              "      <td>MARIANA BALDI</td>\n",
              "      <td>Iniciação Científica (IC)</td>\n",
              "      <td>PIBIC</td>\n",
              "      <td>Organizações e comportamento organizacional</td>\n",
              "      <td>2008-2009</td>\n",
              "      <td>2008/08/25 00:00:00.000</td>\n",
              "      <td>161</td>\n",
              "      <td>DEPARTAMENTO DE CIÊNCIAS ADMINISTRATIVAS - DEP...</td>\n",
              "      <td>FINALIZADO</td>\n",
              "    </tr>\n",
              "    <tr>\n",
              "      <th>2</th>\n",
              "      <td>88234</td>\n",
              "      <td>200504593</td>\n",
              "      <td>ABDON SILVA RIBEIRO DA CUNHA</td>\n",
              "      <td>O agronegócio da carcinicultura no RN e a estr...</td>\n",
              "      <td>PVE334-2007</td>\n",
              "      <td>1179265</td>\n",
              "      <td>2007</td>\n",
              "      <td>64653</td>\n",
              "      <td>MARIANA BALDI</td>\n",
              "      <td>Iniciação Científica (IC)</td>\n",
              "      <td>PIBIC</td>\n",
              "      <td>Organizações e comportamento organizacional;;;</td>\n",
              "      <td>2007-2008</td>\n",
              "      <td>2007/08/01 00:00:00.000</td>\n",
              "      <td>443</td>\n",
              "      <td>CENTRO DE CIÊNCIAS SOCIAIS APLICADAS - CCSA</td>\n",
              "      <td>FINALIZADO</td>\n",
              "    </tr>\n",
              "    <tr>\n",
              "      <th>3</th>\n",
              "      <td>88234</td>\n",
              "      <td>200504593</td>\n",
              "      <td>ABDON SILVA RIBEIRO DA CUNHA</td>\n",
              "      <td>Motivos de Adesão e Filiação ao Trabalho Volun...</td>\n",
              "      <td>PVE3275-2009</td>\n",
              "      <td>11687003</td>\n",
              "      <td>2009</td>\n",
              "      <td>23198</td>\n",
              "      <td>WASHINGTON JOSE DE SOUSA</td>\n",
              "      <td>Iniciação Científica (IC)</td>\n",
              "      <td>PIBIC</td>\n",
              "      <td>Análise e Avaliação de Políticas Públicas;;;</td>\n",
              "      <td>2009-2010</td>\n",
              "      <td>2009/08/01 00:00:00.000</td>\n",
              "      <td>161</td>\n",
              "      <td>DEPARTAMENTO DE CIÊNCIAS ADMINISTRATIVAS - DEP...</td>\n",
              "      <td>FINALIZADO</td>\n",
              "    </tr>\n",
              "    <tr>\n",
              "      <th>4</th>\n",
              "      <td>88234</td>\n",
              "      <td>200504593</td>\n",
              "      <td>ABDON SILVA RIBEIRO DA CUNHA</td>\n",
              "      <td>O agronegócio da carcinicultura no RN e a estr...</td>\n",
              "      <td>PVE334-2006</td>\n",
              "      <td>41258</td>\n",
              "      <td>2006</td>\n",
              "      <td>64653</td>\n",
              "      <td>MARIANA BALDI</td>\n",
              "      <td>Iniciação Científica (IC)</td>\n",
              "      <td>PROPESQ</td>\n",
              "      <td>Organizações e comportamento organizacional;;;</td>\n",
              "      <td>2006-2007</td>\n",
              "      <td>2006/08/01 00:00:00.000</td>\n",
              "      <td>443</td>\n",
              "      <td>CENTRO DE CIÊNCIAS SOCIAIS APLICADAS - CCSA</td>\n",
              "      <td>FINALIZADO</td>\n",
              "    </tr>\n",
              "    <tr>\n",
              "      <th>...</th>\n",
              "      <td>...</td>\n",
              "      <td>...</td>\n",
              "      <td>...</td>\n",
              "      <td>...</td>\n",
              "      <td>...</td>\n",
              "      <td>...</td>\n",
              "      <td>...</td>\n",
              "      <td>...</td>\n",
              "      <td>...</td>\n",
              "      <td>...</td>\n",
              "      <td>...</td>\n",
              "      <td>...</td>\n",
              "      <td>...</td>\n",
              "      <td>...</td>\n",
              "      <td>...</td>\n",
              "      <td>...</td>\n",
              "      <td>...</td>\n",
              "    </tr>\n",
              "    <tr>\n",
              "      <th>26722</th>\n",
              "      <td>711540</td>\n",
              "      <td>20160002306</td>\n",
              "      <td>ZILMAR CANDIDO DE SANTANA JUNIOR</td>\n",
              "      <td>Vínculos cosmológicos com dados de quasares</td>\n",
              "      <td>PIJ12992-2016</td>\n",
              "      <td>117607579</td>\n",
              "      <td>2016</td>\n",
              "      <td>5757556</td>\n",
              "      <td>PEDRO DA CUNHA FERREIRA</td>\n",
              "      <td>Iniciação Científica (IC)</td>\n",
              "      <td>VOLUNTÁRIO</td>\n",
              "      <td>Cosmologia e gravitação</td>\n",
              "      <td>2017-2018</td>\n",
              "      <td>2017/08/02 00:00:00.000</td>\n",
              "      <td>4885</td>\n",
              "      <td>ESCOLA DE CIÊNCIAS E TECNOLOGIA - ECT</td>\n",
              "      <td>FINALIZADO</td>\n",
              "    </tr>\n",
              "    <tr>\n",
              "      <th>26723</th>\n",
              "      <td>72529</td>\n",
              "      <td>200214205</td>\n",
              "      <td>ZORAIDE BEZERRA GOMES</td>\n",
              "      <td>Impactos da operação do Estado como empregador...</td>\n",
              "      <td>PVE1495-2007</td>\n",
              "      <td>1173409</td>\n",
              "      <td>2007</td>\n",
              "      <td>26268</td>\n",
              "      <td>ANDRE LUIS CABRAL DE LOURENCO</td>\n",
              "      <td>Iniciação Científica (IC)</td>\n",
              "      <td>PIBIC</td>\n",
              "      <td>Estratégias para o Desenvolvimento Regional</td>\n",
              "      <td>2007-2008</td>\n",
              "      <td>2007/07/28 00:00:00.000</td>\n",
              "      <td>160</td>\n",
              "      <td>DEPARTAMENTO DE ECONOMIA - DEPEC - DECO/CCSA</td>\n",
              "      <td>FINALIZADO</td>\n",
              "    </tr>\n",
              "    <tr>\n",
              "      <th>26724</th>\n",
              "      <td>538319</td>\n",
              "      <td>2009303264</td>\n",
              "      <td>ZUELITON DA SILVA ALMEIDA</td>\n",
              "      <td>CURVA DE RETENÇÃO DE ÁGUA EM NEOSSOLO QUARTZAR...</td>\n",
              "      <td>PVL6437-2010</td>\n",
              "      <td>50569684</td>\n",
              "      <td>2010</td>\n",
              "      <td>5753876</td>\n",
              "      <td>ERMELINDA MARIA MOTA OLIVEIRA</td>\n",
              "      <td>Iniciação Científica (IC)</td>\n",
              "      <td>PIBIC-EM</td>\n",
              "      <td>Produção de Forragens</td>\n",
              "      <td>Ensino Médio/Técnico 2010-2012</td>\n",
              "      <td>2010/10/01 00:00:00.000</td>\n",
              "      <td>351</td>\n",
              "      <td>ESCOLA AGRÍCOLA DE JUNDIAÍ - EAJ</td>\n",
              "      <td>FINALIZADO</td>\n",
              "    </tr>\n",
              "    <tr>\n",
              "      <th>26725</th>\n",
              "      <td>536654</td>\n",
              "      <td>2010327302</td>\n",
              "      <td>ZUILA MOURA CAVALCANTI</td>\n",
              "      <td>AS PRÁTICAS INTEGRATIVAS EM SAÚDE E OS SERVIDO...</td>\n",
              "      <td>PID6336-2010</td>\n",
              "      <td>4918830</td>\n",
              "      <td>2010</td>\n",
              "      <td>5753559</td>\n",
              "      <td>MÉRCIA MARIA DE SANTI</td>\n",
              "      <td>Iniciação Científica (IC)</td>\n",
              "      <td>PIBIC-EM</td>\n",
              "      <td>NENHUMA</td>\n",
              "      <td>Ensino Médio/Técnico 2010-2012</td>\n",
              "      <td>2010/10/01 00:00:00.000</td>\n",
              "      <td>205</td>\n",
              "      <td>ESCOLA DE SAÚDE - ES/UFRN</td>\n",
              "      <td>FINALIZADO</td>\n",
              "    </tr>\n",
              "    <tr>\n",
              "      <th>26726</th>\n",
              "      <td>528145</td>\n",
              "      <td>2010074440</td>\n",
              "      <td>ZULENE FELIPE DA SILVA</td>\n",
              "      <td>Estudo da formação e qualificação lato sensu n...</td>\n",
              "      <td>PVF4423-2010</td>\n",
              "      <td>17749708</td>\n",
              "      <td>2009</td>\n",
              "      <td>22769</td>\n",
              "      <td>SORANEIDE SOARES DANTAS</td>\n",
              "      <td>Iniciação Científica (IC)</td>\n",
              "      <td>VOLUNTÁRIO</td>\n",
              "      <td>Formação e profissionalização do educador</td>\n",
              "      <td>REUNI-2010</td>\n",
              "      <td>2010/01/01 00:00:00.000</td>\n",
              "      <td>236</td>\n",
              "      <td>CERES - DEPTO CIÊNCIAS SOCIAIS E HUMANAS - DCS...</td>\n",
              "      <td>FINALIZADO</td>\n",
              "    </tr>\n",
              "  </tbody>\n",
              "</table>\n",
              "<p>26727 rows × 17 columns</p>\n",
              "</div>"
            ],
            "text/plain": [
              "       id_discente  ...      status\n",
              "0            88234  ...  FINALIZADO\n",
              "1            88234  ...  FINALIZADO\n",
              "2            88234  ...  FINALIZADO\n",
              "3            88234  ...  FINALIZADO\n",
              "4            88234  ...  FINALIZADO\n",
              "...            ...  ...         ...\n",
              "26722       711540  ...  FINALIZADO\n",
              "26723        72529  ...  FINALIZADO\n",
              "26724       538319  ...  FINALIZADO\n",
              "26725       536654  ...  FINALIZADO\n",
              "26726       528145  ...  FINALIZADO\n",
              "\n",
              "[26727 rows x 17 columns]"
            ]
          },
          "metadata": {
            "tags": []
          },
          "execution_count": 6
        }
      ]
    },
    {
      "cell_type": "code",
      "metadata": {
        "id": "q8psIn7yXYLy"
      },
      "source": [
        "#hide\n",
        "import matplotlib.pyplot as plt\n",
        "import seaborn as sns\n",
        "sns.set()\n",
        "\n",
        "import sklearn\n",
        "from sklearn.cluster import KMeans\n",
        "#from mpl_toolkits.mplot3d import Axes3D\n",
        "from sklearn.preprocessing import scale\n",
        "import sklearn.metrics as sm\n",
        "from sklearn.metrics import confusion_matrix, classification_report\n"
      ],
      "execution_count": 7,
      "outputs": []
    },
    {
      "cell_type": "code",
      "metadata": {
        "id": "lylYyuFAXvov"
      },
      "source": [
        "#hide\n",
        "import cufflinks as cf\n",
        "import plotly.express as px\n",
        "import plotly.offline as py\n",
        "import plotly.graph_objs as go\n",
        "from plotly.subplots import make_subplots"
      ],
      "execution_count": 8,
      "outputs": []
    },
    {
      "cell_type": "code",
      "metadata": {
        "id": "Y77aN45XX1vQ"
      },
      "source": [
        "#hide\n",
        "anos_projetos = projetos['ano'].unique()\n",
        "qtd_projetos = projetos['ano'].value_counts().to_list()"
      ],
      "execution_count": 9,
      "outputs": []
    },
    {
      "cell_type": "code",
      "metadata": {
        "colab": {
          "base_uri": "https://localhost:8080/"
        },
        "id": "oPeQInfJX4Mb",
        "outputId": "9d401a3e-a46b-4c62-e800-1c5f210403d9"
      },
      "source": [
        "#hide_input\n",
        "print(\"Tabela de Projetos:\", projetos.shape)\n",
        "print(\"Tabela de Bolsistas:\", bolsistas.shape)"
      ],
      "execution_count": 10,
      "outputs": [
        {
          "output_type": "stream",
          "text": [
            "Tabela de Projetos: (21371, 21)\n",
            "Tabela de Bolsistas: (26727, 20)\n"
          ],
          "name": "stdout"
        }
      ]
    },
    {
      "cell_type": "code",
      "metadata": {
        "colab": {
          "base_uri": "https://localhost:8080/"
        },
        "id": "CerFV-7cPGPo",
        "outputId": "b7fc558f-c618-41a8-d04e-22c1424f037e"
      },
      "source": [
        "#hide\n",
        "areas = projetos['area_conhecimento_cnpq'].unique()\n",
        "np.size(areas)"
      ],
      "execution_count": 11,
      "outputs": [
        {
          "output_type": "execute_result",
          "data": {
            "text/plain": [
              "923"
            ]
          },
          "metadata": {
            "tags": []
          },
          "execution_count": 11
        }
      ]
    },
    {
      "cell_type": "code",
      "metadata": {
        "colab": {
          "base_uri": "https://localhost:8080/"
        },
        "id": "YRnDpCdegW1d",
        "outputId": "6bd5a688-6174-4474-bb87-fdc63dc0aa24"
      },
      "source": [
        "#hide\n",
        "from google.colab import drive\n",
        "drive.mount('/content/drive')"
      ],
      "execution_count": 12,
      "outputs": [
        {
          "output_type": "stream",
          "text": [
            "Mounted at /content/drive\n"
          ],
          "name": "stdout"
        }
      ]
    },
    {
      "cell_type": "code",
      "metadata": {
        "id": "1Ri-s43TSYq9"
      },
      "source": [
        "#hide\n",
        "#num\n",
        "#numeros"
      ],
      "execution_count": null,
      "outputs": []
    },
    {
      "cell_type": "code",
      "metadata": {
        "colab": {
          "base_uri": "https://localhost:8080/"
        },
        "id": "DPw0rG4MSm7M",
        "outputId": "6e829a9b-4884-44cf-ed98-544ffc2da6c8"
      },
      "source": [
        "#hide\n",
        "file = open('/content/drive/MyDrive/projetos/areas_cnpq.csv', 'r')\n",
        "lines = file.readlines()\n",
        "print(lines)"
      ],
      "execution_count": null,
      "outputs": [
        {
          "output_type": "stream",
          "text": [
            "['10000003,Ciências Exatas e da Terra\\n', '10100008,Matemática\\n', '10101004,Álgebra\\n', '10101012,Conjuntos \\n', '10101020,Lógica Matemática \\n', '10101039,Teoria dos Números\\n', '10101047,Grupos de Algebra Não-Comutaviva\\n', '10101055,Algebra Comutativa\\n', '10101063,Geometria Algebrica\\n', '10102000,Análise\\n', '10102019,Análise Complexa\\n', '10102027,Análise Funcional\\n', '10102035,Análise Funcional Não-Linear\\n', '10102043,Equações Diferênciais Ordinárias\\n', '10102051,Equações Diferênciais Parciais\\n', '10102060,Equações Diferênciais Funcionais\\n', '10103007,Geometria e Topologia\\n', '10103015,Geometria Diferêncial\\n', '10103023,Topologia Algébrica\\n', '10103031,Topologia das Variedades\\n', '10103040,Sistemas Dinâmicos\\n', '10103058,Teoria das Singularidades e Teoria das Catástrofes\\n', '10103066,Teoria das Folheações\\n', '10104003,Matemática Aplicada\\n', '10104011,Física Matemática\\n', '10104020,Análise Numérica\\n', '10104038,Matemática Discreta e Combinatoria\\n', '10200002,Probabilidade e Estatística\\n', '10201009,Probabilidade\\n', '10201017,Teoria Geral e Fundamentos da Probabilidade\\n', '10201025,Teoria Geral e Processos Estocásticos\\n', '10201033,Teoremas de Limite\\n', '10201041,Processos Markovianos\\n', '10201050,Análise Estocástica\\n', '10201068,Processos Estocásticos Especiais\\n', '10202005,Estatística\\n', '10202013,Fundamentos da Estatística\\n', '10202021,Inferência Paramétrica\\n', '10202030,Inferência Nao-Paramétrica\\n', '10202048,Inferência em Processos Estocásticos\\n', '10202056,Análise Multivariada\\n', '10202064,Regressão e Correlação\\n', '10202072,Planejamento de Experimentos\\n', '10202080,Análise de Dados\\n', '10203001,Probabilidade e Estatística Aplicadas\\n', '10300007,Ciência da Computação\\n', '10301003,Teoria da Computação\\n', '10301011,Computabilidade e Modelos de Computação\\n', '10301020,Linguagem Formais e Automatos\\n', '10301038,Análise de Algoritmos e Complexidade de Computação\\n', '10301046,Lógicas e Semântica de Programas\\n', '10302000,Matemática da Computação\\n', '10302018,Matemática Simbólica \\n', '10302026,Modelos Analíticos e de Simulação\\n', '10303006,Metodologia e Técnicas da Computação\\n', '10303014,Linguagens de Programação\\n', '10303022,Engenharia de Software\\n', '10303030,Banco de Dados \\n', '10303049,Sistemas de Informação\\n', '10303057,Processamento Gráfico (Graphics)\\n', '10304002,Sistemas de Computação\\n', '10304010,Hardware\\n', '10304029,Arquitetura de Sistemas de Computação\\n', '10304037,Software Básico\\n', '10304045,Teleinformática\\n', '10400001,Astronomia\\n', '10401008,Astronomia de Posição e Mecânica Celeste\\n', '10401016,Astronomia Fundamental\\n', '10401024,Astronomia Dinâmica\\n', '10402004,Astrofísica Estelar\\n', '10403000,Astrofísica do Meio Interestelar\\n', '10403019,Meio Interestelar\\n', '10403027,Nebulosa\\n', '10404007,Astrofísica Extragaláctica\\n', '10404015,Galáxias\\n', '10404023,Aglomerados de Galáxias\\n', '10404031,Quasares\\n', '10404040,Cosmologia\\n', '10405003,Astrofísica do Sistema Solar\\n', '10405011,Física Solar\\n', '10405020,Movimento da Terra\\n', '10405038,Sistema Planetário\\n', '10406000,Instrumentação Astronômica\\n', '10406018,Astronômia Ótica\\n', '10406026,Radioastronomia\\n', '10406034,Astronomia Espacial\\n', '10406042,Processamento de Dados Astronômicos\\n', '10500006,Física\\n', '10501002,Física Geral\\n', '10501010,Métodos Matemáticos da Física\\n', '10501029,Física Clássica e Física Quântica; Mecânica e Campos\\n', '10501037,Relatividade e Gravitação\\n', '10501045,Física Estatística e Termodinâmica\\n', '10501053,Metrologia, Técnicas Gerais de Laboratório, Sistema de Instrumentação\\n', '10501061,Instrumentação Específica de Uso Geral em Física\\n', '10502009,Áreas Clássicas de Fenomenologia e suas Aplicações\\n', '10502017,Eletricidade e Magnetismo; Campos e Partículas Carregadas\\n', '10502025,Ótica\\n', '10502033,Acústica\\n', '10502041,Transferência de Calor; Processos Térmicos e Termodinâmicos\\n', '10502050,Mecânica, Elasticidade e Reologia\\n', '10502068,Dinâmica dos Fluidos\\n', '10503005,Física das Partículas Elementares e Campos\\n', '10503013,Teoria Geral de Partículas e Campos\\n', '10503021,Teorias Específicas e Modelos de Interação; Sistematica de Partículas; Raios Cósmicos\\n', '10503030,Reações Específicas e Fenomiologia de Partículas\\n', '10503048,Propriedades de Partículas Específicas e Ressonâncias\\n', '10504001,Física Nuclear\\n', '10504010,Estrutura Nuclear\\n', '10504028,Desintegração Nuclear e Radioatividade\\n', '10504036,Reações Nucleares e Espalhamento Geral\\n', '10504044,Reações Nucleares e Espalhamento (Reações Específicas)\\n', '10504052,Propriedades de Núcleos Específicos\\n', '10504060,Métodos Experimentais e Instrumentação para Partículas Elementares e Física Nuclear\\n', '10505008,Física Atômica e Molécular\\n', '10505016,Estrutura Eletrônica de Átomos e Moléculas; Teoria\\n', '10505024,Espectros Atômicos e Integração de Fótons\\n', '10505032,Espectros Moléculares e Interações de Fótons com Moléculas\\n', '10505040,Processos de Colisão e Interações de Átomos e Moléculas\\n', '10505059,Inf.Sobre Átomos e Moléculas Obtidos Experimentalmente;Instrumentação e Técnicas\\n', '10505067,Estudos de Átomos e Moléculas Especiais\\n', '10506004,Física dos Fluidos, Física de Plasmas e Descargas Elétricas\\n', '10506012,Cinética e Teoria de Transporte de Fluidos; Propriedades Físicas de Gases\\n', '10506020,Física de Plasmas e Descargas Elétricas\\n', '10507000,Física da Matéria Condensada\\n', '10507019,Estrutura de Líquidos e Sólidos; Cristalografia\\n', '10507027,Propriedades Mecânicas e Acústicas da Matéria Condensada\\n', '10507035,Dinâmica da Rede e Estatística de Cristais\\n', '10507043,Equação de Estado, Equilíbrio de Fases e Transições de Fase\\n', '10507051,Propriedades Térmicas da Matéria Condensada\\n', '10507060,Propriedades de Transportes de Matéria Condensada (Não Eletrônicas)\\n', '10507078,Campos Quânticos e Sólidos, Hélio, Líquido, Sólido\\n', '10507086,Superfícies e Interfaces; Películas e Filamentos\\n', '10507094,Estados Eletrônicos\\n', '10507108,Transp.Eletrônicos e Prop. Elétricas de Superfícies; Interfaces e Películas \\n', '10507116,Estruturas Eletrônicas e Propriedades Elétricas de Superfícies Interfaces e Películas \\n', '10507124,Supercondutividade\\n', '10507132,Materiais Magnéticos e Propriedades Magnéticas\\n', '10507140,Ressonância Mag.e Relax.Na Mat.Condens;Efeitos Mosbauer;Corr.Ang.Pertubada\\n', '10507159,Materiais Dielétricos e Propriedades Dielétricas\\n', '10507167,Prop.Óticas e Espectrosc.da Mat.Condens;Outras Inter.da Mat.Com Rad.e Part.\\n', '10507175,Emissão Eletrônica e Iônica por Líquidos e Sólidos; Fenômenos de Impacto\\n', '10600000,Química\\n', '10601007,Química Orgânica\\n', '10601015,Estrutura, Conformação e Estereoquímica\\n', '10601023,Sintese Orgânica\\n', '10601031,Fisico-Química Orgânica\\n', '10601040,Fotoquímica Orgânica\\n', '10601058,Química dos Produtos Naturais \\n', '10601066,Evolução, Sistemática e Ecologia Química\\n', '10601074,Polimeros e Colóides\\n', '10602003,Química Inorgânica\\n', '10602011,Campos de Coordenação\\n', '10602020,Não-Metais e Seus Compostos\\n', '10602038,Compostos Organo-Metálicos\\n', '10602046,Determinação de Estrutura de Compostos Inorgânicos\\n', '10602054,Foto-Química Inorgânica\\n', '10602062,Fisico Química Inorgânica\\n', '10602070,Química Bio-Inorgânica\\n', '10603000,Fisico-Química\\n', '10603018,Cinética Química e Catálise\\n', '10603026,Eletroquímica\\n', '10603034,Espectroscopia\\n', '10603042,Química de Interfaces\\n', '10603050,Química do Estado Condensado\\n', '10603069,Química Nuclear e Radioquímica\\n', '10603077,Química Teórica\\n', '10603085,Termodinâmica Química\\n', '10604006,Química Analítica\\n', '10604014,Separação\\n', '10604022,Métodos Óticos de Análise\\n', '10604030,Eletroanalítica\\n', '10604049,Gravimetria\\n', '10604057,Titimetria\\n', '10604065,Instrumentação Analítica\\n', '10604073,Análise de Traços e Química Ambiental\\n', '10700005,GeoCiências\\n', '10701001,Geologia\\n', '10701010,Mineralogia\\n', '10701028,Petrologia\\n', '10701036,Geoquímica\\n', '10701044,Geologia Regional\\n', '10701052,Geotectônica\\n', '10701060,Geocronologia\\n', '10701079,Cartografia Geológica\\n', '10701087,Metalogenia\\n', '10701095,Hidrogeologia\\n', '10701109,Prospecção Mineral\\n', '10701117,Sedimentologia\\n', '10701125,Paleontologia Estratigráfica\\n', '10701133,Estratigrafia\\n', '10701141,Geologia Ambiental\\n', '10702008,Geofísica\\n', '10702016,Geomagnetismo\\n', '10702024,Sismologia\\n', '10702032,Geotermia e Fluxo Térmico\\n', '10702040,Propriedades Físicas das Rochas\\n', '10702059,Geofísica Nuclear\\n', '10702067,Sensoriamento Remoto\\n', '10702075,Aeronomia\\n', '10702083,Desenvolvimento de Instrumentação Geofísica\\n', '10702091,Geofísica Aplicada\\n', '10702105,Gravimetria\\n', '10703004,Meteorologia\\n', '10703012,Meteorologia Dinâmica\\n', '10703020,Meteorologia Sinótica\\n', '10703039,Meteorologia Física\\n', '10703047,Química da Atmosfera\\n', '10703055,Instrumentação Meteorológica\\n', '10703063,Climatologia\\n', '10703071,Micrometeorologia\\n', '10703080,Sensoriamento Remoto da Atmosfera\\n', '10703098,Meteorologia Aplicada\\n', '10704000,Geodesia\\n', '10704019,Geodesia Física\\n', '10704027,Geodesia Geométrica\\n', '10704035,Geodesia Celeste\\n', '10704043,Fotogrametria\\n', '10704051,Cartografia Básica\\n', '10705007,Geografia Física\\n', '10705015,Geomorfologia\\n', '10705023,Climatologia Geográfica\\n', '10705031,Pedologia\\n', '10705040,Hidrogeografia\\n', '10705058,Geoecologia\\n', '10705066,Fotogeografia (Físico-Ecológica)\\n', '10705074,Geocartografia\\n', '10800000,Oceanografia\\n', '10801006,Oceanografia Biológica\\n', '10801014,Interação entre os Organismos Marinhos e os Parâmetros Ambientais\\n', '10802002,Oceanografia Física\\n', '10802010,Variáveis Físicas da Água do Mar\\n', '10802029,Movimento da Água do Mar\\n', '10802037,Origem das Massas de Água \\n', '10802045,Interação do Oceano com o Leito do Mar \\n', '10802053,Interação do Oceano com a Atmosfera\\n', '10803009,Oceanografia Química\\n', '10803017,Propriedades Químicas da Água do Mar\\n', '10803025,Interações Químico-Biológicas/Geológicas das Substâncias Químicas da Água do Mar\\n', '10804005,Oceanografia Geológica\\n', '10804013,Geomorfologia Submarina\\n', '10804021,Sedimentologia Marinha\\n', '10804030,Geofísica Marinha\\n', '20000006,Ciências Biológicas\\n', '20100000,Biologia Geral\\n', '20200005,Genética\\n', '20201001,Genética Quantitativa\\n', '20202008,Genética Molecular e de Microorganismos\\n', '20203004,Genética Vegetal\\n', '20204000,Genética Animal\\n', '20205007,Genética Humana e Médica\\n', '20206003,Mutagênese\\n', '20300000,Botânica\\n', '20301006,Paleobotânica\\n', '20302002,Morfologia Vegetal\\n', '20302010,Morfologia Externa\\n', '20302029,Citologia Vegetal\\n', '20302037,Anatomia Vegetal\\n', '20302045,Palinologia\\n', '20303009,Fisiologia Vegetal\\n', '20303017,Nutrição e Crescimento Vegetal\\n', '20303025,Reprodução Vegetal\\n', '20303033,Ecofisiologia Vegetal\\n', '20304005,Taxonomia Vegetal\\n', '20304013,Taxonomia de Criptógamos\\n', '20304021,Taxonomia de Fanerógamos\\n', '20305001,Fitogeografia\\n', '20306008,Botânica Aplicada\\n', '20400004,Zoologia\\n', '20401000,Paleozoologia\\n', '20402007,Morfologia dos Grupos Recentes\\n', '20403003,Fisiologia dos Grupos Recentes\\n', '20404000,Comportamento Animal\\n', '20405006,Taxonomia dos Grupos Recentes\\n', '20406002,Zoologia Aplicada\\n', '20406010,Conservação das Espécies Animais\\n', '20406029,Utilização dos Animais\\n', '20406037,Controle Populacional de Animais\\n', '20500009,Ecologia\\n', '20501005,Ecologia Teórica\\n', '20502001,Ecologia de Ecossistemas\\n', '20503008,Ecologia Aplicada\\n', '20600003,Morfologia\\n', '20601000,Citologia e Biologia Celular\\n', '20602006,Embriologia\\n', '20603002,Histologia\\n', '20604009,Anatomia\\n', '20604017,Anatomia Humana\\n', '20700008,Fisiologia\\n', '20701004,Fisiologia Geral\\n', '20702000,Fisiologia de Órgaos e Sistemas\\n', '20702019,Neurofisiologia\\n', '20702027,Fisiologia Cardiovascular\\n', '20702035,Fisiologia da Respiração\\n', '20702043,Fisiologia Renal\\n', '20702051,Fisiologia Endocrina\\n', '20702060,Fisiologia da Digestão\\n', '20702078,Cinesiologia\\n', '20703007,Fisiologia do Esforço\\n', '20704003,Fisiologia Comparada\\n', '20800002,Bioquímica\\n', '20801009,Química de Macromoléculas\\n', '20801017,Proteínas\\n', '20801025,Lipídeos\\n', '20801033,Glicídeos\\n', '20802005,Bioquímica dos Microorganismos\\n', '20803001,Metabolismo e Bioenergética\\n', '20804008,Biologia Molecular\\n', '20805004,Enzimologia\\n', '20900007,Biofísica\\n', '20901003,Biofísica Molecular\\n', '20902000,Biofísica Celular\\n', '20903006,Biofísica de Processos e Sistemas\\n', '20904002,Radiologia e Fotobiologia\\n', '21000000,Farmacologia\\n', '21001006,Farmacologia Geral\\n', '21001014,Farmacocinética\\n', '21001022,Biodisponibilidade\\n', '21002002,Farmacologia Autonômica\\n', '21003009,Neuropsicofarmacologia\\n', '21004005,Farmacologia Cardiorenal\\n', '21005001,Farmacologia Bioquímica e Molecular\\n', '21006008,Etnofarmacologia\\n', '21007004,Toxicologia\\n', '21008000,Farmacologia Clínica\\n', '21100004,Imunologia\\n', '21101000,Imunoquímica\\n', '21102007,Imunologia Celular\\n', '21103003,Imunogenética\\n', '21104000,Imunologia Aplicada\\n', '21200009,Microbiologia\\n', '21201005,Biologia e Fisiologia dos Microorganismos\\n', '21201013,Virologia\\n', '21201021,Bacterologia\\n', '21201030,Micologia\\n', '21202001,Microbiologia Aplicada\\n', '21202010,Microbiologia Médica\\n', '21202028,Microbiologia Industrial e de Fermentação\\n', '21300003,Parasitologia\\n', '21301000,Protozoologia de Parasitos\\n', '21301018,Protozoologia Parasitária Humana\\n', '21301026,Protozoologia Parasitária Animal\\n', '21302006,Helmintologia de Parasitos\\n', '21302014,Helmintologia Humana\\n', '21302022,Helmintologia Animal\\n', '21303002,Entomologia e Malacologia de Parasitos e Vetores\\n', '30000009,Engenharias\\n', '30100003,Engenharia Civil\\n', '30101000,Construção Civil\\n', '30101018,Materiais e Componentes de Construção\\n', '30101026,Processos Construtivos\\n', '30101034,Instalações Prediais\\n', '30102006,Estruturas\\n', '30102014,Estruturas de Concreto\\n', '30102022,Estruturas de Madeiras\\n', '30102030,Estruturas Metálicas\\n', '30102049,Mecânica das Estruturas\\n', '30103002,Geotécnica\\n', '30103010,Fundações e Escavações\\n', '30103029,Mecânicas das Rochas\\n', '30103037,Mecânicas dos Solos\\n', '30103045,Obras de Terra e Enrocamento\\n', '30103053,Pavimentos\\n', '30104009,Engenharia Hidráulica\\n', '30104017,Hidráulica\\n', '30104025,Hidrologia\\n', '30105005,Infra-Estrutura de Transportes\\n', '30105013,Aeroportos; Projeto e Construção\\n', '30105021,Ferrovias; Projetos e Construção\\n', '30105030,Portos e Vias Nevegáveis; Projeto e Construção\\n', '30105048,Rodovias; Projeto e Construção\\n', '30200008,Engenharia de Minas\\n', '30201004,Pesquisa Mineral\\n', '30201012,Caracterização do Minério\\n', '30201020,Dimensionamento de Jazidas\\n', '30202000,Lavra\\n', '30202019,Lavra a Céu Aberto\\n', '30202027,Lavra de Mina Subterrânea\\n', '30202035,Equipamentos de Lavra\\n', '30203007,Tratamento de Minérios\\n', '30203015,Métodos de Concentração e Enriquecimento de Minérios\\n', '30203023,Equipamentos de Beneficiamento de Minérios\\n', '30300002,Engenharia de Materiais e Metalúrgica\\n', '30301009,Instalações e Equipamentos Metalúrgicos\\n', '30301017,Instalações Metalúrgicas\\n', '30301025,Equipamentos Metalúrgicos\\n', '30302005,Metalurgia Extrativa\\n', '30302013,Aglomeração\\n', '30302021,Eletrometalurgia\\n', '30302030,Hidrometalurgia\\n', '30302048,Pirometalurgia\\n', '30302056,Tratamento de Minérios\\n', '30303001,Metalurgia de Transformação\\n', '30303010,Conformação Mecânica\\n', '30303028,Fundição\\n', '30303036,Metalurgia de Po\\n', '30303044,Recobrimentos\\n', '30303052,Soldagem\\n', '30303060,Tratamento Térmicos, Mecânicos e Químicos\\n', '30303079,Usinagem\\n', '30304008,Metalurgia Fisica\\n', '30304016,Estrutura dos Metais e Ligas\\n', '30304024,Propriedades Físicas dos Metais e Ligas\\n', '30304032,Propriedades Mecânicas dos Metais e Ligas\\n', '30304040,Transformação de Fases\\n', '30304059,Corrosão\\n', '30305004,Materiais não Metálicos\\n', '30305012,Extração e Transformação de Materiais\\n', '30305020,Cerâmicos\\n', '30305039,Materiais Conjugados não Metálicos\\n', '30305047,Polímeros, Aplicações\\n', '30400007,Engenharia Elétrica\\n', '30401003,Materiais Elétricos\\n', '30401011,Materiais Condutores\\n', '30401020,Materiais e Componentes Semicondutores\\n', '30401038,Materiais e Dispositivos Supercondutores\\n', '30401046,Materiais Dielétricos, Piesoelétricos e Ferroelétricos\\n', '30401054,Materiais e Componentes Eletroóticos e Magnetoóticos, Materiais Fotoelétricos\\n', '30401062,Materiais e Dispositivos Magnéticos\\n', '30402000,Medidas Elétricas, Magnéticas e Eletrônicas; Instrumentação\\n', '30402018,Medidas Elétricas\\n', '30402026,Medidas Magnéticas\\n', '30402034,Instrumentação Eletromecânica\\n', '30402042,Instrumentação Eletrônica\\n', '30402050,Sistemas Eletrônicos de Medida e de Controle\\n', '30403006,Circuitos Elétricos, Magnéticos e Eletrônicos\\n', '30403014,Teoria Geral dos Circuitos Elétricos\\n', '30403022,Circuitos Lineares e Não-Lineares\\n', '30403030,Circuitos Eletrônicos\\n', '30403049,Circuitos Magnéticos, Magnetismos, Eletromagnetismo\\n', '30404002,Sistemas Elétricos de Potência\\n', '30404010,Geração da Energia Elétrica\\n', '30404029,Transmissão da Energia Elétrica, Distribuição da Energia Elétrica\\n', '30404037,Conversão e Retificação da Energia Elétrica\\n', '30404045,Medição, Controle, Correção e Proteção de Sistemas Elétricos de Potência\\n', '30404053,Máquinas Elétricas e Dispositivos de Potência\\n', '30404061,Instalações Elétricas Prediais e Industriais\\n', '30405009,Eletrônica Industrial, Sistemas e Controles Eletrônicos\\n', '30405017,Eletrônica Industrial\\n', '30405025,Automação Eletrônica de Processos Elétricos e Industriais\\n', '30405033,Controle de Processos Eletrônicos, Retroalimentação\\n', '30406005,Telecomunicações\\n', '30406013,Teoria Eletromagnética, Microondas, Propagação de Ondas, Antenas\\n', '30406021,Radionavegação e Radioastronomia\\n', '30406030,Sistemas de Telecomunicações\\n', '30500001,Engenharia Mecânica\\n', '30501008,Fenômenos de Transporte\\n', '30501016,Transferência de Calor\\n', '30501024,Mecânica dos Fluidos\\n', '30501032,Dinâmica dos Gases\\n', '30501040,Principios Variacionais e Métodos Numéricos\\n', '30502004,Engenharia Térmica\\n', '30502012,Termodinâmica\\n', '30502020,Controle Ambiental\\n', '30502039,Aproveitamento da Energia\\n', '30503000,Mecânica dos Sólidos\\n', '30503019,Mecânica dos Corpos Sólidos, Elásticos e Plásticos\\n', '30503027,Dinâmica dos Corpos Rígidos, Elásticos e Plásticos\\n', '30503035,Análise de Tensões\\n', '30503043,Termoelasticidade\\n', '30504007,Projetos de Máquinas\\n', '30504015,Teoria dos Mecanismos\\n', '30504023,Estática e Dinâmica Aplicada\\n', '30504031,Elementos de Máquinas\\n', '30504040,Fundamentos Gerais de Projetos das Máquinas\\n', '30504058,Máquinas, Motores e Equipamentos\\n', '30504066,Métodos de Síntese e Otimização Aplicados ao Projeto Mecânico\\n', '30504074,Controle de Sistemas Mecânicos\\n', '30504082,Aproveitamento de Energia\\n', '30505003,Processos de Fabricação\\n', '30505011,Matrizes e Ferramentas\\n', '30505020,Máquinas de Usinagem e Conformação\\n', '30505038,Controle Numérico\\n', '30505046,Robotização\\n', '30505054,Processos de Fabricação, Seleção Econômica\\n', '30600006,Engenharia Química\\n', '30601002,Processos Industriais de Engenharia Química\\n', '30601010,Processos Bioquimicos\\n', '30601029,Processos Orgânicos\\n', '30601037,Processos Inorgânicos\\n', '30602009,Operações Industriais e Equipamentos para Engenharia Química\\n', '30602017,Reatores Químicos\\n', '30602025,Operações Características de Processos Bioquímicos\\n', '30602033,Operações de Separação e Mistura\\n', '30603005,Tecnologia Química\\n', '30603013,Balancos Globais de Matéria e Energia\\n', '30603021,Água\\n', '30603030,Álcool\\n', '30603048,Alimentos\\n', '30603056,Borrachas\\n', '30603064,Carvão\\n', '30603072,Cerâmica\\n', '30603080,Cimento\\n', '30603099,Couro\\n', '30603102,Detergentes\\n', '30603110,Fertilizantes\\n', '30603129,Medicamentos\\n', '30603137,Metais não-Ferrosos\\n', '30603145,Óleos\\n', '30603153,Papel e Celulose\\n', '30603161,Petróleo e Petroquímica\\n', '30603170,Polímeros\\n', '30603188,Produtos Naturais\\n', '30603196,Têxteis\\n', '30603200,Tratamentos e Aproveitamento de Rejeitos\\n', '30603218,Xisto\\n', '30700000,Engenharia Sanitária\\n', '30701007,Recursos Hídricos\\n', '30701015,Planejamento Integrado dos Recursos Hídricos\\n', '30701023,Tecnologia e Problemas Sanitários de Irrigação\\n', '30701031,Águas Subterrâneas e Poços Profundos\\n', '30701040,Controle de Enchentes e de Barragens\\n', '30701058,Sedimentologia\\n', '30702003,Tratamento de Águas de Abastecimento e Residuárias\\n', '30702011,Química Sanitária\\n', '30702020,Processos Simplificados de Tratamento de Águas\\n', '30702038,Técnicas Convencionais de Tratamento de Águas\\n', '30702046,Técnicas Avancadas de Tratamento de Águas\\n', '30702054,Estudos e Caracterização de Efluentes Industriais\\n', '30702062,Lay Out de Processos Industriais\\n', '30702070,Resíduos Radioativos\\n', '30703000,Saneamento Básico\\n', '30703018,Técnicas de Abastecimento da Água\\n', '30703026,Drenagem de Águas Residuárias \\n', '30703034,Drenagem Urbana de Águas Pluviais \\n', '30703042,Resíduos Sólidos, Domésticos e Industriais\\n', '30703050,Limpeza Públicas\\n', '30703069,Instalações Hidráulico-Sanitárias\\n', '30704006,Saneamento Ambiental\\n', '30704014,Ecologia Aplicada à Engenharia Sanitária\\n', '30704022,Microbiologia Aplicada e Engenharia Sanitária\\n', '30704030,Parasitologia Aplicada à Engenharia Sanitária\\n', '30704049,Qualidade do Ar, das Águas e do Solo\\n', '30704057,Controle da Poluição\\n', '30704065,Legislação Ambiental\\n', '30800005,Engenharia de Produção\\n', '30801001,Gerência de Produção\\n', '30801010,Planejamento de Instalações Industriais\\n', '30801028,Planejamento, Projeto e Controle de Sistemas de Produção\\n', '30801036,Higiene e Segurança do Trabalho\\n', '30801044,Suprimentos\\n', '30801052,Garantia de Controle de Qualidade\\n', '30802008,Pesquisa Operacional\\n', '30802016,Processos Estocásticos e Teorias da Filas\\n', '30802024,Programação Linear, Não-Linear, Mista e Dinâmica\\n', '30802032,Séries Temporais\\n', '30802040,Teoria dos Grafos\\n', '30802059,Teoria dos Jogos\\n', '30803004,Engenharia do Produto\\n', '30803012,Ergonomia\\n', '30803020,Metodologia de Projeto do Produto\\n', '30803039,Processos de Trabalho \\n', '30803047,Gerência do Projeto e do Produto\\n', '30803055,Desenvolvimento de Produto\\n', '30804000,Engenharia Econômica\\n', '30804019,Estudo de Mercado\\n', '30804027,Localização Industrial\\n', '30804035,Análise de Custos\\n', '30804043,Economia de Tecnologia\\n', '30804051,Vida Econômica dos Equipamentos\\n', '30804060,Avaliação de Projetos\\n', '30900000,Engenharia Nuclear\\n', '30901006,Aplicações de Radioisotopos\\n', '30901014,Produção de Radioisotopos\\n', '30901022,Aplicações Industriais de Radioisotopos\\n', '30901030,Instrumentação para Medida e Controle de Radiação\\n', '30902002,Fusão Controlada\\n', '30902010,Processos Industriais da Fusão Controlada\\n', '30902029,Problemas Tecnológicos da Fusão Controlada\\n', '30903009,Combustível Nuclear\\n', '30903017,Extração de Combustível Nuclear\\n', '30903025,Conversão, Enriquecimento e Fabricação de Combustível Nuclear\\n', '30903033,Reprocessamento de Combustível Nuclear\\n', '30903041,Rejeitos de Combustível Nuclear\\n', '30904005,Tecnologia dos Reatores\\n', '30904013,Núcleo do Reator\\n', '30904021,Materiais Nucleares e Blindagem de Reatores\\n', '30904030,Transferência de Calor em Reatores\\n', '30904048,Geração e Integração Com Sistemas Elétricos em Reatores\\n', '30904056,Instrumentação Para Operação e Controle de Reatores\\n', '30904064,Seguranca, Localização e Licênciamento de Reatores\\n', '30904072,Aspectos Econômicos de Reatores\\n', '31000002,Engenharia de Transportes\\n', '31001009,Planejamento de Transportes\\n', '31001017,Planejamento e Organização do Sistema de Transporte\\n', '31001025,Economia dos Transportes\\n', '31002005,Veículos e Equipamentos de Controle\\n', '31002013,Vias de Transporte\\n', '31002021,Veículos de Transportes\\n', '31002030,Estação de Transporte\\n', '31002048,Equipamentos Auxiliares e Controles\\n', '31003001,Operações de Transportes\\n', '31003010,Engenharia de Tráfego\\n', '31003028,Capacidade de Vias de Transporte\\n', '31003036,Operação de Sistemas de Transporte\\n', '31100007,Engenharia Naval e Oceânica\\n', '31101003,Hidrodinâmica de Navios e Sistemas Oceânicos\\n', '31101011,Resistência Hidrodinâmica\\n', '31101020,Propulsão de Navios\\n', '31102000,Estruturas Navais e Oceânicas\\n', '31102018,Análise Teórica e Experimental de Estrutura\\n', '31102026,Dinâmica Estrutural Naval e Oceânica\\n', '31102034,Síntese Estrutural Naval e Oceânica\\n', '31103006,Máquinas Marítimas\\n', '31103014,Análise de Sistemas Propulsores\\n', '31103022,Controle e Automação de Sistemas Propulsores\\n', '31103030,Equipamentos Auxiliares do Sistema Propulsivo\\n', '31103049,Motor de Propulsão\\n', '31104002,Projeto de Navios e de Sistemas Oceânicos\\n', '31104010,Projetos de Navios\\n', '31104029,Projetos de Sistemas Oceânicos Fixos e Semi-Fixos\\n', '31104037,Projetos de Embarcações Não-Convencionais\\n', '31105009,Tecnologia de Construção Naval e de Sistemas Oceânicas\\n', '31105017,Métodos de Fabricação de Navios e Sistemas Oceânicos\\n', '31105025,Soldagem de Estruturas Navais e Oceânicos \\n', '31105033,Custos de Construção Naval\\n', '31105041,Normatização e Certificação de Qualidade de Navios\\n', '31200001,Engenharia Aeroespacial\\n', '31201008,Aerodinâmica\\n', '31201016,Aerodinâmica de Aeronaves Espaciais\\n', '31201024,Aerodinâmica dos Processos Geofísicos e Interplanetarios\\n', '31202004,Dinâmica de Vôo\\n', '31202012,Trajetorias e Orbitas\\n', '31202020,Estabilidade e Controle\\n', '31203000,Estruturas Aeroespaciais\\n', '31203019,Aeroelasticidade\\n', '31203027,Fadiga\\n', '31203035,Projeto de Estruturas Aeroespaciais\\n', '31204007,Materiais e Processos para Engenharia Aeronáutica e Aeroespacial\\n', '31205003,Propulsão Aeroespacial\\n', '31205011,Combustão e Escoamento com Reações Químicas\\n', '31205020,Propulsão de Foguetes\\n', '31205038,Máquinas de Fluxo\\n', '31205046,Motores Alternativos\\n', '31206000,Sistemas Aeroespaciais\\n', '31206018,Aviões\\n', '31206026,Foguetes\\n', '31206034,Helicópteros\\n', '31206042,Hovercraft\\n', '31206050,Satélites e Outros Dispositivos Aeroespaciais\\n', '31206069,Normatização e Certificação de Qualidade de Aeronaves e Componentes\\n', '31206077,Manutenção de Sistemas Aeroespaciais\\n', '31300006,Engenharia Biomédica\\n', '31301002,Bioengenharia\\n', '31301010,Processamento de Sinais Biológicos\\n', '31301029,Modelagem de Fenomenos Biológicos\\n', '31301037,Modelagem de Sistemas Biológicos\\n', '31302009,Engenharia Médica\\n', '31302017,Biomateriais e Materiais Biocompatíveis \\n', '31302025,Transdutores para Aplicações Biomédicas \\n', '31302033,Instrumentação Odontológica e Médico-Hospitalar \\n', '31302041,Tecnologia de Próteses\\n', '40000001,Ciências da Saúde\\n', '40100006,Medicina\\n', '40101002,Clínica Médica\\n', '40101010,Angiologia\\n', '40101029,Dermatologia\\n', '40101037,Alergologia e Imunologia Clínica\\n', '40101045,Cancerologia\\n', '40101053,Hematologia\\n', '40101061,Endocrinologia\\n', '40101070,Neurologia\\n', '40101088,Pediatria\\n', '40101096,Doenças Infecciosas e Parasitárias\\n', '40101100,Cardiologia\\n', '40101118,Gastroenterologia\\n', '40101126,Pneumologia\\n', '40101134,Nefrologia\\n', '40101142,Reumatologia\\n', '40101150,Ginecologia e Obstetrícia\\n', '40101169,Fisiatria\\n', '40101177,Oftalmologia\\n', '40101186,Ortopedia\\n', '40102009,Cirurgia\\n', '40102017,Cirurgia Plástica e Restauradora\\n', '40102025,Cirurgia Otorrinolaringológica\\n', '40102033,Cirurgia Oftalmológica\\n', '40102041,Cirurgia Cardiovascular\\n', '40102050,Cirurgia Toráxica\\n', '40102068,Cirurgia Gastroenterologia\\n', '40102076,Cirurgia Pediátrica\\n', '40102084,Neurocirurgia\\n', '40102092,Cirurgia Urológica\\n', '40102106,Cirurgia Proctológica\\n', '40102114,Cirurgia Ortopédica\\n', '40102122,Cirurgia Traumatológica\\n', '40102130,Anestesiologia\\n', '40102149,Cirurgia Experimental\\n', '40103005,Saúde Materno-Infantil\\n', '40104001,Psiquiatria\\n', '40105008,Anatomia Patológica e Patologia Clínica\\n', '40106004,Radiologia Médica\\n', '40107000,Medicina Legal e Deontologia\\n', '40200000,Odontologia\\n', '40201007,Clínica Odontológica\\n', '40202003,Cirurgia Buco-Maxilo-Facial\\n', '40203000,Ortodontia\\n', '40204006,Odontopediatria\\n', '40205002,Periodontia\\n', '40206009,Endodontia\\n', '40207005,Radiologia Odontológica\\n', '40208001,Odontologia Social e Preventiva\\n', '40209008,Materiais Odontológicos\\n', '40300005,Farmácia\\n', '40301001,Farmacotecnia\\n', '40302008,Farmacognosia\\n', '40303004,Análise Toxicológica\\n', '40304000,Análise e Controle e Medicamentos\\n', '40305007,Bromatologia\\n', '40400000,Enfermagem\\n', '40401006,Enfermagem Médico-Cirúrgica\\n', '40402002,Enfermagem Obstétrica\\n', '40403009,Enfermagem Pediátrica\\n', '40404005,Enfermagem Psiquiátrica\\n', '40405001,Enfermagem de Doenças Contagiosas\\n', '40406008,Enfermagem de Saúde Pública\\n', '40500004,Nutrição\\n', '40501000,Bioquímica da Nutrição\\n', '40502007,Dietética\\n', '40503003,Análise Nutricional de População\\n', '40504000,Desnutrição e Desenvolvimento Fisiológico\\n', '40600009,Saúde Coletiva\\n', '40601005,Epidemiologia\\n', '40602001,Saúde Publica\\n', '40603008,Medicina Preventiva\\n', '40700003,Fonoaudiologia\\n', '40800008,Fisioterapia e Terapia Ocupacional\\n', '40900002,Educação Física\\n', '50000004,Ciências Agrárias\\n', '50100009,Agronomia\\n', '50101005,Ciência do Solo\\n', '50101013,Genese, Morfologia e Classificação dos Solos\\n', '50101021,Física do Solo\\n', '50101030,Química do Solo\\n', '50101048,Microbiologia e Bioquímica do Solo\\n', '50101056,Fertilidade do Solo e Adubação\\n', '50101064,Manejo e Conservação do Solo\\n', '50102001,Fitossanidade\\n', '50102010,Fitopatologia\\n', '50102028,Entomologia Agrícola\\n', '50102036,Parasitologia Agrícola\\n', '50102044,Microbiologia Agrícola\\n', '50102052,Defesa Fitossanitária\\n', '50103008,Fitotecnia\\n', '50103016,Manejo e Tratos Culturais\\n', '50103024,Mecanização Agrícola\\n', '50103032,Produção e Beneficiamento de Sementes\\n', '50103040,Produção de Mudas\\n', '50103059,Melhoramento Vegetal\\n', '50103067,Fisiologia de Plantas Cultivadas\\n', '50103075,Matologia\\n', '50104004,Floricultura, Parques e Jardins\\n', '50104012,Floricultura\\n', '50104020,Parques e Jardins\\n', '50104039,Arborização de Vias Públicas\\n', '50105000,Agrometeorologia\\n', '50106007,Extensão Rural\\n', '50200003,Recursos Florestais e Engenharia Florestal\\n', '50201000,Silvicultura\\n', '50201018,Dendrologia\\n', '50201026,Florestamento e Reflorestamento\\n', '50201034,Genética e Melhoramento Florestal\\n', '50201042,Sementes Florestais\\n', '50201050,Nutrição Florestal\\n', '50201069,Fisiologia Florestal\\n', '50201077,Solos Florestais\\n', '50201085,Proteção Florestal\\n', '50202006,Manejo Florestal\\n', '50202014,Economia Florestal\\n', '50202022,Politica e Legislação Florestal\\n', '50202030,Administração Florestal\\n', '50202049,Dendrometria e Inventário Florestal\\n', '50202057,Fotointerpretação Florestal\\n', '50202065,Ordenamento Florestal\\n', '50203002,Técnicas e Operações Florestais\\n', '50203010,Exploração Florestal\\n', '50203029,Mecanização Florestal\\n', '50204009,Tecnologia e Utilização de Produtos Florestais\\n', '50204017,Anatomia e Identificação de Produtos Florestais\\n', '50204041,Tratamento da Madeira\\n', '50204050,Processamento Mecânico da Madeira\\n', '50204068,Química da Madeira\\n', '50204076,Resinas de Madeiras \\n', '50204084,Tecnologia de Celulose e Papel \\n', '50204092,Tecnologia de Chapas\\n', '50205005,Conservação da Natureza\\n', '50205013,Hidrologia Florestal\\n', '50205021,Conservação de Áreas Silvestres\\n', '50205030,Conservação de Bacias Hidrográficas\\n', '50205048,Recuperação de Áreas Degradadas\\n', '50206001,Energia de Biomassa Florestal\\n', '50300008,Engenharia Agrícola\\n', '50301004,Máquinas e Implementos Agrícolas\\n', '50302000,Engenharia de Água e Solo\\n', '50302019,Irrigação e Drenagem\\n', '50302027,Conservação de Solo e Água\\n', '50303007,Engenharia de Processamento de Produtos Agrícolas\\n', '50303023,Armazenamento de Produtos Agrícolas\\n', '50303031,Transferência de Produtos Agrícolas\\n', '50304003,Construções Rurais e Ambiência\\n', '50304011,Assentamento Rural\\n', '50304020,Engenharia de Construções Rurais\\n', '50304038,Saneamento Rural\\n', '50305000,Energização Rural\\n', '50400002,Zootecnia\\n', '50401009,Ecologia dos Animais Domésticos e Etologia\\n', '50402005,Genética e Melhoramento dos Animais Domésticos\\n', '50403001,Nutrição e Alimentação Animal\\n', '50403010,Exigências Nutricionais dos Animais\\n', '50403028,Avaliação de Alimentos para Animais\\n', '50403036,Conservação de Alimentos para Animais\\n', '50404008,Pastagem e Forragicultura\\n', '50404016,Avaliação, Produção e Conservação de Forragens\\n', '50404024,Manejo e Conservação de Pastagens \\n', '50404032,Fisiologia de Plantas Forrageiras\\n', '50404040,Melhoramento de Plantas Forrageiras e Produção de Sementes\\n', '50404059,Toxicologia e Plantas Tóxicas\\n', '50405004,Produção Animal\\n', '50405012,Criação de Animais\\n', '50405020,Manejo de Animais\\n', '50405039,Instalações para Produção Animal\\n', '50500007,Medicina Veterinária\\n', '50501003,Clínica e Cirurgia Animal\\n', '50501011,Anestesiologia Animal \\n', '50501020,Técnica Cirúrgica Animal \\n', '50501038,Radiologia de Animais \\n', '50501046,Farmacologia e Terapêutica Animal \\n', '50501054,Obstetrícia Animal\\n', '50501062,Clínica Veterinária\\n', '50501070,Clínica Cirúrgica Animal\\n', '50501089,Toxicologia Animal\\n', '50502000,Medicina Veterinária Preventiva\\n', '50502018,Epidemiologia Animal\\n', '50502026,Saneamento Aplicado à Saúde do Homem\\n', '50502034,Doenças Infecciosas de Animais \\n', '50502042,Doenças Parasitárias de Animais \\n', '50502050,Saúde Animal (Programas Sanitários)\\n', '50503006,Patologia Animal\\n', '50503014,Patologia Aviária\\n', '50503022,Anatomia Patologia Animal\\n', '50503030,Patologia Clínica Animal\\n', '50504002,Reprodução Animal\\n', '50504010,Ginecologia e Andrologia Animal\\n', '50504029,Inseminação Artificial Animal\\n', '50504037,Fisiopatologia da Reprodução Animal\\n', '50505009,Inspeção de Produtos de Origem Animal\\n', '50600001,Recursos Pesqueiros e Engenharia de Pesca\\n', '50601008,Recursos Pesqueiros Marinhos\\n', '50601016,Fatores Abióticos do Mar\\n', '50601024,Avaliação de Estoques Pesqueiros Marinhos\\n', '50601032,Exploração Pesqueira Marinha\\n', '50601040,Manejo e Conservação de Recursos Pesqueiros Marinhos\\n', '50602004,Recursos Pesqueiros de Águas Interiores\\n', '50602012,Fatores Abióticos de Águas Interiores\\n', '50602020,Avaliação de Estoques Pesqueiros de Águas Interiores\\n', '50602039,Explotação Pesqueira de Águas Interiores\\n', '50602047,Manejo e Conservação de Recursos Pesqueiros de Águas Interiores\\n', '50603000,Aqüicultura\\n', '50603019,Maricultura\\n', '50603027,Carcinocultura\\n', '50603035,Ostreicultura\\n', '50603043,Piscicultura\\n', '50604007,Engenharia de Pesca\\n', '50700006,Ciência e Tecnologia de Alimentos\\n', '50701002,Ciência de Alimentos\\n', '50701010,Valor Nutritivo de Alimentos\\n', '50204025,Propriedades Físico-Mecânicas da Madeira\\n', '50204033,Relações Água-Madeira e Secagem\\n', '50701053,Toxicidade e Resíduos de Pesticidas em Alimentos\\n', '50701061,Avaliação e Controle de Qualidade de Alimentos\\n', '50701070,Padrões, Legislação e Fiscalização de Alimentos\\n', '50702009,Tecnologia de Alimentos\\n', '50702017,Tecnologia de Produtos de Origem Animal\\n', '50702025,Tecnologia de Produtos de Origem Vegetal\\n', '50702033,Tecnologia das Bebidas\\n', '50702041,Tecnologia de Alimentos Dietéticos e Nutricionais\\n', '50702050,Aproveitamento de Subprodutos\\n', '50702068,Embalagens de Produtos Alimentares\\n', '50703005,Engenharia de Alimentos\\n', '50703013,Instalações Industriais de Produção de Alimentos\\n', '50703021,Armazenamento de Alimentos\\n', '60000007,Ciências Sociais Aplicadas\\n', '60100001,Direito\\n', '60101008,Teoria do Direito\\n', '60101016,Teoria Geral do Direito\\n', '60101024,Teoria Geral do Processo\\n', '60101032,Teoria do Estado\\n', '60101040,História do Direito\\n', '60101059,Filosofia do Direito\\n', '60101067,Lógica Jurídica \\n', '60101075,Sociologia Jurídica \\n', '60101083,Antropologia Jurídica\\n', '60102004,Direito Público\\n', '60102012,Direito Tributário\\n', '60102020,Direito Penal\\n', '60102039,Direito Processual Penal\\n', '60102047,Direito Processual Civil\\n', '60102055,Direito Constitucional\\n', '60102063,Direito Administrativo\\n', '60102071,Direito Internacional Público\\n', '60103000,Direito Privado\\n', '60103019,Direito Civil\\n', '60103027,Direito Comercial\\n', '60103035,Direito do Trabalho\\n', '60103043,Direito Internacional Privado\\n', '60104007,Direitos Especiais\\n', '60200006,Administração\\n', '60201002,Administração de Empresas\\n', '60201010,Administração da Produção\\n', '60201029,Administração Financeira\\n', '60201037,Mercadologia\\n', '60201045,Negócios Internacionais\\n', '60201053,Administração de Recursos Humanos\\n', '60202009,Administração Pública\\n', '60202017,Contabilidade e Financas Públicas\\n', '60202025,Organizações Públicas\\n', '60202033,Política e Planejamento Governamentais\\n', '60202041,Administração de Pessoal\\n', '60203005,Administração de Setores Específicos\\n', '60204001,Ciências Contábeis\\n', '60300000,Economia\\n', '60301007,Teoria Econômica\\n', '60301015,Economia Geral \\n', '60301023,Teoria Geral da Economia\\n', '60301031,História do Pensamento Econômico\\n', '60301040,História Econômica\\n', '60301058,Sistemas Econômicos\\n', '60302003,Métodos Quantitativos em Economia\\n', '60302011,Métodos e Modelos Matemáticos, Econométricos e Estatísticos\\n', '50303015,Pré-Processamento de Produtos Agrícolas\\n', '60302038,Contabilidade Nacional\\n', '60302046,Economia Matemática\\n', '60303000,Economia Monetária e Fiscal\\n', '60303018,Teoria Monetária e Financeira\\n', '60303026,Instituições Monetárias e Financeiras do Brasil\\n', '60303034,Financas Públicas Internas\\n', '60303042,Política Fiscal do Brasil\\n', '60304006,Crescimento, Flutuações e Planejamento Econômico\\n', '60304014,Crescimento e Desenvolvimento Econômico\\n', '60304022,Teoria e Política de Planejamento Econômico\\n', '60304030,Flutuações Cíclicas e Projeções Econômicas\\n', '60304049,Inflação\\n', '60305002,Economia Internacional\\n', '60305010,Teoria do Comércio Internacional\\n', '60305029,Relações do Comércio; Política Comercial; Integração Econômica\\n', '60305037,Balanço de Pagamentos; Financas Internacionais\\n', '60305045,Investimentos Internacionais e Ajuda Externa\\n', '60306009,Economia dos Recursos Humanos\\n', '50701029,Química, Física, Físico-Química e Bioquímica dos Alim. e das Mat.-Primas Alimentares\\n', '50701037,Microbiologia de Alimentos\\n', '50701045,Fisiologia Pós-Colheita\\n', '60308028,Economia do Consumidor\\n', '60309008,Economia Regional e Urbana\\n', '60309016,Economia Regional\\n', '60309024,Economia Urbana\\n', '60309032,Renda e Tributação\\n', '60310006,Economias Agrária e dos Recursos Naturais\\n', '60310014,Economia Agrária\\n', '60310022,Economia dos Recursos Naturais\\n', '60400005,Arquitetura e Urbanismo\\n', '60401001,Fundamentos de Arquitetura e Urbanismo\\n', '60401010,História da Arquitetura e Urbanismo\\n', '60401028,Teoria da Arquitetura\\n', '60401036,História do Urbanismo\\n', '60401044,Teoria do Urbanismo\\n', '60402008,Projeto de Arquitetuta e Urbanismo\\n', '60402016,Planejamento e Projetos da Edificação\\n', '60402024,Planejamento e Projeto do Espaço Urbano\\n', '60402032,Planejamento e Projeto do Equipamento\\n', '60403004,Tecnologia de Arquitetura e Urbanismo\\n', '60403012,Adequação Ambiental\\n', '60404000,Paisagismo\\n', '60404019,Desenvolvimento Histórico do Paisagismo\\n', '60404027,Conceituação de Paisagismo e Metodologia do Paisagismo\\n', '60404035,Estudos de Organização do Espaço Exterior\\n', '60404043,Projetos de Espaços Livres Urbanos\\n', '60500000,Planejamento Urbano e Regional\\n', '60501006,Fundamentos do Planejamento Urbano e Regional\\n', '60501014,Teoria do Planejamento Urbano e Regional\\n', '60501022,Teoria da Urbanização\\n', '60501030,Política Urbana\\n', '60501049,História Urbana\\n', '60502002,Métodos e Técnicas do Planejamento Urbano e Regional\\n', '60502010,Informação, Cadastro e Mapeamento\\n', '60502029,Técnica de Previsão Urbana e Regional \\n', '60502037,Técnicas de Análise e Avaliação Urbana e Regional\\n', '60502045,Técnicas de Planejamento e Projeto Urbanos e Regionais\\n', '60503009,Serviços Urbanos e Regionais\\n', '60503017,Administração Municipal e Urbana\\n', '60503025,Estudos da Habitação\\n', '60503033,Aspectos Sociais do Planejamento Urbano e Regional \\n', '60503041,Aspectos Econômicos do Planejamento Urbano e Regional \\n', '60302020,Estatística Sócio-Econômica\\n', '60503084,Transporte e Tráfego Urbano e Regional\\n', '60503092,Legislação Urbana e Regional\\n', '60600004,Demografia\\n', '60601000,Distribuição Espacial\\n', '60601019,Distribuição Espacial Geral\\n', '60601027,Distribuição Espacial Urbana\\n', '60601035,Distribuição Espacial Rural\\n', '60602007,Tendência Populacional\\n', '60602015,Tendências Passadas\\n', '60602023,Taxas e Estimativas Correntes\\n', '60602031,Projeções\\n', '60603003,Componentes da Dinâmica Demográfica\\n', '60603011,Fecundidade\\n', '60603020,Mortalidade\\n', '60603038,Migração\\n', '60604000,Nupcialidade e Família\\n', '60604018,Casamento e Divórcio\\n', '60604026,Família e Reprodução\\n', '60605006,Demografia Histórica\\n', '60605014,Distribuição Espacial\\n', '60605022,Natalidade, Mortalidade, Migração\\n', '60605030,Nupcialidade e Família\\n', '60605049,Métodos e Técnicas de Demografia Histórica\\n', '60606002,Política Pública e População\\n', '60606010,Política Populacional\\n', '60606029,Políticas de Redistribuição de População\\n', '60606037,Políticas de Planejamento Familiar\\n', '60607009,Fontes de Dados Demográficos\\n', '60700009,Ciência da Informação\\n', '60701005,Teoria da Informação\\n', '60701013,Teoria Geral da Informação\\n', '60701021,Processos da Comunicação\\n', '60701030,Representação da Informação\\n', '60702001,Biblioteconomia\\n', '60702010,Teoria da Classificação \\n', '60702028,Métodos Quantitativos. Bibliometria\\n', '60702036,Técnicas de Recuperação de Informação\\n', '60702044,Processos de Disseminação da Informação\\n', '60703008,Arquivologia\\n', '60703016,Organização de Arquivos\\n', '60800003,Museologia\\n', '60900008,Comunicação\\n', '60901004,Teoria da Comunicação\\n', '60902000,Jornalismo e Editoração\\n', '60902019,Teoria e Ética do Jornalismo\\n', '60902027,Organização Editorial de Jornais\\n', '60902035,Organização Comercial de Jornais\\n', '60902043,Jornalismo Especializado (Comunitário, Rural, Empresarial, Científico)\\n', '60903007,Rádio e Televisão\\n', '60903015,Radiodifusão\\n', '60903023,Videodifusão\\n', '60904003,Relações Públicas e Propaganda\\n', '60905000,Comunicação Visual\\n', '61000000,Serviço Social\\n', '61001007,Fundamentos do Serviço Social\\n', '61002003,Serviço Social Aplicado\\n', '61002011,Serviço Social do Trabalho\\n', '61002020,Serviço Social da Educação\\n', '61002038,Serviço Social do Menor\\n', '61002046,Serviço Social da Saúde\\n', '61002054,Serviço Social da Habitação\\n', '61100005,Economia Doméstica\\n', '61200000,Desenho Industrial\\n', '61201006,Programação Visual\\n', '61202002,Desenho de Produto\\n', '61300004,Turismo\\n', '70000000,Ciências Humanas\\n', '70100004,Filosofia\\n', '70101000,História da Filosofia\\n', '70102007,Metafísica \\n', '70103003,Lógica\\n', '70104000,Ética \\n', '70105006,Epistemologia\\n', '70106002,Filosofia Brasileira\\n', '70200009,Sociologia\\n', '70201005,Fundamentos da Sociologia\\n', '70201013,Teoria Sociológica\\n', '70201021,História da Sociologia\\n', '70202001,Sociologia do Conhecimento\\n', '70203008,Sociologia do Desenvolvimento\\n', '70204004,Sociologia Urbana\\n', '70205000,Sociologia Rural\\n', '70206007,Sociologia da Saúde\\n', '70207003,Outras Sociologias Específicas\\n', '70300003,Antropologia\\n', '70301000,Teoria Antropológica\\n', '70302006,Etnologia Indígena\\n', '70303002,Antropologia Urbana\\n', '70304009,Antropologia Rural\\n', '60306017,Treinamento e Alocação de Mão-de-Obra; Oferta de Mão-de-Obra e Força de Trabalho\\n', '60306025,Mercado de Trabalho; Política do Governo\\n', '60306033,Sindicatos, Dissídios Coletivos, Relações de Emprego (Empregador/Empregado)\\n', '60306041,Capital Humano\\n', '60306050,Demografia Econômica\\n', '60307005,Economia Industrial\\n', '60307013,Organização Industrial e Estudos Industriais\\n', '60307021,Mudança Tecnologica\\n', '60308001,Economia do Bem-Estar Social\\n', '60308010,Economia dos Programas de Bem-Estar Social\\n', '70505004,História do Brasil\\n', '70505012,História do Brasil Colônia\\n', '70505020,História do Brasil Império\\n', '70505039,História do Brasil República\\n', '70505047,História Regional do Brasil\\n', '70506000,História das Ciências\\n', '70600007,Geografia\\n', '70601003,Geografia Humana\\n', '70601011,Geografia da População\\n', '70601020,Geografia Agrária\\n', '70601038,Geografia Urbana\\n', '70601046,Geografia Econômica\\n', '70601054,Geografia Política\\n', '70602000,Geografia Regional\\n', '70602018,Teoria do Desenvolvimento Regional\\n', '70602026,Regionalização\\n', '70602034,Análise Regional\\n', '70700001,Psicologia\\n', '70701008,Fundamentos e Medidas da Psicologia\\n', '70701016,História, Teorias e Sistemas em Psicologia\\n', '70701024,Metodologia, Instrumentação e Equipamento em Psicologia\\n', '70701032,Construção e Validade de Testes, Escalas e Outras Medidas Psicológicas \\n', '70701040,Técnicas de Processamento Estatístico, Matemático e Computacional em Psicologia\\n', '70702004,Psicologia Experimental\\n', '70702012,Processos Perceptuais e Motores\\n', '70702020,Processos de Aprendizagem, Memória e Motivação\\n', '70702039,Processos Cognitivos e Atencionais\\n', '70702047,Estados Subjetivos e Emoção\\n', '70703000,Psicologia Fisiológica\\n', '70703019,Neurologia, Eletrofisiologia e Comportamento\\n', '60503050,Aspectos Físico-Ambientais do Planejamento Urbano e Regional \\n', '60503068,Serviços Comunitários\\n', '60503076,Infra-Estruturas Urbanas e Regionais\\n', '70703035,Estimulação Elétrica e com Drogas; Comportamento\\n', '70703043,Psicobiologia\\n', '70704007,Psicologia Comparativa\\n', '70704015,Estudos Naturalísticos do Comportamento Animal\\n', '70704023,Mecanismos Instintivos e Processos Sociais em Animais\\n', '70705003,Psicologia Social\\n', '70705011,Relações Interpessoais\\n', '70705020,Processos Grupais e de Comunicação\\n', '70705038,Papéis e Estruturas Sociais; Indivíduo\\n', '70706000,Psicologia Cognitiva\\n', '70707006,Psicologia do Desenvolvimento Humano\\n', '70707014,Processos Perceptuais e Cognitivos; Desenvolvimento\\n', '70707022,Desenvolvimento Social e da Personalidade\\n', '70708002,Psicologia do Ensino e da Aprendizagem\\n', '70708010,Planejamento Institucional \\n', '70708029,Programação de Condições de Ensino \\n', '70708037,Treinamento de Pessoal\\n', '70708045,Aprendizagem e Desempenho Acadêmicos\\n', '70708053,Ensino e Aprendizagem na Sala de Aula\\n', '70709009,Psicologia do Trabalho e Organizacional\\n', '70709017,Análise Institucional\\n', '70709025,Recrutamento e Seleção de Pessoal\\n', '70709033,Treinamento e Avaliação \\n', '70709041,Fatores Humanos no Trabalho\\n', '70709050,Planejamento Ambiental e Comportamento Humano\\n', '70710007,Tratamento e Prevenção Psicológica\\n', '70710015,Intervenção Terapêutica\\n', '70710023,Programas de Atendimento Comunitário\\n', '70710031,Treinamento e Reabilitação \\n', '70710040,Desvios da Conduta\\n', '70710058,Distúrbios da Linguagem\\n', '70710066,Distúrbios Psicossomáticos\\n', '70800006,Educação\\n', '70801002,Fundamentos da Educação\\n', '70801010,Filosofia da Educação\\n', '70801029,História da Educação\\n', '70801037,Sociologia da Educação\\n', '70801045,Antropologia Educacional\\n', '70801053,Economia da Educação\\n', '70801061,Psicologia Educacional\\n', '70802009,Administração Educacional\\n', '70802017,Administração de Sistemas Educacionais\\n', '70802025,Administração de Unidades Educativas\\n', '70803005,Planejamento e Avaliação Educacional\\n', '70803013,Política Educacional\\n', '70803021,Planejamento Educacional\\n', '70803030,Avaliação de Sistemas, Instituições, Planos e Programas Educacionais\\n', '70305005,Antropologia das Populações Afro-Brasileiras\\n', '70400008,Arqueologia\\n', '70401004,Teoria e Método em Arqueologia\\n', '70402000,Arqueologia Pré-Histórica\\n', '70403007,Arqueologia Histórica\\n', '70500002,História\\n', '70501009,Teoria e Filosofia da História\\n', '70502005,História Antiga e Medieval \\n', '70503001,História Moderna e Contemporânea \\n', '70504008,História da América\\n', '70504016,História dos Estados Unidos\\n', '70504024,História Latino-Americana\\n', '70804010,Teorias da Instrução\\n', '70804028,Métodos e Técnicas de Ensino\\n', '70804036,Tecnologia Educacional\\n', '70804044,Avaliação da Aprendizagem\\n', '70805008,Currículo\\n', '70805016,Teoria Geral de Planejamento e Desenvolvimento Curricular\\n', '70805024,Currículos Específicos para Níveis e Tipos de Educação\\n', '70806004,Orientação e Aconselhamento\\n', '70806012,Orientação Educacional\\n', '70806020,Orientação Vocacional\\n', '70807000,Tópicos Específicos de Educação\\n', '70807019,Educação de Adultos\\n', '70807027,Educação Permanente\\n', '70807035,Educação Rural\\n', '70807043,Educação em Periferias Urbanas\\n', '70807051,Educação Especial\\n', '70703027,Processos Psico-Fisiológicos\\n', '70807078,Ensino Profissionalizante\\n', '70900000,Ciência Política\\n', '70901007,Teoria Política\\n', '70901015,Teoria Política Clássica\\n', '70901023,Teoria Política Medieval\\n', '70901031,Teoria Política Moderna\\n', '70901040,Teoria Política Contemporânea\\n', '70902003,Estado e Governo\\n', '70902011,Estrutura e Transformação do Estado\\n', '70902020,Sistemas Governamentais Comparados\\n', '70902038,Relações Intergovernamentais\\n', '70902046,Estudos do Poder Local\\n', '70902054,Instituições Governamentais Específicas\\n', '70903000,Comportamento Político\\n', '70903018,Estudos Eleitorais e Partidos Políticos\\n', '70903026,Atitude e Ideologias Políticas \\n', '70903034,Conflitos e Coalizões Políticas \\n', '70903042,Comportamento Legislativo \\n', '70903050,Classes Sociais e Grupos de Interesse\\n', '70904006,Políticas Públicas\\n', '70904014,Análise do Processo Decisório\\n', '70904022,Análise Institucional \\n', '70904030,Técnicas de Antecipação\\n', '70905002,Política Internacional\\n', '70905010,Política Externa do Brasil\\n', '70905029,Organizações Internacionais\\n', '70905037,Integração Internacional, Conflito, Guerra e Paz\\n', '70905045,Relações Internacionais, Bilaterais e Multilaterais\\n', '71000003,Teologia\\n', '71001000,História da Teologia\\n', '71002006,Teologia Moral\\n', '71003002,Teologia Sistemática\\n', '71004009,Teologia Pastoral\\n', '80000002,Lingüística, Letras e Artes\\n', '80100007,Lingüística\\n', '80101003,Teoria e Análise Lingüística\\n', '80102000,Fisiologia da Linguagem\\n', '80103006,Lingüística Histórica\\n', '80104002,Sociolingüística e Dialetologia\\n', '80105009,Psicolingüística\\n', '80106005,Lingüística Aplicada\\n', '80200001,Letras\\n', '80201008,Língua Portuguesa\\n', '80202004,Línguas Estrangeiras Modernas\\n', '80203000,Línguas Clássicas\\n', '80204007,Línguas Indígenas\\n', '80205003,Teoria Literária\\n', '80206000,Literatura Brasileira\\n', '80207006,Outras Literaturas Vernáculas\\n', '80208002,Literaturas Estrangeiras Modernas\\n', '80209009,Literaturas Clássicas\\n', '80210007,Literatura Comparada\\n', '80300006,Artes\\n', '80301002,Fundamentos e Crítica das Artes\\n', '80301010,Teoria da Arte\\n', '80301029,História da Arte\\n', '80301037,Crítica da Arte\\n', '80302009,Artes Plásticas\\n', '80302017,Pintura\\n', '80302025,Desenho\\n', '80302033,Gravura\\n', '80302041,Escultura\\n', '80302050,Cerâmica\\n', '80302068,Tecelagem\\n', '80303005,Música\\n', '80303013,Regência\\n', '80303021,Instrumentação Musical\\n', '80303030,Composição Musical\\n', '80303048,Canto\\n', '80304001,Dança\\n', '80304010,Execução da Dança\\n', '80304028,Coreografia\\n', '80305008,Teatro\\n', '80305016,Dramaturgia\\n', '80305024,Direção Teatral\\n', '80305032,Cenografia\\n', '80305040,Interpretação Teatral\\n', '80306004,Ópera\\n', '80307000,Fotografia\\n', '80308007,Cinema\\n', '80308015,Administração e Produção de Filmes\\n', '80308023,Roteiro e Direção Cinematográficos\\n', '80308031,Técnicas de Registro e Processamento de Filmes\\n', '80308040,Interpretação Cinematográfica\\n', '80309003,Artes do Vídeo\\n', '80310001,Educação Artística\\n']\n"
          ],
          "name": "stdout"
        }
      ]
    },
    {
      "cell_type": "code",
      "metadata": {
        "id": "P8RZW1C9TUw8"
      },
      "source": [
        "#hide\n",
        "projetos_unico = projetos[['id_projeto_pesquisa','titulo','palavras_chave','ano','situacao','unidade','linha_pesquisa','area_conhecimento_cnpq']]"
      ],
      "execution_count": 247,
      "outputs": []
    },
    {
      "cell_type": "code",
      "metadata": {
        "colab": {
          "base_uri": "https://localhost:8080/"
        },
        "id": "4OEer3-KT2DS",
        "outputId": "9ed5a3cf-8720-44c3-cf68-d9da4358381e"
      },
      "source": [
        "#hide\n",
        "np.size(projetos_unico['id_projeto_pesquisa'].unique())"
      ],
      "execution_count": null,
      "outputs": [
        {
          "output_type": "execute_result",
          "data": {
            "text/plain": [
              "21371"
            ]
          },
          "metadata": {
            "tags": []
          },
          "execution_count": 15
        }
      ]
    },
    {
      "cell_type": "code",
      "metadata": {
        "id": "s8Idk_r5VSgl"
      },
      "source": [
        "#hide\n",
        "nam_rows = projetos_unico[projetos_unico.isnull().T.any()]"
      ],
      "execution_count": null,
      "outputs": []
    },
    {
      "cell_type": "code",
      "metadata": {
        "colab": {
          "base_uri": "https://localhost:8080/"
        },
        "id": "k6yvFspyWh8Q",
        "outputId": "95e5ff94-435a-4653-9b90-ada22655fedf"
      },
      "source": [
        "#hide\n",
        "np.size(nam_rows)"
      ],
      "execution_count": null,
      "outputs": [
        {
          "output_type": "execute_result",
          "data": {
            "text/plain": [
              "6336"
            ]
          },
          "metadata": {
            "tags": []
          },
          "execution_count": 17
        }
      ]
    },
    {
      "cell_type": "code",
      "metadata": {
        "id": "19poisKDXCx4"
      },
      "source": [
        "#hide\n",
        "projetos_unico_limpo = projetos_unico.dropna(thresh=1)"
      ],
      "execution_count": null,
      "outputs": []
    },
    {
      "cell_type": "code",
      "metadata": {
        "id": "5xdoxhZ3XLtJ"
      },
      "source": [
        "areas_notnull = projetos_unico[projetos_unico.area_conhecimento_cnpq.notnull()]"
      ],
      "execution_count": 248,
      "outputs": []
    },
    {
      "cell_type": "code",
      "metadata": {
        "colab": {
          "base_uri": "https://localhost:8080/"
        },
        "id": "yZMWHlAOXpG3",
        "outputId": "d427e85d-e191-4769-94e0-6d5bde95a3cd"
      },
      "source": [
        "#hide\n",
        "np.size(areas_notnull['id_projeto_pesquisa'].unique())"
      ],
      "execution_count": null,
      "outputs": [
        {
          "output_type": "execute_result",
          "data": {
            "text/plain": [
              "20960"
            ]
          },
          "metadata": {
            "tags": []
          },
          "execution_count": 348
        }
      ]
    },
    {
      "cell_type": "code",
      "metadata": {
        "id": "GniAQuHTYZ5b"
      },
      "source": [
        "df_areas = pd.read_csv('/content/drive/MyDrive/projetos/areas_corrigido.tsv', names=['codigo','area_conhecimento_cnpq'],delimiter='\\t')"
      ],
      "execution_count": 257,
      "outputs": []
    },
    {
      "cell_type": "code",
      "metadata": {
        "id": "jriGT5XocVbz"
      },
      "source": [
        "#hide\n",
        "df_areas"
      ],
      "execution_count": null,
      "outputs": []
    },
    {
      "cell_type": "code",
      "metadata": {
        "id": "ADgAkv_TYApu"
      },
      "source": [
        "#hide\n",
        "df_areas_corrigido = pd.read_csv('/content/drive/MyDrive/projetos/areas_corrigido.tsv', names=['codigo','area_conhecimento_cnpq'],delimiter='\\t')"
      ],
      "execution_count": null,
      "outputs": []
    },
    {
      "cell_type": "code",
      "metadata": {
        "id": "I80xD5bPoep7"
      },
      "source": [
        "#hide\n",
        "df_areas_corrigido['area_conhecimento_cnpq'] = df_areas_corrigido['area_conhecimento_cnpq'].apply(lambda x: x.strip())"
      ],
      "execution_count": null,
      "outputs": []
    },
    {
      "cell_type": "code",
      "metadata": {
        "id": "Da6D_PVXX2J5"
      },
      "source": [
        "#hide\n",
        "areas_notnull['area_conhecimento_cnpq'] = areas_notnull['area_conhecimento_cnpq'].replace([''])"
      ],
      "execution_count": 251,
      "outputs": []
    },
    {
      "cell_type": "code",
      "metadata": {
        "id": "ene9OtnvfGya"
      },
      "source": [
        "df_cd = areas_notnull.replace(df_areas.set_index('area_conhecimento_cnpq')['codigo'])"
      ],
      "execution_count": 258,
      "outputs": []
    },
    {
      "cell_type": "code",
      "metadata": {
        "colab": {
          "base_uri": "https://localhost:8080/",
          "height": 289
        },
        "id": "WCxS_QK-RJ9G",
        "outputId": "1003c209-37eb-4045-81d7-eeb399e5756f"
      },
      "source": [
        "df_cd.head()"
      ],
      "execution_count": 259,
      "outputs": [
        {
          "output_type": "execute_result",
          "data": {
            "text/html": [
              "<div>\n",
              "<style scoped>\n",
              "    .dataframe tbody tr th:only-of-type {\n",
              "        vertical-align: middle;\n",
              "    }\n",
              "\n",
              "    .dataframe tbody tr th {\n",
              "        vertical-align: top;\n",
              "    }\n",
              "\n",
              "    .dataframe thead th {\n",
              "        text-align: right;\n",
              "    }\n",
              "</style>\n",
              "<table border=\"1\" class=\"dataframe\">\n",
              "  <thead>\n",
              "    <tr style=\"text-align: right;\">\n",
              "      <th></th>\n",
              "      <th>id_projeto_pesquisa</th>\n",
              "      <th>titulo</th>\n",
              "      <th>palavras_chave</th>\n",
              "      <th>ano</th>\n",
              "      <th>situacao</th>\n",
              "      <th>unidade</th>\n",
              "      <th>linha_pesquisa</th>\n",
              "      <th>area_conhecimento_cnpq</th>\n",
              "    </tr>\n",
              "  </thead>\n",
              "  <tbody>\n",
              "    <tr>\n",
              "      <th>0</th>\n",
              "      <td>134094250</td>\n",
              "      <td>Cascading consequences of hunting and fishing ...</td>\n",
              "      <td>Pesca; Rio Juruá; conhecimento ecológico local...</td>\n",
              "      <td>2019</td>\n",
              "      <td>EM EXECUÇÃO</td>\n",
              "      <td>DEPARTAMENTO DE ECOLOGIA</td>\n",
              "      <td>Ecologia Humana</td>\n",
              "      <td>20502001</td>\n",
              "    </tr>\n",
              "    <tr>\n",
              "      <th>1</th>\n",
              "      <td>134475410</td>\n",
              "      <td>SAÚDE DO HIDROCORAL Millepora alcicornis: EFEI...</td>\n",
              "      <td>branqueamento de corais, mudanças globais, amb...</td>\n",
              "      <td>2019</td>\n",
              "      <td>EM EXECUÇÃO</td>\n",
              "      <td>DEPARTAMENTO DE OCEANOGRAFIA E LIMNOLOGIA</td>\n",
              "      <td>Ecologia Marinha</td>\n",
              "      <td>20502001</td>\n",
              "    </tr>\n",
              "    <tr>\n",
              "      <th>2</th>\n",
              "      <td>133516110</td>\n",
              "      <td>Desenvolvimento de aditivos químicos e sistema...</td>\n",
              "      <td>Cimentação, poços de petróleo, aditivos, micro...</td>\n",
              "      <td>2019</td>\n",
              "      <td>EM EXECUÇÃO</td>\n",
              "      <td>INSTITUTO DE QUÍMICA</td>\n",
              "      <td>Gênero, ciência e tecnologia</td>\n",
              "      <td>10601074</td>\n",
              "    </tr>\n",
              "    <tr>\n",
              "      <th>3</th>\n",
              "      <td>133419744</td>\n",
              "      <td>Ethos e pathos na formação da sensibilidade in...</td>\n",
              "      <td>Ethos; Pathos; PLE; adaptação; estrangeiro</td>\n",
              "      <td>2019</td>\n",
              "      <td>RENOVADO</td>\n",
              "      <td>DEPARTAMENTO DE LINGUAS E LITERATURAS ESTRANGE...</td>\n",
              "      <td>Ensino-aprendizagem de Línguas Estrangeiras</td>\n",
              "      <td>80106005</td>\n",
              "    </tr>\n",
              "    <tr>\n",
              "      <th>4</th>\n",
              "      <td>134916342</td>\n",
              "      <td>INFLUÊNCIA DA NEUROMODULAÇÃO NA DINÂMICA UTERI...</td>\n",
              "      <td>Neuromodulação, trabalho de parto, Dinâmica ut...</td>\n",
              "      <td>2019</td>\n",
              "      <td>EM EXECUÇÃO</td>\n",
              "      <td>DEPARTAMENTO DE FISIOTERAPIA</td>\n",
              "      <td>Grupo de Estudo em Saúde da Mulher</td>\n",
              "      <td>40900002</td>\n",
              "    </tr>\n",
              "  </tbody>\n",
              "</table>\n",
              "</div>"
            ],
            "text/plain": [
              "   id_projeto_pesquisa  ... area_conhecimento_cnpq\n",
              "0            134094250  ...               20502001\n",
              "1            134475410  ...               20502001\n",
              "2            133516110  ...               10601074\n",
              "3            133419744  ...               80106005\n",
              "4            134916342  ...               40900002\n",
              "\n",
              "[5 rows x 8 columns]"
            ]
          },
          "metadata": {
            "tags": []
          },
          "execution_count": 259
        }
      ]
    },
    {
      "cell_type": "code",
      "metadata": {
        "id": "sZ5BxB_6am8Q"
      },
      "source": [
        "#hide\n",
        "df_corrigido = df_cd.replace(df_areas_corrigido.set_index('area_conhecimento_cnpq')['codigo'])"
      ],
      "execution_count": null,
      "outputs": []
    },
    {
      "cell_type": "code",
      "metadata": {
        "id": "NDtq6P10grVe"
      },
      "source": [
        "#hide\n",
        "df_cd.to_csv('/content/drive/MyDrive/projetos/df_area_m.csv')"
      ],
      "execution_count": null,
      "outputs": []
    },
    {
      "cell_type": "code",
      "metadata": {
        "id": "t06m5EAoutR1"
      },
      "source": [
        "#hide\n",
        "df_area_m = pd.read_csv('/content/drive/MyDrive/projetos/df_area_mixed.csv')"
      ],
      "execution_count": null,
      "outputs": []
    },
    {
      "cell_type": "code",
      "metadata": {
        "id": "Bbw_0WsNwVQO"
      },
      "source": [
        "#hide\n",
        "df_area_m[~df_area_m['area_conhecimento_cnpq'].str.isnumeric()]"
      ],
      "execution_count": null,
      "outputs": []
    },
    {
      "cell_type": "code",
      "metadata": {
        "colab": {
          "base_uri": "https://localhost:8080/",
          "height": 193
        },
        "id": "XXCgCP27eLSD",
        "outputId": "7331cdb4-dd79-45b5-d226-1a053b6b3b0a"
      },
      "source": [
        "#hide\n",
        "df_corrigido.head(3)"
      ],
      "execution_count": null,
      "outputs": [
        {
          "output_type": "execute_result",
          "data": {
            "text/html": [
              "<div>\n",
              "<style scoped>\n",
              "    .dataframe tbody tr th:only-of-type {\n",
              "        vertical-align: middle;\n",
              "    }\n",
              "\n",
              "    .dataframe tbody tr th {\n",
              "        vertical-align: top;\n",
              "    }\n",
              "\n",
              "    .dataframe thead th {\n",
              "        text-align: right;\n",
              "    }\n",
              "</style>\n",
              "<table border=\"1\" class=\"dataframe\">\n",
              "  <thead>\n",
              "    <tr style=\"text-align: right;\">\n",
              "      <th></th>\n",
              "      <th>id_projeto_pesquisa</th>\n",
              "      <th>titulo</th>\n",
              "      <th>palavras_chave</th>\n",
              "      <th>ano</th>\n",
              "      <th>situacao</th>\n",
              "      <th>unidade</th>\n",
              "      <th>linha_pesquisa</th>\n",
              "      <th>area_conhecimento_cnpq</th>\n",
              "    </tr>\n",
              "  </thead>\n",
              "  <tbody>\n",
              "    <tr>\n",
              "      <th>0</th>\n",
              "      <td>134094250</td>\n",
              "      <td>Cascading consequences of hunting and fishing ...</td>\n",
              "      <td>Pesca; Rio Juruá; conhecimento ecológico local...</td>\n",
              "      <td>2019</td>\n",
              "      <td>EM EXECUÇÃO</td>\n",
              "      <td>DEPARTAMENTO DE ECOLOGIA</td>\n",
              "      <td>Ecologia Humana</td>\n",
              "      <td>20502001</td>\n",
              "    </tr>\n",
              "    <tr>\n",
              "      <th>1</th>\n",
              "      <td>134475410</td>\n",
              "      <td>SAÚDE DO HIDROCORAL Millepora alcicornis: EFEI...</td>\n",
              "      <td>branqueamento de corais, mudanças globais, amb...</td>\n",
              "      <td>2019</td>\n",
              "      <td>EM EXECUÇÃO</td>\n",
              "      <td>DEPARTAMENTO DE OCEANOGRAFIA E LIMNOLOGIA</td>\n",
              "      <td>Ecologia Marinha</td>\n",
              "      <td>20502001</td>\n",
              "    </tr>\n",
              "    <tr>\n",
              "      <th>2</th>\n",
              "      <td>133516110</td>\n",
              "      <td>Desenvolvimento de aditivos químicos e sistema...</td>\n",
              "      <td>Cimentação, poços de petróleo, aditivos, micro...</td>\n",
              "      <td>2019</td>\n",
              "      <td>EM EXECUÇÃO</td>\n",
              "      <td>INSTITUTO DE QUÍMICA</td>\n",
              "      <td>Gênero, ciência e tecnologia</td>\n",
              "      <td>10601074</td>\n",
              "    </tr>\n",
              "  </tbody>\n",
              "</table>\n",
              "</div>"
            ],
            "text/plain": [
              "   id_projeto_pesquisa  ... area_conhecimento_cnpq\n",
              "0            134094250  ...               20502001\n",
              "1            134475410  ...               20502001\n",
              "2            133516110  ...               10601074\n",
              "\n",
              "[3 rows x 8 columns]"
            ]
          },
          "metadata": {
            "tags": []
          },
          "execution_count": 85
        }
      ]
    },
    {
      "cell_type": "code",
      "metadata": {
        "id": "WqdWk1gQphW3"
      },
      "source": [
        "#hide\n",
        "to_drop_areas = ['Política Energética Regional e Nacional','Mecânica dos Fluídos','Trajetórias e Órbitas','Física dos Fluídos, Física de Plasmas e Descargas Elétricas''Biomedicina','Química Industrial','Cinética e Teoria de Transporte de Fluídos; Propriedades Físicas de Gases','Instalações Elétricas e Industriais','Desenvolvimento e Inovação Tecnológica em Biologia','Estruturas Eletrônicas e Propriedades Elétricas de Superfícies; Interf. e Partículas','Finanças Públicas Internas','Organização Industrial e  Estudos Industriais','Linguística','Balanços Globais de Matéria e Energia','Engenharia Textil','Ciências Sociais','Engenharia Mecatrônica','Educação Pré-Escolar','Filosofia da Linguagem','Fontes Alternativas de Energia','Administração Hospitalar','Multidisciplinar','Tratamentos Térmicos, Mecânicos e Químicos','Tecnologia e Inovação','Química, Física, Fisico-Química e Bioquímica dos Alim. e das Mat-Primas Alimentares','Mudança Tecnológica','Energia Eólica','Teoria Eletromagnetica, Microondas, Propagação de Ondas, Antenas','Planejamento em Ciência e Tecnologia', 'Sociolinguística e Dialetologia','Mutagenese','Síntese Orgânica','Fisiologia Endócrina','Anatomia Animal','Robótica, Mecatrônica e Automação','Físico Química Inorgânica', 'Energia de Biomassa', 'Prop. Óticas e Espectrosc. da Mat. Condens; Outras Inter. da Mat. com Rad. e Part.', 'Matemática Discreta e Combinatória']"
      ],
      "execution_count": null,
      "outputs": []
    },
    {
      "cell_type": "code",
      "metadata": {
        "colab": {
          "base_uri": "https://localhost:8080/"
        },
        "id": "nfA9bn9Kx6is",
        "outputId": "3d98b5d5-5b5e-44d2-ce78-3626a6280c25"
      },
      "source": [
        "shape(df_corrigido)"
      ],
      "execution_count": null,
      "outputs": [
        {
          "output_type": "execute_result",
          "data": {
            "text/plain": [
              "(20398, 8)"
            ]
          },
          "metadata": {
            "tags": []
          },
          "execution_count": 238
        }
      ]
    },
    {
      "cell_type": "code",
      "metadata": {
        "id": "-q-wefVtnJL5"
      },
      "source": [
        "#hide\n",
        "df_corrigido.drop(df_corrigido.loc[df_corrigido['area_conhecimento_cnpq']==\"Física dos Fluídos, Física de Plasmas e Descargas Elétricas\"].index, inplace=True)"
      ],
      "execution_count": null,
      "outputs": []
    },
    {
      "cell_type": "code",
      "metadata": {
        "id": "C1cYuxc-hsfM"
      },
      "source": [
        "df_corrigido['area_conhecimento_cnpq'] = pd.to_numeric(df_corrigido['area_conhecimento_cnpq'])"
      ],
      "execution_count": null,
      "outputs": []
    },
    {
      "cell_type": "code",
      "metadata": {
        "colab": {
          "base_uri": "https://localhost:8080/",
          "height": 623
        },
        "id": "I4kpHKhXde3l",
        "outputId": "b551e1be-6ad9-4e2a-9f19-549781af9099"
      },
      "source": [
        "###df_corrigido"
      ],
      "execution_count": null,
      "outputs": [
        {
          "output_type": "execute_result",
          "data": {
            "text/html": [
              "<div>\n",
              "<style scoped>\n",
              "    .dataframe tbody tr th:only-of-type {\n",
              "        vertical-align: middle;\n",
              "    }\n",
              "\n",
              "    .dataframe tbody tr th {\n",
              "        vertical-align: top;\n",
              "    }\n",
              "\n",
              "    .dataframe thead th {\n",
              "        text-align: right;\n",
              "    }\n",
              "</style>\n",
              "<table border=\"1\" class=\"dataframe\">\n",
              "  <thead>\n",
              "    <tr style=\"text-align: right;\">\n",
              "      <th></th>\n",
              "      <th>id_projeto_pesquisa</th>\n",
              "      <th>titulo</th>\n",
              "      <th>palavras_chave</th>\n",
              "      <th>ano</th>\n",
              "      <th>situacao</th>\n",
              "      <th>unidade</th>\n",
              "      <th>linha_pesquisa</th>\n",
              "      <th>area_conhecimento_cnpq</th>\n",
              "    </tr>\n",
              "  </thead>\n",
              "  <tbody>\n",
              "    <tr>\n",
              "      <th>0</th>\n",
              "      <td>134094250</td>\n",
              "      <td>Cascading consequences of hunting and fishing ...</td>\n",
              "      <td>Pesca; Rio Juruá; conhecimento ecológico local...</td>\n",
              "      <td>2019</td>\n",
              "      <td>EM EXECUÇÃO</td>\n",
              "      <td>DEPARTAMENTO DE ECOLOGIA</td>\n",
              "      <td>Ecologia Humana</td>\n",
              "      <td>20502001</td>\n",
              "    </tr>\n",
              "    <tr>\n",
              "      <th>1</th>\n",
              "      <td>134475410</td>\n",
              "      <td>SAÚDE DO HIDROCORAL Millepora alcicornis: EFEI...</td>\n",
              "      <td>branqueamento de corais, mudanças globais, amb...</td>\n",
              "      <td>2019</td>\n",
              "      <td>EM EXECUÇÃO</td>\n",
              "      <td>DEPARTAMENTO DE OCEANOGRAFIA E LIMNOLOGIA</td>\n",
              "      <td>Ecologia Marinha</td>\n",
              "      <td>20502001</td>\n",
              "    </tr>\n",
              "    <tr>\n",
              "      <th>2</th>\n",
              "      <td>133516110</td>\n",
              "      <td>Desenvolvimento de aditivos químicos e sistema...</td>\n",
              "      <td>Cimentação, poços de petróleo, aditivos, micro...</td>\n",
              "      <td>2019</td>\n",
              "      <td>EM EXECUÇÃO</td>\n",
              "      <td>INSTITUTO DE QUÍMICA</td>\n",
              "      <td>Gênero, ciência e tecnologia</td>\n",
              "      <td>10601074</td>\n",
              "    </tr>\n",
              "    <tr>\n",
              "      <th>3</th>\n",
              "      <td>133419744</td>\n",
              "      <td>Ethos e pathos na formação da sensibilidade in...</td>\n",
              "      <td>Ethos; Pathos; PLE; adaptação; estrangeiro</td>\n",
              "      <td>2019</td>\n",
              "      <td>RENOVADO</td>\n",
              "      <td>DEPARTAMENTO DE LINGUAS E LITERATURAS ESTRANGE...</td>\n",
              "      <td>Ensino-aprendizagem de Línguas Estrangeiras</td>\n",
              "      <td>80106005</td>\n",
              "    </tr>\n",
              "    <tr>\n",
              "      <th>4</th>\n",
              "      <td>134916342</td>\n",
              "      <td>INFLUÊNCIA DA NEUROMODULAÇÃO NA DINÂMICA UTERI...</td>\n",
              "      <td>Neuromodulação, trabalho de parto, Dinâmica ut...</td>\n",
              "      <td>2019</td>\n",
              "      <td>EM EXECUÇÃO</td>\n",
              "      <td>DEPARTAMENTO DE FISIOTERAPIA</td>\n",
              "      <td>Grupo de Estudo em Saúde da Mulher</td>\n",
              "      <td>40900002</td>\n",
              "    </tr>\n",
              "    <tr>\n",
              "      <th>...</th>\n",
              "      <td>...</td>\n",
              "      <td>...</td>\n",
              "      <td>...</td>\n",
              "      <td>...</td>\n",
              "      <td>...</td>\n",
              "      <td>...</td>\n",
              "      <td>...</td>\n",
              "      <td>...</td>\n",
              "    </tr>\n",
              "    <tr>\n",
              "      <th>21364</th>\n",
              "      <td>35745</td>\n",
              "      <td>Implementação de Controladores Adaptativos Rob...</td>\n",
              "      <td>Controle Adaptativo;Sistemas com Estrutura Var...</td>\n",
              "      <td>2000</td>\n",
              "      <td>FINALIZADO</td>\n",
              "      <td>CT VICE-DIRETORIA</td>\n",
              "      <td>Automação Industrial e Controle de Processos;;;</td>\n",
              "      <td>30405009</td>\n",
              "    </tr>\n",
              "    <tr>\n",
              "      <th>21365</th>\n",
              "      <td>35746</td>\n",
              "      <td>Controlador de Nível Adaptativo Aplicado a um ...</td>\n",
              "      <td>Controlador PID;Controle Adaptativo;Controle d...</td>\n",
              "      <td>2000</td>\n",
              "      <td>FINALIZADO</td>\n",
              "      <td>CT VICE-DIRETORIA</td>\n",
              "      <td>Automação Industrial e Controle de Processos;;;</td>\n",
              "      <td>30405009</td>\n",
              "    </tr>\n",
              "    <tr>\n",
              "      <th>21368</th>\n",
              "      <td>35799</td>\n",
              "      <td>As concepções de professoras sobre linguagem e...</td>\n",
              "      <td>Educação Infantil;Alfabetização;Leitura e Escrita</td>\n",
              "      <td>2000</td>\n",
              "      <td>FINALIZADO</td>\n",
              "      <td>NÚCLEO DE EDUCAÇÃO DA INFÂNCIA</td>\n",
              "      <td>ALFABETIZAÇÃO;LEITURA E ESCRITA;ENSINO E APREN...</td>\n",
              "      <td>70804001</td>\n",
              "    </tr>\n",
              "    <tr>\n",
              "      <th>21369</th>\n",
              "      <td>36010</td>\n",
              "      <td>Diferenças especiais de crianças e trabalho pe...</td>\n",
              "      <td>Educação Especial;Educação Infantil;Ensino e A...</td>\n",
              "      <td>2000</td>\n",
              "      <td>FINALIZADO</td>\n",
              "      <td>NÚCLEO DE EDUCAÇÃO DA INFÂNCIA</td>\n",
              "      <td>Educação Especial;Educação Infantil;Diversidad...</td>\n",
              "      <td>70804001</td>\n",
              "    </tr>\n",
              "    <tr>\n",
              "      <th>21370</th>\n",
              "      <td>36012</td>\n",
              "      <td>Organizadores do ensino de matemática na escol...</td>\n",
              "      <td>Educação Infantil;Criança e a matemática;Conte...</td>\n",
              "      <td>2000</td>\n",
              "      <td>FINALIZADO</td>\n",
              "      <td>NÚCLEO DE EDUCAÇÃO DA INFÂNCIA</td>\n",
              "      <td>Ensino da matemática;Educação Infantil;Conteúd...</td>\n",
              "      <td>70804001</td>\n",
              "    </tr>\n",
              "  </tbody>\n",
              "</table>\n",
              "<p>20379 rows × 8 columns</p>\n",
              "</div>"
            ],
            "text/plain": [
              "       id_projeto_pesquisa  ... area_conhecimento_cnpq\n",
              "0                134094250  ...               20502001\n",
              "1                134475410  ...               20502001\n",
              "2                133516110  ...               10601074\n",
              "3                133419744  ...               80106005\n",
              "4                134916342  ...               40900002\n",
              "...                    ...  ...                    ...\n",
              "21364                35745  ...               30405009\n",
              "21365                35746  ...               30405009\n",
              "21368                35799  ...               70804001\n",
              "21369                36010  ...               70804001\n",
              "21370                36012  ...               70804001\n",
              "\n",
              "[20379 rows x 8 columns]"
            ]
          },
          "metadata": {
            "tags": []
          },
          "execution_count": 257
        }
      ]
    },
    {
      "cell_type": "code",
      "metadata": {
        "id": "MansPnqI3xBU"
      },
      "source": [
        "#hide\n",
        "df_corrigido.to_csv('/content/drive/MyDrive/projetos/df_corrigido.csv')"
      ],
      "execution_count": null,
      "outputs": []
    },
    {
      "cell_type": "code",
      "metadata": {
        "id": "mShJu8ZeZvWZ"
      },
      "source": [
        "#hide\n",
        "df_final = pd.read_csv('/content/drive/MyDrive/projetos/df_corrigido.csv')"
      ],
      "execution_count": 13,
      "outputs": []
    },
    {
      "cell_type": "code",
      "metadata": {
        "colab": {
          "base_uri": "https://localhost:8080/",
          "height": 606
        },
        "id": "jqGhwqRWdXA0",
        "outputId": "5b0ca147-9611-4914-c13d-763f159273eb"
      },
      "source": [
        "#hide\n",
        "df_final"
      ],
      "execution_count": 207,
      "outputs": [
        {
          "output_type": "execute_result",
          "data": {
            "text/html": [
              "<div>\n",
              "<style scoped>\n",
              "    .dataframe tbody tr th:only-of-type {\n",
              "        vertical-align: middle;\n",
              "    }\n",
              "\n",
              "    .dataframe tbody tr th {\n",
              "        vertical-align: top;\n",
              "    }\n",
              "\n",
              "    .dataframe thead th {\n",
              "        text-align: right;\n",
              "    }\n",
              "</style>\n",
              "<table border=\"1\" class=\"dataframe\">\n",
              "  <thead>\n",
              "    <tr style=\"text-align: right;\">\n",
              "      <th></th>\n",
              "      <th>Unnamed: 0</th>\n",
              "      <th>id_projeto_pesquisa</th>\n",
              "      <th>titulo</th>\n",
              "      <th>palavras_chave</th>\n",
              "      <th>ano</th>\n",
              "      <th>situacao</th>\n",
              "      <th>unidade</th>\n",
              "      <th>linha_pesquisa</th>\n",
              "      <th>area_conhecimento_cnpq</th>\n",
              "    </tr>\n",
              "  </thead>\n",
              "  <tbody>\n",
              "    <tr>\n",
              "      <th>0</th>\n",
              "      <td>0</td>\n",
              "      <td>134094250</td>\n",
              "      <td>Cascading consequences of hunting and fishing ...</td>\n",
              "      <td>Pesca; Rio Juruá; conhecimento ecológico local...</td>\n",
              "      <td>2019</td>\n",
              "      <td>EM EXECUÇÃO</td>\n",
              "      <td>DEPARTAMENTO DE ECOLOGIA</td>\n",
              "      <td>Ecologia Humana</td>\n",
              "      <td>20502001</td>\n",
              "    </tr>\n",
              "    <tr>\n",
              "      <th>1</th>\n",
              "      <td>1</td>\n",
              "      <td>134475410</td>\n",
              "      <td>SAÚDE DO HIDROCORAL Millepora alcicornis: EFEI...</td>\n",
              "      <td>branqueamento de corais, mudanças globais, amb...</td>\n",
              "      <td>2019</td>\n",
              "      <td>EM EXECUÇÃO</td>\n",
              "      <td>DEPARTAMENTO DE OCEANOGRAFIA E LIMNOLOGIA</td>\n",
              "      <td>Ecologia Marinha</td>\n",
              "      <td>20502001</td>\n",
              "    </tr>\n",
              "    <tr>\n",
              "      <th>2</th>\n",
              "      <td>2</td>\n",
              "      <td>133516110</td>\n",
              "      <td>Desenvolvimento de aditivos químicos e sistema...</td>\n",
              "      <td>Cimentação, poços de petróleo, aditivos, micro...</td>\n",
              "      <td>2019</td>\n",
              "      <td>EM EXECUÇÃO</td>\n",
              "      <td>INSTITUTO DE QUÍMICA</td>\n",
              "      <td>Gênero, ciência e tecnologia</td>\n",
              "      <td>10601074</td>\n",
              "    </tr>\n",
              "    <tr>\n",
              "      <th>3</th>\n",
              "      <td>3</td>\n",
              "      <td>133419744</td>\n",
              "      <td>Ethos e pathos na formação da sensibilidade in...</td>\n",
              "      <td>Ethos; Pathos; PLE; adaptação; estrangeiro</td>\n",
              "      <td>2019</td>\n",
              "      <td>RENOVADO</td>\n",
              "      <td>DEPARTAMENTO DE LINGUAS E LITERATURAS ESTRANGE...</td>\n",
              "      <td>Ensino-aprendizagem de Línguas Estrangeiras</td>\n",
              "      <td>80106005</td>\n",
              "    </tr>\n",
              "    <tr>\n",
              "      <th>4</th>\n",
              "      <td>4</td>\n",
              "      <td>134916342</td>\n",
              "      <td>INFLUÊNCIA DA NEUROMODULAÇÃO NA DINÂMICA UTERI...</td>\n",
              "      <td>Neuromodulação, trabalho de parto, Dinâmica ut...</td>\n",
              "      <td>2019</td>\n",
              "      <td>EM EXECUÇÃO</td>\n",
              "      <td>DEPARTAMENTO DE FISIOTERAPIA</td>\n",
              "      <td>Grupo de Estudo em Saúde da Mulher</td>\n",
              "      <td>40900002</td>\n",
              "    </tr>\n",
              "    <tr>\n",
              "      <th>...</th>\n",
              "      <td>...</td>\n",
              "      <td>...</td>\n",
              "      <td>...</td>\n",
              "      <td>...</td>\n",
              "      <td>...</td>\n",
              "      <td>...</td>\n",
              "      <td>...</td>\n",
              "      <td>...</td>\n",
              "      <td>...</td>\n",
              "    </tr>\n",
              "    <tr>\n",
              "      <th>20374</th>\n",
              "      <td>21364</td>\n",
              "      <td>35745</td>\n",
              "      <td>Implementação de Controladores Adaptativos Rob...</td>\n",
              "      <td>Controle Adaptativo;Sistemas com Estrutura Var...</td>\n",
              "      <td>2000</td>\n",
              "      <td>FINALIZADO</td>\n",
              "      <td>CT VICE-DIRETORIA</td>\n",
              "      <td>Automação Industrial e Controle de Processos;;;</td>\n",
              "      <td>30405009</td>\n",
              "    </tr>\n",
              "    <tr>\n",
              "      <th>20375</th>\n",
              "      <td>21365</td>\n",
              "      <td>35746</td>\n",
              "      <td>Controlador de Nível Adaptativo Aplicado a um ...</td>\n",
              "      <td>Controlador PID;Controle Adaptativo;Controle d...</td>\n",
              "      <td>2000</td>\n",
              "      <td>FINALIZADO</td>\n",
              "      <td>CT VICE-DIRETORIA</td>\n",
              "      <td>Automação Industrial e Controle de Processos;;;</td>\n",
              "      <td>30405009</td>\n",
              "    </tr>\n",
              "    <tr>\n",
              "      <th>20376</th>\n",
              "      <td>21368</td>\n",
              "      <td>35799</td>\n",
              "      <td>As concepções de professoras sobre linguagem e...</td>\n",
              "      <td>Educação Infantil;Alfabetização;Leitura e Escrita</td>\n",
              "      <td>2000</td>\n",
              "      <td>FINALIZADO</td>\n",
              "      <td>NÚCLEO DE EDUCAÇÃO DA INFÂNCIA</td>\n",
              "      <td>ALFABETIZAÇÃO;LEITURA E ESCRITA;ENSINO E APREN...</td>\n",
              "      <td>70804001</td>\n",
              "    </tr>\n",
              "    <tr>\n",
              "      <th>20377</th>\n",
              "      <td>21369</td>\n",
              "      <td>36010</td>\n",
              "      <td>Diferenças especiais de crianças e trabalho pe...</td>\n",
              "      <td>Educação Especial;Educação Infantil;Ensino e A...</td>\n",
              "      <td>2000</td>\n",
              "      <td>FINALIZADO</td>\n",
              "      <td>NÚCLEO DE EDUCAÇÃO DA INFÂNCIA</td>\n",
              "      <td>Educação Especial;Educação Infantil;Diversidad...</td>\n",
              "      <td>70804001</td>\n",
              "    </tr>\n",
              "    <tr>\n",
              "      <th>20378</th>\n",
              "      <td>21370</td>\n",
              "      <td>36012</td>\n",
              "      <td>Organizadores do ensino de matemática na escol...</td>\n",
              "      <td>Educação Infantil;Criança e a matemática;Conte...</td>\n",
              "      <td>2000</td>\n",
              "      <td>FINALIZADO</td>\n",
              "      <td>NÚCLEO DE EDUCAÇÃO DA INFÂNCIA</td>\n",
              "      <td>Ensino da matemática;Educação Infantil;Conteúd...</td>\n",
              "      <td>70804001</td>\n",
              "    </tr>\n",
              "  </tbody>\n",
              "</table>\n",
              "<p>20379 rows × 9 columns</p>\n",
              "</div>"
            ],
            "text/plain": [
              "       Unnamed: 0  ...  area_conhecimento_cnpq\n",
              "0               0  ...                20502001\n",
              "1               1  ...                20502001\n",
              "2               2  ...                10601074\n",
              "3               3  ...                80106005\n",
              "4               4  ...                40900002\n",
              "...           ...  ...                     ...\n",
              "20374       21364  ...                30405009\n",
              "20375       21365  ...                30405009\n",
              "20376       21368  ...                70804001\n",
              "20377       21369  ...                70804001\n",
              "20378       21370  ...                70804001\n",
              "\n",
              "[20379 rows x 9 columns]"
            ]
          },
          "metadata": {
            "tags": []
          },
          "execution_count": 207
        }
      ]
    },
    {
      "cell_type": "code",
      "metadata": {
        "colab": {
          "base_uri": "https://localhost:8080/"
        },
        "id": "I64Lk0pmfoNK",
        "outputId": "5601cd62-7b47-4ef7-a529-b3a7a49f39a7"
      },
      "source": [
        "df_final.isna().sum()"
      ],
      "execution_count": 16,
      "outputs": [
        {
          "output_type": "execute_result",
          "data": {
            "text/plain": [
              "Unnamed: 0                  0\n",
              "id_projeto_pesquisa         0\n",
              "titulo                      0\n",
              "palavras_chave              0\n",
              "ano                         0\n",
              "situacao                    0\n",
              "unidade                     0\n",
              "linha_pesquisa            376\n",
              "area_conhecimento_cnpq      0\n",
              "dtype: int64"
            ]
          },
          "metadata": {
            "tags": []
          },
          "execution_count": 16
        }
      ]
    },
    {
      "cell_type": "code",
      "metadata": {
        "id": "8ddcBJ7bgoTz"
      },
      "source": [
        "df_nan = df_final.dropna(subset=['linha_pesquisa'])"
      ],
      "execution_count": 86,
      "outputs": []
    },
    {
      "cell_type": "code",
      "metadata": {
        "colab": {
          "base_uri": "https://localhost:8080/"
        },
        "id": "dmZXd63vg0L6",
        "outputId": "c9d9fa79-f2ce-4849-ad72-f3d853497612"
      },
      "source": [
        "#hide\n",
        "df_nan['linha_pesquisa'].isna().sum()"
      ],
      "execution_count": 87,
      "outputs": [
        {
          "output_type": "execute_result",
          "data": {
            "text/plain": [
              "0"
            ]
          },
          "metadata": {
            "tags": []
          },
          "execution_count": 87
        }
      ]
    },
    {
      "cell_type": "code",
      "metadata": {
        "colab": {
          "base_uri": "https://localhost:8080/",
          "height": 306
        },
        "id": "z_S3z7FZg8ZV",
        "outputId": "a89d3c3f-9e1c-4d38-dfbc-dfd76e1d949c"
      },
      "source": [
        "#hide\n",
        "df_nan.head()"
      ],
      "execution_count": 21,
      "outputs": [
        {
          "output_type": "execute_result",
          "data": {
            "text/html": [
              "<div>\n",
              "<style scoped>\n",
              "    .dataframe tbody tr th:only-of-type {\n",
              "        vertical-align: middle;\n",
              "    }\n",
              "\n",
              "    .dataframe tbody tr th {\n",
              "        vertical-align: top;\n",
              "    }\n",
              "\n",
              "    .dataframe thead th {\n",
              "        text-align: right;\n",
              "    }\n",
              "</style>\n",
              "<table border=\"1\" class=\"dataframe\">\n",
              "  <thead>\n",
              "    <tr style=\"text-align: right;\">\n",
              "      <th></th>\n",
              "      <th>Unnamed: 0</th>\n",
              "      <th>id_projeto_pesquisa</th>\n",
              "      <th>titulo</th>\n",
              "      <th>palavras_chave</th>\n",
              "      <th>ano</th>\n",
              "      <th>situacao</th>\n",
              "      <th>unidade</th>\n",
              "      <th>linha_pesquisa</th>\n",
              "      <th>area_conhecimento_cnpq</th>\n",
              "    </tr>\n",
              "  </thead>\n",
              "  <tbody>\n",
              "    <tr>\n",
              "      <th>0</th>\n",
              "      <td>0</td>\n",
              "      <td>134094250</td>\n",
              "      <td>Cascading consequences of hunting and fishing ...</td>\n",
              "      <td>Pesca; Rio Juruá; conhecimento ecológico local...</td>\n",
              "      <td>2019</td>\n",
              "      <td>EM EXECUÇÃO</td>\n",
              "      <td>DEPARTAMENTO DE ECOLOGIA</td>\n",
              "      <td>Ecologia Humana</td>\n",
              "      <td>20502001</td>\n",
              "    </tr>\n",
              "    <tr>\n",
              "      <th>1</th>\n",
              "      <td>1</td>\n",
              "      <td>134475410</td>\n",
              "      <td>SAÚDE DO HIDROCORAL Millepora alcicornis: EFEI...</td>\n",
              "      <td>branqueamento de corais, mudanças globais, amb...</td>\n",
              "      <td>2019</td>\n",
              "      <td>EM EXECUÇÃO</td>\n",
              "      <td>DEPARTAMENTO DE OCEANOGRAFIA E LIMNOLOGIA</td>\n",
              "      <td>Ecologia Marinha</td>\n",
              "      <td>20502001</td>\n",
              "    </tr>\n",
              "    <tr>\n",
              "      <th>2</th>\n",
              "      <td>2</td>\n",
              "      <td>133516110</td>\n",
              "      <td>Desenvolvimento de aditivos químicos e sistema...</td>\n",
              "      <td>Cimentação, poços de petróleo, aditivos, micro...</td>\n",
              "      <td>2019</td>\n",
              "      <td>EM EXECUÇÃO</td>\n",
              "      <td>INSTITUTO DE QUÍMICA</td>\n",
              "      <td>Gênero, ciência e tecnologia</td>\n",
              "      <td>10601074</td>\n",
              "    </tr>\n",
              "    <tr>\n",
              "      <th>3</th>\n",
              "      <td>3</td>\n",
              "      <td>133419744</td>\n",
              "      <td>Ethos e pathos na formação da sensibilidade in...</td>\n",
              "      <td>Ethos; Pathos; PLE; adaptação; estrangeiro</td>\n",
              "      <td>2019</td>\n",
              "      <td>RENOVADO</td>\n",
              "      <td>DEPARTAMENTO DE LINGUAS E LITERATURAS ESTRANGE...</td>\n",
              "      <td>Ensino-aprendizagem de Línguas Estrangeiras</td>\n",
              "      <td>80106005</td>\n",
              "    </tr>\n",
              "    <tr>\n",
              "      <th>4</th>\n",
              "      <td>4</td>\n",
              "      <td>134916342</td>\n",
              "      <td>INFLUÊNCIA DA NEUROMODULAÇÃO NA DINÂMICA UTERI...</td>\n",
              "      <td>Neuromodulação, trabalho de parto, Dinâmica ut...</td>\n",
              "      <td>2019</td>\n",
              "      <td>EM EXECUÇÃO</td>\n",
              "      <td>DEPARTAMENTO DE FISIOTERAPIA</td>\n",
              "      <td>Grupo de Estudo em Saúde da Mulher</td>\n",
              "      <td>40900002</td>\n",
              "    </tr>\n",
              "  </tbody>\n",
              "</table>\n",
              "</div>"
            ],
            "text/plain": [
              "   Unnamed: 0  ...  area_conhecimento_cnpq\n",
              "0           0  ...                20502001\n",
              "1           1  ...                20502001\n",
              "2           2  ...                10601074\n",
              "3           3  ...                80106005\n",
              "4           4  ...                40900002\n",
              "\n",
              "[5 rows x 9 columns]"
            ]
          },
          "metadata": {
            "tags": []
          },
          "execution_count": 21
        }
      ]
    },
    {
      "cell_type": "code",
      "metadata": {
        "colab": {
          "base_uri": "https://localhost:8080/"
        },
        "id": "id7StZQThDgB",
        "outputId": "eb30e1ae-a1f9-4854-d92e-19b5d2379aff"
      },
      "source": [
        "#hide\n",
        "df_nan.info()"
      ],
      "execution_count": 23,
      "outputs": [
        {
          "output_type": "stream",
          "text": [
            "<class 'pandas.core.frame.DataFrame'>\n",
            "Int64Index: 20003 entries, 0 to 20378\n",
            "Data columns (total 9 columns):\n",
            " #   Column                  Non-Null Count  Dtype \n",
            "---  ------                  --------------  ----- \n",
            " 0   Unnamed: 0              20003 non-null  int64 \n",
            " 1   id_projeto_pesquisa     20003 non-null  int64 \n",
            " 2   titulo                  20003 non-null  object\n",
            " 3   palavras_chave          20003 non-null  object\n",
            " 4   ano                     20003 non-null  int64 \n",
            " 5   situacao                20003 non-null  object\n",
            " 6   unidade                 20003 non-null  object\n",
            " 7   linha_pesquisa          20003 non-null  object\n",
            " 8   area_conhecimento_cnpq  20003 non-null  int64 \n",
            "dtypes: int64(4), object(5)\n",
            "memory usage: 1.5+ MB\n"
          ],
          "name": "stdout"
        }
      ]
    },
    {
      "cell_type": "code",
      "metadata": {
        "id": "mUUBYkfGhT9L"
      },
      "source": [
        "#hide\n",
        "from wordcloud import WordCloud\n",
        "import matplotlib.pyplot as plt"
      ],
      "execution_count": 24,
      "outputs": []
    },
    {
      "cell_type": "code",
      "metadata": {
        "colab": {
          "base_uri": "https://localhost:8080/"
        },
        "id": "gLVRT6AMh4N0",
        "outputId": "0013bb5d-aff6-4e63-9d38-8bf67018c6cb"
      },
      "source": [
        "#hide\n",
        "import nltk\n",
        "nltk.download('stopwords')"
      ],
      "execution_count": 25,
      "outputs": [
        {
          "output_type": "stream",
          "text": [
            "[nltk_data] Downloading package stopwords to /root/nltk_data...\n",
            "[nltk_data]   Unzipping corpora/stopwords.zip.\n"
          ],
          "name": "stdout"
        },
        {
          "output_type": "execute_result",
          "data": {
            "text/plain": [
              "True"
            ]
          },
          "metadata": {
            "tags": []
          },
          "execution_count": 25
        }
      ]
    },
    {
      "cell_type": "code",
      "metadata": {
        "id": "VjRgKfkTh6y0"
      },
      "source": [
        "#hide\n",
        "from nltk.corpus import stopwords\n",
        "stopwords_pt = stopwords.words(\"portuguese\")"
      ],
      "execution_count": 26,
      "outputs": []
    },
    {
      "cell_type": "code",
      "metadata": {
        "colab": {
          "base_uri": "https://localhost:8080/"
        },
        "id": "pz20bKw2iGn7",
        "outputId": "11830c32-cde7-490b-b910-d46a3c02a61e"
      },
      "source": [
        "#hide\n",
        "df_nan['palavras_chave']"
      ],
      "execution_count": 28,
      "outputs": [
        {
          "output_type": "execute_result",
          "data": {
            "text/plain": [
              "0        Pesca; Rio Juruá; conhecimento ecológico local...\n",
              "1        branqueamento de corais, mudanças globais, amb...\n",
              "2        Cimentação, poços de petróleo, aditivos, micro...\n",
              "3               Ethos; Pathos; PLE; adaptação; estrangeiro\n",
              "4        Neuromodulação, trabalho de parto, Dinâmica ut...\n",
              "                               ...                        \n",
              "20374    Controle Adaptativo;Sistemas com Estrutura Var...\n",
              "20375    Controlador PID;Controle Adaptativo;Controle d...\n",
              "20376    Educação Infantil;Alfabetização;Leitura e Escrita\n",
              "20377    Educação Especial;Educação Infantil;Ensino e A...\n",
              "20378    Educação Infantil;Criança e a matemática;Conte...\n",
              "Name: palavras_chave, Length: 20003, dtype: object"
            ]
          },
          "metadata": {
            "tags": []
          },
          "execution_count": 28
        }
      ]
    },
    {
      "cell_type": "code",
      "metadata": {
        "id": "y8uS56tLiaYW"
      },
      "source": [
        "#hide\n",
        "palavras_chave = df_nan['palavras_chave'].str"
      ],
      "execution_count": 41,
      "outputs": []
    },
    {
      "cell_type": "code",
      "metadata": {
        "id": "WF2ZPmNsi1pk"
      },
      "source": [
        "#hide\n",
        "palavras_chave = pd.read_csv('/content/drive/MyDrive/projetos/df_corrigido.csv', usecols=['palavras_chave']) #aqui é o df final"
      ],
      "execution_count": 45,
      "outputs": []
    },
    {
      "cell_type": "markdown",
      "metadata": {
        "id": "kPVFnN-XWLjd"
      },
      "source": [
        "### Nuvem palavras chave"
      ]
    },
    {
      "cell_type": "markdown",
      "metadata": {
        "id": "K44Q4h2_WLdm"
      },
      "source": [
        ""
      ]
    },
    {
      "cell_type": "code",
      "metadata": {
        "colab": {
          "base_uri": "https://localhost:8080/",
          "height": 248
        },
        "id": "tUQTplxnh_Bc",
        "outputId": "2496fe47-c149-4971-810c-5463fc1602eb"
      },
      "source": [
        "#hide_input\n",
        "wordcloud = WordCloud(width=550, height=550, background_color=\"white\", stopwords=stopwords_pt).generate(str(palavras_chave))\n",
        "plt.imshow(wordcloud, interpolation='bilinear')\n",
        "plt.axis(\"off\")\n",
        "plt.show()"
      ],
      "execution_count": 52,
      "outputs": [
        {
          "output_type": "display_data",
          "data": {
            "image/png": "[encoded data removed]",
            "text/plain": [
              "<Figure size 432x288 with 1 Axes>"
            ]
          },
          "metadata": {
            "tags": []
          }
        }
      ]
    },
    {
      "cell_type": "code",
      "metadata": {
        "colab": {
          "base_uri": "https://localhost:8080/"
        },
        "id": "cqccz4rAkcod",
        "outputId": "cc8615cb-5ee1-4fcd-fe4b-c355cec0883e"
      },
      "source": [
        "pd.get_dummies(df_nan['linha_pesquisa']).shape"
      ],
      "execution_count": 53,
      "outputs": [
        {
          "output_type": "execute_result",
          "data": {
            "text/plain": [
              "(20003, 7783)"
            ]
          },
          "metadata": {
            "tags": []
          },
          "execution_count": 53
        }
      ]
    },
    {
      "cell_type": "code",
      "metadata": {
        "colab": {
          "base_uri": "https://localhost:8080/"
        },
        "id": "oYbno0LCoJ6f",
        "outputId": "06f31b2c-7930-4c7c-a6e5-592044e0f8d0"
      },
      "source": [
        "pd.get_dummies(df_nan['palavras_chave']).shape"
      ],
      "execution_count": 54,
      "outputs": [
        {
          "output_type": "execute_result",
          "data": {
            "text/plain": [
              "(20003, 12967)"
            ]
          },
          "metadata": {
            "tags": []
          },
          "execution_count": 54
        }
      ]
    },
    {
      "cell_type": "code",
      "metadata": {
        "colab": {
          "base_uri": "https://localhost:8080/",
          "height": 442
        },
        "id": "Q1maBhynpJ7f",
        "outputId": "c4849107-9bf0-4d03-eb1b-2665a8ea6bd5"
      },
      "source": [
        "#hide\n",
        "pip install feature-engine"
      ],
      "execution_count": 56,
      "outputs": [
        {
          "output_type": "stream",
          "text": [
            "Collecting feature-engine\n",
            "\u001b[?25l  Downloading https://files.pythonhosted.org/packages/57/6d/0c7594c89bf07a7c447b1a251d4e04b07104d4a9332de71e1de42b78b838/feature_engine-1.0.2-py2.py3-none-any.whl (152kB)\n",
            "\r\u001b[K     |██▏                             | 10kB 11.4MB/s eta 0:00:01\r\u001b[K     |████▎                           | 20kB 15.9MB/s eta 0:00:01\r\u001b[K     |██████▌                         | 30kB 19.5MB/s eta 0:00:01\r\u001b[K     |████████▋                       | 40kB 22.8MB/s eta 0:00:01\r\u001b[K     |██████████▊                     | 51kB 25.7MB/s eta 0:00:01\r\u001b[K     |█████████████                   | 61kB 26.1MB/s eta 0:00:01\r\u001b[K     |███████████████                 | 71kB 26.5MB/s eta 0:00:01\r\u001b[K     |█████████████████▏              | 81kB 17.9MB/s eta 0:00:01\r\u001b[K     |███████████████████▍            | 92kB 18.8MB/s eta 0:00:01\r\u001b[K     |█████████████████████▌          | 102kB 20.0MB/s eta 0:00:01\r\u001b[K     |███████████████████████▋        | 112kB 20.0MB/s eta 0:00:01\r\u001b[K     |█████████████████████████▉      | 122kB 20.0MB/s eta 0:00:01\r\u001b[K     |████████████████████████████    | 133kB 20.0MB/s eta 0:00:01\r\u001b[K     |██████████████████████████████  | 143kB 20.0MB/s eta 0:00:01\r\u001b[K     |████████████████████████████████| 153kB 20.0MB/s \n",
            "\u001b[?25hRequirement already satisfied: numpy>=1.18.2 in /usr/local/lib/python3.7/dist-packages (from feature-engine) (1.19.5)\n",
            "Requirement already satisfied: scikit-learn>=0.22.2 in /usr/local/lib/python3.7/dist-packages (from feature-engine) (0.22.2.post1)\n",
            "Requirement already satisfied: scipy>=1.4.1 in /usr/local/lib/python3.7/dist-packages (from feature-engine) (1.4.1)\n",
            "Requirement already satisfied: pandas>=1.0.3 in /usr/local/lib/python3.7/dist-packages (from feature-engine) (1.1.5)\n",
            "Collecting statsmodels>=0.11.1\n",
            "\u001b[?25l  Downloading https://files.pythonhosted.org/packages/da/69/8eef30a6237c54f3c0b524140e2975f4b1eea3489b45eb3339574fc8acee/statsmodels-0.12.2-cp37-cp37m-manylinux1_x86_64.whl (9.5MB)\n",
            "\u001b[K     |████████████████████████████████| 9.5MB 16.2MB/s \n",
            "\u001b[?25hRequirement already satisfied: joblib>=0.11 in /usr/local/lib/python3.7/dist-packages (from scikit-learn>=0.22.2->feature-engine) (1.0.1)\n",
            "Requirement already satisfied: pytz>=2017.2 in /usr/local/lib/python3.7/dist-packages (from pandas>=1.0.3->feature-engine) (2018.9)\n",
            "Requirement already satisfied: python-dateutil>=2.7.3 in /usr/local/lib/python3.7/dist-packages (from pandas>=1.0.3->feature-engine) (2.8.1)\n",
            "Requirement already satisfied: patsy>=0.5 in /usr/local/lib/python3.7/dist-packages (from statsmodels>=0.11.1->feature-engine) (0.5.1)\n",
            "Requirement already satisfied: six>=1.5 in /usr/local/lib/python3.7/dist-packages (from python-dateutil>=2.7.3->pandas>=1.0.3->feature-engine) (1.15.0)\n",
            "Installing collected packages: statsmodels, feature-engine\n",
            "  Found existing installation: statsmodels 0.10.2\n",
            "    Uninstalling statsmodels-0.10.2:\n",
            "      Successfully uninstalled statsmodels-0.10.2\n",
            "Successfully installed feature-engine-1.0.2 statsmodels-0.12.2\n"
          ],
          "name": "stdout"
        },
        {
          "output_type": "display_data",
          "data": {
            "application/vnd.colab-display-data+json": {
              "pip_warning": {
                "packages": [
                  "statsmodels"
                ]
              }
            }
          },
          "metadata": {
            "tags": []
          }
        }
      ]
    },
    {
      "cell_type": "code",
      "metadata": {
        "id": "v7yyjitOpA-n"
      },
      "source": [
        "#hide\n",
        "from sklearn.model_selection import train_test_split\n",
        "\n",
        "from feature_engine.encoding import CountFrequencyEncoder\n",
        "\n"
      ],
      "execution_count": 57,
      "outputs": []
    },
    {
      "cell_type": "code",
      "metadata": {
        "colab": {
          "base_uri": "https://localhost:8080/",
          "height": 306
        },
        "id": "NPbVFUqHpZpJ",
        "outputId": "ded4cb60-1655-45d2-d0ae-32c2d64356bb"
      },
      "source": [
        "#hide\n",
        "df_nan.head()"
      ],
      "execution_count": 58,
      "outputs": [
        {
          "output_type": "execute_result",
          "data": {
            "text/html": [
              "<div>\n",
              "<style scoped>\n",
              "    .dataframe tbody tr th:only-of-type {\n",
              "        vertical-align: middle;\n",
              "    }\n",
              "\n",
              "    .dataframe tbody tr th {\n",
              "        vertical-align: top;\n",
              "    }\n",
              "\n",
              "    .dataframe thead th {\n",
              "        text-align: right;\n",
              "    }\n",
              "</style>\n",
              "<table border=\"1\" class=\"dataframe\">\n",
              "  <thead>\n",
              "    <tr style=\"text-align: right;\">\n",
              "      <th></th>\n",
              "      <th>Unnamed: 0</th>\n",
              "      <th>id_projeto_pesquisa</th>\n",
              "      <th>titulo</th>\n",
              "      <th>palavras_chave</th>\n",
              "      <th>ano</th>\n",
              "      <th>situacao</th>\n",
              "      <th>unidade</th>\n",
              "      <th>linha_pesquisa</th>\n",
              "      <th>area_conhecimento_cnpq</th>\n",
              "    </tr>\n",
              "  </thead>\n",
              "  <tbody>\n",
              "    <tr>\n",
              "      <th>0</th>\n",
              "      <td>0</td>\n",
              "      <td>134094250</td>\n",
              "      <td>Cascading consequences of hunting and fishing ...</td>\n",
              "      <td>Pesca; Rio Juruá; conhecimento ecológico local...</td>\n",
              "      <td>2019</td>\n",
              "      <td>EM EXECUÇÃO</td>\n",
              "      <td>DEPARTAMENTO DE ECOLOGIA</td>\n",
              "      <td>Ecologia Humana</td>\n",
              "      <td>20502001</td>\n",
              "    </tr>\n",
              "    <tr>\n",
              "      <th>1</th>\n",
              "      <td>1</td>\n",
              "      <td>134475410</td>\n",
              "      <td>SAÚDE DO HIDROCORAL Millepora alcicornis: EFEI...</td>\n",
              "      <td>branqueamento de corais, mudanças globais, amb...</td>\n",
              "      <td>2019</td>\n",
              "      <td>EM EXECUÇÃO</td>\n",
              "      <td>DEPARTAMENTO DE OCEANOGRAFIA E LIMNOLOGIA</td>\n",
              "      <td>Ecologia Marinha</td>\n",
              "      <td>20502001</td>\n",
              "    </tr>\n",
              "    <tr>\n",
              "      <th>2</th>\n",
              "      <td>2</td>\n",
              "      <td>133516110</td>\n",
              "      <td>Desenvolvimento de aditivos químicos e sistema...</td>\n",
              "      <td>Cimentação, poços de petróleo, aditivos, micro...</td>\n",
              "      <td>2019</td>\n",
              "      <td>EM EXECUÇÃO</td>\n",
              "      <td>INSTITUTO DE QUÍMICA</td>\n",
              "      <td>Gênero, ciência e tecnologia</td>\n",
              "      <td>10601074</td>\n",
              "    </tr>\n",
              "    <tr>\n",
              "      <th>3</th>\n",
              "      <td>3</td>\n",
              "      <td>133419744</td>\n",
              "      <td>Ethos e pathos na formação da sensibilidade in...</td>\n",
              "      <td>Ethos; Pathos; PLE; adaptação; estrangeiro</td>\n",
              "      <td>2019</td>\n",
              "      <td>RENOVADO</td>\n",
              "      <td>DEPARTAMENTO DE LINGUAS E LITERATURAS ESTRANGE...</td>\n",
              "      <td>Ensino-aprendizagem de Línguas Estrangeiras</td>\n",
              "      <td>80106005</td>\n",
              "    </tr>\n",
              "    <tr>\n",
              "      <th>4</th>\n",
              "      <td>4</td>\n",
              "      <td>134916342</td>\n",
              "      <td>INFLUÊNCIA DA NEUROMODULAÇÃO NA DINÂMICA UTERI...</td>\n",
              "      <td>Neuromodulação, trabalho de parto, Dinâmica ut...</td>\n",
              "      <td>2019</td>\n",
              "      <td>EM EXECUÇÃO</td>\n",
              "      <td>DEPARTAMENTO DE FISIOTERAPIA</td>\n",
              "      <td>Grupo de Estudo em Saúde da Mulher</td>\n",
              "      <td>40900002</td>\n",
              "    </tr>\n",
              "  </tbody>\n",
              "</table>\n",
              "</div>"
            ],
            "text/plain": [
              "   Unnamed: 0  ...  area_conhecimento_cnpq\n",
              "0           0  ...                20502001\n",
              "1           1  ...                20502001\n",
              "2           2  ...                10601074\n",
              "3           3  ...                80106005\n",
              "4           4  ...                40900002\n",
              "\n",
              "[5 rows x 9 columns]"
            ]
          },
          "metadata": {
            "tags": []
          },
          "execution_count": 58
        }
      ]
    },
    {
      "cell_type": "code",
      "metadata": {
        "id": "IOJ95xKJpf1J"
      },
      "source": [
        "#hide\n",
        "df3 = df_nan[['palavras_chave','linha_pesquisa','area_conhecimento_cnpq']]"
      ],
      "execution_count": 59,
      "outputs": []
    },
    {
      "cell_type": "code",
      "metadata": {
        "id": "m-y6umIzp61m"
      },
      "source": [
        "X_train, X_test, y_train, y_test = train_test_split(df3.drop(['area_conhecimento_cnpq'], axis=1),\n",
        "                df3['area_conhecimento_cnpq'], test_size=0.3, random_state=0)"
      ],
      "execution_count": 71,
      "outputs": []
    },
    {
      "cell_type": "markdown",
      "metadata": {
        "id": "9HAAgJ7pWY7T"
      },
      "source": [
        "### Test Encoding"
      ]
    },
    {
      "cell_type": "code",
      "metadata": {
        "id": "iv3B8SxlpYBW"
      },
      "source": [
        "encoder = CountFrequencyEncoder(encoding_method='frequency',\n",
        "                         variables=['palavras_chave', 'linha_pesquisa'])"
      ],
      "execution_count": 60,
      "outputs": []
    },
    {
      "cell_type": "code",
      "metadata": {
        "colab": {
          "base_uri": "https://localhost:8080/",
          "height": 204
        },
        "id": "qVpU11mFqOff",
        "outputId": "92737e52-e956-480d-8a26-d725ce823083"
      },
      "source": [
        "X_train.head()"
      ],
      "execution_count": 243,
      "outputs": [
        {
          "output_type": "execute_result",
          "data": {
            "text/html": [
              "<div>\n",
              "<style scoped>\n",
              "    .dataframe tbody tr th:only-of-type {\n",
              "        vertical-align: middle;\n",
              "    }\n",
              "\n",
              "    .dataframe tbody tr th {\n",
              "        vertical-align: top;\n",
              "    }\n",
              "\n",
              "    .dataframe thead th {\n",
              "        text-align: right;\n",
              "    }\n",
              "</style>\n",
              "<table border=\"1\" class=\"dataframe\">\n",
              "  <thead>\n",
              "    <tr style=\"text-align: right;\">\n",
              "      <th></th>\n",
              "      <th>palavras_chave</th>\n",
              "      <th>linha_pesquisa</th>\n",
              "    </tr>\n",
              "  </thead>\n",
              "  <tbody>\n",
              "    <tr>\n",
              "      <th>12930</th>\n",
              "      <td>Caracterização, Geoquímica, Zona-reservatório</td>\n",
              "      <td>Corrosão e incrustação</td>\n",
              "    </tr>\n",
              "    <tr>\n",
              "      <th>9030</th>\n",
              "      <td>acerola, secagem, funcionalidade, impacto</td>\n",
              "      <td>Desidratação de frutas e hortaliças;Cinética d...</td>\n",
              "    </tr>\n",
              "    <tr>\n",
              "      <th>14677</th>\n",
              "      <td>Ação Coletiva;Rede Sociais;Assentamento Rural</td>\n",
              "      <td>Educação e movimentos sociais;Educação ambient...</td>\n",
              "    </tr>\n",
              "    <tr>\n",
              "      <th>18864</th>\n",
              "      <td>lantanídeos;acetato de etila;espectroscopia el...</td>\n",
              "      <td>Campos de Coordenação;Espectroscopia Eletrônic...</td>\n",
              "    </tr>\n",
              "    <tr>\n",
              "      <th>10335</th>\n",
              "      <td>Saúde do homem- Saúde da Família- Estratégia S...</td>\n",
              "      <td>Saúde de grupos populacionais</td>\n",
              "    </tr>\n",
              "  </tbody>\n",
              "</table>\n",
              "</div>"
            ],
            "text/plain": [
              "                                          palavras_chave                                     linha_pesquisa\n",
              "12930      Caracterização, Geoquímica, Zona-reservatório                             Corrosão e incrustação\n",
              "9030           acerola, secagem, funcionalidade, impacto  Desidratação de frutas e hortaliças;Cinética d...\n",
              "14677      Ação Coletiva;Rede Sociais;Assentamento Rural  Educação e movimentos sociais;Educação ambient...\n",
              "18864  lantanídeos;acetato de etila;espectroscopia el...  Campos de Coordenação;Espectroscopia Eletrônic...\n",
              "10335  Saúde do homem- Saúde da Família- Estratégia S...                      Saúde de grupos populacionais"
            ]
          },
          "metadata": {
            "tags": []
          },
          "execution_count": 243
        }
      ]
    },
    {
      "cell_type": "code",
      "metadata": {
        "colab": {
          "base_uri": "https://localhost:8080/"
        },
        "id": "v9GFxe5TpwoF",
        "outputId": "fd2a0418-dab8-4090-ead2-fa6fa712dfe4"
      },
      "source": [
        "encoder.fit(X_train)"
      ],
      "execution_count": 244,
      "outputs": [
        {
          "output_type": "execute_result",
          "data": {
            "text/plain": [
              "CountFrequencyEncoder(encoding_method='frequency',\n",
              "                      variables=['palavras_chave', 'linha_pesquisa'])"
            ]
          },
          "metadata": {
            "tags": []
          },
          "execution_count": 244
        }
      ]
    },
    {
      "cell_type": "code",
      "metadata": {
        "colab": {
          "base_uri": "https://localhost:8080/"
        },
        "id": "kpw-rOD1p0pL",
        "outputId": "cc2cf534-d91b-4d2a-820a-2deed2d0e024"
      },
      "source": [
        "train_t = encoder.transform(X_train)\n",
        "test_t = encoder.transform(X_test)"
      ],
      "execution_count": 74,
      "outputs": [
        {
          "output_type": "stream",
          "text": [
            "/usr/local/lib/python3.7/dist-packages/feature_engine/encoding/base_encoder.py:142: UserWarning:\n",
            "\n",
            "NaN values were introduced in the returned dataframe by the encoder.This means that some of the categories in the input dataframe were not present in the training set used when the fit method was called. Thus, mappings for those categories do not exist. Try using the RareLabelCategoricalEncoder to remove infrequent categories before calling this encoder.\n",
            "\n"
          ],
          "name": "stderr"
        }
      ]
    },
    {
      "cell_type": "code",
      "metadata": {
        "colab": {
          "base_uri": "https://localhost:8080/"
        },
        "id": "aNyNdT7IrX7K",
        "outputId": "91c77367-07e9-4a9b-af9b-aa4298cd7bdd"
      },
      "source": [
        "#hide\n",
        "encoder.encoder_dict_"
      ],
      "execution_count": 245,
      "outputs": [
        {
          "output_type": "execute_result",
          "data": {
            "text/plain": [
              "{'linha_pesquisa': {';;;': 0.014283673760891302,\n",
              "  'Robótica': 0.0017854592201114127,\n",
              "  'Biologia do Desenvolvimento e Tecidual': 0.0017140408513069561,\n",
              "  'Desenvolvimento tecnológico em saúde e enfermagem': 0.001571204113698043,\n",
              "  'Práticas Pedagógicas e Currículo': 0.0014997857448935867,\n",
              "  'Práticas Pedagógicas e Currículo;;;': 0.001285530638480217,\n",
              "  'Câncer oral': 0.0012141122696757605,\n",
              "  'Metalurgia do Pó e Sinterização;Materiais Compósitos;Materiais Super Duros;Metal Duro': 0.0012141122696757605,\n",
              "  'Discurso, gramática e ensino': 0.0012141122696757605,\n",
              "  'Desenvolvimento de Formas farmacêuticas Sólidas;Desenvolvimento de Sistemas de Liberação Controlada;;': 0.0012141122696757605,\n",
              "  'Anemias hereditárias;;;': 0.0011426939008713042,\n",
              "  'Modelos de regressão': 0.0011426939008713042,\n",
              "  'Trabalho, Proteção Social e Cidadania;;;': 0.0011426939008713042,\n",
              "  'Avaliação in vitro, in situ e in vivo de materiais dentários e técnicas restauradoras': 0.0011426939008713042,\n",
              "  'Projeto de Arquitetura': 0.0010712755320668476,\n",
              "  'Saúde e Desenvolvimento Humano.': 0.0010712755320668476,\n",
              "  'História, Educação, Cultura e Modernidade;;;': 0.0010712755320668476,\n",
              "  'Cultura e História da Educação;;;': 0.0010712755320668476,\n",
              "  'Sistemas inteligentes': 0.0010712755320668476,\n",
              "  'Psicologia da Saúde;Saúde e Desenvolvimento Humano;;': 0.000999857163262391,\n",
              "  'DESENVOLVIMENTO, CONTROLE MOTOR E INCLUSAO DE PESSOAS COM DEFICIENCIA': 0.000999857163262391,\n",
              "  'Direito da Energia;;;': 0.000999857163262391,\n",
              "  'Distribuição e fatores determinantes dos agravos à saúde bucal nas populações humanas': 0.000999857163262391,\n",
              "  'Formação e Profissionalização Docente;;;': 0.0009284387944579346,\n",
              "  'Estudos relacionados à nutrição e ao estado nutricional': 0.0009284387944579346,\n",
              "  'Automação Industrial e Controle de Processos': 0.0009284387944579346,\n",
              "  'Ecologia de microrganismos aquaticos': 0.0008570204256534781,\n",
              "  'câncer oral': 0.0008570204256534781,\n",
              "  'Geoquímica Ambiental': 0.0008570204256534781,\n",
              "  'Oftalmologia e epidemiologia;;;': 0.0008570204256534781,\n",
              "  'FERRITAS;;;': 0.0008570204256534781,\n",
              "  'Análises Toxicológicas': 0.0008570204256534781,\n",
              "  'Fisiologia do estresse': 0.0008570204256534781,\n",
              "  'Morfofisiologia comparada': 0.0008570204256534781,\n",
              "  'Direito e Regulação da Indústria do Petróleo e Gás Natural': 0.0008570204256534781,\n",
              "  'Analise e Controle de Medicamentos': 0.0008570204256534781,\n",
              "  'Linguagem e práticas sociais': 0.0008570204256534781,\n",
              "  'Secagem ;Sistemas Particulados;Engenharia de alimentos;': 0.0007856020568490215,\n",
              "  'Automação Industrial e Controle de Processos;;;': 0.0007856020568490215,\n",
              "  'Processos Criativos e Práticas Interpretativas': 0.0007856020568490215,\n",
              "  'Doenças Metabólicas;;;': 0.0007856020568490215,\n",
              "  'Bioclimatologia': 0.0007856020568490215,\n",
              "  'Doenças metabólicas;;;': 0.0007856020568490215,\n",
              "  'Linguagem e práticas sociais;;;': 0.0007856020568490215,\n",
              "  'Estudos da Mídia e Práticas Sociais': 0.0007856020568490215,\n",
              "  'Desenvolvimento de Biprocessos': 0.0007856020568490215,\n",
              "  'Otimização de Sistemas de Potência;;;': 0.0007856020568490215,\n",
              "  'cerâmicas;compósitos cerâmicos;;': 0.0007856020568490215,\n",
              "  'Modelos Matemáticos e Sistemas Dinâmicos': 0.0007856020568490215,\n",
              "  'Práticas Pedagógicas e Currículo ': 0.0007856020568490215,\n",
              "  'Educação musical, cultura e sociedade': 0.0007856020568490215,\n",
              "  'Cidade e identidade': 0.0007856020568490215,\n",
              "  'Análises Clínicas;Bioquímica e Biologia Molecular;;': 0.0007856020568490215,\n",
              "  'Análises de Alimentos;;;': 0.0007856020568490215,\n",
              "  'Metaheurísticas;;;': 0.0007141836880445651,\n",
              "  'A cidade e as transformações do território': 0.0007141836880445651,\n",
              "  'Infância e Linguagem;;;': 0.0007141836880445651,\n",
              "  'Bacias Sedimentares;Geologia do petróleo;Geologia de Reservatórios;Neotectônica': 0.0007141836880445651,\n",
              "  'Poéticas da Representação': 0.0007141836880445651,\n",
              "  '30803012': 0.0007141836880445651,\n",
              "  'Deficiência, Reabilitação e Saúde;;;': 0.0007141836880445651,\n",
              "  '10303022': 0.0007141836880445651,\n",
              "  'Religiosidade; cultura popular': 0.0007141836880445651,\n",
              "  'Análise nutricional de Vitamina A e Vitamina E em populações.': 0.0007141836880445651,\n",
              "  'Análise Nutricional de População;Nutrição e Prevenção de Doenças Cronicas não Transmissíveis;;': 0.0007141836880445651,\n",
              "  'Otimização Combinatória;Metaheurística;Computação Evolucionária;': 0.0007141836880445651,\n",
              "  'Literatura e memória cultural;;;': 0.0007141836880445651,\n",
              "  'Fisioterapia Respiratória': 0.0007141836880445651,\n",
              "  'Fisioterapia Cardiorespiratória': 0.0007141836880445651,\n",
              "  'Glicoconjugados em invertebrados;;;': 0.0007141836880445651,\n",
              "  'Engenharia de Software;Teoria dos Grafos;Sistemas de Apoio à Decisão;Otimização': 0.0007141836880445651,\n",
              "  'Ética, Gênero, Cultura e Diversidade': 0.0007141836880445651,\n",
              "  'Saúde, Velhice e Envelhecimento.': 0.0007141836880445651,\n",
              "  'Relação entre memória e emocionalidade em modelos animais ': 0.0007141836880445651,\n",
              "  'Desenvolvimento tecnologico em saúde e enfermafem': 0.0007141836880445651,\n",
              "  'Matrizes vegetais para biodiesel': 0.0007141836880445651,\n",
              "  'Cultura, Poder e Representações Espaciais': 0.0007141836880445651,\n",
              "  'Ecossistemas dulcícolas;Ecofisiologia do fitoplâncton;Impacto ambiental;': 0.0007141836880445651,\n",
              "  'Toxicologia experimental': 0.0006427653192401085,\n",
              "  'Cuidar em saúde e em enfermagem': 0.0006427653192401085,\n",
              "  '50701037': 0.0006427653192401085,\n",
              "  'corpo e pedagogias da dança': 0.0006427653192401085,\n",
              "  'AVALIAÇÃO E INTERVENÇÃO FISIOTERAPÊUTICA CARDIORRESPIRATÓRIA NAS DOENÇAS AGUDAS E CRÔNICAS': 0.0006427653192401085,\n",
              "  'Controle em Modo Dual Adaptativo Robusto': 0.0006427653192401085,\n",
              "  'Redes Neurais;Processamento de Sinais;Processamento Inteligente de Informações;Processamento de Imagens': 0.0006427653192401085,\n",
              "  'Psicologia e Práticas Sociais': 0.0006427653192401085,\n",
              "  'Lectinas em moluscos;Lectinas em plantas;;': 0.0006427653192401085,\n",
              "  'Pesquisa em avaliação, Epidemiologia e Saúde': 0.0006427653192401085,\n",
              "  'Desenvolvimento e Avaliação de Medicamentos': 0.0006427653192401085,\n",
              "  'Meta-heurísticas': 0.0006427653192401085,\n",
              "  'Enfermagem;Saúde do Trabalhador;Educação em serviços de saúde;Recursos humanos': 0.0006427653192401085,\n",
              "  'Hidrogeologia e Geoquímica Ambiental': 0.0006427653192401085,\n",
              "  'Respostas Fisiológicas e Psicológicas ao Exercício Físico e à Neuromodulação': 0.0006427653192401085,\n",
              "  'Astronomia e Astrofísica Estelar': 0.0006427653192401085,\n",
              "  'História da Cidade e do Urbanismo;;;': 0.0006427653192401085,\n",
              "  'Educação e Inclusão Social em Contextos Escolares e não-Escolares': 0.0006427653192401085,\n",
              "  'Solos e Qualidade Ambiental': 0.0006427653192401085,\n",
              "  'Biodistribuição de radiofármacos em cirurgia;Cirurgia Experimental;;': 0.0006427653192401085,\n",
              "  'Desenvolvimento de Sistemas Dispersos;;;': 0.0006427653192401085,\n",
              "  'INFECÇÕES GENITAIS;PREVENÇÃO DO CÂNCER GENITAL;;': 0.0006427653192401085,\n",
              "  'Linguagem e Práticas Sociais': 0.0006427653192401085,\n",
              "  'Estética': 0.0006427653192401085,\n",
              "  'Desenvolvimento de formas farmaceuticas': 0.0005713469504356521,\n",
              "  'Constituição, processo e garantia de direitos': 0.0005713469504356521,\n",
              "  'Diferenças entre gêneros': 0.0005713469504356521,\n",
              "  'Movimento e Sociedade': 0.0005713469504356521,\n",
              "  'Diagnóstico, análise e intervenção nutricional de população': 0.0005713469504356521,\n",
              "  '40600009': 0.0005713469504356521,\n",
              "  'População e saúde;Saúde Coletiva;Saúde Materno Infantil;Modelagem em saúde e meio ambiente': 0.0005713469504356521,\n",
              "  'Utilização de alimentos alternativos regionais em dietas para suínos e aves': 0.0005713469504356521,\n",
              "  'Atenção à saúde dos grupos populacionais e de risco.': 0.0005713469504356521,\n",
              "  'Sistemas Integrados e Distribuídos;;;': 0.0005713469504356521,\n",
              "  'manifestações orais de doenças sistêmicas': 0.0005713469504356521,\n",
              "  'CÂNCER ORAL;;;': 0.0005713469504356521,\n",
              "  'População e saúde': 0.0005713469504356521,\n",
              "  'Prevenção e estudos clínicos em voz.': 0.0005713469504356521,\n",
              "  'Educação Inclusiva;;;': 0.0005713469504356521,\n",
              "  'Patologia de Organismos Aquáticos': 0.0005713469504356521,\n",
              "  'Secagem;Sistemas Particulados;;': 0.0005713469504356521,\n",
              "  'IMAGEAMENTO E MODELAGEM DE AFLORAMENTOS ANÁLOGOS A RESERVATÓRIOS PETROLÍFEROS': 0.0005713469504356521,\n",
              "  'Cultura, poder e representações espaciais': 0.0005713469504356521,\n",
              "  'Imunologia; Hematologia; Cancerologia;': 0.0005713469504356521,\n",
              "  'Imunopatologia e imunoterapia': 0.0005713469504356521,\n",
              "  'Epidemiologia e condições de vida e saúde da população': 0.0005713469504356521,\n",
              "  'Processos catalíticos;Reatores Químicos;Novos Materiais;Meio ambiente': 0.0005713469504356521,\n",
              "  'Funcionalidade de alimentos': 0.0005713469504356521,\n",
              "  'Biocombustíveis': 0.0005713469504356521,\n",
              "  'Corpo, Educação Física Escolar e Cultura de Movimento': 0.0005713469504356521,\n",
              "  'Produção e Desenvolvimento de Medicamentos;;;': 0.0005713469504356521,\n",
              "  'Interação Humano-Computador;Design de Interfaces de Usuário;Engenharia de Software;': 0.0005713469504356521,\n",
              "  'imunogenética': 0.0005713469504356521,\n",
              "  'Tratamento de Águas Residuárias': 0.0005713469504356521,\n",
              "  'Vigilância em Saúde': 0.0005713469504356521,\n",
              "  'ESTUDO DAS TECNOLOGIAS APLICADAS À ODONTOLOGIA': 0.0005713469504356521,\n",
              "  'Fitotecnia e fitossanidade': 0.0005713469504356521,\n",
              "  'Enfermagem, educação, saúde e cidadania': 0.0005713469504356521,\n",
              "  'cosmologia': 0.0005713469504356521,\n",
              "  'Sistemas Integrados e Distribuidos': 0.0005713469504356521,\n",
              "  'Literatura e memória cultural': 0.0005713469504356521,\n",
              "  'Meio ambiente, cultura e desenvolvimento': 0.0005713469504356521,\n",
              "  'Diagnóstico e epidemiologia das infecções fúngicas humanas': 0.0005713469504356521,\n",
              "  'Vitamina A;;;': 0.0005713469504356521,\n",
              "  'Direito e desenvolvimento na Economia Criativa': 0.0005713469504356521,\n",
              "  'Demografia;Saúde Coletiva;População e Saúde;': 0.0005713469504356521,\n",
              "  'Avaliação psicológica': 0.0005713469504356521,\n",
              "  'REDES E TRANSFERÊNCIA DA INFORMAÇÃO': 0.0005713469504356521,\n",
              "  'Educação, História, Cultura e Modernidade;;;': 0.0005713469504356521,\n",
              "  'Práticas pedagógicas e currículo': 0.0004999285816311955,\n",
              "  'Sistemas de Spins Localizados;Transição de Fase;Fenômenos Críticos;Sistemas Quasiperiódicos': 0.0004999285816311955,\n",
              "  'Biologia Molecular Aplicada ao Diagnóstico': 0.0004999285816311955,\n",
              "  'Estratégias de pensamento;Produção do conhecimento;;': 0.0004999285816311955,\n",
              "  'Formação docente;História da educação;Gênero e etnia;': 0.0004999285816311955,\n",
              "  'Lógicas Não-Clássicas;Lógica Computacional;Demonstração Interativa ou Automática de Teoremas;': 0.0004999285816311955,\n",
              "  'Métodos formais;Verificação formal;Prova automática de teoremas;Lógica computacional': 0.0004999285816311955,\n",
              "  'Poéticas da Modernidade e da Pós-Modernidade': 0.0004999285816311955,\n",
              "  'História da Cidade, do Território e do Urbanismo': 0.0004999285816311955,\n",
              "  'Estado e Políticas Públicas': 0.0004999285816311955,\n",
              "  'Projeto de Arquitetura;;;': 0.0004999285816311955,\n",
              "  'Migração;Desenvolvimento Urbano;Pequenas áreas;': 0.0004999285816311955,\n",
              "  'Epidemiologia e Terapêutica em Doenças Reumáticas': 0.0004999285816311955,\n",
              "  'Engenharia de Software;;;': 0.0004999285816311955,\n",
              "  'historia da cidade e do urbanismo;;;': 0.0004999285816311955,\n",
              "  'Arquitetura de software;Engenharia de software;;': 0.0004999285816311955,\n",
              "  'Atividade Farmacologia de Plantas': 0.0004999285816311955,\n",
              "  'Ecologia comportamental': 0.0004999285816311955,\n",
              "  'Secagem': 0.0004999285816311955,\n",
              "  'Automação;Instrumentação;Acionamento;': 0.0004999285816311955,\n",
              "  'Espectroscopia no Infravemelho Próximo e Quimiometria': 0.0004999285816311955,\n",
              "  'x;x;x;x': 0.0004999285816311955,\n",
              "  'Sistemas embarcados aplicados': 0.0004999285816311955,\n",
              "  'Estudos urbanos e regionais': 0.0004999285816311955,\n",
              "  'materiais e metalurgia;metalurgia do pó;;': 0.0004999285816311955,\n",
              "  'Doenças infecciosas e parasitárias;;;': 0.0004999285816311955,\n",
              "  'Fundações e estruturas de contenção': 0.0004999285816311955,\n",
              "  'Teoria da Constituição e concretização dos direitos fundamentais': 0.0004999285816311955,\n",
              "  'Controle de Qualidade de Medicamentos ': 0.0004999285816311955,\n",
              "  'SEMIOLOGIA E SEMIOTÉCNICA;;;': 0.0004999285816311955,\n",
              "  'Desenvolvimento de Biprocessos;Engenharia Bioquímica;Biotecnologia;': 0.0004999285816311955,\n",
              "  'Estudos linguísticos do texto': 0.0004999285816311955,\n",
              "  'Semiologia e semiotécnica': 0.0004999285816311955,\n",
              "  'Custo ;Custos Hospitalares;Controladoria Hospitalar;Gestão Hospitalar': 0.0004999285816311955,\n",
              "  'Enfermagem Médico Cirúrgica;;;': 0.0004999285816311955,\n",
              "  'Psicologia da saúde;Comportamento e Saúde;;': 0.0004999285816311955,\n",
              "  'Realidade Virtual;CAD;Simulação;CAE': 0.0004999285816311955,\n",
              "  'Projeção Populacional;Pequenas áreas;Estatística Espacial;Flutuações aleatórias': 0.0004999285816311955,\n",
              "  'Saúde, trabalho e atenção psicossocial': 0.0004999285816311955,\n",
              "  '60603003': 0.0004999285816311955,\n",
              "  'recursos hidricos;sedimentologia;saneamento ambiental;': 0.0004999285816311955,\n",
              "  'Automação de poços;Controle automático;Sistemas supervisórios;Simuladores': 0.0004999285816311955,\n",
              "  'Desenvolvimento rural;Políticas de Desenvolvimento;Projetos de Desenvolvimento Rural;': 0.0004999285816311955,\n",
              "  'COMPORTAMENTO E SAÚDE;;;': 0.0004999285816311955,\n",
              "  'Reabilitação Oral (convencional e sobre implante) e propriedades dos materiais odontológicos.': 0.0004999285816311955,\n",
              "  'Materiais nanoestrutuados, catalíse ambiental, processos catalíticos': 0.0004999285816311955,\n",
              "  'Proteção e Aterramento de Sistemas Elétricos;;;': 0.0004999285816311955,\n",
              "  'Distribuição e fatores determinantes dos agravos à saúde nas populações humanas': 0.0004999285816311955,\n",
              "  'Fisioterapia Cardiorrespiratória': 0.0004999285816311955,\n",
              "  'Enfermagem Médico-Cirúrgica;;;': 0.0004999285816311955,\n",
              "  'PERTURBAÇÕES LINEARES EM DENSIDADE;MODELOS ALTERNATIVOS DA COSMOLOGIA;CALCULO NUMÉRICO DA EVOLUÇÃO DE UMA PERTURBAÇÃO;': 0.0004999285816311955,\n",
              "  '40304000': 0.0004999285816311955,\n",
              "  'Enfermagem na saúde mental e coletiva': 0.0004999285816311955,\n",
              "  'Realidade Virtual': 0.0004999285816311955,\n",
              "  'Dor Orofacial e Disfunções Têmporo-Mandibulares: Epidemiologia, Etiologia, Diagnóstico e Tratamento': 0.0004999285816311955,\n",
              "  'Neuropsicologia do Desenvolvimento e da Aprendizagem': 0.0004999285816311955,\n",
              "  'Estudos do ambiente urbano e rural;;;': 0.0004999285816311955,\n",
              "  'Visão Computacional e Robótica': 0.0004999285816311955,\n",
              "  'Práticas de significação e sensibilidades': 0.0004999285816311955,\n",
              "  'Extração e fracionamento de extratos vegetais': 0.0004999285816311955,\n",
              "  'Atenção à saúde dos grupos populacionais e/ou de risco ;;;': 0.0004999285816311955,\n",
              "  'Movimentos Sociais e Educação;Novas Tecnologias aplicadas ao Ensino;Meio Ambiente e Educação Ambiental;': 0.0004999285816311955,\n",
              "  'Biotecnologia Aplicada ao Desenvolvimento de Novas Moléculas Terapêuticas': 0.0004999285816311955,\n",
              "  'Meio Ambiente e Qualidade de Vida': 0.0004999285816311955,\n",
              "  'Sistemas dedicados': 0.0004999285816311955,\n",
              "  'Desenvolvimento e caracterização de materiais dentários': 0.0004999285816311955,\n",
              "  'Educação Médica': 0.0004999285816311955,\n",
              "  'Processos psicossociais, organizações e trabalho': 0.0004999285816311955,\n",
              "  'Modelos cosmologicos com criação de matéria;Gravitação;;': 0.0004999285816311955,\n",
              "  'genetica molecular vegetal;;;': 0.0004999285816311955,\n",
              "  'Estudos e Pesquisas in-silico de Sistemas Biológicos, Modelagem de Ecossistemas, Nanoeletrônica Biológica': 0.00042851021282673904,\n",
              "  'Caracterização estrutural e farmacológica de novos glicosaminoglicanos sulfatados ': 0.00042851021282673904,\n",
              "  'Ambientes costeiros': 0.00042851021282673904,\n",
              "  'sistemas inteligentes': 0.00042851021282673904,\n",
              "  'Formação e Profissionalização Docente': 0.00042851021282673904,\n",
              "  'Processo de trabalho em saúde e enfermagem;;;': 0.00042851021282673904,\n",
              "  'Produção e Tecnologia de Sementes Florestais': 0.00042851021282673904,\n",
              "  'Empreendedorismo Tecnológico': 0.00042851021282673904,\n",
              "  'Semiologia e Semiotécnica;Dermatologia em Enfermagem;;': 0.00042851021282673904,\n",
              "  'Fitoterápicos;Métodos Analíticos;Desenvolvimento de Medicamentos;Otmização de Produtos e Processos': 0.00042851021282673904,\n",
              "  'Biologia celular. Caracterização estrutural e ultraestrutural.': 0.00042851021282673904,\n",
              "  'CISTOS E TUMORES ODONTOGÊNICOS ': 0.00042851021282673904,\n",
              "  'Educação de Jovens e Adultos e ao Longo da Vida ': 0.00042851021282673904,\n",
              "  'Relações da Pessoa-Trabalho e seus Efeitos na Saúde Mental;Avaliação Psicológica;;': 0.00042851021282673904,\n",
              "  'Práticas religiosas, festas e tradições populares;Dinâmica cultural urbana;;': 0.00042851021282673904,\n",
              "  'fisioterapia geriatrica e epidemiologia': 0.00042851021282673904,\n",
              "  'Processamento Gráfico e Inteligência Computacional': 0.00042851021282673904,\n",
              "  'Artes Cênicas e Espetacularidade;Cinema, Teatro e Gênero;Literatura e Poéticas da Pós-Modernidade;': 0.00042851021282673904,\n",
              "  'Novos Sistemas Terapêuticos': 0.00042851021282673904,\n",
              "  'HUMANESCÊNCIA E PEDAGOGIA VIVENCIAL': 0.00042851021282673904,\n",
              "  'Ações promocionais de atenção a saúde do adulto no contexto da saúde mental': 0.00042851021282673904,\n",
              "  'Ecologia, taxonomia, fisiologia e toxicologia de cianobactérias': 0.00042851021282673904,\n",
              "  'EPIDEMIOLOGIA DO ENVELHECIEMENTO E FISIOTERAPIA GERIÁTRICA': 0.00042851021282673904,\n",
              "  'Dinâmica da magnetização e ruído Barkhausen': 0.00042851021282673904,\n",
              "  'Gastroenterologia Pediátrica;Nutrição Pediátrica;;': 0.00042851021282673904,\n",
              "  'Gestão e financiamento da educação;Educação em contextos urbanos e rurais;Política de formação de professor;': 0.00042851021282673904,\n",
              "  'Estudos da Mídia e Produção de Sentido': 0.00042851021282673904,\n",
              "  'Poética da Modernidade e da Pós-modernidade': 0.00042851021282673904,\n",
              "  'CIDADES CONTEMPORÂNEAS, GESTÃO URBANA E POLÍTICAS PÚBLICAS': 0.00042851021282673904,\n",
              "  'Controle de Qualidade de Medicamentos': 0.00042851021282673904,\n",
              "  'Políticas sociais e prática do psicólogo;;;': 0.00042851021282673904,\n",
              "  'Literatura e Memória Cultural': 0.00042851021282673904,\n",
              "  'Enfermagem na Vigilância à Saúde': 0.00042851021282673904,\n",
              "  'SERVIÇO SOCIAL, TRABALHO E QUESTÃO SOCIAL': 0.00042851021282673904,\n",
              "  'Saúde da Mulher': 0.00042851021282673904,\n",
              "  'Ensino de Leitura e Literatura': 0.00042851021282673904,\n",
              "  'Termodinâmica e Reatores Catalíticos': 0.00042851021282673904,\n",
              "  'Mecanismos de defesa de plantas': 0.00042851021282673904,\n",
              "  'cerâmicos': 0.00042851021282673904,\n",
              "  'Produção de organismos aquáticos ornamentais de água doce': 0.00042851021282673904,\n",
              "  'SEMIOLOGIA E SEMIOTÉCNICA': 0.00042851021282673904,\n",
              "  'Valores, Significado e Comportamento no Trabalho;;;': 0.00042851021282673904,\n",
              "  'INTERAÇÃO GENE-NUTRIENTE;VALOR BIOLÓGICO DE ALIMENTOS;INTERAÇÃO GENE-NUTRIENTE-EXERCÍCIO;': 0.00042851021282673904,\n",
              "  'políticas sociais e prática do psicólogo': 0.00042851021282673904,\n",
              "  'Análises de Alimentos;Tecnologia de Alimentos;;': 0.00042851021282673904,\n",
              "  'Avaliação e intervenção fisioterapêutica na saúde da mulher': 0.00042851021282673904,\n",
              "  'Bioecologia de insetos vetores': 0.00042851021282673904,\n",
              "  'Biomecânica, avaliação e tratamento do aparelho locomotor nos ciclos da vida': 0.00042851021282673904,\n",
              "  'Diagnóstico, Análise e Intervenção Nutricional de População': 0.00042851021282673904,\n",
              "  'Meio ambiente': 0.00042851021282673904,\n",
              "  'Caleidoscópio da educação na saúde e na enfermagem': 0.00042851021282673904,\n",
              "  'Controle Avançado de Processos Industriais': 0.00042851021282673904,\n",
              "  'Ecologia e Biodiversidade de Insetos ': 0.00042851021282673904,\n",
              "  'TRABALHO EM SAÚDE': 0.00042851021282673904,\n",
              "  'Bases anatômicas da ritmicidade circadiana;;;': 0.00042851021282673904,\n",
              "  'neuropsicologia da aprendizagem': 0.00042851021282673904,\n",
              "  'Sistemas Embarcados': 0.00042851021282673904,\n",
              "  'Processamento e aplicação de resíduos': 0.00042851021282673904,\n",
              "  'Saúde Mental e Trabalho;;;': 0.00042851021282673904,\n",
              "  'Inovação Tecnológica em Saúde e Reabilitação': 0.00042851021282673904,\n",
              "  'Imunopatologia e Imunoterapia': 0.00042851021282673904,\n",
              "  'Política e Projeto da Habitação Social ': 0.00042851021282673904,\n",
              "  'Polissacarídeos ácidos de algas marinhas;;;': 0.00042851021282673904,\n",
              "  'Cistos e tumores odontogênicos;;;': 0.00042851021282673904,\n",
              "  'Estudo da Corrosão em Dutos transportadores de Gás;Avaliação de Inibidores de Corrosão;Estudo da Corrosão em meios acido': 0.00042851021282673904,\n",
              "  'Direito e Desenvolvimento na gestão de políticas públicas': 0.00042851021282673904,\n",
              "  'Conforto Ambiental e Eficiência Energética': 0.00042851021282673904,\n",
              "  'Bioecologia da reprodução dos peixes': 0.00042851021282673904,\n",
              "  'Políticas públicas': 0.00042851021282673904,\n",
              "  'Avaliação da toxicidade de plantas': 0.00042851021282673904,\n",
              "  'Enfermagem na Vigilância à Saúde.': 0.00042851021282673904,\n",
              "  'xx;xx;xx;xx': 0.00042851021282673904,\n",
              "  'Geomorfologia Fluvial;Densidade de Drenagem;Planejamento Ambiental;Bacias Hidrográficas': 0.00042851021282673904,\n",
              "  'Sistematização da Assistência de Enfermagem': 0.00042851021282673904,\n",
              "  ' Movimento e sociedade ': 0.00042851021282673904,\n",
              "  'Mercado de trabalho': 0.00042851021282673904,\n",
              "  'análise de alimentos;;;': 0.00042851021282673904,\n",
              "  'Citogenética e Genética de peixes': 0.00042851021282673904,\n",
              "  'Política e Práxis da Educação - PPGEd/UFRN - Centro de Estudos e Pesquisas em Políticas Públicas em Educação': 0.00042851021282673904,\n",
              "  'História da Metafísica;Ética e Metafísica;História da Filosofia Antiga;': 0.00042851021282673904,\n",
              "  'Inteligência Computacional e Sistemas de Apoio à Decisão em Ciências Agrárias': 0.00042851021282673904,\n",
              "  'Educação Matemática;História da Matemática;Formação de Professores;Ensino e aprendizagem': 0.00042851021282673904,\n",
              "  'indústria de petróleo e petroquímica': 0.00042851021282673904,\n",
              "  'Sistemas Distribuídos;Redes de Computadores;Arquitetura de Software;': 0.00042851021282673904,\n",
              "  'Erosão e estabilidade de encostas': 0.00042851021282673904,\n",
              "  'AVALIAÇÃO DE POLÍTICAS DE SAÚDE': 0.00042851021282673904,\n",
              "  'Epidemiologia e sistemas de informação em saúde;;;': 0.00042851021282673904,\n",
              "  'Imunoterapia com glucana;Resposta imune a infecções e alergia;;': 0.00042851021282673904,\n",
              "  'Imunoteraoia com glucana;Resposta imune a infecções e alergia;;': 0.00042851021282673904,\n",
              "  'Práticas interpretativas': 0.00042851021282673904,\n",
              "  'Formação e profissionalização docente;Narrativas autobiográficas;O adulto em formação;Identidade/representação de si': 0.00042851021282673904,\n",
              "  'Astrofísica Estelar: Atividade Magnética, Nuclessíntese, Rotacão ;Multiplicidade e Planetologia.;Instrumentacão em Astro': 0.00042851021282673904,\n",
              "  'Direito e regulação do petróleo e do gás natural': 0.00042851021282673904,\n",
              "  '10701095': 0.00042851021282673904,\n",
              "  'a;a;;': 0.00042851021282673904,\n",
              "  'Arqueologia da Memória': 0.00042851021282673904,\n",
              "  'xCorporeidade e Educação;x;x;': 0.00042851021282673904,\n",
              "  'Cidade, Habitação e Contemporaneidade;;;': 0.00042851021282673904,\n",
              "  'Estruturas de concreto e alvenaria': 0.00042851021282673904,\n",
              "  'Polissacarídeos de algas marinhas e fungos': 0.00042851021282673904,\n",
              "  'Educação e processo de trabalho em Saúde/Enfermagem': 0.00042851021282673904,\n",
              "  'Processos Estocásticos - Climatologia Estocástica': 0.00042851021282673904,\n",
              "  'Prevenção e estudos clínicos em deglutição': 0.00042851021282673904,\n",
              "  'Cinema;Análise da Imagem;Comunicação;Urbanismo': 0.00042851021282673904,\n",
              "  'Simulação Numérica do Desempenho Mecânico do Concreto Armado ': 0.00042851021282673904,\n",
              "  'gestão, organização de serviços e políticas de saúde;;;': 0.00035709184402228254,\n",
              "  'IMPLANTODONTIA (CIRUGIA E REPARO ÓSSEO), PRÓTESE DENTÁRIA (CONVENCIONAL E SOBRE IMPLANTES) E PROPRIEDADES DOS MATERIAIS ODONTOLÓGICOS': 0.00035709184402228254,\n",
              "  'Desenvolvimento Urbano;;;': 0.00035709184402228254,\n",
              "  'Soluções para Sistemas e Redes de Comunicação': 0.00035709184402228254,\n",
              "  'Território, saúde e educação': 0.00035709184402228254,\n",
              "  'movimento e sociedade': 0.00035709184402228254,\n",
              "  'Imagens e Tecnologia da Comunicação': 0.00035709184402228254,\n",
              "  'Cronobiologia;Neurobiologia;Psicobiologia;Medicina Comportamental do Sono': 0.00035709184402228254,\n",
              "  'Tecnologia de leite e produtos lácteos': 0.00035709184402228254,\n",
              "  'Enzimas de Invertebrados;;;': 0.00035709184402228254,\n",
              "  'Física Estatística;Sistemas Complexos;Polímeros e Simulações;Análise de Dados': 0.00035709184402228254,\n",
              "  'Cuidar em Saúde e em Enfermagem': 0.00035709184402228254,\n",
              "  'Materiais magnéticos laminados;Partículas magnéticas nanométricas;;': 0.00035709184402228254,\n",
              "  'Recuperação e Purificação de Biomoléculas;Processos Bioquímicos;;': 0.00035709184402228254,\n",
              "  'comportamento e ecologia animal;;;': 0.00035709184402228254,\n",
              "  'Escrita e Oralidade;Histórias de Vida (identidades);Ideias dos dários de campo;': 0.00035709184402228254,\n",
              "  'Gestão Pública, Políticas de Inovação, Parcerias Público-Privada e Gestão Social': 0.00035709184402228254,\n",
              "  'História e filosofia da educação': 0.00035709184402228254,\n",
              "  'Sistemas Dispersos;Tecnologia Farmacêutica;;': 0.00035709184402228254,\n",
              "  'Geologia Sedimentar e Marinha': 0.00035709184402228254,\n",
              "  'Controle Estatístico de Qualidade': 0.00035709184402228254,\n",
              "  'Cuidar em saúde materno-infantil': 0.00035709184402228254,\n",
              "  'Equilíbrio de fases e fotoquímica': 0.00035709184402228254,\n",
              "  'genetica vegetal;biologia molecular de plantas;;': 0.00035709184402228254,\n",
              "  'Biologia Molecular de Papilomavírus e Câncer Cervical;Virologia Aplicada a Saúde Píblica;;': 0.00035709184402228254,\n",
              "  'Engenharia Sanitária e Ambiental': 0.00035709184402228254,\n",
              "  'Educação Matemática': 0.00035709184402228254,\n",
              "  'Psicofarmacologia': 0.00035709184402228254,\n",
              "  'Cultura e Fenômeno Religioso': 0.00035709184402228254,\n",
              "  'Monitoramento ambiental': 0.00035709184402228254,\n",
              "  'AVALIACAO E INTERVENCAO FISIOTERAPEUTICA NA SAÚDE DA MULHER': 0.00035709184402228254,\n",
              "  'Impactos ambientais;Geotecnia;Estudos do solo;Computação aplicada': 0.00035709184402228254,\n",
              "  'Anemias hereditárias': 0.00035709184402228254,\n",
              "  'Manifestações Orais das Doenças sistêmicas': 0.00035709184402228254,\n",
              "  'Processos de separaçã/reação': 0.00035709184402228254,\n",
              "  'Águas Urbanas': 0.00035709184402228254,\n",
              "  'Estratégias para o ensino de línguas estrangeiras': 0.00035709184402228254,\n",
              "  'DESENVOLVIMENTO E AVALIAÇÃO DE MEDICAMENTOS': 0.00035709184402228254,\n",
              "  'Materiais e processos construtivos': 0.00035709184402228254,\n",
              "  'Síntese de Materiais Catalíticos': 0.00035709184402228254,\n",
              "  'Estudo da Mídia e Práticas Sociais': 0.00035709184402228254,\n",
              "  'Ictioprasitologia;Peixes marinhos;;': 0.00035709184402228254,\n",
              "  'Pensamento comunicacional no RN: Mídia e Memória': 0.00035709184402228254,\n",
              "  'Génetica e melhoramento de espécies florestais': 0.00035709184402228254,\n",
              "  'Estudos de avaliação, Epidemiologia e Saúde': 0.00035709184402228254,\n",
              "  'Políticas de Saúde e Processo de Trabalho em Saúde': 0.00035709184402228254,\n",
              "  'Análise de alimentos;;;': 0.00035709184402228254,\n",
              "  'Políticas Públicas de Saúde e Processo de Trabalho em Saúde;;;': 0.00035709184402228254,\n",
              "  'Sistemas de Computação;Robótica Espacial;Processamento de Imagens;': 0.00035709184402228254,\n",
              "  'Algoritmos Experimentais;;;': 0.00035709184402228254,\n",
              "  'Ensino e Estratégias de Gestão': 0.00035709184402228254,\n",
              "  'Cistos e Tumores Odontogênicos': 0.00035709184402228254,\n",
              "  'Endocrinologia Reprodutiva;Saúde Reprodutiva;Anovulação crônica;': 0.00035709184402228254,\n",
              "  'Semiologia e Semiotécnica;;;': 0.00035709184402228254,\n",
              "  'Organização, plasticidade e estabilidade do ciclo sono vigília;;;': 0.00035709184402228254,\n",
              "  'Distribuição e fatores determinantes dos agravos à saúde bucal nas populações humanas ': 0.00035709184402228254,\n",
              "  'Evolução Litosférica e Processos Geodinâmicos ': 0.00035709184402228254,\n",
              "  'CÂNCER ORAL': 0.00035709184402228254,\n",
              "  'Ictiologia': 0.00035709184402228254,\n",
              "  'Citogenética;Genética de populações de peixes;;': 0.00035709184402228254,\n",
              "  'Produtos naturais e/ou sintéticos e radiobiologia experimental': 0.00035709184402228254,\n",
              "  'Sistemática de Fanerógamas;Florística;;': 0.00035709184402228254,\n",
              "  'Diagnóstico e intervenção em saúde coletiva': 0.00035709184402228254,\n",
              "  'Energia renováveis, Biocombustíveis': 0.00035709184402228254,\n",
              "  'INTERVALOS DE REFERÊNCIA': 0.00035709184402228254,\n",
              "  'engenharia de software': 0.00035709184402228254,\n",
              "  'Ornitologia': 0.00035709184402228254,\n",
              "  'Cimentação de poços de petróleo': 0.00035709184402228254,\n",
              "  'Nanotecnologia farmacêutica': 0.00035709184402228254,\n",
              "  'Materiais Nanoestruturados ': 0.00035709184402228254,\n",
              "  'Robótica e Visão Computacional': 0.00035709184402228254,\n",
              "  'Química de Produtos Naturais': 0.00035709184402228254,\n",
              "  'Biotecnologia aplicada ao desenvolvimento de novas moléculas terapêuticas': 0.00035709184402228254,\n",
              "  'Farmacologia;Farmácia Clínica;;': 0.00035709184402228254,\n",
              "  'Saúde Mental;Epidemiologia;;': 0.00035709184402228254,\n",
              "  'Meio Ambiente': 0.00035709184402228254,\n",
              "  'Sistemática, Ecologia e Conservação de Anfíbios e Répteis': 0.00035709184402228254,\n",
              "  'Linguagem e práticas discursivas': 0.00035709184402228254,\n",
              "  'Sistemas Particulados;Secagem de Alimentos;Ciências de Alimentos;': 0.00035709184402228254,\n",
              "  'REABILITAÇÃO ORAL (CONVENCIONAL E SOBRE IMPLANTES) E PROPRIEDADES DOS MATERIAIS ODONTOLÓGICOS': 0.00035709184402228254,\n",
              "  'Câncer Oral': 0.00035709184402228254,\n",
              "  'Funcionalização de superfícies para aplicações biomédicas  ': 0.00035709184402228254,\n",
              "  'Controle automático;Automação industrial;;': 0.00035709184402228254,\n",
              "  'Diagnóstico e Epidemiologia das Infecções Fúngicas Humanas': 0.00035709184402228254,\n",
              "  'Toxicologia; farmacologia': 0.00035709184402228254,\n",
              "  'Polissacarídeos ácidos de algas ;;;': 0.00035709184402228254,\n",
              "  'Organização espacial e desenvolvimento': 0.00035709184402228254,\n",
              "  'Robótica;Inteligência Artificial;Visão Computacional;Controle de Sistemas Não-Lineares': 0.00035709184402228254,\n",
              "  'Fotoquímica;Meio Ambiente;Tensoativo;Desenvolvimento de Processos': 0.00035709184402228254,\n",
              "  'Semiologia E Semiotécnica': 0.00035709184402228254,\n",
              "  'Modelagem computacional de sistemas complexos': 0.00035709184402228254,\n",
              "  'reparo de DNA;biologia molecular de plantas;;': 0.00035709184402228254,\n",
              "  'Pesquisas em Filosofia e Teoria do Direito;;;': 0.00035709184402228254,\n",
              "  'Jatos Astrofisicos;Simulacao Numerica Hidrodinamica;Radio Fontes Extragalacticas;Astrofisica de Altas Energias': 0.00035709184402228254,\n",
              "  'biotecnologia;sistemas particulados;secagem de pastas e suspensões;': 0.00035709184402228254,\n",
              "  'AS ATIVIDADES ADMINISTRATIVAS DO ESTADO BRASILEIRO': 0.00035709184402228254,\n",
              "  'Saúde do trabalhador': 0.00035709184402228254,\n",
              "  'Modelagem de sistemas de produção': 0.00035709184402228254,\n",
              "  'Estudo da Corrosão em Dutos transportadores de Gás, Petróleo e Derivados': 0.00035709184402228254,\n",
              "  'Cosmologia Física': 0.00035709184402228254,\n",
              "  'Desenvolvimento humano e saúde': 0.00035709184402228254,\n",
              "  'ESTADO, SOCIEDADE, POLÍTICAS SOCIAIS E DIREITOS': 0.00035709184402228254,\n",
              "  'Biotecnologia e Processos Biotecnológicos  ': 0.00035709184402228254,\n",
              "  'história da cidade;evolução dos espaços urbanos;fundação urbana;': 0.00035709184402228254,\n",
              "  'Envelhecimento populacional;Mortalidade;População e Saúde;Mortalidade por causas': 0.00035709184402228254,\n",
              "  'Desenvolvimento de sistemas de liberação controlada;Matérias-primas de interesse farmacêutico;;': 0.00035709184402228254,\n",
              "  'Processos de Fabricação (Soldagem)': 0.00035709184402228254,\n",
              "  'Psicologia e Saúde;;;': 0.00035709184402228254,\n",
              "  'Serviço Social e organização do trabalho em serviços sociais;;;': 0.00035709184402228254,\n",
              "  'Química Inorgânica, materiais cerâmicos': 0.00035709184402228254,\n",
              "  'Problemas Inversos': 0.00035709184402228254,\n",
              "  'Modelos Lineares Generalizados': 0.00035709184402228254,\n",
              "  'Redes de Computadores e Sistemas Distribuídos': 0.00035709184402228254,\n",
              "  'Sociologia econômica': 0.00035709184402228254,\n",
              "  'Espectroscopia Estelar': 0.00035709184402228254,\n",
              "  'Grupo de Estudos e Pesquisas em Modelagem e Simulação Empresarial': 0.00035709184402228254,\n",
              "  'Sistemas de produção de leite;Qualidade de leite;Sociologia;Produtos lácteos': 0.00035709184402228254,\n",
              "  'Produção, tecnologia e fisiologia de sementes com potencial para a produção de biodiesel.': 0.00035709184402228254,\n",
              "  'Processos de separação;;;': 0.00035709184402228254,\n",
              "  '10507132': 0.00035709184402228254,\n",
              "  'Mecânica das estruturas': 0.00035709184402228254,\n",
              "  'Energia Eólica para a Produção de Energia Elétrica': 0.00035709184402228254,\n",
              "  'PRÁTICAS PEDAGÓGICAS E CURRÍCULO;;;': 0.00035709184402228254,\n",
              "  'História Intelectual': 0.00035709184402228254,\n",
              "  'farmacogenética': 0.00035709184402228254,\n",
              "  'Neurobiologia Celular & Molecular': 0.00035709184402228254,\n",
              "  'Práticas sociais com crianças e adolescentes;;;': 0.00035709184402228254,\n",
              "  'Educação Musical, Cultura e Sociedade': 0.00035709184402228254,\n",
              "  'reparo de DNA;meningite bacteriana;;': 0.00035709184402228254,\n",
              "  'Análise de alimentos': 0.00035709184402228254,\n",
              "  'Segurança do Paciente': 0.00035709184402228254,\n",
              "  'políticas públicas;sociologia urbana;desenvolvimento local;economia local': 0.00035709184402228254,\n",
              "  'Distribuição e fatores determinantes dos agravos à saúde bucal nas populações humanas;;;': 0.00035709184402228254,\n",
              "  'Endocrinologia Comportamental': 0.00035709184402228254,\n",
              "  'Eficiência energética;Conforto térmico;Construção civil;': 0.00035709184402228254,\n",
              "  'ANÁLISE DE ALIMENTOS': 0.00035709184402228254,\n",
              "  'Sistemática;Diversidade e Conservação de Vegetais Fanerógamos;Florística;': 0.00035709184402228254,\n",
              "  'Sistemas de Controle;Controle Inteligente;Otmização;Controle de Processos Industriais': 0.00035709184402228254,\n",
              "  'Lógica e epistemologia;;;': 0.00035709184402228254,\n",
              "  'Gestão e políticas físico-territoriais ': 0.00035709184402228254,\n",
              "  'Termodinâmica e Equilíbrio de Fases': 0.00035709184402228254,\n",
              "  'Análise numérica e Novos Materiais': 0.00035709184402228254,\n",
              "  'Processos de formação cultural': 0.00035709184402228254,\n",
              "  'Indicadores de saúde': 0.00035709184402228254,\n",
              "  'Adoção e Uso de Tecnologia de Informação': 0.00035709184402228254,\n",
              "  'Comportamento e consumo alimentar': 0.00035709184402228254,\n",
              "  'Métodos analíticos fundamentais e aplicados ': 0.00035709184402228254,\n",
              "  'Abordagem evolutiva ao estudo do comportamento humano': 0.00035709184402228254,\n",
              "  'Turismo e Desenvolvimento Regional; Gestao em Turismo': 0.00035709184402228254,\n",
              "  'AVALIAÇÃO E ATENÇÃO FISIOTERAPÊUTICA EM SAÚDE DA MULHER': 0.00035709184402228254,\n",
              "  'Meio ambiente e desenvolvimento': 0.00035709184402228254,\n",
              "  'Fisica da Matéria Condensada Teórica;;;': 0.00035709184402228254,\n",
              "  'Avaliação e intervenção no sistema musculoesquelético': 0.00035709184402228254,\n",
              "  'Produção de biodiesel': 0.00035709184402228254,\n",
              "  'Etica;;;': 0.00035709184402228254,\n",
              "  'Engenharia Ambiental;Tratamento de Efluentes Líquidos;Processos químicos de separação;Método da Inversão de Fases': 0.00035709184402228254,\n",
              "  'EPIDEMIOLOGIA CLÍNICA;TERAPÊUTICA CLÌNICA;;': 0.00035709184402228254,\n",
              "  'enfermagem na vigilância à saúde': 0.00035709184402228254,\n",
              "  'processamento de linguagem natural': 0.00035709184402228254,\n",
              "  'Sono e memória': 0.00035709184402228254,\n",
              "  'processo de separação': 0.00035709184402228254,\n",
              "  'Comportamento e Saúde': 0.00035709184402228254,\n",
              "  'Educação Especial;;;': 0.00035709184402228254,\n",
              "  'ANÁLISE NUTRICIONAL DE POPULAÇÃO': 0.00035709184402228254,\n",
              "  'Geomorfologia e dinâmica ambiental ': 0.00035709184402228254,\n",
              "  'Desenvolvimento de sistemas de liberação controlada;Pré-formulação de formas farmacêuticas sólidas;;': 0.00035709184402228254,\n",
              "  'regulação do setor transporte;aspectos ambientais no transporte;aspectos sociais do transporte;economia dos transportes': 0.00035709184402228254,\n",
              "  'Escolha do alimento e competição alimentar em primatas': 0.00035709184402228254,\n",
              "  '20500009': 0.00035709184402228254,\n",
              "  'Enfermagem nos serviços de saúde': 0.00035709184402228254,\n",
              "  'Desidratação de frutas e hortaliças;Cinética de secagem e modelagem ;Aproveitamento de resíduos;': 0.00035709184402228254,\n",
              "  'Neurobiologia de Sistemas e Cognição': 0.00035709184402228254,\n",
              "  'Tecnologia de tensoativos aplicada a petroleo;;;': 0.00035709184402228254,\n",
              "  'Modulação Hormonal do Cuidado Parental': 0.00035709184402228254,\n",
              "  'neuropsicofarmacologia': 0.00035709184402228254,\n",
              "  'Cosmologia física.': 0.00035709184402228254,\n",
              "  'Saberes e práticas': 0.00035709184402228254,\n",
              "  'Controle de Qualidade de Medicamentos;Equivalêcia Farmacêutica;BPL;': 0.00035709184402228254,\n",
              "  'Teoria e análise linguística': 0.00035709184402228254,\n",
              "  'Poéticas da modernidade e pós-modernidade;Literatura Brasileira;Filosofia e estética;Teorias críticas': 0.00035709184402228254,\n",
              "  'Comportamento à Fadiga em Compósitos Poliméricos - Modelagem por RNA': 0.00035709184402228254,\n",
              "  'Infecção em cirurgia;;;': 0.00035709184402228254,\n",
              "  'vigilância em saúde': 0.00035709184402228254,\n",
              "  'a;a;a;': 0.00035709184402228254,\n",
              "  'Discurso, cognição e interação ': 0.00035709184402228254,\n",
              "  'fluidodinâmica computacional; mecanica dos fluidos; aeroespacial': 0.00035709184402228254,\n",
              "  'Práticas sócioeducativas, História e Memória, Políticas de Transferência de Renda ': 0.00035709184402228254,\n",
              "  'Desempenho Cardiorrespiratório nas Doenças Crônicas do Sistema Respiratório, Cardiovascular e Obesidade': 0.00035709184402228254,\n",
              "  'Geotecnologias Aplicadas': 0.00035709184402228254,\n",
              "  'Biomecânica, avaliação e tratamento do aparelho locomotor nos ciclos da vida.': 0.00035709184402228254,\n",
              "  'Concepção de Sistemas Digitais;;;': 0.00035709184402228254,\n",
              "  'CICATRIZAÇÃO DAS FERIDAS CIRÚRCICAS': 0.00035709184402228254,\n",
              "  'membranes poliméricas': 0.00035709184402228254,\n",
              "  'Biologia Populacional e Genética de Moscas-das-frutas;;;': 0.00035709184402228254,\n",
              "  'FILOSOFIAS DO CORPO E DO MOVIMENTO HUMANO': 0.00028567347521782604,\n",
              "  'Atenção à saúde dos grupos populacionais e/ou de risco;;;': 0.00028567347521782604,\n",
              "  'Filosofia da Linguagem': 0.00028567347521782604,\n",
              "  'Toxicologia e Saúde': 0.00028567347521782604,\n",
              "  'EDUCAÇÃO, POLÍTICAS E PRÁXIS EDUCATIVA': 0.00028567347521782604,\n",
              "  'Hidrogeoquímica;Qualidade das águas;;': 0.00028567347521782604,\n",
              "  'prospecção de genes e proteínas': 0.00028567347521782604,\n",
              "  'Avaliação do Desempenho Humano': 0.00028567347521782604,\n",
              "  'BIOECOLOGIA DE PARASITOS E VETORES': 0.00028567347521782604,\n",
              "  'Salinidade': 0.00028567347521782604,\n",
              "  'Percepção ambiental;Bioclimatologia;;': 0.00028567347521782604,\n",
              "  'SAÚDE MENTAL': 0.00028567347521782604,\n",
              "  'Biofísica Quântica Molecular': 0.00028567347521782604,\n",
              "  'História da Metafísica': 0.00028567347521782604,\n",
              "  'Ecologia aplicada as macroalgas ;Ecofisiologia de macroalgas;Cultivo integrado e bioremediação;Caracterização de polissa': 0.00028567347521782604,\n",
              "  'Relações interétnicas e grupos sociais coloniais': 0.00028567347521782604,\n",
              "  'processos de separaçao;termodinamica de processos;termodinamica quimica;': 0.00028567347521782604,\n",
              "  'Epidemiologia e enfermagem em situações clínico-cirúrgicas': 0.00028567347521782604,\n",
              "  '40601005': 0.00028567347521782604,\n",
              "  'Educação especial e educação inclusiva': 0.00028567347521782604,\n",
              "  'Geoprocessamento e Sistemas de Informações': 0.00028567347521782604,\n",
              "  'Dança e Evolucionismo': 0.00028567347521782604,\n",
              "  'Logica': 0.00028567347521782604,\n",
              "  'Comportamento Reprodutivo de Crustáceos': 0.00028567347521782604,\n",
              "  'Gênero, Educação e Literatura;Formação da Leitora;Práticas de Leitura e Educação;Gênero e Representações': 0.00028567347521782604,\n",
              "  'Finanças públicas e desenvolvimento regional': 0.00028567347521782604,\n",
              "  'Análise de dados': 0.00028567347521782604,\n",
              "  'Saude Coletiva;Distribuição espacial de indicadores sociossanitários;;': 0.00028567347521782604,\n",
              "  'Estado e representação política;Pensamento social;;': 0.00028567347521782604,\n",
              "  'Pedagogias da cena: corpo e processos de criação': 0.00028567347521782604,\n",
              "  'Cerâmicas;Vitrocerâmicas;Novos Materiais;Cerâmicas Avançadas': 0.00028567347521782604,\n",
              "  'Organizações e Comportamento Organizacional;;;': 0.00028567347521782604,\n",
              "  'Mineralogia ;Petrografia sedimentar;Paleontologia;': 0.00028567347521782604,\n",
              "  'Desenvolvimento de Formas Farmacêuticas ;;;': 0.00028567347521782604,\n",
              "  'hipertensão na gravidez;morbimortalidade materno-fetal;;': 0.00028567347521782604,\n",
              "  'Ecologia de comunidades;Biogeografia;Conservação da biodiversidade;': 0.00028567347521782604,\n",
              "  'Direito e desenvolvimento: aspectos conceituais': 0.00028567347521782604,\n",
              "  'geociencias e uso do solo': 0.00028567347521782604,\n",
              "  'História,Educação, Cultura e Modernidade;;;': 0.00028567347521782604,\n",
              "  'Gestão e Políticas Fïsico-Territoriais': 0.00028567347521782604,\n",
              "  'Dor Orofacial e Disfunções Temporomandibulares: Epidemiologia, etiologia, diagnóstico e tratamento': 0.00028567347521782604,\n",
              "  'Biofísica Quântica Molecular ': 0.00028567347521782604,\n",
              "  'Geografia Cultural': 0.00028567347521782604,\n",
              "  'CONTROLADORIA;MODERNIZAÇÃO DA GESTÃO': 0.00028567347521782604,\n",
              "  'QUIMICA E FUNÇAO DE PROTEINAS BIOATIVAS;;;': 0.00028567347521782604,\n",
              "  'Neoplatonismo;Heidegger;Escola de Kioto;': 0.00028567347521782604,\n",
              "  '21103003': 0.00028567347521782604,\n",
              "  'Processamento de imagens': 0.00028567347521782604,\n",
              "  'Epidemiologia Clinica;;;': 0.00028567347521782604,\n",
              "  'estado e políticas públicas': 0.00028567347521782604,\n",
              "  'Práticas de Significação e Sensibilidades': 0.00028567347521782604,\n",
              "  'Estudos e Pesquisas in-silico de Sistemas Biológicos, Modelagem de Ecossistemas, Nanoeletrônica Biológica ': 0.00028567347521782604,\n",
              "  'Plasticidade Morfofuncional dos Sistemas Orgânicos. Microscopia Celular e Tecidual.': 0.00028567347521782604,\n",
              "  'Configurações de equilíbrio e Excitações de Sistemas Magnéticos.;;;': 0.00028567347521782604,\n",
              "  'Sistemática e Ecologia de Fungos': 0.00028567347521782604,\n",
              "  'Corpo, Educação Física Escolar e Cultura de Movimento. ': 0.00028567347521782604,\n",
              "  'Produção animal;Ambiência;Bioclimatologia;Comportamento animal': 0.00028567347521782604,\n",
              "  'METODOLOGIAS E LINGUAGENS CONTEMPORÂNEAS NO ENSINO DE GEOGRAFIA': 0.00028567347521782604,\n",
              "  'Evolução de Software': 0.00028567347521782604,\n",
              "  'Humanização e cuidado das práticas em saúde': 0.00028567347521782604,\n",
              "  'CADEIAS DE MARKOV;ALGORITMOS ESTOCASTICOS;ALGORITMOS GENETICOS;MODELAGEM MATEMATICA': 0.00028567347521782604,\n",
              "  'modelagem climática': 0.00028567347521782604,\n",
              "  'Desenvolvimento de novos materiais': 0.00028567347521782604,\n",
              "  'Tecnologia Química;Petróleo e Petroquímica;;': 0.00028567347521782604,\n",
              "  'Educação profissional': 0.00028567347521782604,\n",
              "  'Análise de Dados Educacionais': 0.00028567347521782604,\n",
              "  'a;a;a;a': 0.00028567347521782604,\n",
              "  'Lógica;Filosofia Analítica;Epistemologia;': 0.00028567347521782604,\n",
              "  'Manifestações orais de doenças sistêmicas;;;': 0.00028567347521782604,\n",
              "  'sismologia;Sismicidade do nordeste do Brasil;Sismicidade induzida;Terremotos': 0.00028567347521782604,\n",
              "  'Nupcialidade;Demografia formal;Tabelas de incremento e decremento;': 0.00028567347521782604,\n",
              "  'Neoplasias benignas e lesões proliferativas de cavidade oral;;;': 0.00028567347521782604,\n",
              "  'Estudo do Estresse': 0.00028567347521782604,\n",
              "  'atividade farmacológica de extratos de plantas': 0.00028567347521782604,\n",
              "  'Bioquímica da Nutrição - Vitamina A': 0.00028567347521782604,\n",
              "  'Hidrogeologia Ambiental;Gestão de Aquíferos;Hidrogeoquímica;Proteção de Mananciais Subterrâneos': 0.00028567347521782604,\n",
              "  'Formação da literatura brasileira;Literatura comparada;Literatura francesa;': 0.00028567347521782604,\n",
              "  'Geofísica aplicada à geologia e à higrogeologia.;Gravimetria;Neotectônica;': 0.00028567347521782604,\n",
              "  'Ciências de Alimentos;Engenharia de Alimentos;Tecnologia de Alimentos;': 0.00028567347521782604,\n",
              "  'Avaliação genética de populações por meio do uso da simulação': 0.00028567347521782604,\n",
              "  'Psicofarmacologia ': 0.00028567347521782604,\n",
              "  'Práticas culturais e imaginários': 0.00028567347521782604,\n",
              "  'PROBLEMAS DE METAFÍSICA;HISTÓRIA DA METAFÍSICA;FILOSOFIA ALEMÃ;FILOSOFIA DO ESPAÇO E DO TEMPO': 0.00028567347521782604,\n",
              "  'Literatura e memoria cultural': 0.00028567347521782604,\n",
              "  'Taxonomia de Criptógamas;Taxonomia de Fungos;Ecologia de Fungos;Biodiversidade': 0.00028567347521782604,\n",
              "  'Processamento gráfico': 0.00028567347521782604,\n",
              "  'Socioeconomia do Meio Ambiente e Política Ambiental - SEMAPA': 0.00028567347521782604,\n",
              "  'EDUCAÇÃO EM SAUDE PARA CUIDADORES DE PACIENTES NEUROLÓGICOS': 0.00028567347521782604,\n",
              "  'DM tipo 2 em crianças e adolescentes;indices de resistencia insulinica;perfil dietetico ;': 0.00028567347521782604,\n",
              "  'cotidiano, cultura e política na colônia;;;': 0.00028567347521782604,\n",
              "  'Geologia e Geofísica aplicada': 0.00028567347521782604,\n",
              "  'Alcalóides Bioativos do Nordeste do Brasil: Isolamento e Semi-síntese': 0.00028567347521782604,\n",
              "  'Estado, Sociedade, Políticas Sociais e Direitos': 0.00028567347521782604,\n",
              "  'EDUCAÇÃO DE JOVENS E ADULTOS E ALFABETIZAÇÃO;;;': 0.00028567347521782604,\n",
              "  'Doenças transmissíveis e infecciosas ;;;': 0.00028567347521782604,\n",
              "  'Qualidade de alimentos': 0.00028567347521782604,\n",
              "  'Controle estatístico de processos;Controle de qualidade;Análise multivariada;Probabilidade': 0.00028567347521782604,\n",
              "  'Atenção integral à saúde e linhas de cuidado': 0.00028567347521782604,\n",
              "  'Teste de Software': 0.00028567347521782604,\n",
              "  'Bem estar psíquico e trabalho': 0.00028567347521782604,\n",
              "  'Semiologia e Semiotécnica ': 0.00028567347521782604,\n",
              "  'Produção de bioprodutos a partir de cultivo de células animais': 0.00028567347521782604,\n",
              "  'História da Educação;Filosofia da Educação;Etica;Epistemologia': 0.00028567347521782604,\n",
              "  'FOTÔNICA;ELETROMAGNETISMO;ANTENAS E PROPAGAÇÃO;ONDAS MILIMÉTRICAS E MICRRONDAS': 0.00028567347521782604,\n",
              "  'GEOLOGIA SEDIMENTAR': 0.00028567347521782604,\n",
              "  'História, Filosofia e Sociologia da Ciência e Matemática': 0.00028567347521782604,\n",
              "  'Mecânica dos Fluidos Computacional;Hidráulica Computacional;;': 0.00028567347521782604,\n",
              "  'Meteorologia; Climatologia; Biocliamtologia; Geografia da Saúde': 0.00028567347521782604,\n",
              "  'Neurofarmacologia': 0.00028567347521782604,\n",
              "  'Imagem, Representação e Cultura;Fotografia e Comunicação;Semiótica e imagem visual;': 0.00028567347521782604,\n",
              "  'Economia regional;Políticas públicas;;': 0.00028567347521782604,\n",
              "  'Cultura de Tecidos  de Frutíferas Tropicais;Seleção in vitro para resistência a doenças;;': 0.00028567347521782604,\n",
              "  'Regulação da expressão gênica ;Imunobiologia;;': 0.00028567347521782604,\n",
              "  'Reabilitação Neurológica': 0.00028567347521782604,\n",
              "  'Psicologia e Políticas Sociais;;;': 0.00028567347521782604,\n",
              "  'Eletromagnetismo Aplicado': 0.00028567347521782604,\n",
              "  'Farmacologia Experimental': 0.00028567347521782604,\n",
              "  'Ética, direitos humanos e meio ambiente na ordem jurídica internacional': 0.00028567347521782604,\n",
              "  'Meteorologia e Climatologia': 0.00028567347521782604,\n",
              "  'SÓCIO-RETÓRICA': 0.00028567347521782604,\n",
              "  'genética molecular vegetal': 0.00028567347521782604,\n",
              "  'Serviço Social, Trabalho e Questão Social': 0.00028567347521782604,\n",
              "  'antioxidantes;alimentos funcionais;estresse oxidativo;alimentos e nutrição': 0.00028567347521782604,\n",
              "  'Desenvolvimento de métodos computacionais': 0.00028567347521782604,\n",
              "  'Biologia Molecular;;;': 0.00028567347521782604,\n",
              "  'Estudos Epidemiológicos relacionados com problemas de saúde bucal da comunidade;;;': 0.00028567347521782604,\n",
              "  'Biologia, Ecologia e Genética das moscas-das-frutas;;;': 0.00028567347521782604,\n",
              "  'Otimização;Heurísticas;Estrutura de dados e Algoritmos em Grafos;Projeto e Análise de Algoritmos': 0.00028567347521782604,\n",
              "  'Tecnologia de produtos lácteos': 0.00028567347521782604,\n",
              "  'Genética Animal e Parasitologia': 0.00028567347521782604,\n",
              "  'Prevenção em Distúrbios da Comunicação': 0.00028567347521782604,\n",
              "  'Preparação de Materiais Cerâmicos': 0.00028567347521782604,\n",
              "  'Artes Cênicas e Espetacularidade': 0.00028567347521782604,\n",
              "  'energias renováveis': 0.00028567347521782604,\n",
              "  'Comportamento social e ecologia;;;': 0.00028567347521782604,\n",
              "  'Geologia Ambiental;Geoprocessamento;Sistema de Informação;': 0.00028567347521782604,\n",
              "  'NEPED - Núcleo de Estudos e Pesquisas em ensino e Formação Docente;;;': 0.00028567347521782604,\n",
              "  'Cultura e Representações': 0.00028567347521782604,\n",
              "  'Estratégias para o Desenvolvimento Regional': 0.00028567347521782604,\n",
              "  'AVALIAÇÃO E INTERVENÇÃO EM FISIOTERAPIA RESPIRATÓRIA': 0.00028567347521782604,\n",
              "  'Sistema nervoso autônomo;Plexo mioentérico;Diabetes mellitus;Morfologia': 0.00028567347521782604,\n",
              "  'opim': 0.00028567347521782604,\n",
              "  'Tensoativos aplicados a Petróleo;;;': 0.00028567347521782604,\n",
              "  'Psicologia e Saúde;Humanização Hospitalar;;': 0.00028567347521782604,\n",
              "  'Neofobia alimentar;Classes sociais;Comportamento alimentar;': 0.00028567347521782604,\n",
              "  'cimentos;compósitos;cerâmicas;corrosão': 0.00028567347521782604,\n",
              "  'Processo de trabalho': 0.00028567347521782604,\n",
              "  'Tecnologia Mineral;Caracterização tecnológica de matérias primas minerais;Caracterização tecnológica de minérios;': 0.00028567347521782604,\n",
              "  'Recursos hídricos': 0.00028567347521782604,\n",
              "  'DOENÇAS METABOLICAS': 0.00028567347521782604,\n",
              "  'Materiais nanoestruturados': 0.00028567347521782604,\n",
              "  'Biologia de Flavivirus e Desenvolvimento Tecnológico em Virologia.': 0.00028567347521782604,\n",
              "  'Políticas Públicas;Desenvolvimento Rural;Emprego Rural;': 0.00028567347521782604,\n",
              "  'TV Digital Interativa': 0.00028567347521782604,\n",
              "  'Nutrição e doenças crônicas;;;': 0.00028567347521782604,\n",
              "  'ESTUDO DOS AGRAVOS EPIDEMIOLOGICAMENTE RELEVANTES A SAÚDE OROFACIAL': 0.00028567347521782604,\n",
              "  'Infecção em cirurgia': 0.00028567347521782604,\n",
              "  'Estudo da resposta ao estresse': 0.00028567347521782604,\n",
              "  'Habitação e Espaço Construído;;;': 0.00028567347521782604,\n",
              "  'Direito da Relações Internacionais;;;': 0.00028567347521782604,\n",
              "  'Evolução litosférica e processos geodinâmicos': 0.00028567347521782604,\n",
              "  'Saúde coletiva': 0.00028567347521782604,\n",
              "  'Processamento de Alimentos;Fenômenos de Transporte;Cinética de Processamento de Secagem;Modelagem': 0.00028567347521782604,\n",
              "  'Produção e tecnologia de sementes': 0.00028567347521782604,\n",
              "  'Ecologia de comunidades': 0.00028567347521782604,\n",
              "  'Epidemiologia;Saúde do Trabalhador;;': 0.00028567347521782604,\n",
              "  'Infecções genitais': 0.00028567347521782604,\n",
              "  'energia e meio ambiente;termociências;;': 0.00028567347521782604,\n",
              "  'bioecologia de insetos vetores de doenças': 0.00028567347521782604,\n",
              "  'Termodinâmica e Processos de Separação;;;': 0.00028567347521782604,\n",
              "  'Biologia Molecular aplicada ao diagnóstico': 0.00028567347521782604,\n",
              "  'Comportamento e fisiologia de peixes': 0.00028567347521782604,\n",
              "  'INFLAMAÇÃO E REPARO DOS TECIDOS ORAIS;;;': 0.00028567347521782604,\n",
              "  'Levantamento Faunístico;Conservação da Biodiversidade;Estudos Taxonômicos e Filogenéticos;': 0.00028567347521782604,\n",
              "  'Caracterização Estocástica de Extremos': 0.00028567347521782604,\n",
              "  'organização espacial e desenvolvimento': 0.00028567347521782604,\n",
              "  'História da Educação do RN;Movimentos Sociais;História dos Movimentos da Arquidiocese de Natal;': 0.00028567347521782604,\n",
              "  'MÉTODOS ANALÍTICOS FUNDAMENTAIS E APLICADOS': 0.00028567347521782604,\n",
              "  'SAUDE DA MULHER;POLÍTICAS PÚBLICAS;ATENÇÃO À SAÚDE;POPULAÇÃO E SAÚDE': 0.00028567347521782604,\n",
              "  'Nutrição e alimentação animal': 0.00028567347521782604,\n",
              "  'Constituição, processo e garantia de direitos ': 0.00028567347521782604,\n",
              "  'reparo de DNA;mutagênese;genética de microorganismo;': 0.00028567347521782604,\n",
              "  'História Colonial do Rio Grande do Norte;História da administração colonial;Arquivística;': 0.00028567347521782604,\n",
              "  'Estrutura e atividades farmacológicas de polissacarídeos de algas': 0.00028567347521782604,\n",
              "  'Desenvolvimento Regional;;;': 0.00028567347521782604,\n",
              "  'Economia do Turismo;;;': 0.00028567347521782604,\n",
              "  'síntese de materiais nanoestruturados': 0.00028567347521782604,\n",
              "  'Sistemas Particulados e Fenômenos de Transportes;Tecnologia de Alimentos;Ciências de Alimentos;Operações Unitárias': 0.00028567347521782604,\n",
              "  'Avaliação qualitativa e quantitativa das águas;Poluição dos corpos aquáticos;Reutilização das águas residuárias regenera': 0.00028567347521782604,\n",
              "  'Geologia Médica': 0.00028567347521782604,\n",
              "  'Sistemas multi-agentes;Protocolos de negociação;Diagnóstico clínico;': 0.00028567347521782604,\n",
              "  'Engenharia ambiental;Biocombustivel;Biotecnologia ambiental;Engenharia de custo': 0.00028567347521782604,\n",
              "  'Pastagens e Forragicultura': 0.00028567347521782604,\n",
              "  'Representações sociais, memória e identidade;Etnicidade ;Memória histórica;': 0.00028567347521782604,\n",
              "  '10503005': 0.00028567347521782604,\n",
              "  'Inovação de Produtos e Processos Aplicados à Cadeia de Energia Eólica e Solar': 0.00028567347521782604,\n",
              "  'Zeolitas': 0.00028567347521782604,\n",
              "  'Solo;Água Subterrânea;Geoquímica;Valores de Referência': 0.00028567347521782604,\n",
              "  'Produtos Naturais Têxteis;Novos materiais;;': 0.00028567347521782604,\n",
              "  'Estado, governo e sociedade': 0.00028567347521782604,\n",
              "  'AVALIAÇÃO DE POLÍTICAS PÚBLICAS': 0.00028567347521782604,\n",
              "  'História, cultura e sociedade no Semi-Árido': 0.00028567347521782604,\n",
              "  'Estudos de Memória e Emoção em Roedores': 0.00028567347521782604,\n",
              "  'História e Espaços;História colonial;História Intelectual;História Moderna e Contemporânea': 0.00028567347521782604,\n",
              "  'Vigilância em saúde ': 0.00028567347521782604,\n",
              "  'Linha de Pesquisas em Formação e Profissionalização Docente': 0.00028567347521782604,\n",
              "  'cultura de tecidos vegetais e biotecnologia vegetal': 0.00028567347521782604,\n",
              "  'Desenvolvimento de Fitoterápicos;;;': 0.00028567347521782604,\n",
              "  'Leucemogênse e carcinogênese': 0.00028567347521782604,\n",
              "  'Automação Industrial;Sistemas Aeroespaciais;Aplicações de Software Livre;': 0.00028567347521782604,\n",
              "  'Ensino de literatura;;;': 0.00028567347521782604,\n",
              "  'Metalurgia do pó;carbetos;nióbio;': 0.00028567347521782604,\n",
              "  'Processos de separação;Nova tecnologia;Extração líquido-líquido;Método da inversão de fases': 0.00028567347521782604,\n",
              "  'Biodiversidade vegetal e funcionamento de ecossistemas': 0.00028567347521782604,\n",
              "  'Educação inclusiva;;;': 0.00028567347521782604,\n",
              "  'Catálise ambiental, Materiais e reatores': 0.00028567347521782604,\n",
              "  'Química Computacional': 0.00028567347521782604,\n",
              "  'Regionalismos literários  ': 0.00028567347521782604,\n",
              "  'Cosmologia e gravitação': 0.00028567347521782604,\n",
              "  'Estudos urbanos e regionais / Planejamento e desenvolvimento regional': 0.00028567347521782604,\n",
              "  'Inflamação e reparo dos tecidos orais': 0.00028567347521782604,\n",
              "  'Relações da Pessoa-Trabalho e seus Efeitos na Saúde Mental;Avaliação Psicológica;Processos Psicossociais em Saúde;': 0.00028567347521782604,\n",
              "  'Desenvolvimento de Fitomedicamentos': 0.00028567347521782604,\n",
              "  'Estratégia do Pensamento e Produção do Conhecimento - PPGEd': 0.00028567347521782604,\n",
              "  'Erosão pluvial e costeira;Estabilidade de encostas;;': 0.00028567347521782604,\n",
              "  'Morfofisiologia Comparada': 0.00028567347521782604,\n",
              "  'Doenças alérgicas e imunológicas;Imunoterapia;;': 0.00028567347521782604,\n",
              "  'Limnologia': 0.00028567347521782604,\n",
              "  'Representacao e percepcao do espaco;cinema;urbanismo;geografia cultural': 0.00028567347521782604,\n",
              "  'Práticas Pedagógicas e Currículo;x;x;x': 0.00028567347521782604,\n",
              "  'INCT-Observatório das Metrópoles : Núcleo Natal ( Projeto de pesquisa \" território, coesão social e governança democrática': 0.00028567347521782604,\n",
              "  'Desenvolvimento Econômico e Regional': 0.00028567347521782604,\n",
              "  'Direito Econômico e Direito do Petróleo': 0.00028567347521782604,\n",
              "  'Materiais nanoestruturados; Reatores químicos; Detectores de gas': 0.00028567347521782604,\n",
              "  'Produção do Espaço Urbano e Agrário': 0.00028567347521782604,\n",
              "  'Práticas interpretativas e Educação musical': 0.00028567347521782604,\n",
              "  'processos de separação;Alimentos;termodinâmica;extração': 0.00028567347521782604,\n",
              "  'Mortalidade;Distribuição espacial da mortalidade;;': 0.00028567347521782604,\n",
              "  'Teoria da Prova': 0.00028567347521782604,\n",
              "  'Biologia molecular ;;;': 0.00028567347521782604,\n",
              "  'Nanotecnologia farmacêutica ': 0.00028567347521782604,\n",
              "  'genômica;biologia molecular;evolução;': 0.00028567347521782604,\n",
              "  'Genética de microorganismos;mutagênese;;': 0.00028567347521782604,\n",
              "  'Mecânica dos Fluidos;Aerodinâmica;Métodos Numéricos;': 0.00028567347521782604,\n",
              "  'FORMAÇÃO E PROFISSIONALIZAÇÃO DOCENTE': 0.00028567347521782604,\n",
              "  'educação em enfermagem': 0.00028567347521782604,\n",
              "  'Estratégias de Pensamento e Produção de Conhecimento;;;': 0.00028567347521782604,\n",
              "  'Imagem, Comunicação, Cultura e Sociedade': 0.00028567347521782604,\n",
              "  'Microeletrônica': 0.00028567347521782604,\n",
              "  'epidemiologia clínica': 0.00028567347521782604,\n",
              "  'gastroenterologia e nutrologia pediátrica': 0.00028567347521782604,\n",
              "  'Inteligência Artificial;Reconhecimento de Padrões;Agentes Inteligentes;': 0.00028567347521782604,\n",
              "  'Espermatogênese descritiva e experimental': 0.00028567347521782604,\n",
              "  'Cronobiologia;Neurociências;Fisiologia ;Anatomia': 0.00028567347521782604,\n",
              "  'Dinâmicas do Pensamento e Produção do Conhecimento;;;': 0.00028567347521782604,\n",
              "  'Politicas publicas e processo de trabalho em saude;;;': 0.00028567347521782604,\n",
              "  '80206000': 0.00028567347521782604,\n",
              "  'Gênero e Violência;Gênero e Habitação;Gênero, Meio Ambiente e Desenvolvimento;': 0.00028567347521782604,\n",
              "  'Desenvolvimento, controle e aprendizagem motora': 0.00028567347521782604,\n",
              "  'Produção de conhecimento na saúde e enfermagem;;;': 0.00028567347521782604,\n",
              "  'Saúde mental e Atenção psicossocial ': 0.00028567347521782604,\n",
              "  'Parasitologia Animal: Parasitoses em animais de interesse pecuário': 0.00028567347521782604,\n",
              "  'estudos experimentais relativos a metodos e tecnicas aplicaveis a prevenção de problemas odontologicos;;;': 0.00028567347521782604,\n",
              "  'Segurança do Paciente.': 0.00028567347521782604,\n",
              "  'experiências socias e poder': 0.00028567347521782604,\n",
              "  'Estudo de 1d- quasi-cristais compostos de metamateriais': 0.00028567347521782604,\n",
              "  'Engenharia de Software;Desenvolvimento de Software para a Web;;': 0.00028567347521782604,\n",
              "  'Simulação Computacional ': 0.00028567347521782604,\n",
              "  'Entomologia Agrícola;Taxonomia de Grupos Recentes;Insetos parasitóides;': 0.00028567347521782604,\n",
              "  ' Discurso, gramática e ensino': 0.00028567347521782604,\n",
              "  'Recursos Hídricos;Drenagem Urbana;Qualidade das Águas;Manejo de Águas Pluviais': 0.00028567347521782604,\n",
              "  '50101064': 0.00028567347521782604,\n",
              "  'Dinamica;Erosivos;aa;aa': 0.00028567347521782604,\n",
              "  'Prevenção e Estudos Clínicos em Distúrbios da Comunicação Humana': 0.00028567347521782604,\n",
              "  'Geoprocessamento;Sistemas de Informação;Banco de dados;': 0.00028567347521782604,\n",
              "  'Sistemas Distribuídos': 0.00028567347521782604,\n",
              "  'Promoção a saúde': 0.00028567347521782604,\n",
              "  'Corpo, Cultura de Movimento e Inclusão': 0.00028567347521782604,\n",
              "  '80101003': 0.00028567347521782604,\n",
              "  'Saúde mental e trabalho;;;': 0.00028567347521782604,\n",
              "  'Biotecnologia aplicada na alimentação animal': 0.00028567347521782604,\n",
              "  'Política e práxis da educação': 0.00028567347521782604,\n",
              "  'Estudos e Pesquisas in silico de Sistemas Biológicos': 0.00028567347521782604,\n",
              "  'Vitamina A;Bioquímica da Nutrição;;': 0.00028567347521782604,\n",
              "  'Estado, Políticas e Práticas educacionais;;;': 0.00028567347521782604,\n",
              "  'Estado, Políticas e Práticas Educacionais;;;': 0.00028567347521782604,\n",
              "  'entomologia;protozoologia;bio-ecologia;': 0.00028567347521782604,\n",
              "  'Subjetividade e processos psicossociais': 0.00028567347521782604,\n",
              "  'EQUILÍBRIO E EXCITAÇÕES DE MATERIAIS MAGNÉTICOS ;;;': 0.00028567347521782604,\n",
              "  'Configurações espaciais contemporâneas: natureza, região e cidade': 0.00028567347521782604,\n",
              "  'Comportamento e saúde': 0.00028567347521782604,\n",
              "  ' Análise nutricional de Vitamina A e Vitamina E em populações.': 0.00028567347521782604,\n",
              "  'Direitos Fundamentais, Políticas Públicas e Controle Judicial': 0.00028567347521782604,\n",
              "  'Química de coordenação': 0.00028567347521782604,\n",
              "  'Letramento e contemporaneidade': 0.00028567347521782604,\n",
              "  'Engenharia Bioquímica;Processos Biotecnológicos;Reatores Bioquímicos;Tecnologia das Fermentações': 0.00028567347521782604,\n",
              "  'Fisioterapia Geriatrica e Epidemiologia do Envelhecimento': 0.00028567347521782604,\n",
              "  'Modulação da ritmicidade biológica por fatores abióticos, endócrinos e sociais;;;': 0.00028567347521782604,\n",
              "  'corpo, saúde e doença': 0.00028567347521782604,\n",
              "  'Processamento Inteligente da Informação': 0.00028567347521782604,\n",
              "  'Reutilização de águas residuárias tratadas': 0.00028567347521782604,\n",
              "  'Avaliação in vitro, in situ e in vivo de materiais e técnicas odontológicas': 0.00028567347521782604,\n",
              "  'Semiologia e semiotécnica;;;': 0.00028567347521782604,\n",
              "  'Lógicas Cássica e não - Clássicas;Modelos de Explicação e Representação do Conhecimento;;': 0.00028567347521782604,\n",
              "  '50404008': 0.00028567347521782604,\n",
              "  'desenvolvimento de formas farmacêuticas sólidas;Estudos de equivalencia farmacêutica;Estudo da estabilidade de medicamen': 0.00028567347521782604,\n",
              "  'Estudo de lesões reacionais da mucosa oral;;;': 0.00028567347521782604,\n",
              "  'Cidade, habitação e contemporaneidade;;;': 0.00028567347521782604,\n",
              "  'ESTUDOS URBANOS E RURAIS': 0.00028567347521782604,\n",
              "  'Cadeias de Markov Homogêneas;Cadeias de Markov Não-Homogêneas;Algoritmos Estocásticos;Simulações Estocásticas': 0.00028567347521782604,\n",
              "  'Geoquímica;Recursos minerais;Petrologia;': 0.00028567347521782604,\n",
              "  'Técnica Dietética;Bioquímica de alimentos;Nutrição Humana;Alimentos funcionais': 0.00028567347521782604,\n",
              "  'Bioética, novos direitos e globalização': 0.00028567347521782604,\n",
              "  'CÂNCER ORAL;CITOLOGIA ESFOLIATIVA;LESÕES DAS ESTRUTURAS ORAIS E PARAORAIS;CISTOS E TUMORES ODONTOGÊNICOS': 0.00028567347521782604,\n",
              "  'Mapas de Sensibilidade ao Derrame de óleo;Proteção Costeira;Modelos hidrodinâmicos;Meio Ambiente': 0.00028567347521782604,\n",
              "  'História;Educação;Cultura;Modernidade': 0.00028567347521782604,\n",
              "  'ecologia, taxonomia, fisiologia e toxicologia de cinanobactérias': 0.00028567347521782604,\n",
              "  'NANOTECNOLOGIA FARMACEUTICA': 0.00028567347521782604,\n",
              "  'Tensoativos aplicado a Petróleo;;;': 0.00028567347521782604,\n",
              "  'Gestão e políticas físico-territoriais': 0.00028567347521782604,\n",
              "  'Gestão Social': 0.00028567347521782604,\n",
              "  'Etiopatogenia e diagnóstico das doenças biofilmes dependentes;;;': 0.00028567347521782604,\n",
              "  'Estudos morfo-anatômicos de matrizes energéticas para o biodiesel': 0.00028567347521782604,\n",
              "  'Aquicultura Sustentável': 0.00028567347521782604,\n",
              "  'Representação Social;Saúde e Educação;;': 0.00028567347521782604,\n",
              "  'Computação Científica, Visualização 3D , Realidade Virtual': 0.00028567347521782604,\n",
              "  'Médico-cirurgica;;;': 0.00028567347521782604,\n",
              "  'Música;Computação;Inteligência Artificial;': 0.00028567347521782604,\n",
              "  'Controladoria;Modernização da gestão;;': 0.00028567347521782604,\n",
              "  'Otimização Combinatória, Metaheurísticas  ': 0.00028567347521782604,\n",
              "  'Recuperação e Purificação de Biomoléculas': 0.00028567347521782604,\n",
              "  'Processos de Fabricação (Conformação Mecânica, Fundição e Metalurgia do Pó)': 0.00028567347521782604,\n",
              "  'Educação Política e Cultura;;;': 0.00028567347521782604,\n",
              "  'Gestão de Recursos Humanos;Qualidade Organizacional;;': 0.00028567347521782604,\n",
              "  'Citogenética de crustáceos;;;': 0.00028567347521782604,\n",
              "  'Medicamentos genéricos;Equivalência farmacêutica;;': 0.00028567347521782604,\n",
              "  'Sistemas Distribuídos;Engenharia de Software;Redes de Computadores;': 0.00028567347521782604,\n",
              "  'Bioecologia de parasitos e vetores;;;': 0.00028567347521782604,\n",
              "  'Avaliação dos materiais e técnicas aplicadas em Cirurgia e Traumatologia Buco-Maxilo-Faciais': 0.00028567347521782604,\n",
              "  'economia regional e urbana': 0.00028567347521782604,\n",
              "  'Efeitos Dinâmicos em Sistemas Complexos: Dinâmica das Paredes de Domínios Magnéticos ': 0.00028567347521782604,\n",
              "  'POLÍTICA DE FORMAÇÃO DE PROFESSORES  E EDUCAÇÃO A DISTÂNCIA;;;': 0.00028567347521782604,\n",
              "  'Avaliação e intervenção nos sistemas nervoso e musculoesquelético': 0.00028567347521782604,\n",
              "  'Investigação de produtos naturais com potencial atividade biológica': 0.00028567347521782604,\n",
              "  'Antenas;Fotônica;supercondutividade;semicondutores': 0.00028567347521782604,\n",
              "  'Engenharia ambiental ': 0.00028567347521782604,\n",
              "  'Análise dos efeitos dos estresses abióticos sobre o perfil protéico de plantas de interesse agronômico no Nordeste': 0.00028567347521782604,\n",
              "  'Ergonomia e Interação Humano-Computador': 0.00028567347521782604,\n",
              "  'Estruturas de transmissão planares': 0.00028567347521782604,\n",
              "  'REVISÕES SISTEMÁTICAS, OVERVIEWS DE REVISÕES SISTEMÁTICAS E METANÁLISES EM SAÚDE': 0.00028567347521782604,\n",
              "  'Polímeros e colóides;;;': 0.00028567347521782604,\n",
              "  'Processos sociais de formação do indivíduo e dos grupos': 0.00028567347521782604,\n",
              "  'Novos materiais;;;': 0.00028567347521782604,\n",
              "  'conforto ambiental e eficiência energética': 0.00028567347521782604,\n",
              "  'GLICOSAMINOGLICANOS EM INVERTEBRADOS': 0.00028567347521782604,\n",
              "  'Campos de coordenação;Espectroscopia eletrônica;Fotoquímica;': 0.00028567347521782604,\n",
              "  'Antenas Integradas para Sistemas de Comunicações': 0.00028567347521782604,\n",
              "  'Ictioparasilogia': 0.00028567347521782604,\n",
              "  'Ritmicidade biológica: interações fisiológicas, comportamentais e ambientais em vertebrados e invertebrados;;;': 0.00028567347521782604,\n",
              "  'Inventário de Macroinvertebrados e Concervação da Biodiversidade': 0.00028567347521782604,\n",
              "  'História; Memória;Serviço Social e Educação ': 0.00028567347521782604,\n",
              "  'História e Espaços de Ensino': 0.00028567347521782604,\n",
              "  'Análises Clínicas ; Bioquímica e Biologia Molecular;': 0.00028567347521782604,\n",
              "  'Biologia do desenvolvimento e tecidual;;;': 0.00028567347521782604,\n",
              "  'Manifestações Orais de Doenças Sistêmicas': 0.00028567347521782604,\n",
              "  'Desenvolvimento de Formas Farmacêuticas;Desenvolvimento de Fitoterápicos;;': 0.00028567347521782604,\n",
              "  'Climatério e Menopausa;Endocrinologia Reprodutiva;Fitoterapia;': 0.00028567347521782604,\n",
              "  '70804036': 0.00028567347521782604,\n",
              "  'genética vegetal': 0.00028567347521782604,\n",
              "  'mutagenese;biologia molecular;;': 0.00028567347521782604,\n",
              "  '20404000': 0.00021425510641336952,\n",
              "  'Estudo de Drogas, do perfil protéico e de parâmetros de prognóstico em cânceres humanos. Análise em linhagens tumorais e tecidos humanos.': 0.00021425510641336952,\n",
              "  'Ações promocionais de atenção a saúde;Avaliação dos serviços de saúde;;': 0.00021425510641336952,\n",
              "  'Estrutura de mercado': 0.00021425510641336952,\n",
              "  'Sociologia da Educação;Sociologia da Cultura': 0.00021425510641336952,\n",
              "  'MONITORAMENTO AMBIENTAL': 0.00021425510641336952,\n",
              "  'Corpo, epistemologia e cultura de movimento': 0.00021425510641336952,\n",
              "  'Ecologia comportamental de Primatas': 0.00021425510641336952,\n",
              "  'Atividade Farmacologica de Plantas': 0.00021425510641336952,\n",
              "  'Epidemiologia, condições de vida e saúde da população': 0.00021425510641336952,\n",
              "  'Reconhecimento de Padrões': 0.00021425510641336952,\n",
              "  'Novas moléculas agonistas e antagonistas dos canais TRPV1 e TRPA1 bem como envolvimento deles em diferentes patologias': 0.00021425510641336952,\n",
              "  'sustentabiliade': 0.00021425510641336952,\n",
              "  'Comportamento e Gestão Organizacional': 0.00021425510641336952,\n",
              "  'parcerias público-privadas;financiamento de infra-estruturas de transporte;;': 0.00021425510641336952,\n",
              "  'Enfermagem nos serviços de saúde;;;': 0.00021425510641336952,\n",
              "  'praticas interpretativas': 0.00021425510641336952,\n",
              "  'Biologia do Trypanosoma cruzi e diagnostico sorologico e Parasitologico': 0.00021425510641336952,\n",
              "  'Formação e Gestão do Território;;;': 0.00021425510641336952,\n",
              "  'Diagnóstico de calazar canino e humano;;;': 0.00021425510641336952,\n",
              "  'cancer oral': 0.00021425510641336952,\n",
              "  'POÉTICAS DA MODERNIDADE E DE PÓS-MODERNIDADE': 0.00021425510641336952,\n",
              "  'Patrimônio Imaterial': 0.00021425510641336952,\n",
              "  'História Oral e Memória;História Política do Brasil;História do Rio Grande do Norte;': 0.00021425510641336952,\n",
              "  'Doenças metabólicas;Diabetes Mellitus;Hipertensão Arterial;Lipodistrofia Generalizada Congênita': 0.00021425510641336952,\n",
              "  'INTERAÇÃO GENE-NUTRIENTE;VALOR BIOLÓGICO DE ALIMENTOS;;': 0.00021425510641336952,\n",
              "  'Formação Docente;Formação Continuada;Alfabetização;': 0.00021425510641336952,\n",
              "  'equilíbrio de fases': 0.00021425510641336952,\n",
              "  'Estudos epidemiológicos': 0.00021425510641336952,\n",
              "  'Educação Ambiental': 0.00021425510641336952,\n",
              "  'Organizacao social de Primatas e Cetaceos': 0.00021425510641336952,\n",
              "  'Desenvolvimento de produtos derivados do leite de cabra': 0.00021425510641336952,\n",
              "  'Parasitologia;Protozoologia;Antiparasitários;Hemohistoparasitos': 0.00021425510641336952,\n",
              "  'Ciclagem de nutrientes, ecologia microbiana aquática': 0.00021425510641336952,\n",
              "  'MATERIAIS CATALITICOS;ÓXIDOS MISTOS;;': 0.00021425510641336952,\n",
              "  'Cidade e Territorialidade;Cidade, Comércio e Serviços;;': 0.00021425510641336952,\n",
              "  'Ritmos biológicos;Fisioterapia neurológica;Acidente Vascular Cerebral;': 0.00021425510641336952,\n",
              "  'Estudos de Tradução': 0.00021425510641336952,\n",
              "  'Análise do Comportamento Estrutural': 0.00021425510641336952,\n",
              "  'Desenvolvimento de  estratégias didáticas para o ensino de biologia': 0.00021425510641336952,\n",
              "  'PREPARAÇÃO DE NOVOS MATERIAIS;CATALISADORES;MATERIAIS NANOPARTICULADOS;CERÂMICOS': 0.00021425510641336952,\n",
              "  'Produção de subjetividade e saúde no âmbito dos movimentos sociais rurais': 0.00021425510641336952,\n",
              "  'Glicosaminoglicanos de invertebrados;;;': 0.00021425510641336952,\n",
              "  'A cidade e o urbano no Semiárido Nordestino.': 0.00021425510641336952,\n",
              "  'tensoativos;tratamento de efluentes;industria têxtil;': 0.00021425510641336952,\n",
              "  'Prpriedades antioxidantes de glucanas de fungo e sua ação na inflamação': 0.00021425510641336952,\n",
              "  'Literatura e Memoria Cultural': 0.00021425510641336952,\n",
              "  'Conflitividades, dinâmicas sociais e subjetividade': 0.00021425510641336952,\n",
              "  'Atenção a saúde dos grupos populacionais em risco;Processo de trabalho de enfermagem em saúde;Produção de conhecimento;': 0.00021425510641336952,\n",
              "  'Formação e profissionalização do educador': 0.00021425510641336952,\n",
              "  'Ecologia de bentos marinho': 0.00021425510641336952,\n",
              "  'vinculado ao grupo de pesquisa de matematica aplicada (a ser criado em breve)': 0.00021425510641336952,\n",
              "  'Novas Tecnologias e aplicativos direcionados a assistência a saúde': 0.00021425510641336952,\n",
              "  'Sistemas Terapêuticos;;;': 0.00021425510641336952,\n",
              "  'Educação, Política e Práxis Educativas - PPGED/CE': 0.00021425510641336952,\n",
              "  'ENERGIA DA BIOMASSA': 0.00021425510641336952,\n",
              "  'Direito e regulação dos recursos hídricos': 0.00021425510641336952,\n",
              "  'NITRETAÇÃO IÔNICA;;;': 0.00021425510641336952,\n",
              "  'Estatística Biométrica aplicada ao Melhoramento Genético': 0.00021425510641336952,\n",
              "  'Pré-formulação de formas farmacêuticas;;;': 0.00021425510641336952,\n",
              "  'BANCO DE DADOS;AGENTES INTELIGENTES;SISTEMAS MULTIMÍDIA;SISTEMAS DE INFORMAÇÃO GEOGRÁFICA': 0.00021425510641336952,\n",
              "  'gestao, organizaçao de serviços e politicas de saude;;;': 0.00021425510641336952,\n",
              "  'Currículo, memória, saberes e formação continuada': 0.00021425510641336952,\n",
              "  'educação médica': 0.00021425510641336952,\n",
              "  'Epidemiologia e Saúde Mental': 0.00021425510641336952,\n",
              "  'Serviço Social, Trabalho, Proteção Social e Cidadania': 0.00021425510641336952,\n",
              "  'Metalurgia do Pó e Sinterização;Materiais Compósitos; Materiais Super Duros;Metal Duro': 0.00021425510641336952,\n",
              "  'Ecologia comportamental;;;': 0.00021425510641336952,\n",
              "  'Tecnologia dos alimentos': 0.00021425510641336952,\n",
              "  'Biomassa para produção de biodiesel': 0.00021425510641336952,\n",
              "  'Avaliação Nutricional;Políticas de Alimentação e Nutrição;;': 0.00021425510641336952,\n",
              "  'Imunologia aplicada;Hematologia;Biologia celular;Imunologia celular e molecular': 0.00021425510641336952,\n",
              "  'Lógica fuzzy;Matemática Intervalar;;': 0.00021425510641336952,\n",
              "  'Produtos Naturais;Síntese de produtos naturais;;': 0.00021425510641336952,\n",
              "  'Políticas Públicas e Governança': 0.00021425510641336952,\n",
              "  'Estudos de Utilização de Medicamentos': 0.00021425510641336952,\n",
              "  'alvenaria estrutural': 0.00021425510641336952,\n",
              "  'PROTEÍNAS E PEPTÍDEOS BIOATIVOS COM POTENCIAIS APLICAÇÕES TECNOLÓGICAS': 0.00021425510641336952,\n",
              "  'Formação Docente;;;': 0.00021425510641336952,\n",
              "  'EPIDEMIOLOGIA HOSPITALAR': 0.00021425510641336952,\n",
              "  'Estratégias sexuais de machos de primatas;;;': 0.00021425510641336952,\n",
              "  'conteúdos e metodologias': 0.00021425510641336952,\n",
              "  'Tecnologia de alimentos;Conservação de alimentos;Processamento de alimentos;': 0.00021425510641336952,\n",
              "  'Circuitos Integrados de Microondas;Dispositivos Passivos;Antenas ;Ondas Milimétricas': 0.00021425510641336952,\n",
              "  'Cultura de Tecidos  de Frutíferas Tropicais;embriogenese somatica;micropropagação;melhoramento genetico': 0.00021425510641336952,\n",
              "  'Polos geradores de tráfego;Impactos ambientais do transporte;Urbanismo e transportes;': 0.00021425510641336952,\n",
              "  'Etnomusicologia': 0.00021425510641336952,\n",
              "  'Fitomedicamentos;Metodologias Analíticas;Controle de Qualidade;': 0.00021425510641336952,\n",
              "  'grupo de pesquisa de matematica aplicada ( a ser criado em breve)': 0.00021425510641336952,\n",
              "  'Política Ambiental;Políticas Públicas;Políticas Sociais;': 0.00021425510641336952,\n",
              "  'Solidificação de metais e ligas': 0.00021425510641336952,\n",
              "  'Filosofia e gênero;Filosofia do Renascimento;;': 0.00021425510641336952,\n",
              "  'Evolução Estelar e Magnetismo': 0.00021425510641336952,\n",
              "  'Recursos humanos;Ética e cidadania;Mundo do trabalho atual;': 0.00021425510641336952,\n",
              "  'Quitosana e seus derivados no desenvolvimento de sistemas de liberação de fármacos ': 0.00021425510641336952,\n",
              "  'Alimentos e alimentacao animal;nutricao de aves;eletrolitos;bioclimatologia': 0.00021425510641336952,\n",
              "  'Meteorologia;Biometeorologia;Meteorologia Sinótica;Climatologia': 0.00021425510641336952,\n",
              "  '\\x95\\tAbordagem evolucionista das diferenças comportamentais e fisiológicas entre gêneros ': 0.00021425510641336952,\n",
              "  'Avaliação das variáveis biofísicas e culturais da Motricidade Humana': 0.00021425510641336952,\n",
              "  'Atenção à saúde dos grupos populacionais nos diversos níveis de complexidade': 0.00021425510641336952,\n",
              "  'Produção, caracterização e utilização de estruturas nanofibrosas': 0.00021425510641336952,\n",
              "  'Crescimento e desenvolvimento': 0.00021425510641336952,\n",
              "  'Ecologia de Populações;Ecologia de Comunidades;Ecologia de Insetos;Biologia da Conservação': 0.00021425510641336952,\n",
              "  'Corpo, epistemologia e cultura de movimento ': 0.00021425510641336952,\n",
              "  'Meteorologia;Climatologia;Biocliamtologia;geografia da Saúde': 0.00021425510641336952,\n",
              "  'PLANEJAMENTO URBANO;MEIO AMBIENTE;HABITAÇÃO;Politica urbana': 0.00021425510641336952,\n",
              "  'Estudo de comunidades, meio ambiente e conflitos': 0.00021425510641336952,\n",
              "  'Ética e Filosofia Política': 0.00021425510641336952,\n",
              "  'atenção básica de saúde': 0.00021425510641336952,\n",
              "  'Compromisso pró-ecológico e conduta sustentável ': 0.00021425510641336952,\n",
              "  'Farmácias Populares;Assistência Farmacêutica;;': 0.00021425510641336952,\n",
              "  'política e eleições;partidos políticos;sociologia política;': 0.00021425510641336952,\n",
              "  'metafísica do infinito ;dialetica hegeliana;pós-estruturalismo francês;desconstrução derridiana': 0.00021425510641336952,\n",
              "  'BEM ESTAR PSIQUICO E TRABALHO': 0.00021425510641336952,\n",
              "  ...},\n",
              " 'palavras_chave': {';;': 0.008570204256534781,\n",
              "  'lectinas;defesa;heparina': 0.0006427653192401085,\n",
              "  'a;a;a': 0.0005713469504356521,\n",
              "  'Barragem Ministro João Alves  - Parelhas RN;Fitoplâncton;Impacto ambiental': 0.00042851021282673904,\n",
              "  'Solos, Águas Subterrâneas, Matais, Hidrocarbonetos de Petróleo, Tratamento Estatístico': 0.00042851021282673904,\n",
              "  'Astronomia, Astronomia Espacial, Astrofísica Solar e Estelar, Magnetismo Estelar, Nucleossíntese Estelar, Planetas Extra-solares ': 0.00042851021282673904,\n",
              "  'Métodos Formais;Especificações Algébricas;Reutilização de Software': 0.00035709184402228254,\n",
              "  'radio fontes extragalacticas;jatos astrofisicos;simulacao numerica': 0.00035709184402228254,\n",
              "  'metalurgia do pó;tantalita;reação gás-sólido': 0.00035709184402228254,\n",
              "  'lupus eritematoso sistêmico;dano;SLICC ACR DI': 0.00035709184402228254,\n",
              "  'Espectroscopia estelar, Parâmetros atmosféricos, Abundâncias químicas': 0.00035709184402228254,\n",
              "  'foto-Fenton;fotoquímica;efluente industrial': 0.00035709184402228254,\n",
              "  'meningite;reparo de DNA;estresse oxidativo': 0.00035709184402228254,\n",
              "  'Minerais pesados;Caracterização química;Caracterização mineralógica': 0.00035709184402228254,\n",
              "  'Escrita e Oralidade;Histórias de Vida (identidades);Diários de campo e diários pessoais': 0.00035709184402228254,\n",
              "  'quasi-cristais;propriedades físicas;bosons fermions': 0.00035709184402228254,\n",
              "  'Citogenética de peixes;RAPD;Perciformes': 0.00035709184402228254,\n",
              "  'ação gênica, depressão endogâmica, seleção fenotípica, simulação de dados, sistemas de acasalamento, variação genética': 0.00035709184402228254,\n",
              "  'Aplicações Distribuídas;Serviços de Eventos e de Trading;CORBA': 0.00035709184402228254,\n",
              "  'regulação de transportes;economia de transportes;transporte e meio ambiente': 0.00035709184402228254,\n",
              "  'Poesia e Prosa;Cultura Algodoeira;Literatura': 0.00035709184402228254,\n",
              "  'Guaraíras - Papeba - Nísia Floresta;Meio Ambiente;Caracterização Geo-ambiental': 0.00035709184402228254,\n",
              "  'Segregação;Infra-estrutura;Urbanização': 0.00035709184402228254,\n",
              "  'Microemulsões;Anfotericina B;Espectrofotometria': 0.00035709184402228254,\n",
              "  'Sistemas Complexos;Física Esatística;Análise de dados': 0.00035709184402228254,\n",
              "  'Ictioparasitologia;Peixes marinhos;Índices parasitários': 0.00035709184402228254,\n",
              "  'Compromisso social do psicólogo;Políticas sociais;Terceiro Setor': 0.00035709184402228254,\n",
              "  'Engenharia ambiental;Tratamento de efluentes;Novas tecnologias': 0.00035709184402228254,\n",
              "  'Verificação formal;Lógica computacional;Prova automática': 0.00035709184402228254,\n",
              "  'Densidade de drenagem;Abordagem morfométrica;Geomorfologia fluvial': 0.00035709184402228254,\n",
              "  'ensino médio;formação docente;acesso à universidade': 0.00035709184402228254,\n",
              "  'Adsorção em Leito Expandido (ALE);Cromatografia por Troca Iônica;Puficação de Proteínas do Soro': 0.00035709184402228254,\n",
              "  'Controle Adaptativo, Sistemas com Estrutura Variável, Sistemas Não Lineares': 0.00035709184402228254,\n",
              "  'Dengue, Febre Amarela, Aedes aegypti, Aedes albopictus, Culicidae': 0.00035709184402228254,\n",
              "  'valores;análise fatorial;cultura brasileira': 0.00035709184402228254,\n",
              "  'Índice de Desenvolvimento Humano;Indicadores sociais;Rio Grande do Norte': 0.00035709184402228254,\n",
              "  'tensoativo;petroleo pesado;injeção de vapor': 0.00035709184402228254,\n",
              "  'equilíbrio de fases;modelagem e simulação;termodinâmica aplicada': 0.00035709184402228254,\n",
              "  'Síntese, caracterização, catalisadores, perovsquita e Pechini': 0.00028567347521782604,\n",
              "  'esquistossomose;enzimas antioxidantes;GSH': 0.00028567347521782604,\n",
              "  'parasitas, ictioparasitologia, peixes marinhos, Rio Grande do Norte. ': 0.00028567347521782604,\n",
              "  'Institução escolar - legislação educacional - gênero': 0.00028567347521782604,\n",
              "  'Transições de fase, Simulação Computacional, Sistemas Magnéticos': 0.00028567347521782604,\n",
              "  'Letramento;Etnografia;Discurso': 0.00028567347521782604,\n",
              "  'metodologia problematizadora;Dialogicidade;Questões contemporâneas': 0.00028567347521782604,\n",
              "  'Glicosidases;sulfatases;invertebrados': 0.00028567347521782604,\n",
              "  'Imagens fotográficas;Semiótica;Cidade': 0.00028567347521782604,\n",
              "  'astrofísica;cosmologia;física': 0.00028567347521782604,\n",
              "  'Anfotericina B;sistemas Dispersos;Farmacocinética': 0.00028567347521782604,\n",
              "  'Genética animal, citogenética de peixes, biodiversidade': 0.00028567347521782604,\n",
              "  'glucana;cicatrização;diabetes mellitus': 0.00028567347521782604,\n",
              "  'Representações Sociais;Educação e Saúde;Psicologia e Odontologia': 0.00028567347521782604,\n",
              "  'Crime; Devoção; Religiosidade; Seridó Potiguar': 0.00028567347521782604,\n",
              "  'vegetarianismo, respiratorianismo, alimentos orgânicos, sustentabilidade, dietas alternativas, nutrição': 0.00028567347521782604,\n",
              "  'genoma;regiões expressas;camarão marinho': 0.00028567347521782604,\n",
              "  'Candida, fatores de virulência, candidíase vulvovaginal': 0.00028567347521782604,\n",
              "  'Ecologia;Biodiversidade;Biogeografia': 0.00028567347521782604,\n",
              "  'Cadeias de Markov;Ergodicidade;Algoritmos estocásticos': 0.00028567347521782604,\n",
              "  'Perfil lipídico; Consumo alimentar; Adolescentes': 0.00028567347521782604,\n",
              "  'Leishmaniose visceral;flebotomíneos;animais reservatórios': 0.00028567347521782604,\n",
              "  'Metalurgia do Pó; Sinterização; Metais Refratários; Materiais Cerâmicos; Materiais Nanopaticulados; Materiais Compósitos; Dispositivos.': 0.00028567347521782604,\n",
              "  'Desenvolvimento de Interfaces de Usuário;Interação Humano-Computador;Linguagens de Interfaces de Usuário': 0.00028567347521782604,\n",
              "  'Arqueologia da memória; Operador cognitivo; Complexidade antropológica': 0.00028567347521782604,\n",
              "  'Biodegradabilidade, Ecotoxicidade, testes': 0.00028567347521782604,\n",
              "  'Solos;Águas Subterrâneas;Valores de Referência': 0.00028567347521782604,\n",
              "  'diversidade semi-árido açudes': 0.00028567347521782604,\n",
              "  'Sociologia da Educação; Metodologia de Pesquisa Qualitativa; Sociobiografia ': 0.00028567347521782604,\n",
              "  'Educação, História e Memória;Processos educativos;Atores e Instituições educativas': 0.00028567347521782604,\n",
              "  'ALGAROBA, FRUTA DO CACTO, SEMI-ARIDO': 0.00028567347521782604,\n",
              "  'COMPOSIÇÃO CORPORAL, GORDURA CORPORAL, ADOLESCENTES, ANTROPOMETRIA': 0.00028567347521782604,\n",
              "  'Secadores Convectivos, Taxa de Secagem, Isoterma de Sorção, Abordagem Algébrico-Diferencial': 0.00028567347521782604,\n",
              "  'multicamadas magnéticas;partículas magnéticas nanométricas;superparamagnetismo': 0.00028567347521782604,\n",
              "  'Neuroetica, Neurosciencia da etica, KAnt,Mill': 0.00028567347521782604,\n",
              "  'Formação de professores;Profissão;Profissionalização docente': 0.00028567347521782604,\n",
              "  'Potencialidades do aquífero;Proteção das águas subterrâneas;Otimização do uso das águas subterrâneas': 0.00028567347521782604,\n",
              "  'cânone, revisionismo dialético, Harold Bloom': 0.00028567347521782604,\n",
              "  'práticas médicas;história da medicina;políticas de saúde': 0.00028567347521782604,\n",
              "  'Estabilidade de encostas;erosão;falésias': 0.00028567347521782604,\n",
              "  'lúpus, síndrome metabolica': 0.00028567347521782604,\n",
              "  'Gene TOP2;DNA Topoisomerase II;GFP': 0.00028567347521782604,\n",
              "  'estresse, recrutas': 0.00028567347521782604,\n",
              "  'Dança - Evolucionismo - Emoções/Sentimentos - Mente/Corpo - Personalidade': 0.00028567347521782604,\n",
              "  'pirólise;carbeto de tântalo;precursores poliméricos': 0.00028567347521782604,\n",
              "  'métodos numéricos, fluidodinâmica computacional, modelos matemáticos, simuladores': 0.00028567347521782604,\n",
              "  'Ferritas;Ni0,5Zn0,5Fe2O3;Ferromagnéticos': 0.00028567347521782604,\n",
              "  'significado do trabalho;análise fatorial;analfabetos': 0.00028567347521782604,\n",
              "  'açudes, bactérias patogênicas, cianotoxinas, semi-árido': 0.00028567347521782604,\n",
              "  'Formação de professores; matemática; pesquisa colaborativa': 0.00028567347521782604,\n",
              "  'Direito da Energia; Direito do Petróleo e Gás Natural; Distribuição de Gás': 0.00028567347521782604,\n",
              "  'Sistemas quasiperiódicos, Calor específico, Magnetização': 0.00028567347521782604,\n",
              "  'falha, modelagem, Bacia Potiguar': 0.00028567347521782604,\n",
              "  'comportamento alimentar;neofobia;faciliatação social': 0.00028567347521782604,\n",
              "  'Kant;neglected alternative;espaço tempo': 0.00028567347521782604,\n",
              "  'Educação e Literatura;Gênero  Educação e História;Gênero e Representação': 0.00028567347521782604,\n",
              "  'Gestão;Realidade social;Tecnologia da Informação': 0.00028567347521782604,\n",
              "  'Processo;Produção;Biossurfactantes': 0.00028567347521782604,\n",
              "  'Educação em Saúde, Hanseníase, Impacto': 0.00028567347521782604,\n",
              "  'Redução de dimensionalidade, visualização de dados, mapas auto-organizáveis, redes neurais, agrupamento de dados, sistemas inteligentes': 0.00028567347521782604,\n",
              "  'Filosofia antiga;Epicuro;Ética e natureza': 0.00028567347521782604,\n",
              "  'Saúde Reprodutiva;Saúde da Mulher;Cesáreas e esterilização': 0.00028567347521782604,\n",
              "  'farmacogenética; leucemia; genes de resistência': 0.00028567347521782604,\n",
              "  'Aloe vera; babosa; radiomarcação, pertecnetato de sódio; hemácias.': 0.00028567347521782604,\n",
              "  'Estresse hídrico; Helianthus annuus L.; metadolismo oxidativo; osmorreguladores': 0.00028567347521782604,\n",
              "  'Equivalência farmacêutica;Genérico;HPLC': 0.00028567347521782604,\n",
              "  'Educação, História e Memória;Processos educativos;Atores e Instituições educativas ': 0.00028567347521782604,\n",
              "  'robótica; sistemas multi-agentes; cooperação multi-robôs': 0.00028567347521782604,\n",
              "  'Ensino de Jogos e Brincadeiras. Perspectiva Metodológica. Colaboração. Inclusão.': 0.00028567347521782604,\n",
              "  'Fotônica;Método LTT;Antenas e Microondas': 0.00028567347521782604,\n",
              "  'diabetes tipo 2 em crianças e adolescentes;diagnostico de DM tipo 2 em crianças e adolescentes;avaliaçao nutricional': 0.00028567347521782604,\n",
              "  'Ensino.Educação.Matemática.História': 0.00028567347521782604,\n",
              "  'Cosmologia; Aglomerados de Galáxias; Formação de Estruturas; Modelos Cosmológicos;': 0.00028567347521782604,\n",
              "  'membranas ceramicas, oxidos mistos, co-precipitação via oxalato, tratamento de gas natural': 0.00028567347521782604,\n",
              "  'Artemia;Aqüicultura;Ecologia': 0.00028567347521782604,\n",
              "  'TERAPIA PULPAR;NECROSE PULPAR;DENTES DECÍDUOS': 0.00028567347521782604,\n",
              "  'Produtos regionais, Extração, Atividade antioxidante, Compostos fenólicos': 0.00028567347521782604,\n",
              "  'Geoquímica Ambiental, Poluição Química, Sedimentos de Fundo, Metais Pesados, Hidrocarbonetos de Petróleo': 0.00028567347521782604,\n",
              "  'Diversidade;Conservação;Flora': 0.00028567347521782604,\n",
              "  'Recursos Minerais;Propecção Geoquímica;Lítio': 0.00028567347521782604,\n",
              "  'Algas marinhas;Fibras têxteis;Novos materiais': 0.00028567347521782604,\n",
              "  'Pinhão manso; perfil protéico; biodiesel.': 0.00028567347521782604,\n",
              "  'quitosana;hidrogel;liberação controlada, gastrite, H.pylori ': 0.00028567347521782604,\n",
              "  'Fitoterápico;Aroeira;extrato seco': 0.00028567347521782604,\n",
              "  'Aids, vulnerabilidade, difusão': 0.00028567347521782604,\n",
              "  'Passiflora;seleção in vitro;murcha de fusarium': 0.00028567347521782604,\n",
              "  'Educação;Discurso político;Escola': 0.00028567347521782604,\n",
              "  'Avaliação;Tratamento de feridas;Usuários do setor cutativos': 0.00028567347521782604,\n",
              "  'Bibliotecas - História/Memória - História Intelectual': 0.00028567347521782604,\n",
              "  'Síndrome dos Ovários Policísticos;Espécies Reativas do Oxigênio;Doenças Cardiovascular': 0.00028567347521782604,\n",
              "  'Nupcialidade;Tábuas de multi-estado;Estados conjugais': 0.00028567347521782604,\n",
              "  'Sistemas Multi-agentes;Diagnóstico Clínico;Protocolos de negociação e cooperação': 0.00028567347521782604,\n",
              "  'Formação inicial;Professores;Pessoas com necesidades especiais': 0.00028567347521782604,\n",
              "  'gás natural;desidratação;dessulfurização': 0.00028567347521782604,\n",
              "  'Lógica Não-Clássica;Modelagem lógica;Discurso normativo': 0.00028567347521782604,\n",
              "  'núcleo supraquiasmático;folheto intergeniculado;mocó': 0.00028567347521782604,\n",
              "  'polpas de frutas;leito de jorro;grau de saturação': 0.00028567347521782604,\n",
              "  'Otimização via cadeia de Markov;Controle de processo em tempo real;Controle para variáveis': 0.00028567347521782604,\n",
              "  'Hemocromatose Hereditária;Mutação H63D;Mutação C282Y': 0.00028567347521782604,\n",
              "  'metáfora;pensamento analógico;complexidade': 0.00028567347521782604,\n",
              "  'relação médico-paciente, humanização, cuidado, formação médica': 0.00028567347521782604,\n",
              "  'África, memória, oralidade, racismo, cultura': 0.00028567347521782604,\n",
              "  'Reestruturação, reconfiguração, emprego formal, indústria.': 0.00028567347521782604,\n",
              "  'Pequenas cidades;Gestão do território;Desenvolvimento local': 0.00028567347521782604,\n",
              "  'energia escura;perturbações primordiais;quintessência': 0.00028567347521782604,\n",
              "  'Retrospectiva Histórica;Educação Especial;Pessoas com deficiência': 0.00028567347521782604,\n",
              "  'aids, saude mental. atenção psicossocial': 0.00028567347521782604,\n",
              "  'cimentos;corrosão;propriedades mecânicas': 0.00028567347521782604,\n",
              "  'Significado do trabalho;Motivação;Burnout': 0.00028567347521782604,\n",
              "  'secagem com microondas; alimentos; secagem em estufa': 0.00028567347521782604,\n",
              "  'Crise contemporânea; Controle Social e Direitos': 0.00028567347521782604,\n",
              "  'propaganda; consumo midiático; corpo midiático; produção de sentido da comunicação; tatuagem; memória; história de vida.': 0.00028567347521782604,\n",
              "  'doenças cardiovasculares;adolescentes;nutrição': 0.00028567347521782604,\n",
              "  'x;x;x': 0.00028567347521782604,\n",
              "  'substrato cerâmico, antena de microfita, comunicações sem fio': 0.00028567347521782604,\n",
              "  'Cidade, natureza, Natal, 1900-1940': 0.00028567347521782604,\n",
              "  'Estimulação transcraniana por corrente contínua, controle autonômico cardíaco, variabilidade da frequência cardíaca, obesidade, exercício físico': 0.00028567347521782604,\n",
              "  'Aqüicultura, Sistemas de Informação Geográfica, Sustentabilidade': 0.00028567347521782604,\n",
              "  'GRAVIMETRIA;NEOTECTÔNICA;ÁGUA SUBTERRÂNEA': 0.00028567347521782604,\n",
              "  'Obesidade; Prevalência; perfil lipídico': 0.00028567347521782604,\n",
              "  'Educação;Higienismo;Etica': 0.00028567347521782604,\n",
              "  'Tensoativo, microemulsão, corrosão': 0.00028567347521782604,\n",
              "  'Antropologia das populações afro-brasileiras;Religiosidade;Cultura': 0.00028567347521782604,\n",
              "  'rio Pitimbu, monitoramento, vazão, qualidade da água': 0.00028567347521782604,\n",
              "  'Bromeliaceae, fitotelmo, macrofauna': 0.00028567347521782604,\n",
              "  'Bombeio mecânico, Projeto assistido por computador, CAD, elevação artificial de petróleo': 0.00028567347521782604,\n",
              "  'Educação Escolar;Modernidade Educacional;Primeira República': 0.00028567347521782604,\n",
              "  'nitretos, carbetos, reator tubular, metais refratários': 0.00028567347521782604,\n",
              "  'Fruta,Soja,Mandioca,MEL': 0.00028567347521782604,\n",
              "  'Carbonatos;Arquipélago de São Pedro e São Paulo;Atlântico Equatorial': 0.00028567347521782604,\n",
              "  'Síndrome dos ovários policísticos;Variabilidade da freqüência cardíaca;Anovulação crônica': 0.00028567347521782604,\n",
              "  'peixes nativos, aspectos reprodutivos, açudes do Rio Grande do Norte.': 0.00028567347521782604,\n",
              "  'dispersão, ecologia de insetos, fragmentação, matriz, modelagem, Lepidoptera, Heliconius ': 0.00028567347521782604,\n",
              "  'extremos, análise multivariada, distribuições GEV e GPD': 0.00028567347521782604,\n",
              "  'distúrbios mentais, doenças neurodegenerativas, modelos animais': 0.00028567347521782604,\n",
              "  'glucanas, fungos, algas, polissacarídeos': 0.00028567347521782604,\n",
              "  'Gel de fraturamento;tensoativo;petróleo': 0.00028567347521782604,\n",
              "  'Geoquímica, Poluição Química, Solos, Metais Pesados, Tratamento de Dados': 0.00028567347521782604,\n",
              "  'Poesia;Representações líricas;Memória cultural': 0.00028567347521782604,\n",
              "  'Biosurfactantes;Processo;MEOR': 0.00028567347521782604,\n",
              "  'Alfabetização;Andragogia;Pedagogia': 0.00028567347521782604,\n",
              "  'Custos;Custos Hospitalares;Controladoria Hospitalar': 0.00028567347521782604,\n",
              "  'urbanismo, representações, modernização, cidade colonial': 0.00028567347521782604,\n",
              "  'Neoplatonismo;Heidegger;Escola de Kioto': 0.00028567347521782604,\n",
              "  'Saneamento Básico;Fatores sociossanitários;Condições socioambientais': 0.00028567347521782604,\n",
              "  'Educação Física Escolar; Projetos Sociais; Prática Pedagógica': 0.00028567347521782604,\n",
              "  'Desertificação, Balanço de Radiação, Modelo de Angstron': 0.00028567347521782604,\n",
              "  'estrutura argumental, verbos transitivos, cognição, interação': 0.00028567347521782604,\n",
              "  'Otimização;Enxame de partículas;NP-árduos': 0.00028567347521782604,\n",
              "  'Letramento. Gênero textual/discursivo. Tecnologia. Ensino-aprendizagem.': 0.00028567347521782604,\n",
              "  'Adsorção em Leito Expandido (ALE);Biomoléculas;Troca iônica': 0.00028567347521782604,\n",
              "  'Impacto ambiental;Genética;x': 0.00028567347521782604,\n",
              "  'geocartografia, geologia ambiental, geologia costeira, unidades de conservação': 0.00028567347521782604,\n",
              "  'Diques, Granitos, Pós-tectônicos, Cambriano, Leste do RN': 0.00028567347521782604,\n",
              "  'energia eólica;potencial eólico;energia renovável': 0.00028567347521782604,\n",
              "  'Águas Pluviais Urbanas;Manejo;Experimentação e Modelagem': 0.00028567347521782604,\n",
              "  'Mortalidade infantil, estimativas, estado do Rio Grande do Norte': 0.00028567347521782604,\n",
              "  'Protagonistas do Movimento de Natal; Práticas Socioeducativas; História e Memória': 0.00028567347521782604,\n",
              "  'lógica;epistemologia;filosofia analítica': 0.00028567347521782604,\n",
              "  'enxerto ósseo; descelularização; biotecnologia': 0.00028567347521782604,\n",
              "  'Violência na Criança;Atuação dos Profissionais de saúde na violência contra criaça;assitência à criança violentada': 0.00028567347521782604,\n",
              "  'complexidade; metáforas; educação; epistemologia': 0.00028567347521782604,\n",
              "  'estresse, floração, prospecção de genes, prospecção de proteínas': 0.00028567347521782604,\n",
              "  'Satisfação profissional;Motivação no trabalho;Satisfaçao da equipe de enfermagem no tabalho': 0.00028567347521782604,\n",
              "  'História da Educação;Escolas Radiofônicas;Arquidiocese de Natal': 0.00028567347521782604,\n",
              "  'Humanização Hospitalar;Saúde Psíquica;Profissionais de Saúde': 0.00028567347521782604,\n",
              "  'Neurônios mioentéricos;Diabetes mellitus;Ácido ascórbico': 0.00028567347521782604,\n",
              "  'extração;CO2 pressurizado;produtos naturais': 0.00028567347521782604,\n",
              "  'Logos, dzein, cultura, Aristóteles, Heidegger': 0.00028567347521782604,\n",
              "  'Máquina de Comitê, SVM, Adaboost ': 0.00028567347521782604,\n",
              "  'Rio Pirangi;Afluentes;Relevo': 0.00028567347521782604,\n",
              "  'Mecânica dos Fluidso Computacional;Hidraulica Computacional;Métodos Numéricos': 0.00028567347521782604,\n",
              "  'DNA, Peptídeo, Mecânica Quântica, Propriedades Eletrônicas': 0.00028567347521782604,\n",
              "  'Litopenaeus vannamei;poliploidia;hibridação': 0.00028567347521782604,\n",
              "  'Feijão Verde;Secagem;Leito de Jorro': 0.00028567347521782604,\n",
              "  'CADEIAS DE MARKOV;ALGORITMO GENETICO;CONDIÇÕES DO TIPO DOEBLIN': 0.00028567347521782604,\n",
              "  'extração supercrítica, antioxidantes, especiarias e condimentos': 0.00028567347521782604,\n",
              "  'climatério;fitoestrogênios;isoflavona': 0.00028567347521782604,\n",
              "  'Berkeley;Ceticismo;Senso-comum': 0.00028567347521782604,\n",
              "  'Imunofenotipagem celular;Citometria de fluxo;Leucemias': 0.00028567347521782604,\n",
              "  'Fitoterápicos;Superfície de Resposta;Otimização': 0.00028567347521782604,\n",
              "  'proteção internacional;direitos humanos;estudo comparado': 0.00028567347521782604,\n",
              "  'Strepsiptera;Armadilha Malaise;entomofauna potiguar': 0.00028567347521782604,\n",
              "  'Formação Docente;Profissionalização Docente;Competências Docente': 0.00028567347521782604,\n",
              "  'Controladoria Governamental;Modelos;Controle Público': 0.00028567347521782604,\n",
              "  'amígdala, neurotransmissão, memória, emoção': 0.00028567347521782604,\n",
              "  'Tratamento de esgotos, nitrificação desnitrificação, filtro aerado submerso simples': 0.00028567347521782604,\n",
              "  'Algoritmos Adaptativos; Caos; Controle Não-Linear; Dinâmica Não-Linear; Lógica Difusa; Modos Deslizantes; Redes Neurais Artificiais; Robótica; Sistemas Inteligentes': 0.00028567347521782604,\n",
              "  'Água subterrânea;Aquífero Jandaira;Salinização': 0.00028567347521782604,\n",
              "  'Saúde do Idoso;Atenção Básica de Saúde;Gerontologia': 0.00028567347521782604,\n",
              "  'resíduos; industriais; bioprocessos, agregação; valor': 0.00028567347521782604,\n",
              "  'LESÕES PROLIFERATIVAS NÃO NEOPLÁSICAS;IMUNO-HISTOQUÍMICA;MATRIZ EXTRACELULAR': 0.00028567347521782604,\n",
              "  'SANDPLAY; JOGO DE AREIA; CAIXA DE AREIA; PEDAGOGIA VIVENCIAL; HUMANESCÊNCIA; LUDICIDADE': 0.00028567347521782604,\n",
              "  'Rastrador Solar;GNU Linux;Sistemas de Controle': 0.00028567347521782604,\n",
              "  'Professora negra;Raça e etnia;Mulher': 0.00028567347521782604,\n",
              "  'Pequenas áreas;Projeção Populacional;Estatística espacial': 0.00028567347521782604,\n",
              "  'literaturas africanas, literatura brasileira, indentidade cultural': 0.00028567347521782604,\n",
              "  'termogravimetria, fluconazol, itraconazol, curvas de pressão de vapor, doseamento': 0.00028567347521782604,\n",
              "  'Financiamento do turismo;empreendimentos hoteleiros;Políticas de turismo': 0.00028567347521782604,\n",
              "  'Qualidade de vida;vida diária;x': 0.00028567347521782604,\n",
              "  'Pós de Carbetos de Metais Refratários; NB; TA; W.': 0.00028567347521782604,\n",
              "  'bioecologia;Leishmania;entomologia': 0.00028567347521782604,\n",
              "  'Literatura comparada;Revue des deux mondes;Visconde de Taunay': 0.00028567347521782604,\n",
              "  'Glomeromycota, glomerosporos, taxonomia, restinga': 0.00028567347521782604,\n",
              "  'Barragem Marechal Dutra - Acari RN;Fitoplâncton;Monitoramento ambiental': 0.00028567347521782604,\n",
              "  'Urbanização Turística;Atividade Imobiliária;Configuração Metropolitana': 0.00028567347521782604,\n",
              "  'Gestão da Tecnologia de informação, Adoção de Tecnologia, Modelos de Aceitação de Tecnologia-TAM, Software Livre, Open Source': 0.00028567347521782604,\n",
              "  'Sistemas de Informação;Mortalidade;Epidemiologia': 0.00028567347521782604,\n",
              "  'Currículo, trabalho pedagógico, inclusão escolar, práticas emancipatórias': 0.00028567347521782604,\n",
              "  'LECTINA;INVERTEBRADO;DEFESA': 0.00028567347521782604,\n",
              "  'DIREITO DO PETRÓLEO, GÁS NATURAL E BIOCOMBUSTÍVEIS': 0.00028567347521782604,\n",
              "  'crescimento infantil;amamentação;modelos de efeitos mistos': 0.00028567347521782604,\n",
              "  'locomoção semi-autônoma;  órtese;  sistemas embarcados': 0.00028567347521782604,\n",
              "  'Inteligência Artificial;Música;Computação': 0.00028567347521782604,\n",
              "  'fitoterápico, melão de São Caetano, Momordica charantia, supositório': 0.00028567347521782604,\n",
              "  'Dramaturgia;Sujeito;Performatividade': 0.00028567347521782604,\n",
              "  'Método de Vórtices;Método de Painéis;Coeficiêntes Aerodinâmicos': 0.00028567347521782604,\n",
              "  'avaliação economica, opções reais, vant': 0.00028567347521782604,\n",
              "  'Anatomia Vegetal;Plantas cultivadas;Fitopatologia': 0.00021425510641336952,\n",
              "  'pRÁTICAS EDUCATIVAS;IGREJA CATÓLICA;ESTUDO INTERCULTURAL': 0.00021425510641336952,\n",
              "  'TERMOGRAVIMETRIA, ANÁLISE TÉRMICA': 0.00021425510641336952,\n",
              "  'leucócitos; tecnécio; fluorescência; diagnóstico; infecção; ratos.': 0.00021425510641336952,\n",
              "  'BANCO DE DADOS NÃO CONVENCIONAL;SISTEMAS MULTI-AGENTES;AMBIENTES HETEROGÊNEOS': 0.00021425510641336952,\n",
              "  'reutilização de água residuária;critérios de qualidade;tratamento de efluentes': 0.00021425510641336952,\n",
              "  'Assistência Social; Direitos; Entidades de Assistência Social, Sociedade Civil, Cultura Política, Gestão Social': 0.00021425510641336952,\n",
              "  'Avaliação de Programas; Pesquisa sobre Serviços de Saúde; Serviços de Saúde Comunitária; Estratégia Saúde da Família.': 0.00021425510641336952,\n",
              "  'aprendizagem - desenvolvimento - escola - inclusão ': 0.00021425510641336952,\n",
              "  'Serviço Social;História;Departamento de Serviço Social': 0.00021425510641336952,\n",
              "  'petróleo;genômica;biodegradação': 0.00021425510641336952,\n",
              "  'relações pessoa-ambiente;projeto de arquitetura;a': 0.00021425510641336952,\n",
              "  'Trypanosoma cruzi;Antiparasitários;Ratos Wistar': 0.00021425510641336952,\n",
              "  'Flora, Guia de identificação de plantas, Angiospermas, APA Jenipabu.': 0.00021425510641336952,\n",
              "  'Ecologia de peixes;Limnologia;Semi-árido': 0.00021425510641336952,\n",
              "  'Abrolhos;Caravelas;Hidrodinâmica': 0.00021425510641336952,\n",
              "  'Metropoles, politica urbana, planejamento urbano': 0.00021425510641336952,\n",
              "  'Úlceras Venosas, Protocolo Assistencial, Atenção à Saúde. ': 0.00021425510641336952,\n",
              "  'Sistemas Elétricos; Supervisão; Veículo Aéreo Não Tripulado, Automação de Sistemas Elétricos': 0.00021425510641336952,\n",
              "  'cultura, texto literário, língua inglesa, ensino-aprendizagem ': 0.00021425510641336952,\n",
              "  'Treino de marcha, paralisia cerebral': 0.00021425510641336952,\n",
              "  'PLANEJAMENTO;ORGANIZAÇÃO;MAPEAMENTO': 0.00021425510641336952,\n",
              "  'Resiliência;Adolescência;Diabetes Mellitus Tipo I': 0.00021425510641336952,\n",
              "  'Solanum panicultaum Linn;ensaio clínico; atividade antimicrobiana': 0.00021425510641336952,\n",
              "  'fenólicos, frutas, antioxidante, funcionalidade': 0.00021425510641336952,\n",
              "  'Susceptibilidade erosiva;Erosividade da chuva;Escoamento superficial': 0.00021425510641336952,\n",
              "  'Internacionalização da Produção;Região Nordeste;Balança Comercial': 0.00021425510641336952,\n",
              "  'Vicilinas, quitina, leguminosas, in silico': 0.00021425510641336952,\n",
              "  'interfaces,design, interação humano-computador': 0.00021425510641336952,\n",
              "  'LUPUS ERITEMATOSO STÊMICO;hIPERTENSÃO ARTERIAL PULMONAR;COCARDIOGRAMA': 0.00021425510641336952,\n",
              "  'Glucagon Like Peptide 1(GLP-1);Exerercícios físicos;Amido, galactomanano': 0.00021425510641336952,\n",
              "  'Direito e desenvolvimento; institucionalismo;políticas públicas': 0.00021425510641336952,\n",
              "  'Cuidado parental, prolactina, cortisol, sagui, Callithrix jacchus': 0.00021425510641336952,\n",
              "  'História Oral e Memória;Ditadura Militar;História do Rio Grande do Norte': 0.00021425510641336952,\n",
              "  'bleniídeos;taxonomia;ilhas oceânicas': 0.00021425510641336952,\n",
              "  'sistemas multiagentes, personalidade, negociação': 0.00021425510641336952,\n",
              "  'política educacional; ensino superior; expansão e diversificação.': 0.00021425510641336952,\n",
              "  'Indicadores socioambientais, fatores sociossanitários, análise espacial, saneamento básico': 0.00021425510641336952,\n",
              "  'magnetismo;experimetais;ferromagnético': 0.00021425510641336952,\n",
              "  'Porosidade; permeabilida; estereologia; simulação': 0.00021425510641336952,\n",
              "  'Álcool, dependência, crenças e comportamentos': 0.00021425510641336952,\n",
              "  'compromisso pró-ecológico; sustentabilidade; perspectiva temporal de futuro; cuidado ambiental; mudanças climáticas globais': 0.00021425510641336952,\n",
              "  'eleições;partidos políticos;hegemonia': 0.00021425510641336952,\n",
              "  'Dengue;Aedes;Bromélias': 0.00021425510641336952,\n",
              "  'FORMAÇÃO CONTINUADA;GEOGRAFIA ESCOLAR;CURRÍCULO/MEMÓRIA': 0.00021425510641336952,\n",
              "  'reparo de DNA;tiorredoxinas;biologia estrutural': 0.00021425510641336952,\n",
              "  'BSW;Petróleo;Densidade': 0.00021425510641336952,\n",
              "  'infra-estrutura;agentes sociais;políticos e econômicos': 0.00021425510641336952,\n",
              "  'Literatura pessoal;Relatos de prisão;Autobiografia': 0.00021425510641336952,\n",
              "  'baculovírus, controlador biológico, cultivo de células de inseto': 0.00021425510641336952,\n",
              "  'NEOPLASIA MALIGNA;HOSPITAL DE REFERENCIA;HUMANIZAÇÃO DE ASSISTENCIA': 0.00021425510641336952,\n",
              "  'Nitrato, adsorventes naturais, fibras vegetais, isotermas de adsorção.': 0.00021425510641336952,\n",
              "  'Biotecnologia Vegetal;Algodão;Cultura de Anteras': 0.00021425510641336952,\n",
              "  'Música. Educação. Formação docente': 0.00021425510641336952,\n",
              "  ' sistemas não lineares, Newton-Inexato, termo forçante, busca linear ': 0.00021425510641336952,\n",
              "  'Qualidade, Controle Estatístico de Processo - CEP; Métodos Estatísticos ': 0.00021425510641336952,\n",
              "  'busca linear, backtraking, sistemas nao-lineare, Newton-inexato, estrategias de convergencia global': 0.00021425510641336952,\n",
              "  'Esclerose Lateral Amiotrófica, Medida de Independencia Funcional': 0.00021425510641336952,\n",
              "  'aves, ecologia, mata atlântica, conservação, dinâmica populacional': 0.00021425510641336952,\n",
              "  'Mortalidade;Causas externas de morte;Distribuição espacial': 0.00021425510641336952,\n",
              "  'Financiamento. Valorização dos Prpfessores. FUNDEB. Piso Salarial': 0.00021425510641336952,\n",
              "  'Cidade;Formas simbólicas;Relações econômicas': 0.00021425510641336952,\n",
              "  'Bacia Potiguar;Falha;Reativação': 0.00021425510641336952,\n",
              "  'Linguagens de Especificação;Matemática Intervalar;Especificação de Sistemas Confiáveis': 0.00021425510641336952,\n",
              "  'Cinema;Pós-Modernismo;Metrópole': 0.00021425510641336952,\n",
              "  'Filosofia da Ciência;Epistemologia;Ética': 0.00021425510641336952,\n",
              "  'Perda de solo, Modelagem da erosão': 0.00021425510641336952,\n",
              "  'Aprendizado de Máquina, Sistemas Inteligentes Híbridos': 0.00021425510641336952,\n",
              "  'Microclima, Balanço Hidrológico, Radiação Ultravioleta': 0.00021425510641336952,\n",
              "  'Lactoferrina, leitao, desmame, bem-estar, integridade intestinal, diarreia': 0.00021425510641336952,\n",
              "  'conservação de alimentos;tecnologia de alimentos;processamento de alimentos': 0.00021425510641336952,\n",
              "  'avaliação,  abortamento, humanização, intergralidade, cuidado': 0.00021425510641336952,\n",
              "  'Representações Sociais, Formação de Professores, Licenciaturas': 0.00021425510641336952,\n",
              "  'Atividade Física, Qualidade de Vida, Saúde, Práticas Corporais Orientais': 0.00021425510641336952,\n",
              "  'leucemia, neuropsicologia, neurodesenvolvimento': 0.00021425510641336952,\n",
              "  'glucanas- polissacarídeos - inflamação- antioxidantes': 0.00021425510641336952,\n",
              "  'GÊNERO DISCURSIVO; MULTIDIMENSIONALIDADE;MULTIMODALIDADE; MULTIFUNCIONALIDADE; ': 0.00021425510641336952,\n",
              "  'problemas inversos, dispersão, fator de qualidade, sísmica, GPR': 0.00021425510641336952,\n",
              "  'Imprensa do RN; contra-hegemonia; comunicação alternativa; comunicação comunitária': 0.00021425510641336952,\n",
              "  'Hierarquia de dominância;Estratégias reprodutivas de machos;Indicadores comportamentais e hormonais do posto social': 0.00021425510641336952,\n",
              "  'Lógica modal;Lógica intuicionissta;Logica da Provabilidade': 0.00021425510641336952,\n",
              "  'adsorção;microemulsão;extração': 0.00021425510641336952,\n",
              "  'mecãnica estatística;fenômenos críticos;simulação computacional': 0.00021425510641336952,\n",
              "  'reparo por excisão de base;cana-de-açúcar;genomica funcional': 0.00021425510641336952,\n",
              "  'cooperação;ensino-aprendizagem;técnicas freinetianas': 0.00021425510641336952,\n",
              "  'macroalga, biorremediação, nutrientes': 0.00021425510641336952,\n",
              "  'Minerais Industriais;Geoporcessamento;Sistemas de Informação': 0.00021425510641336952,\n",
              "  'Biossegurança;Hospital;Acadêmicos de enfermagem': 0.00021425510641336952,\n",
              "  'Arquitetura e Urbanismo;Conforto Ambiental;Ventilação Natural': 0.00021425510641336952,\n",
              "  'Sentidos, Identidade, Alteridade': 0.00021425510641336952,\n",
              "  'pigmentos cerâmicos;oxidos mistos;terras raras': 0.00021425510641336952,\n",
              "  'Reutilização de águas residuárias;Reúso urbano;Irrigação de canteiros públicos': 0.00021425510641336952,\n",
              "  'Defeitos Topológicos, Cosmologia, Matéria Condensada.': 0.00021425510641336952,\n",
              "  'Cerâmica;Processo de fabricação;Gás natural': 0.00021425510641336952,\n",
              "  'Moral Crista;Formula da Lei Universal da Natureza;Tomas de Aquino e Kant': 0.00021425510641336952,\n",
              "  'Regimentos, práticas, dispositivos, normalização, sujeito': 0.00021425510641336952,\n",
              "  'minerais opacos;microscopia de minérios;metalogênese': 0.00021425510641336952,\n",
              "  'Choro Natal': 0.00021425510641336952,\n",
              "  'extração, biodiesel, supercrítico, óleos': 0.00021425510641336952,\n",
              "  'Restauracao florestal, Diversidade, Servicos ecossistemicos': 0.00021425510641336952,\n",
              "  'Mercado de trabalho, Região Metropolitana, Terciário': 0.00021425510641336952,\n",
              "  'Monitoramento ambiental; Indicadores de poluição; Litoral de Natal': 0.00021425510641336952,\n",
              "  'amostragem de água;equipamento automatico;recursos hidricos': 0.00021425510641336952,\n",
              "  'Ensino. Aprendizagem. Formação docente. Saberes docentes. Competências. ': 0.00021425510641336952,\n",
              "  'História da cidade, meios de transporte, Natal-RN ': 0.00021425510641336952,\n",
              "  'plasma;sinterização;metalurgia do pó': 0.00021425510641336952,\n",
              "  'cultura de tecidos;micropropagação;embriogenese somatica': 0.00021425510641336952,\n",
              "  'efeitos de interface;bicamadas magnéticas;efeitos de superfície em filmes finos': 0.00021425510641336952,\n",
              "  'Instituições, crime, corrupação, economia política': 0.00021425510641336952,\n",
              "  'teoria da prova': 0.00021425510641336952,\n",
              "  'cerâmica vermelha;gás natural;formulacao': 0.00021425510641336952,\n",
              "  'Neoplasias bucais, Sistema Único de Saúde, Serviços de Saúde': 0.00021425510641336952,\n",
              "  'Especies oleaginosas, biodiesel, salinidade, seca, mecanismos de resistencia, ajustamento osmotico': 0.00021425510641336952,\n",
              "  'Filosofia, Lógica, Teoria da Prova, Negação': 0.00021425510641336952,\n",
              "  'Cactaceae, Sistemática, Evolução': 0.00021425510641336952,\n",
              "  'polos geradores de tráfego;hospitais;transporte e ambiente urbano': 0.00021425510641336952,\n",
              "  'Política de Gestão do Trabalho e da Educação; SUS; Bipartite; Conselho Estadual de Saúde; Conselho Municipal de Saúde  ': 0.00021425510641336952,\n",
              "  'Controlador PID Genético;Controlador Dual Adaptativo Robusto;Motor de Indução Trifásico': 0.00021425510641336952,\n",
              "  'Câncer oral;Moléculas de adesão;Prognóstico': 0.00021425510641336952,\n",
              "  'reconhecimento de padrões, biometria, visão computacional': 0.00021425510641336952,\n",
              "  'glp-1, glicemia, carboidratos, exercício físico, corticoesterona, citocinas': 0.00021425510641336952,\n",
              "  'envelhecimento, idoso, saúde, ILPI': 0.00021425510641336952,\n",
              "  'Problemas do Setor Petróleo e Gás;Modelos de Otimização Combinatória;Metaheurísticas': 0.00021425510641336952,\n",
              "  'Facilitação Neuromuscular Proprioceptiva. Padrões Unilaterais e Bilaterais. Marcha hemiplégica.': 0.00021425510641336952,\n",
              "  'Imobiliario Turistico, Gestão ambiental, Instrumentos urbanIsticos, segregação residencial, canais de participação social  ': 0.00021425510641336952,\n",
              "  'Religiosidade;Umbanda;Cultura Afro-Brasileira': 0.00021425510641336952,\n",
              "  'Lectinas, invertebrados, glicobiologia': 0.00021425510641336952,\n",
              "  'qualidade;Controle Estatístico de Processo - CEP;Métodos Estatísticos': 0.00021425510641336952,\n",
              "  'GEOGRAFIA; ESPACIALIDADE; TURISMO; DESENVOLVIMENTO REGIONAL': 0.00021425510641336952,\n",
              "  'Religião, Espaço Público, Felipe Camarão, Juventude, Igrejas Evangélicas ': 0.00021425510641336952,\n",
              "  'cosmologia, formação de estruturas, energia escura, teoria de campos': 0.00021425510641336952,\n",
              "  'Higienismo; Civilidade; Saúde; Modernidade; Urbanização; Identidade': 0.00021425510641336952,\n",
              "  'Análise de Sobrevivência, Fração de Cura': 0.00021425510641336952,\n",
              "  'Biometrcis, Soft-biometrics, identification, security, social networks envirolment': 0.00021425510641336952,\n",
              "  'aproveitamento sustentável de áreas salinizadas; estresse salino; girassol; Helianthus annuus L.; produção de lavouras no semi-árido; seleção de genótipos de girassol resistentes à salinidade': 0.00021425510641336952,\n",
              "  'AIDS HIV;Vulnerabilidade;Rio Grande do Norte': 0.00021425510641336952,\n",
              "  'Metamateriais; semicondutores; quasi-cristais; multicamadas ': 0.00021425510641336952,\n",
              "  'saúde pública; insetos vetores; leishmanioses; caatinga': 0.00021425510641336952,\n",
              "  'Sociabilidade;Direitos;Projeto ético-político-profissional': 0.00021425510641336952,\n",
              "  'FERRITAS;Ni1-xMgxFe2O4;FERROMAGNÉTICOS': 0.00021425510641336952,\n",
              "  'Análise de Sobrevivência;Taxa de falha;Estimador do tipo núcleo': 0.00021425510641336952,\n",
              "  'fucanas, galactanas, polissacarídeos, heparinoides': 0.00021425510641336952,\n",
              "  'políticas públicas; direitos fundamentais; Administração Pública': 0.00021425510641336952,\n",
              "  'Desenvolvimento humano;Arte;Transdisciplinaridade': 0.00021425510641336952,\n",
              "  'Palavras-chave: Crianças e adolescentes; conselhos municipais; políticas públicas.': 0.00021425510641336952,\n",
              "  'LEISHMANIOSES, FLEBOTOMÍNEOS, HOSPEDEIROS ANIMAIS': 0.00021425510641336952,\n",
              "  'Cotidiano. Ideologia. Literatura. Roland Barthes. Texto.': 0.00021425510641336952,\n",
              "  'biodiesel, algodão, catalisadores': 0.00021425510641336952,\n",
              "  'Legislação Urbana;Plano Diretor;Banco de Dados Plano Diretor': 0.00021425510641336952,\n",
              "  'Gravidez na adolescência;Reincidência da gravidez;Perfil biopsicossocial': 0.00021425510641336952,\n",
              "  'Transporte Eletrônico, DFA, Ab-initio, Propriedade Crítica': 0.00021425510641336952,\n",
              "  'membramas cerâmicas, separação e detecção de gases, terras raras, perovskita': 0.00021425510641336952,\n",
              "  'Sofrimento Mental;Representações Sociais;Saúde Mental': 0.00021425510641336952,\n",
              "  'Sistemas de Duas Fases Aquosa; Adsorção em Leito Expandido; Soro; Proteínas': 0.00021425510641336952,\n",
              "  'Pesquisa Colaborativa;Ensino-Aprendizagem;Sociologia da Educação': 0.00021425510641336952,\n",
              "  'HABITAT - VIDA COTIDIANA - URBANISMO - RURAL -URBANO - DIALÉTICA - PRODUÇÃO DO ESPAÇO': 0.00021425510641336952,\n",
              "  'Radiação UV; Conforto Térmico; Balanço Hídrico': 0.00021425510641336952,\n",
              "  'SUBSTANCIA QUE CONTÉM HETEROATOMO, MICROEMULSÃO, INIBIDOR DE CORROSÃO': 0.00021425510641336952,\n",
              "  'visão computacional, realidade aumentada, mapeamento, localização, dispositivo móvel': 0.00021425510641336952,\n",
              "  'Ensino; Literatura; Argumentação: Andaimagem': 0.00021425510641336952,\n",
              "  'Bacia Potiguar, sistema de falhas': 0.00021425510641336952,\n",
              "  'Perfil Epidemiológico;Trabalhadores de Enfermagem;Acidentes com Material Perfurocortante': 0.00021425510641336952,\n",
              "  'Região;Regionalização;Produção do espaço': 0.00021425510641336952,\n",
              "  '  HPV, prevalência, infecções da cérvice uterina, epidemiologia.': 0.00021425510641336952,\n",
              "  'praticas discursivas;processos de significaçao;formaçao de professores': 0.00021425510641336952,\n",
              "  'ÁGUAS RESIDUÁRIAS; salinas; corante; têxtil; tratamento de efluentes; fotoquímica': 0.00021425510641336952,\n",
              "  'Divulgação científica, popularização da física, Física;': 0.00021425510641336952,\n",
              "  'Sensoriamento Remoto, Mapeamento Geoambiental, SIG': 0.00021425510641336952,\n",
              "  'mulher;pesquisa;produção científica': 0.00021425510641336952,\n",
              "  'leite em pó;secagem;leito de jorro': 0.00021425510641336952,\n",
              "  'Sofrimento social, população negra, saúde coletiva e racismo': 0.00021425510641336952,\n",
              "  'literatura;a;a': 0.00021425510641336952,\n",
              "  'Bioética, Ética em odontologia': 0.00021425510641336952,\n",
              "  'Polissacarídeos sulfatados;Algas marinhas;Anticoagulantes': 0.00021425510641336952,\n",
              "  'Saúde mental, Sofrimento Psíquico, Qualidade de vida, Atenção Básica, SUS': 0.00021425510641336952,\n",
              "  'corante, quitosana, adsorção, tratamento de efluentes': 0.00021425510641336952,\n",
              "  'ostra;cultivo;crescimento': 0.00021425510641336952,\n",
              "  'Pratica de escritura;Cadernos de campo;Roger Bastide': 0.00021425510641336952,\n",
              "  'Energia eólica;Aerogeradores;Impactos na rede': 0.00021425510641336952,\n",
              "  'Mundo do trabalho atual;riscos ocupacionais;Condições de Trabalho': 0.00021425510641336952,\n",
              "  'Redes neurais auto-organizáveis;Segmentação de mercados;Sistemas de computação': 0.00021425510641336952,\n",
              "  'Evaporação;Balanço Hídrico;Perda de Água': 0.00021425510641336952,\n",
              "  'reatores;carbetos;metais refratários': 0.00021425510641336952,\n",
              "  'percepção da fala, ruído, crianças, escolas': 0.00021425510641336952,\n",
              "  'Bagaços de frutas;Extração de fibras;Secagem e Modelagem': 0.00021425510641336952,\n",
              "  'Choromobacterium violacem;mutagênese;fotossensibilizador': 0.00021425510641336952,\n",
              "  'Leveduras - Candida albicans - cateter - sonda': 0.00021425510641336952,\n",
              "  'Carboidratos complexos;Índice Glicêmico;Desempenho de atletas': 0.00021425510641336952,\n",
              "  'Emoções, Espiritismos, Lúcifer, Revolta, Pessoa Espírita': 0.00021425510641336952,\n",
              "  'inventário faunístico;macroinvertebrados;biodiversidade norte-riograndense': 0.00021425510641336952,\n",
              "  'EUTROFIZAÇÃO, MICROCISTINAS, SEMI-ÁRIDO': 0.00021425510641336952,\n",
              "  'Dengue;Aedes aegypti;Controle': 0.00021425510641336952,\n",
              "  'cobertura  -  telha;conforto térmico;transferência de calor': 0.00021425510641336952,\n",
              "  'Alfabetização; Formação de Professor; Escola pública; Sucesso Escolar; Educação de Adultos.': 0.00021425510641336952,\n",
              "  'Quitosana; Enzima; Processo fermentativo; Oligossacarídeos': 0.00021425510641336952,\n",
              "  'MICROENCAPSULAÇÃO, FRUTAS, LEITO DE JORRO': 0.00021425510641336952,\n",
              "  'clima, séries temporais, GARCH, RNA': 0.00021425510641336952,\n",
              "  'Parâmetros Críticos, Transição de Fase, Estatística de Tsalis, Percolação': 0.00021425510641336952,\n",
              "  'Cidades-Pólos;Divisão Social do Trabalho;Cidades e Áreas Estagnadas': 0.00021425510641336952,\n",
              "  'fucanas;polissacarídeos;atividade biológica': 0.00021425510641336952,\n",
              "  'Compressão de imagens;Redes Neurais Artificiais;Sistemas Auto-organizáveis': 0.00021425510641336952,\n",
              "  'Sistemas de Controle; Controle sob Restrições; Sistemas Dinâmicos Lineares': 0.00021425510641336952,\n",
              "  'Transcriptoma;Loxosceles laeta;Toxinas': 0.00021425510641336952,\n",
              "  'Ensino Médio; Educação Profissional; Matriz Curricular.': 0.00021425510641336952,\n",
              "  'Emulsões;Diagramas Ternários;HLB': 0.00021425510641336952,\n",
              "  'reciclagem;pneus;meio ambiente': 0.00021425510641336952,\n",
              "  'Tuberculose, Dose fixa combinada, Rifampicina, Isoniazida, Pirazinamida, Etambutol, Comprimido': 0.00021425510641336952,\n",
              "  'hidroquímica;geoquímica ambiental;recursos hídricos': 0.00021425510641336952,\n",
              "  'Fitomedicamentos;Controle de Qualidade;Metodologias Analíticas': 0.00021425510641336952,\n",
              "  'Impactos Ambientais;Monitoramento Costeiro;Perfil Praial': 0.00021425510641336952,\n",
              "  'Mapas de sensibilidade;monitoramento costeiro;derrame de óleo': 0.00021425510641336952,\n",
              "  'Pré-formulação;Tuberculostático;Granulação': 0.00021425510641336952,\n",
              "  'Compatibilidade eletromagnética,Indução magnética,aterramento elétrico ': 0.00021425510641336952,\n",
              "  'Financiamento, partidos , eleições': 0.00021425510641336952,\n",
              "  'linguagem;relações dialógicas;identidade': 0.00021425510641336952,\n",
              "  'ciclo vigília-sono, função cognitiva, qualidade de vida, acidente vascular cerebral': 0.00021425510641336952,\n",
              "  'biodiesel; Cocos Nucifera; Coconut': 0.00021425510641336952,\n",
              "  'Simulação Numérica;recuperação avançada de petróleo;método térmico': 0.00021425510641336952,\n",
              "  'eleições presidenciais;Mídia impressa;Comportamento eleitoral': 0.00021425510641336952,\n",
              "  'Adequação laboratório, tratamento e reúso de águas, águas de produção de petróleo.': 0.00021425510641336952,\n",
              "  'Universidade - Institucionalização - Curso de pedagogia': 0.00021425510641336952,\n",
              "  'TERAPIAS COMPLEMENTARES, CUIDADO PRÉ-NATAL, HUMANIZAÇÃO DA ASSISTÊNCIA, RELAÇÕES MENTE-CORPO': 0.00021425510641336952,\n",
              "  'Sistemas Sinóticos, Imagens de Satélite, Intensidade pluviométrica': 0.00021425510641336952,\n",
              "  'Investigação histórica; História de práticas sociais; formação de professores de matemática': 0.00021425510641336952,\n",
              "  '10303022': 0.00021425510641336952,\n",
              "  'dialogo; formação docente; reflexão': 0.00021425510641336952,\n",
              "  'Resiliência;Terceira Idade;Atenção Básica': 0.00021425510641336952,\n",
              "  'aquecimento eletromagnético;secagem de alimentos;microondas': 0.00021425510641336952,\n",
              "  'Adesão celular, Diferenciação celular, Biomateriais, Modificação de superfície': 0.00021425510641336952,\n",
              "  'Heparina, Heparinóides, Glicosaminoglicanos, polissacarideos sulfatados, inflamação': 0.00021425510641336952,\n",
              "  'Música - composição;Análise musical;Piano - Sonata': 0.00021425510641336952,\n",
              "  'Sais de titanio ; titanatos; metais de transicao ': 0.00021425510641336952,\n",
              "  'Processo de separação; Técnicas avançadas de tratamento de água industrial; Água produzida em atividades de exploração/produção de petróleo': 0.00021425510641336952,\n",
              "  'carcinicultura;infecções bacterianas;diagnóstico': 0.00021425510641336952,\n",
              "  'blocos de indio, festa, carnaval, identidade, natal': 0.00021425510641336952,\n",
              "  'Bacia Potiguar;Reservatórios petrolíferos;Modelagem estocástica': 0.00021425510641336952,\n",
              "  'regulação; defesa do consumidor; fornecimento de combustíveis': 0.00021425510641336952,\n",
              "  'Obeso;Perfil;Comportamento e Saúde': 0.00021425510641336952,\n",
              "  'Turismo;Turismo de evento;Eventos em Natal': 0.00021425510641336952,\n",
              "  'leishmania, genetica, susceptibilidade, fatores de riscos': 0.00021425510641336952,\n",
              "  'aves;ornitologia;zoogeografia': 0.00021425510641336952,\n",
              "  'Toposiomerase II, GFP, localização cerlular, S. cerevisae, bioflavonóides': 0.00021425510641336952,\n",
              "  'Memoriais acadêmicos;Ensino superior brasileiro;Formação e inserção profissional docente': 0.00021425510641336952,\n",
              "  'Emulsões;HLB;Diagrama Ternário': 0.00021425510641336952,\n",
              "  'Baculovirus, biopesticida viral, lagarta do cartucho do milho': 0.00021425510641336952,\n",
              "  'Arte popular \\x96 Arte no RN \\x96 História da arte no RN': 0.00021425510641336952,\n",
              "  'Staphylococcus aureus;MRSA;Resistência a antimicrobianos': 0.00021425510641336952,\n",
              "  'formação de professor;educação de surdos;ensino-aprendizagem': 0.00021425510641336952,\n",
              "  'Tripanossomatídeos;Trypanosoma;Callithrix jacchus': 0.00021425510641336952,\n",
              "  'Energia eólica; Aerogeradores; Pás para aerogeradores; Compósitos': 0.00021425510641336952,\n",
              "  'mercado de trabalho;formar profissional;aa': 0.00021425510641336952,\n",
              "  'Fitoterápicos; Desenvolvimento de extratos; Plantas Medicinais ': 0.00021425510641336952,\n",
              "  'LITERATURA COMPARADA, HETEROTOPIAS E FILOSOFIA': 0.00021425510641336952,\n",
              "  'Água subterrânea, hidrogeologia urbana, hidrogeologia regional, contaminação': 0.00021425510641336952,\n",
              "  'Cultivo celular; Titânio; Osteoblastos': 0.00021425510641336952,\n",
              "  'Formação Docente;Representações Sociais;Aprendizagem do Adulto': 0.00021425510641336952,\n",
              "  'Degradação ambiental;Correlação ambietal;Monitoramento ambiental': 0.00021425510641336952,\n",
              "  'equilíbrio de fases; termodinâmica química; processos de separação; eletrólitos, mistura de solventes': 0.00021425510641336952,\n",
              "  'leishmanicidas, fármacos, estudos toxicológico e farmacológico': 0.00021425510641336952,\n",
              "  'Corporeidade, Música e Educação': 0.00021425510641336952,\n",
              "  'Tribologia;Elastomero;Desgaste e atrito': 0.00021425510641336952,\n",
              "  'Otimização;Modelagem Matemática;Problemas NP-árduos': 0.00021425510641336952,\n",
              "  'Salinidade;Polisacarideos sulfatados;macroalgas': 0.00021425510641336952,\n",
              "  'Ferritina, Valores de referência, Ferro sérico': 0.00021425510641336952,\n",
              "  'Trabalho em saúde, Formação profissional, Interdisciplinaridade, Relações profissional-usuário, Trabalho em rede. ': 0.00021425510641336952,\n",
              "  'Sistemas Dispersos; Helianthus annuus; Tecnologia Farmacêutica': 0.00021425510641336952,\n",
              "  'HEPARINA, ANTICOAGULANTE, HEMORRÁGICA, ANTITUMORAL': 0.00021425510641336952,\n",
              "  'conectores coordenativos; conversação cotidiana; princípio da marcação; ensino/aprendizagem de língua portuguesa': 0.00021425510641336952,\n",
              "  'Geologia marinha, sedimentos marinhos, geoprocessamento, mapeamento geológico, batimetria da plataforma': 0.00021425510641336952,\n",
              "  'Pequenas cidades, desigualdades socioespaciais e políticas públicas': 0.00021425510641336952,\n",
              "  'educação do campo; ensino superior; ': 0.00021425510641336952,\n",
              "  'Formação de professor;Ensino;Lingüística de texto': 0.00021425510641336952,\n",
              "  'polieletrólitos;colóides;reologia': 0.00021425510641336952,\n",
              "  'Fucoidan;artritrite;polissacarídeos': 0.00021425510641336952,\n",
              "  'espa;os de estados;filtro de KALMAN;a': 0.00021425510641336952,\n",
              "  'agentes irritantes, edema de orelha, TRPA1 e TRPV1': 0.00021425510641336952,\n",
              "  'mediadores sociais; agricultores familiares, gestão compartilhada, políticas públicas territoriais': 0.00021425510641336952,\n",
              "  'fases magnéticas;ondas de spin;ressonância ferromagnética': 0.00021425510641336952,\n",
              "  'PETI, Experiências de Natal/RN, Política de Transferência de Renda ': 0.00021425510641336952,\n",
              "  'Engenharia de Software;Cartões Inteligentes;Métodos Formais': 0.00021425510641336952,\n",
              "  'TURISMO; TRANSDISCIPLINARIDADE': 0.00021425510641336952,\n",
              "  'Processos decisórios, participação, gestão metropolitana': 0.00021425510641336952,\n",
              "  'nanopartículas, fármacos': 0.00021425510641336952,\n",
              "  'Lúpus Eritematoso Sistêmico, Nefrite Lúpica, Espécies Reativas do Oxigênio': 0.00021425510641336952,\n",
              "  'nitrato; água de abastecimento; remoção de nitrato; desnitrificação;': 0.00021425510641336952,\n",
              "  'redes em chip;sistemas integrados;sistemas digitais': 0.00021425510641336952,\n",
              "  'pratica. enfermagem. saúde': 0.00021425510641336952,\n",
              "  'Terciário;Região Metropolitana;Desenvolvimento urbano': 0.00021425510641336952,\n",
              "  'linguagem;pré-expressividade;ação cênica': 0.00021425510641336952,\n",
              "  'atividade antinociceptiva;polissacarídeos sulfatados;alga verde': 0.00021425510641336952,\n",
              "  'Quitosana; morfloxacino; praziquantel; ciclodextrina; microparticula; complexo de inclusao': 0.00021425510641336952,\n",
              "  'Modernismo;Poesia;Brasilidade': 0.00021425510641336952,\n",
              "  'Desenvolvimento econômico;Finanças públicas;Desenvolvimento regional': 0.00021425510641336952,\n",
              "  'autismo, comunicação alternativa, sala de aula regular': 0.00021425510641336952,\n",
              "  'Romantismo Político;Educação Popular;Cultura Popular': 0.00021425510641336952,\n",
              "  'narratologia literária;representação da nação;poéticas - ficção brasileira': 0.00021425510641336952,\n",
              "  'Tradição, modernidade, poesia, memória cultural': 0.00021425510641336952,\n",
              "  'Biodiesel': 0.00021425510641336952,\n",
              "  'Brinquedoteca Hospitalar;Profissional de Saúde;Hospitalização Infantil': 0.00021425510641336952,\n",
              "  'Ética, Direitos Humanos e Serviço Social': 0.00021425510641336952,\n",
              "  'Resistência;Staphylococcus aureus multiresistente;Infecções Hospitalares': 0.00021425510641336952,\n",
              "  'quitosana;hidrogel;liberação controlada': 0.00021425510641336952,\n",
              "  'membranas;quitosana;permeabilidade': 0.00021425510641336952,\n",
              "  'Cana-de-açucar, deficit hidrico, marcadores fisiologicos e moleculares': 0.00021425510641336952,\n",
              "  'Corporeidade;Ludicidade;Processo de pesquisa': 0.00021425510641336952,\n",
              "  'CAD/CAE;Engenharia de Sistemas;Hovercraft;Veículo anfíbio;Aerodeslizador': 0.00021425510641336952,\n",
              "  'aerodesign;aeromodelo;competição acadêmica': 0.00021425510641336952,\n",
              "  'Chuvas ácidas;precipitação;sistemas sinóticos': 0.00021425510641336952,\n",
              "  'Climatério, Menopausa, Saúde da Mulher': 0.00021425510641336952,\n",
              "  'Quitosana;Bioadesividade;Hidrogel': 0.00021425510641336952,\n",
              "  'Anemia na infância;Nutrição Pediátrica;Educação em pediatria': 0.00021425510641336952,\n",
              "  'Heparina;Mastócito;Molusco': 0.00021425510641336952,\n",
              "  'Polychaeta;Levantamento Faunístico;Conservação da Biodiversidade': 0.00021425510641336952,\n",
              "  'estratégias sociais, comportamento alimentar, reconhecimento de faces, cooperação, coalizão de grupos': 0.00021425510641336952,\n",
              "  'História Colonial do Rio Grande do Norte;História da Câmara Colonial de Natal;Administração colonial': 0.00021425510641336952,\n",
              "  'ESPINÉLIO;CATÁLISE;NANOMATERIAIS': 0.00021425510641336952,\n",
              "  'Analises termicas, TGA, DTG, DTA, DSC, hormonios bioidênticos': 0.00021425510641336952,\n",
              "  'Composição ictiofaunística marinha;produção pesqueira;mamíferos marinhos': 0.00021425510641336952,\n",
              "  'alumina;compósitos;sisal': 0.00021425510641336952,\n",
              "  'Lupus, alterações ginecológicas e obstétricas': 0.00021425510641336952,\n",
              "  'PSF;Processos de significação em saúde;Saúde Pública': 0.00021425510641336952,\n",
              "  'Doençss Difusas do Tecido Conjuntivo;Diagnóstico;Sistema Único de Saúde': 0.00021425510641336952,\n",
              "  'educação, higiene, governamentalidade, infancia': 0.00021425510641336952,\n",
              "  'Crianças e adolescentes; conselho tutelar; políticas públicas.': 0.00021425510641336952,\n",
              "  'gestão municipal; finanças públicas; economia do setor público': 0.00021425510641336952,\n",
              "  'Glicosidases;Sulfatases;Crassostrea rhizophorae': 0.00021425510641336952,\n",
              "  'prolactina;cuidado parental;sagui comum': 0.00021425510641336952,\n",
              "  'LESÃO ULCERÁTIVA, HIPERATIVIDADE NEUTROFILICA, ESTÔMAGO, PROTEÍNAS BIOATIVAS': 0.00021425510641336952,\n",
              "  'Flora fanerogâmica, Caatinga, Mata Atlântica, diversidade vegetal': 0.00021425510641336952,\n",
              "  'produtos naturais; RMN; citotoxicidade; leishimanicida': 0.00021425510641336952,\n",
              "  'Extrato vegetal seco;Grânulo;Comprimido': 0.00021425510641336952,\n",
              "  'Participação; gestão urbana; Plano diretor; desenvolvimento humano': 0.00021425510641336952,\n",
              "  'FONTES DE INFORMAÇÃO; SISTEMAS DE BUSCA; TRANSFERÊNCIA DA INFORMAÇÃO': 0.00021425510641336952,\n",
              "  'cancer bucal;politicas publicas;pesquisa qualitativa': 0.00021425510641336952,\n",
              "  'Migração;Região Metropolitana de Natal;Intra-urbano': 0.00021425510641336952,\n",
              "  'competição interespecífica, Litopenaeus vannamei, Farfantepenaeus subtilis': 0.00021425510641336952,\n",
              "  'Ictiofauna;Reservatórios;Semi-árido': 0.00021425510641336952,\n",
              "  'biossegurança; norma regulamentadora 32; saúde do trabalhador; saúde publica': 0.00021425510641336952,\n",
              "  'GEV, GPD, Entropia, Sismologia': 0.00021425510641336952,\n",
              "  'Novos Sistemas Terapêuticos, Sistemas Magnéticos, Microemulsões, Nanotecnologia, Micropartículas': 0.00021425510641336952,\n",
              "  'Bacias hidrográficas;Erosão;Solos': 0.00021425510641336952,\n",
              "  'Lupus Eritematoso Sistêmico;Lesôes Cutâneas;Clofazimina': 0.00021425510641336952,\n",
              "  'camu-camu, desidratação, funcionalidade, resíduo ': 0.00021425510641336952,\n",
              "  'Chromobacterium violaceum, proteoma, reparo de DNA': 0.00021425510641336952,\n",
              "  'Psicologia da Saúde;Idoso;Prevenção': 0.00021425510641336952,\n",
              "  'glicosidase; molusco; Bulimulus tenuissimus ': 0.00021425510641336952,\n",
              "  'Patrimônio Imaterial': 0.00021425510641336952,\n",
              "  'Elevação de Petróleo, PLunger Lift, Planta Piloto, Automação de Poços': 0.00021425510641336952,\n",
              "  'MOBILIZAÇÃO, CÉLULAS-TRONCO; HEMATOPOESE': 0.00021425510641336952,\n",
              "  'saúde mental, urgência, reforma psiquiátrica ': 0.00021425510641336952,\n",
              "  'Cinema, Artes Cênicas, Geografia Cultural, Espaço, Hibridismo, Contemporaneidade': 0.00021425510641336952,\n",
              "  'Conforto térmico, qualidade de vida, climatologia, sensação térmica': 0.00021425510641336952,\n",
              "  'extração por solvente;corantes naturais;alimentos': 0.00021425510641336952,\n",
              "  'Música; Educação Musical; Recursos didatico-musicais ': 0.00021425510641336952,\n",
              "  'Saber técnico, Reestruturações territoriais, História cultural e ambiental, Nordeste/Brasil': 0.00021425510641336952,\n",
              "  'Gestão Pública, Democracia, Participação Social, Conselhos Gestores': 0.00021425510641336952,\n",
              "  'Educação a Distância, Realidade Virtual, Realidade Aumentada': 0.00021425510641336952,\n",
              "  'Fotoluminescência;Nanomateriais;Propriedades': 0.00021425510641336952,\n",
              "  'Qualidade de Vida;Renal Crônico;Q V do Paciente hemodializado  e pós-transplante renal': 0.00021425510641336952,\n",
              "  'Aquífero Barreiras; contaminação; atividade urbana; atividade agrícola': 0.00021425510641336952,\n",
              "  'Cana-de-açucar;micropropagação;mutantes': 0.00021425510641336952,\n",
              "  'Formação docente, educação infantil, saberes docentes, professores': 0.00021425510641336952,\n",
              "  'Minerais de Ferro, silicatos de Niquel, estrutura cristalina, difração de raios-x': 0.00021425510641336952,\n",
              "  'xx;xx;xx': 0.00021425510641336952,\n",
              "  'PARAMETRIZAÇÃO, AFLORAMENTOS ANÁLOGOS, BACIA AMAZONAS, BACIA PARNAÍBA, FORMAÇÃO JURUÁ': 0.00021425510641336952,\n",
              "  'propranolol;liberação controlada;Eudragit RS 30D': 0.00021425510641336952,\n",
              "  'celulas tronco mesenquimais, osteoblastos, titânio, expressão diferencial': 0.00021425510641336952,\n",
              "  'Semi-arido, Estresses ambientais, frutiferas, resistencia a salinidade': 0.00021425510641336952,\n",
              "  'esterilização;HIV AIDS;métodos contraceptivos': 0.00021425510641336952,\n",
              "  'Psicologia no Brasil;Prática do psicólogo;Políticas sociais': 0.00021425510641336952,\n",
              "  'Chuvas ácidas;precipitação;distribuição de Gauss; semi-árido': 0.00021425510641336952,\n",
              "  'hormônios , comportamento, primtas humanos e não humanos': 0.00021425510641336952,\n",
              "  'educação multicultural; educação transdisciplinar; educação holística; integração de gerações; etnoastronomia; pluralidade epistemológica; educação ambiental; educação científica pós-moderna.': 0.00021425510641336952,\n",
              "  'Micropartículas;Cosméticos;Novos Sistemas Terapêuticos': 0.00021425510641336952,\n",
              "  'Saúde e cultura; comunicação e saúde; trabalho em saúde; ': 0.00021425510641336952,\n",
              "  'Células tronco;Medula óssea;Titânio': 0.00021425510641336952,\n",
              "  'cosmologia, gravitação,nucleossintese primordial, termodinamica não-extensiva': 0.00021425510641336952,\n",
              "  'Caracterização tecnológica;Beneficiamento mineral;Pegmatitos': 0.00021425510641336952,\n",
              "  'Fertilizantes, feijão-verde, secagem': 0.00021425510641336952,\n",
              "  'Mídia;Jovens;Sociedade': 0.00021425510641336952,\n",
              "  'Saturnino de Brito;Arquitetura moderna;Intervenções Urbanísticas': 0.00021425510641336952,\n",
              "  'Laser de baixa intensidade, exercício aeróbio, fibromialgia, fisioterapia': 0.00021425510641336952,\n",
              "  'Ficção;Literatura e filosofia;Estética': 0.00021425510641336952,\n",
              "  'Oftalmologia;Trauma ocular;Adultos': 0.00021425510641336952,\n",
              "  'Córtex cerebral, sobrevivência neuronal, CREB': 0.00021425510641336952,\n",
              "  'Escola; Avaliaçao Pós-ocupaçao; percepçao ambiental; usuários': 0.00021425510641336952,\n",
              "  'Itinerário social, formação educativa, formação social, formação cultural, estratégias sociais de vida': 0.00021425510641336952,\n",
              "  'José Siqueira, Música Brasileira, Prática Interpretativa, Trompete, ': 0.00021425510641336952,\n",
              "  'Óleos essenciais, fitopatógenos, efeito fungicida': 0.00021425510641336952,\n",
              "  'Gerenciamento de redes;Agentes móveis Internet;Inteligência Artificial': 0.00021425510641336952,\n",
              "  'Perfil do consumidor, qualidade de carne, frango de corte, resíduo de antibióticos, análise microbiológica.': 0.00021425510641336952,\n",
              "  'artrite reumatóide, inflamação, Phyllanthus niruri ': 0.00021425510641336952,\n",
              "  'GEOLOGIA REGIONAL;MAPEAMENTO GEOLÓGICO;GEOLOGIA ESTRUTURAL': 0.00021425510641336952,\n",
              "  'natureza da ciência; epistemologia; ensino de ciências': 0.00021425510641336952,\n",
              "  'compósito metal-cerâmica;carbeto de nióbio;eletroquímica': 0.00021425510641336952,\n",
              "  'onicomicose; Candida; dermatomicose': 0.00021425510641336952,\n",
              "  'Irmandade, Quilombolas, Patrimônio': 0.00021425510641336952,\n",
              "  'competição;dominância;comportamento reprodutivo': 0.00021425510641336952,\n",
              "  'Serviço de emergência; Avaliação em saúde; Qualidade dos cuidados em saúde.': 0.00021425510641336952,\n",
              "  'Questão socioambiental;populações tradicionais; trabalho; carcinicultura': 0.00021425510641336952,\n",
              "  'Nanotecnologia farmacêutica, sistemas particulados de liberação controlada, quitosana, antimicrobiano': 0.00021425510641336952,\n",
              "  'Hansen, polimorfismo, reação reversa, microarray': 0.00021425510641336952,\n",
              "  'Síntese, membranas cerâmicas, tungstatos, molibdatos, nanomateriais, separação conversão e detecção de gases ': 0.00021425510641336952,\n",
              "  'TERAPIA COMPRESSIVA, CICATRIZAÇÃO, ÚLCERAS VENOSAS': 0.00021425510641336952,\n",
              "  'Serviço Social;fazer profissional;Assistência jurídica': 0.00021425510641336952,\n",
              "  'Enfermagem; Acidentes por Quedas; Prevenção; Estudos de Validação; Avaliação em Enfermagem': 0.00021425510641336952,\n",
              "  'Desenvolvimento rural;Políticas de desenvolvimento;Projetos de desenvolvimento rural': 0.00021425510641336952,\n",
              "  'Recusa do paciente ao tratamento; Anti-retrovirais/uso terapêutico; Síndrome da imunodeficiência adquirida.': 0.00021425510641336952,\n",
              "  'Escola;patrono;memória': 0.00021425510641336952,\n",
              "  'Fitoterápicos;Dentifrícios;Ação antimicrobiana': 0.00021425510641336952,\n",
              "  'palha de carnaúba, dutos, revestimentos': 0.00021425510641336952,\n",
              "  'Sinvastatina;Sepse;Diabetes': 0.00021425510641336952,\n",
              "  'Tratamento de esgotos;Filtro anaeróbio;Ovos de helmintos': 0.00021425510641336952,\n",
              "  'Titanatos de chumbo;Terras raras;materiais cerâmicos': 0.00021425510641336952,\n",
              "  'Vibrio spp;Florblend-aqua;carcinicultura marinha': 0.00021425510641336952,\n",
              "  'Polissacarídeos sulfatados;Crustáceo;Artemia': 0.00021425510641336952,\n",
              "  'Exclusão social;Trabalho;Políticas públicas': 0.00021425510641336952,\n",
              "  'Memória;Rádio;Cultura': 0.00021425510641336952,\n",
              "  'representacao;cidade;cinema': 0.00021425510641336952,\n",
              "  'biodiversidade;Floresta Atlântica;fragmentação': 0.00021425510641336952,\n",
              "  'CARCINOMAS DE CÉLULAS ESCAMOSAS ORAIS, PERDA DE HETEROZIGOSIDADE': 0.00021425510641336952,\n",
              "  'correções de Bartlett': 0.00021425510641336952,\n",
              "  'Especificação - Qualificação de fornecedor - Matéria-prima - Propriedades físicas': 0.00021425510641336952,\n",
              "  'Produção do Saber, Estado da Arte, Monografia': 0.00021425510641336952,\n",
              "  'interação inseto-planta': 0.00021425510641336952,\n",
              "  'AVE, Realidade Virtual, Neuroreabilitação': 0.00021425510641336952,\n",
              "  'Reúso de água, tratamento de esgotos domésticos, lagoas facultativas, wetlands, desinfecção de esgoto': 0.00021425510641336952,\n",
              "  'Assistência Social; Direitos; Terceiro Setor; Sociedade Civil; Cultura Política.': 0.00021425510641336952,\n",
              "  'Educação científica para o Desenvolvimento sustentável; dificuldades de aprendizagem; ensino de biologia.': 0.00021425510641336952,\n",
              "  'Bioprospecção;Proteínas bioativas;Metabolitos bioativos': 0.00021425510641336952,\n",
              "  'processamento de alto desempenho;paralelismo e distribuição;dados astronômicos e espaciais': 0.00021425510641336952,\n",
              "  'Urbanização turística, Atividade Imobiliária, Configuração metropolitana, Nordeste/Brasil': 0.00021425510641336952,\n",
              "  'Saude reprodutiva;Comportamento reprodutivo;Inquérito de Saúde': 0.00021425510641336952,\n",
              "  'assentamento, contexto social, meio ambiente': 0.00021425510641336952,\n",
              "  'Erosão costeira; sedimentação costeira; quaternário; mudanças climáticas ': 0.00021425510641336952,\n",
              "  'Biossorção;Lodos Ativados;Nitrificação': 0.00021425510641336952,\n",
              "  'Algoritmos experimentais, jogos sudoku, metaheurística': 0.00021425510641336952,\n",
              "  'biodiversidade, fungos, taxonomia, ecologia': 0.00021425510641336952,\n",
              "  'ditadura;autoritarismo;ideologia': 0.00021425510641336952,\n",
              "  'metagenoma, petroleo, biocorrosão': 0.00021425510641336952,\n",
              "  'CURRÍCULO;FORMAÇÃO DE CONCEITOS;ENSINO DA GEOGRAFIA': 0.00021425510641336952,\n",
              "  'história da educação;escolarização;genero': 0.00021425510641336952,\n",
              "  'Problemas de Otimização Combinatória, algoritmos evolucionários, distribuição de derivados de petróleo, problemas em redes, problemas de roteamento.': 0.00021425510641336952,\n",
              "  'Controle Inteligente;Petróleo;Coluna de Destilação': 0.00021425510641336952,\n",
              "  'tocandira;formiga;forrageamento': 0.00021425510641336952,\n",
              "  'Polimerização em emulsão, surfactante, tensoativo, adsorção': 0.00021425510641336952,\n",
              "  'Glicemia pós-prandial;Glucagon-Like-Peptídio 1;Galactomanano': 0.00021425510641336952,\n",
              "  'Obesidade na infância;Obesidade na adolescência;Prevalência de obesidade': 0.00021425510641336952,\n",
              "  'tungstatos;Pechini;fotoluminescência': 0.00021425510641336952,\n",
              "  'FSS, Absorvedores, Microondas': 0.00021425510641336952,\n",
              "  'Pulsatilidade hormonal;Testosterona;Fisiologia menstrual': 0.00021425510641336952,\n",
              "  'sono, cognição,capacidade funcional, acidente vascular cerebral': 0.00021425510641336952,\n",
              "  'Discursos colonias;Antiguidades;Historicidade': 0.00021425510641336952,\n",
              "  'Paternidade, Maternidade, Adolescência.': 0.00021425510641336952,\n",
              "  'polimorfismo;gene NRAMP1;doenças autoimunes': 0.00021425510641336952,\n",
              "  'Equilíbrio líquido-líquido;Diagrama de fases;Ácidos inorgânicos': 0.00021425510641336952,\n",
              "  'Universalização do Acesso à Internet;Desenvolvimento de Software par a Web;Software de Apresentações': 0.00021425510641336952,\n",
              "  'Bauhinia monandra;Lectina;Atividade hipoglicemiante': 0.00021425510641336952,\n",
              "  'Redes Neurais;Lógica Fuzzy;Controle Automático': 0.00021425510641336952,\n",
              "  'LER/DORT, Doença Ocupacional, Ergonomia, Organização do trabalho artesanal, rendeiras de bilro': 0.00021425510641336952,\n",
              "  'energia solar;radiação solar; energia alternativa;energia renovável ': 0.00021425510641336952,\n",
              "  'avaliação, ensino superior, pedagogia': 0.00021425510641336952,\n",
              "  'antropologia, imagem, metodoloia': 0.00021425510641336952,\n",
              "  'Lógica computacional;Lógicas não-clássicas;Demonstração assistida': 0.00021425510641336952,\n",
              "  'alvenaria estrutural, painéis, flexão, carga ortogonal': 0.00021425510641336952,\n",
              "  'Aedes aegypti;Bioclimograma Ambiental;Distribuição de Gauss': 0.00021425510641336952,\n",
              "  'talassemia alfa, hemoglobina S, anemia falciforme': 0.00021425510641336952,\n",
              "  'Hemiparesia;Marcha;Treino em esteira': 0.00021425510641336952,\n",
              "  'Controle em Modo Dual, Controle Adaptativo, Sistemas com Estrutura Variável, Desacoplamento de Sistemas, Geradores Síncronos': 0.00021425510641336952,\n",
              "  'Geoprocessamento, Geologia Ambiental': 0.00021425510641336952,\n",
              "  'Representações sociais;Hospitalização  e doença;Crianças': 0.00021425510641336952,\n",
              "  'Formador de Professores;Alfabetização;Saberes Docentes': 0.00021425510641336952,\n",
              "  'Mangaba;conservação;cultura in vitro;': 0.00021425510641336952,\n",
              "  'Ventilação;Poluição;Qualidade do Ar': 0.00021425510641336952,\n",
              "  'Turismo residencial, impactos socioeconômicos, globalização, litoral oriental potiguar ': 0.00021425510641336952,\n",
              "  'Proteína catiônica eosinofílica;lupus eritematoso sistêmico;glomerulonefrite': 0.00021425510641336952,\n",
              "  'Zoantídeos, RMN, metabólitos secundários': 0.00021425510641336952,\n",
              "  'extração': 0.00021425510641336952,\n",
              "  'brasagem, metalização mecãnica, metal-cerãmica': 0.00021425510641336952,\n",
              "  'Deteção de falhas em máquinas;Redes neurais artificiais;Sistemas inteligentes': 0.00021425510641336952,\n",
              "  'Reprodução assistida e Direito;Biotecmologias e DireitoReprodução assistida e Direito;Direito Brasileiro e Reprodução artificial': 0.00021425510641336952,\n",
              "  'Cronobiologia, sono, memoria': 0.00021425510641336952,\n",
              "  'Maternidade; Paternidade; Adolescência': 0.00021425510641336952,\n",
              "  'Ansiedade; Depressão; Escala de Apoio Social; UTI.': 0.00021425510641336952,\n",
              "  'educação de adultos; comunidade de aprendizagem; educação ao longo da vida ': 0.00021425510641336952,\n",
              "  'Relação campo-cidade': 0.00021425510641336952,\n",
              "  'Histomorfologia, peixes, tubo digestório, alimentação ': 0.00021425510641336952,\n",
              "  'Comportamento, densidade, Macrobrachium rosenbergii': 0.00021425510641336952,\n",
              "  'Índice de Condições de Vida;Indicadores sociais;Rio Grande do Norte': 0.00021425510641336952,\n",
              "  'lógica computacional; lógicas não-clássicas; demonstração automática; complexidade computacional': 0.00021425510641336952,\n",
              "  'Método Dynamic Resource System View (DRSV), Estratégia, Intervenção Organizacional': 0.00021425510641336952,\n",
              "  'INFINITO;DESCONSTRUÇÃO;SINTOMATERAPIA': 0.00021425510641336952,\n",
              "  \"Cactaceae, UC's, Conservação\": 0.00021425510641336952,\n",
              "  'História da Arte, artes visuais, Rio Grande do Norte': 0.00021425510641336952,\n",
              "  'educaçao;genero;historia': 0.00021425510641336952,\n",
              "  'literatura, sociedade, tradição, modernidade': 0.00021425510641336952,\n",
              "  'características infantis, cooperação; ontogênese': 0.00021425510641336952,\n",
              "  'Monitoramento Ambiental;Derramamento de Óleo;Zonas Costeiras': 0.00021425510641336952,\n",
              "  'saúde da criança; enfermagem; estratégia saúde da família': 0.00021425510641336952,\n",
              "  'TFF;polimorfismos;neoplasia gastrointestinal': 0.00021425510641336952,\n",
              "  'FAN;Anti-DNAn;Autoimunidade': 0.00021425510641336952,\n",
              "  'ensino-aprendizagem;atitude reflexiva;aprendizagem significativa': 0.00021425510641336952,\n",
              "  'Educação Ambiental; Fauna marinha; Pesquisa participante.': 0.00021425510641336952,\n",
              "  'Enquaramernto de corpos de água;Água superficial;Rio Doce': 0.00021425510641336952,\n",
              "  'HIstória da educação- Práticas de Leitura- Gênero- Literatura': 0.00021425510641336952,\n",
              "  'Currículo;Práticas educativas;Pesquisa colaborativa': 0.00021425510641336952,\n",
              "  'TERMOS TOPOLÓGICOS, DUALIZAÇÃO, SOLUÇÕES AUTO-DUAIS, GERAÇÃO DE MASSA, REDUÇÃO DIMENSIONAL, CAMPOS ESCALAR E TENSORIAL ANTISSIMÉTRICO': 0.00021425510641336952,\n",
              "  'Saúde da Família;Estratégias;Problemas cotidianos': 0.00021425510641336952,\n",
              "  'casas de câmara e cadeia;cidade potiguar;séculos XVIII e XIX': 0.00021425510641336952,\n",
              "  'IDOSO, FISIOTERAPIA, INCAPACIDADE FUNCIONAL, EQUILIBRIO': 0.00021425510641336952,\n",
              "  'sagui, alimento, rotas de deslocamento, uso de área': 0.00021425510641336952,\n",
              "  'Mapeamento de Maracajau;Maracajau;Apa dos Corais': 0.00021425510641336952,\n",
              "  'Internacionalização.  Comércio Exterior. Região Nordeste': 0.00021425510641336952,\n",
              "  'Estresse, cortisol, humanos, resposta autonômica': 0.00021425510641336952,\n",
              "  'Teatro; Matrizes Estéticas; Matrizes Culturais': 0.00021425510641336952,\n",
              "  'ALFABETIZAÇÃO/LETRAMENTO; NECESSIDADES FORMATIVAS DO PROFESSOR; ESCOLA PÚBLICA': 0.00021425510641336952,\n",
              "  'IDOSOS;VIDA EM INSTITUIÇÃO;DESENVOLVIMENTO HUMANO': 0.00021425510641336952,\n",
              "  'Lagoas de estabilização, Filtro anaeróbio, desinfecção, radiação ultravioleta, Reúso, Limpeza viária.': 0.00021425510641336952,\n",
              "  'Piano; Szymanowski; musica clássica; análise musical; estilos musicais; século XX': 0.00021425510641336952,\n",
              "  'Saúde bucal, imigrante portugues, representação social.': 0.00021425510641336952,\n",
              "  'talassemia alfa;microcitose;hemoglobinopatia': 0.00021425510641336952,\n",
              "  'identidades;contato cultural;nação': 0.00021425510641336952,\n",
              "  'Análise de Sobrevivência;Teste Escore;Taxa de cura': 0.00021425510641336952,\n",
              "  'História e Filosofia da Ciência;Ensino de Física;Formação de professores': 0.00021425510641336952,\n",
              "  'espectroscopia NIR;reflectância difusa;medicamento': 0.00021425510641336952,\n",
              "  'Custo aluno; gestão escolar; profissional docente': 0.00021425510641336952,\n",
              "  'cegueira - fotografia - educação do olhar - ensino de arte': 0.00021425510641336952,\n",
              "  'Ética. Educação Médica. Bioética. Questões éticas. Conflitos éticos. Problemas éticos': 0.00021425510641336952,\n",
              "  'glucana, imunomodulador, cicatrização, feridas cutâneas, macrofagos': 0.00021425510641336952,\n",
              "  'Hegel;ceticismo;refutação': 0.00021425510641336952,\n",
              "  'DNA, Bactéria, RNA, Nanoeletrônica, Mecânica Quântica': 0.00021425510641336952,\n",
              "  'secagem com microondas;alimentos;secagem em estufa': 0.00021425510641336952,\n",
              "  'Monitoramento Ambiental;Visão Computacional;Processamento de Imagens': 0.00021425510641336952,\n",
              "  'ácido fumárico;fumaratos de lantanídeos;ortofenantrolina': 0.00021425510641336952,\n",
              "  'Iluminação Cênica;Tecnologia Teatral;Ensino de teatro': 0.00021425510641336952,\n",
              "  'Percepção Robótica;Sensores Inteligentes;Roô Móvel': 0.00021425510641336952,\n",
              "  'saberes; formação; magistério; professores': 0.00021425510641336952,\n",
              "  'software, produtividade, estimativas, custo': 0.00021425510641336952,\n",
              "  'nitretação iônica;implante dental;plasma': 0.00021425510641336952,\n",
              "  'Design de sistemas computacionais interativos, Interação Humano-Computador, Design de Interfaces de Usuário': 0.00021425510641336952,\n",
              "  'Aves, distribuição, ameaça de extinção, endemismo': 0.00021425510641336952,\n",
              "  'técnicas construtivas tradicionais; tecnologias sustentáveis; sustentabilidade': 0.00021425510641336952,\n",
              "  'resíduos cerâmicos, massas argilosas': 0.00021425510641336952,\n",
              "  'Zircônia dopada.;Zircônia - Cério.;Zircônia - Neodímio.': 0.00021425510641336952,\n",
              "  'Descentralização financeira;Fundescola;Autonomia': 0.00021425510641336952,\n",
              "  'Transplante de órgãos; Efetividade de Tratamento; Qualidade de vida; Enfermagem.': 0.00021425510641336952,\n",
              "  'diagrama de fases;ácido lático;extração por solvente': 0.00021425510641336952,\n",
              "  'entomofauna, Malaise, RPPN Fazenda Almas, Caatinga': 0.00021425510641336952,\n",
              "  'Agua subterrânea;recarga;salinização': 0.00021425510641336952,\n",
              "  'Gênero, Espiritismo Kardecista,;Serviço Social,;Caridade.': 0.00021425510641336952,\n",
              "  'Núcleo Pré-Geniculado;Protooncogenes;Sistema de Temporização Circadiano': 0.00021425510641336952,\n",
              "  'Linfócitos T e B;Células NK;Subpopulação linfocitária': 0.00021425510641336952,\n",
              "  'Desigualdade social. Acumulação de Riqueza. Estado': 0.00021425510641336952,\n",
              "  'Desenvolvimento;Urbanização;Lugar': 0.00021425510641336952,\n",
              "  'Solos cimentados, ensaio triaxial, tensão - deformação': 0.00021425510641336952,\n",
              "  'Ácido crolechinico;antitumoral;antibacterial': 0.00021425510641336952,\n",
              "  'Eficiência energética;Conforto térmico;Sistemas construtivos': 0.00021425510641336952,\n",
              "  'Alunos universitarios;Saberes dos alunos;x': 0.00021425510641336952,\n",
              "  'trabalhadores urbanos;estratégias organizativas;ação sindical': 0.00021425510641336952,\n",
              "  'biodiesel;lipase;supercritico': 0.00021425510641336952,\n",
              "  'Disfunções sexuais;Sexo feminino;SUS': 0.00021425510641336952,\n",
              "  'Educação em saúde;Programa Saúde da Família; Enfermagem  ': 0.00021425510641336952,\n",
              "  'leito de jorro, modelagem, secagem, leite em pó': 0.00021425510641336952,\n",
              "  'Robótica, Visão, Percepção': 0.00021425510641336952,\n",
              "  'História indígena;Etno-história;Narrativas': 0.00021425510641336952,\n",
              "  'histamina, atum, controle de qualidade': 0.00021425510641336952,\n",
              "  'Multimodalidade; Poesia; Formação do leitor.': 0.00021425510641336952,\n",
              "  'Coluna de discos rotativos; Extração líquido-líquido; Metais pesados; Tratamento de efluentes': 0.00021425510641336952,\n",
              "  'Controle Adaptativo, Sistemas com Estrutura Variável, Desacoplamento de Sistemas, Controle Frequência - Tensão, Sistemas de Energia Elétrica': 0.00021425510641336952,\n",
              "  'FERRITAS;Mn1-xZnxFe2O4;FERROMAGNÉTICOS': 0.00021425510641336952,\n",
              "  'letramento; etnografia; ciências e tecnologia.': 0.00021425510641336952,\n",
              "  'ensino médio;formação docente;acesso e inclusão; ensino superior': 0.00021425510641336952,\n",
              "  'Literatura e Modernização;Registro histórico;Modernismo e Tradição': 0.00021425510641336952,\n",
              "  'retinopatia diabética;diabetes tipo 1;Oftalmologia': 0.00021425510641336952,\n",
              "  'metropole; coesão social; território': 0.00021425510641336952,\n",
              "  'ética;natureza;metafísica': 0.00021425510641336952,\n",
              "  'septicemia, glucana, Candida albicans, macrófagos,': 0.00021425510641336952,\n",
              "  'Cronobiologia;Ciclo sono vigilia;Modelos matemáticos': 0.00021425510641336952,\n",
              "  'habitação social, mercado imobiliário informal    ': 0.00021425510641336952,\n",
              "  'Choque não séptico, extratos de Caulepa mexicana, zimosan, inflamação': 0.00021425510641336952,\n",
              "  'Glicosaminoglicanos sulfatados, carboidrato complexo, glicoconjugados bioativos': 0.00021425510641336952,\n",
              "  'Visão de cores, Primatas do Novo Mundo, Comportamento animal': 0.00021425510641336952,\n",
              "  'Ensino de Ciências da Natureza e Matemática;Capacitação de professores do ensino médio;Museu de ciências': 0.00021425510641336952,\n",
              "  'células a combustível, SOFC, sintese, cerâmica': 0.00021425510641336952,\n",
              "  'Realidade Virtual, Modelagem 3D, CAD, Computação Gráfica, Simulação': 0.00021425510641336952,\n",
              "  'Carbetos;Metais Refratários;Metal Duro ': 0.00021425510641336952,\n",
              "  'Postos. Concorrência. Principal-agente.': 0.00021425510641336952,\n",
              "  'quitosana, poli(ácido acrílico), análide térmica': 0.00021425510641336952,\n",
              "  'Glândula salivar;Neplasias;Adenoma pleomórfico;Carcinoma adenóide cístico;Metaloproteinases da Matriz; Inibidores Teciduais;MMPs;TIMPs.': 0.00021425510641336952,\n",
              "  'Tratamento de esgotos, Remoção de nitrogênio, Filtros biológicos submersos.': 0.00021425510641336952,\n",
              "  'HIPÓXIA,CARCINOMA EPIDERMÓIDE': 0.00021425510641336952,\n",
              "  'Cooperacao, saguis, Callithrix jacchus, hierarquia, afiliacao': 0.00021425510641336952,\n",
              "  'Cateterismo Urinário, Alunos de Enfermagem, Ensino': 0.00021425510641336952,\n",
              "  'Educação;Festa;Cidade': 0.00021425510641336952,\n",
              "  'Formação Docente; Educação Infantil; Pedagogia; Educação a Distância.': 0.00021425510641336952,\n",
              "  'sertão;imaginário;cultura popular': 0.00021425510641336952,\n",
              "  'Enfermagem. Diagnóstico de enfermagem. Insuficiência renal crônica. Hemodiálise.': 0.00021425510641336952,\n",
              "  'dopamina, sono, memória': 0.00021425510641336952,\n",
              "  'cianobactérias, microcistina, saxitoxinas ': 0.00021425510641336952,\n",
              "  'Veículo Aéreo Não Tripulado': 0.00021425510641336952,\n",
              "  'MOVIMENTO DE NATAL; ': 0.00021425510641336952,\n",
              "  'MATEMÁTICA (ENSINO FUNDAMENTAL);GEOMETRIA MÉTRICA (4a. SÉRIE);ENSINO APRENDIZAGEM (ATIVIDADES)': 0.00021425510641336952,\n",
              "  'Comunicações sem fio, antenas, propagação, microondas': 0.00021425510641336952,\n",
              "  'expressão gêmica, biomarcadores, doenças cardiovasculares': 0.00021425510641336952,\n",
              "  'ideação e tentativa de suicidio; TS e estudante de medicina; tentativa de suicídio no nordeste.': 0.00021425510641336952,\n",
              "  'Fisioterapia Vascular Periférica, Pé Diabético, Laser, Cicatrizaçao': 0.00021425510641336952,\n",
              "  'petróleo, tensoativo, inibidor de corrosão, microemulsão': 0.00021425510641336952,\n",
              "  'Gás Natural;Armazenamento de Gás;Modelagem CAD': 0.00021425510641336952,\n",
              "  'Trypanosoma cruzi (cepa Y);Aloe vera (babosa);Artemisia annua L. (artemisinina)': 0.00021425510641336952,\n",
              "  'Gravidade do trauma;Triagem na urgência;Causas Externas': 0.00021425510641336952,\n",
              "  'PALEOCAVE, ANÁLOGO, RESERVATÓRIO PETROLÍFERO, IMAGEAMENTO DIGITAL': 0.00021425510641336952,\n",
              "  'Educação;Gestão;Municipal': 0.00021425510641336952,\n",
              "  'potencial zeta; reagentes de flotação; minerais de pegmatitos ': 0.00021425510641336952,\n",
              "  'RMN, rede urbana, territorio usado': 0.00021425510641336952,\n",
              "  'Concreto; Simulação; Reação Álcali-Agregado ': 0.00021425510641336952,\n",
              "  'semi-árido, oleaginosas, biodiesel': 0.00021425510641336952,\n",
              "  'Ritmos Biológicos;Cronotipos;Ciclo Sono Vigília': 0.00021425510641336952,\n",
              "  'Cosmologia, Cosmologia Observacional, Relatividade Geral': 0.00021425510641336952,\n",
              "  'saberes da tradição;ecologia das idéias;ciência e tradição': 0.00021425510641336952,\n",
              "  'Infecção Hospitalar;Pneumonia nosocomial;Prevenção das PAVM': 0.00021425510641336952,\n",
              "  'Luiz da Camara Cascudo;Bibliografia historica;Monumentalização': 0.00021425510641336952,\n",
              "  'Literatura brasileira em língua francesa; Nísia Floresta': 0.00021425510641336952,\n",
              "  'Quasicristais;Fenômenos Críticos;Calor Específico': 0.00021425510641336952,\n",
              "  'heparina;crustáceo;polissacarídeo sulfatado': 0.00021425510641336952,\n",
              "  'Rede sismográfica, sismicidade do Nordeste do Brasil, risco sísmico': 0.00021425510641336952,\n",
              "  'estruturas em grande escala;quinta-essência;termo cosmológico variável': 0.00021425510641336952,\n",
              "  'Acidentes ocupacionais, Saúde do trabalhador, Acidentes de trabalho': 0.00021425510641336952,\n",
              "  'Catalisadores;Nanopartículas;Materiais Luminescentes': 0.00021425510641336952,\n",
              "  'manona, biodisel, novas variedades': 0.00021425510641336952,\n",
              "  'Aerogeradores, Energia Renovável, Inovação Tecnológica, Energia Eólica': 0.00014283673760891302,\n",
              "  'Gestão;Futebol;Ergonomia': 0.00014283673760891302,\n",
              "  'Formação Universitária;Inserção Profissional;Concluintes': 0.00014283673760891302,\n",
              "  'escola, meio ambiente': 0.00014283673760891302,\n",
              "  'cianobactérias, abastecimento público, saúde pública, semiárido': 0.00014283673760891302,\n",
              "  'identidade;sociabilidade;festa': 0.00014283673760891302,\n",
              "  'ensino de Biologia, literatura popular, atividade lúdica': 0.00014283673760891302,\n",
              "  'Corpo;Texto;Artes cênicas': 0.00014283673760891302,\n",
              "  'Unidades Hospitalares de Alimentação e Nutrição; clima organizacional; ': 0.00014283673760891302,\n",
              "  'bioma; complementaridade; distribuições geográficas; escalas geopolíticas; escala estadual; registros de ocorrência': 0.00014283673760891302,\n",
              "  'Música Antiga, Performance Musical, Música Histórica': 0.00014283673760891302,\n",
              "  'Leishmania, genetica': 0.00014283673760891302,\n",
              "  'traumatismo da coluna vertebral; estresse, ansiedade, paciente': 0.00014283673760891302,\n",
              "  'Planejamento Ambiental;Qualidade de Vida;Cidade': 0.00014283673760891302,\n",
              "  'Baculovirus;Cultivo de células de inseto;Secagem em leito de jorro': 0.00014283673760891302,\n",
              "  'dança, educação, corpo, estética': 0.00014283673760891302,\n",
              "  'Sepse abdominal;Sinvastatina;Tratamento': 0.00014283673760891302,\n",
              "  'fisica teórica, fisica-matemática, teoria de cordas,': 0.00014283673760891302,\n",
              "  'Educação, Ensino, Geografia, Geotecnologias, Inclusão Digital': 0.00014283673760891302,\n",
              "  'Linhas de Produto de Software, Linhas de Produto de Software, Derivação Automática de Produtos': 0.00014283673760891302,\n",
              "  'Comunicação, Sabores, Gastronomia, Popular, Mídia': 0.00014283673760891302,\n",
              "  'projeto de carreira profissional; universitários; mercado de trabalho': 0.00014283673760891302,\n",
              "  'Pós-graduação;Avaliação;Psicologia no Brasil': 0.00014283673760891302,\n",
              "  'microdureza;fotopolimerizador;resina': 0.00014283673760891302,\n",
              "  'AVC, aprendizagem motora, funcionalidade, sono, cognição': 0.00014283673760891302,\n",
              "  'Tribo-sistemas, Tribologia, Motores a Gas': 0.00014283673760891302,\n",
              "  'quartzo livre;análise racional;cerâmica': 0.00014283673760891302,\n",
              "  'Capim elefante, bio-óleo, leito fluidizado, catalisadores, degradação térmica.': 0.00014283673760891302,\n",
              "  'criança, violencia doméstica, violencia de gênero': 0.00014283673760891302,\n",
              "  'Obesos;Comportamento alimentar;Tratamento': 0.00014283673760891302,\n",
              "  'Embrião; Feto; Toxicidade embrionária; Teratogênese; Aborto; Toxicidade materna; Fertilidade; Útero; Ovários; Extratos vegetais; Fitoterapia.': 0.00014283673760891302,\n",
              "  'antropologia visual;espaços urbanos;identidade': 0.00014283673760891302,\n",
              "  'Sedimentos;Arquipélago de São Pedro e São Paulo;Atlântico Equatorial': 0.00014283673760891302,\n",
              "  'fucanas, celulas endoteliais, atividade antitrombótica': 0.00014283673760891302,\n",
              "  'excitações coletivas, calor específico, materiais nanoestruturados': 0.00014283673760891302,\n",
              "  'ergonomia; critérios ergonômicos; usabilidade': 0.00014283673760891302,\n",
              "  'Trabalho;Saúde do trabalhador;Aspectos Psicossociais': 0.00014283673760891302,\n",
              "  'Modelo tight-binding, Hamiltoniano dinâmico, Molécula do DNA, Física Quântica': 0.00014283673760891302,\n",
              "  'cinema, educação, contemporaneidade, sujeitos contemporâneos da educação, Gilles Deleuze, Michel Foucault': 0.00014283673760891302,\n",
              "  'filtros cerâmicos, propriedades mecânicas': 0.00014283673760891302,\n",
              "  'Gerenciamento, Corrosão, Dutos transportadores de gás ': 0.00014283673760891302,\n",
              "  'gás natural;Off-road;projeto automotivo': 0.00014283673760891302,\n",
              "  'Terceira Idade;Qualidade de Vida;Lazer': 0.00014283673760891302,\n",
              "  'galectinas,câncer,imuno-histoquímica': 0.00014283673760891302,\n",
              "  'Ensino Superior, Acesso ao Ensino Superior, Inclusão, Cultura Universitária': 0.00014283673760891302,\n",
              "  'Assistência Pré-Natal; Qualidade de Assistência.': 0.00014283673760891302,\n",
              "  'Planejamento em Radioterapia, Algoritmos Evolucionários': 0.00014283673760891302,\n",
              "  'Robótica, Times de Robôs, Aprendizado ': 0.00014283673760891302,\n",
              "  'Leitura. escrita, livro didático': 0.00014283673760891302,\n",
              "  'Quartetos de Violas': 0.00014283673760891302,\n",
              "  'Biomateriais, Implantes dentais, Plasma, Células Tronco, Tratamento de superfície': 0.00014283673760891302,\n",
              "  'Trasngenética Computacional;Computação Evolucionária;Otimização Combinatória': 0.00014283673760891302,\n",
              "  'alginatos, estrutura quimica, atividade antioxidante, atividade anticoagulante, atividade antiproliferativa': 0.00014283673760891302,\n",
              "  'Funcionamento linguístico-discursivo;textos midiáticos;sujeito/língua/discurso': 0.00014283673760891302,\n",
              "  'macrofita dulcicola, galactanas, moleculas bioativas': 0.00014283673760891302,\n",
              "  'Educação;Representação Social;Identidade Social': 0.00014283673760891302,\n",
              "  'Computação Científica, Visualização 3D , Realidade Virtual': 0.00014283673760891302,\n",
              "  'Biodiesel; mistura de óleos vegetais; viscosidade; estabilidade oxidativa': 0.00014283673760891302,\n",
              "  'resíduo lignocelulósico, gaseificação, energia, catalisador': 0.00014283673760891302,\n",
              "  'Pacientes especiais;ART;Ionômero de vidro': 0.00014283673760891302,\n",
              "  'Simulídeos;Larvas;Ínstares': 0.00014283673760891302,\n",
              "  'algas, fucanas, atividades farmacológicas, células endoteliais': 0.00014283673760891302,\n",
              "  'Hanseníase, ENFERMAGEM, SAUDE COLETIVA, ': 0.00014283673760891302,\n",
              "  'Obesidade; ácidos graxos; delta-6 desaturase; FADS2; perfil lipídico. ': 0.00014283673760891302,\n",
              "  'Negociação; Trabalho;  Saúde; Administração de Conflitos; Sistema Único de Saúde.': 0.00014283673760891302,\n",
              "  'Treinamento muscular Respiratorio;Exercicios Respiratorios;Distrofia Muscular Miotonica': 0.00014283673760891302,\n",
              "  'Análise de Genomas, Análise de Transcriptomas, Bancos de dados biológicos, Modelagem computacional de proteínas': 0.00014283673760891302,\n",
              "  'cerebro, peixe, imunohistoquímica, celulas telencefálicas': 0.00014283673760891302,\n",
              "  'participação; atores sociais; associativismo;  ': 0.00014283673760891302,\n",
              "  'História da América; Movimentos Sociais; Cultura e Participação Política;': 0.00014283673760891302,\n",
              "  'QTAIM; DFT; fotoquímica; densidade eletrônica; compostos carbonilados': 0.00014283673760891302,\n",
              "  'Autos e Farsas;Gil Vicente;Português contemporâneo': 0.00014283673760891302,\n",
              "  'Metrologia;Temperatura;BSW': 0.00014283673760891302,\n",
              "  'Lingüística Funcional;Dicionário básico;Conceitos operacionais': 0.00014283673760891302,\n",
              "  'Alcoolista;Alcoolismo;Família': 0.00014283673760891302,\n",
              "  'Fibromialgia, polimorfismo receptor ocitocina, dor, depressão, ansiedade': 0.00014283673760891302,\n",
              "  'Núcleo supraquiasmático;Folheto intergeniculado;Proteínas ligantes de cálcio': 0.00014283673760891302,\n",
              "  'Controle de Qualidade Medicamentos;Equivalência Farmacêutica;Farmacovigilância': 0.00014283673760891302,\n",
              "  'Saúde Pública; Enfermagem; Saúde do Trabalhador.': 0.00014283673760891302,\n",
              "  'mulheres, Chlamydia trachomatis, infecção, abortamento ': 0.00014283673760891302,\n",
              "  'microscopia eletronica de varredura, cárie dentinária, selante resinoso': 0.00014283673760891302,\n",
              "  'glicose-6-fosfato desidrogenase; diagnóstico molecular; teste de redução da metahemoglobina': 0.00014283673760891302,\n",
              "  'Ameloblastoma, Odontogênese, Junção celular, Claudinas': 0.00014283673760891302,\n",
              "  'amígdala, memória, ratos': 0.00014283673760891302,\n",
              "  'Aminoácidos, frutas, cromatografia líquida, espectrometria de massas': 0.00014283673760891302,\n",
              "  'Capacidade Funcional, Hipertensão Arterial Sistêmica e Treinamento Físico': 0.00014283673760891302,\n",
              "  'Carcinoma denóide cístico, C-KIT, mutação': 0.00014283673760891302,\n",
              "  'AVALIAÇÃO; SERVIÇOS DE SAÚDE; INTEGRALIDADE DO CUIDADO; REGIONALIZAÇÃO.': 0.00014283673760891302,\n",
              "  'estudantes universitários, HIV/Aids, Vulnerabilidade, saúde do homem': 0.00014283673760891302,\n",
              "  'extração;dióxido de carbono;produtos naturais': 0.00014283673760891302,\n",
              "  ' Atenção primária à saúde;Tuberculose; Enfermagem;': 0.00014283673760891302,\n",
              "  'História;Educação;CERES': 0.00014283673760891302,\n",
              "  'Intelectual;Ideais;Progressistas': 0.00014283673760891302,\n",
              "  'assentamentos rurais, movimentos sociais, associativismo': 0.00014283673760891302,\n",
              "  'conceito;representação;projeto': 0.00014283673760891302,\n",
              "  'Bioinformática;Inteligência Artificial;Aprendizado de Máquina': 0.00014283673760891302,\n",
              "  'Competitividade;market share;Barreiras comerciais': 0.00014283673760891302,\n",
              "  'Microemulsão, óleo de Copaíba, diagrama de fases': 0.00014283673760891302,\n",
              "  'Aerogerador, Sistemas de Potência, Estabilidade Eletromecânica': 0.00014283673760891302,\n",
              "  'Diversidade Florística;Fanerógamas;Campus Universitário - Natal': 0.00014283673760891302,\n",
              "  'Conservação, maracanã-verdadeiro, Primolius maracana, Aves, Psittacidae': 0.00014283673760891302,\n",
              "  'violência sexual, crianças, identidade': 0.00014283673760891302,\n",
              "  'Células-tronco, representação social, endodontia, periodontia': 0.00014283673760891302,\n",
              "  'Formação de professor;Financiamento;FUNDEF': 0.00014283673760891302,\n",
              "  'Colesterol;triglicérides;produtos naturais': 0.00014283673760891302,\n",
              "  'Lexicografia Pedagógica; Dicionário escolar; PNLD; Ensino de língua portuguesa; Formação docente.': 0.00014283673760891302,\n",
              "  'Vicilinas, faseolina, Zabrotes subfasciatus, Acanthoscelides obtectus, bruquídeos, mecanismos de defesa de plantas. ': 0.00014283673760891302,\n",
              "  'Emprego, Indústria, cidades médias, economia.': 0.00014283673760891302,\n",
              "  'processos de criação, cinema, teatro, encenação, estética, poéticas do espetáculo': 0.00014283673760891302,\n",
              "  'Ensino Médio, Ensino Superior, Acesso, Inclusão': 0.00014283673760891302,\n",
              "  'Desertificação, Uso do solo, Radiação, Fluxo de Calor no solo': 0.00014283673760891302,\n",
              "  'salinidade, lixiviação, Zea mays L.': 0.00014283673760891302,\n",
              "  'Pré-natal,- Cônjuge- Gravidez': 0.00014283673760891302,\n",
              "  'Projeto;Teoria;Arquitetura': 0.00014283673760891302,\n",
              "  'Gestao de Destinos; Competitividade Turística; Sustentabilidade Estrategica.': 0.00014283673760891302,\n",
              "  ...}}"
            ]
          },
          "metadata": {
            "tags": []
          },
          "execution_count": 245
        }
      ]
    },
    {
      "cell_type": "code",
      "metadata": {
        "colab": {
          "base_uri": "https://localhost:8080/"
        },
        "id": "rh8M2bPVscFH",
        "outputId": "bc37e521-9e5e-48e0-951f-f84f796e6bca"
      },
      "source": [
        "#hide\n",
        "df_nan['palavras_chave'].value_counts()"
      ],
      "execution_count": 77,
      "outputs": [
        {
          "output_type": "execute_result",
          "data": {
            "text/plain": [
              ";;                                                                                     184\n",
              "lectinas;defesa;heparina                                                                10\n",
              "x;x;x                                                                                    9\n",
              "Educação, História e Memória;Processos educativos;Atores e Instituições educativas       8\n",
              "Engenharia ambiental;Tratamento de efluentes;Novas tecnologias                           8\n",
              "                                                                                      ... \n",
              "Perícias contábeis. Remunerações. Cálculos precatórios                                   1\n",
              "Formação de professores. Educação linguística. Gramática Sistêmico-Funcional             1\n",
              "Fármacos; Medicamentos; Estabilidade; Degradação; Métodos de análise                     1\n",
              "INFLAÇÃO - CESTA BÁSICA - CURRAIS NOVOS                                                  1\n",
              "Teatro; Ritual; Liminaridade; Cena Quântica; Arte do Encontro;                           1\n",
              "Name: palavras_chave, Length: 12967, dtype: int64"
            ]
          },
          "metadata": {
            "tags": []
          },
          "execution_count": 77
        }
      ]
    },
    {
      "cell_type": "code",
      "metadata": {
        "id": "sZN7Q9rpsuk8"
      },
      "source": [
        "#hide\n",
        "count_linhas = df_nan['linha_pesquisa'].value_counts()"
      ],
      "execution_count": 89,
      "outputs": []
    },
    {
      "cell_type": "code",
      "metadata": {
        "id": "wl83ujWtDtEV"
      },
      "source": [
        "#hide\n",
        "count_linhas_unidade = df_nan['unidade'].value_counts()"
      ],
      "execution_count": 171,
      "outputs": []
    },
    {
      "cell_type": "code",
      "metadata": {
        "colab": {
          "base_uri": "https://localhost:8080/"
        },
        "id": "jZLdW63mvpaK",
        "outputId": "ff299f81-d4dd-42d1-faeb-e3391b60896f"
      },
      "source": [
        "#hide\n",
        "count_linhas.values #.index"
      ],
      "execution_count": 140,
      "outputs": [
        {
          "output_type": "execute_result",
          "data": {
            "text/plain": [
              "array([301,  37,  31, ...,   1,   1,   1])"
            ]
          },
          "metadata": {
            "tags": []
          },
          "execution_count": 140
        }
      ]
    },
    {
      "cell_type": "code",
      "metadata": {
        "colab": {
          "base_uri": "https://localhost:8080/"
        },
        "id": "8yMzdszNDyep",
        "outputId": "fe9541a7-da33-4c4e-caec-f18bda3d7f8c"
      },
      "source": [
        "#hide\n",
        "count_linhas_unidade.values"
      ],
      "execution_count": 175,
      "outputs": [
        {
          "output_type": "execute_result",
          "data": {
            "text/plain": [
              "CENTRO DE CIÊNCIAS DA SAÚDE                                                  1157\n",
              "CT VICE-DIRETORIA                                                            1112\n",
              "CENTRO DE CIÊNCIAS HUMANAS, LETRAS E ARTES                                   1004\n",
              "CENTRO DE CIÊNCIAS EXATAS E DA TERRA                                          922\n",
              "CENTRO DE BIOCIÊNCIAS                                                         819\n",
              "                                                                             ... \n",
              "PROGRAMA DE PÓS-GRADUAÇÃO EM ARTES CÊNICAS                                      1\n",
              "PROGRAMA DE PÓS-GRADUAÇÃO EM CIÊNCIAS ODONTOLÓGICAS                             1\n",
              "PROGRAMA DE PÓS-GRADUAÇÃO EM PATOLOGIA ORAL                                     1\n",
              "CURSO DE ESPECIALIZAÇÃO EM LÍNGUA PORTUGUESA: GRAMÁTICA, TEXTO E DISCURSO       1\n",
              "COORDENAÇÃO DO CURSO DE PEDAGOGIA                                               1\n",
              "Name: unidade, Length: 257, dtype: int64"
            ]
          },
          "metadata": {
            "tags": []
          },
          "execution_count": 175
        }
      ]
    },
    {
      "cell_type": "code",
      "metadata": {
        "id": "-tkwp2Q9yGZV"
      },
      "source": [
        "#hide\n",
        "idx = count_linhas[count_linhas.gt(10)].index"
      ],
      "execution_count": 124,
      "outputs": []
    },
    {
      "cell_type": "code",
      "metadata": {
        "colab": {
          "base_uri": "https://localhost:8080/"
        },
        "id": "-BJUmRUk0nU4",
        "outputId": "336e48fc-dd99-4646-f5ef-f3499a09d85b"
      },
      "source": [
        "#hide\n",
        "np.shape(idx)"
      ],
      "execution_count": 127,
      "outputs": [
        {
          "output_type": "execute_result",
          "data": {
            "text/plain": [
              "(130,)"
            ]
          },
          "metadata": {
            "tags": []
          },
          "execution_count": 127
        }
      ]
    },
    {
      "cell_type": "code",
      "metadata": {
        "id": "NPXwHJAQzXDF"
      },
      "source": [
        "#hide\n",
        "values = count_linhas.where(count_linhas >10).values"
      ],
      "execution_count": 128,
      "outputs": []
    },
    {
      "cell_type": "code",
      "metadata": {
        "id": "bIdQ0neVzlHU"
      },
      "source": [
        "#hide\n",
        "values_nan = [x for x in values if str(x) != 'nan']"
      ],
      "execution_count": 130,
      "outputs": []
    },
    {
      "cell_type": "code",
      "metadata": {
        "colab": {
          "base_uri": "https://localhost:8080/"
        },
        "id": "kEdS_beF0M8x",
        "outputId": "03becb51-7ff7-4100-b7ec-924b459c5371"
      },
      "source": [
        "#hide\n",
        "np.shape(values_nan)"
      ],
      "execution_count": 131,
      "outputs": [
        {
          "output_type": "execute_result",
          "data": {
            "text/plain": [
              "(130,)"
            ]
          },
          "metadata": {
            "tags": []
          },
          "execution_count": 131
        }
      ]
    },
    {
      "cell_type": "code",
      "metadata": {
        "colab": {
          "base_uri": "https://localhost:8080/",
          "height": 419
        },
        "id": "W7ogZo-O67a8",
        "outputId": "5ced37f4-fba9-42c7-b989-b96028b9526e"
      },
      "source": [
        "#hide\n",
        "df_nan"
      ],
      "execution_count": 206,
      "outputs": [
        {
          "output_type": "execute_result",
          "data": {
            "text/html": [
              "<div>\n",
              "<style scoped>\n",
              "    .dataframe tbody tr th:only-of-type {\n",
              "        vertical-align: middle;\n",
              "    }\n",
              "\n",
              "    .dataframe tbody tr th {\n",
              "        vertical-align: top;\n",
              "    }\n",
              "\n",
              "    .dataframe thead th {\n",
              "        text-align: right;\n",
              "    }\n",
              "</style>\n",
              "<table border=\"1\" class=\"dataframe\">\n",
              "  <thead>\n",
              "    <tr style=\"text-align: right;\">\n",
              "      <th></th>\n",
              "      <th>Unnamed: 0</th>\n",
              "      <th>id_projeto_pesquisa</th>\n",
              "      <th>titulo</th>\n",
              "      <th>palavras_chave</th>\n",
              "      <th>ano</th>\n",
              "      <th>situacao</th>\n",
              "      <th>unidade</th>\n",
              "      <th>linha_pesquisa</th>\n",
              "      <th>area_conhecimento_cnpq</th>\n",
              "    </tr>\n",
              "  </thead>\n",
              "  <tbody>\n",
              "    <tr>\n",
              "      <th>0</th>\n",
              "      <td>0</td>\n",
              "      <td>134094250</td>\n",
              "      <td>Cascading consequences of hunting and fishing ...</td>\n",
              "      <td>Pesca; Rio Juruá; conhecimento ecológico local...</td>\n",
              "      <td>2019</td>\n",
              "      <td>EM EXECUÇÃO</td>\n",
              "      <td>22</td>\n",
              "      <td>4</td>\n",
              "      <td>20502001</td>\n",
              "    </tr>\n",
              "    <tr>\n",
              "      <th>1</th>\n",
              "      <td>1</td>\n",
              "      <td>134475410</td>\n",
              "      <td>SAÚDE DO HIDROCORAL Millepora alcicornis: EFEI...</td>\n",
              "      <td>branqueamento de corais, mudanças globais, amb...</td>\n",
              "      <td>2019</td>\n",
              "      <td>EM EXECUÇÃO</td>\n",
              "      <td>111</td>\n",
              "      <td>3</td>\n",
              "      <td>20502001</td>\n",
              "    </tr>\n",
              "    <tr>\n",
              "      <th>2</th>\n",
              "      <td>2</td>\n",
              "      <td>133516110</td>\n",
              "      <td>Desenvolvimento de aditivos químicos e sistema...</td>\n",
              "      <td>Cimentação, poços de petróleo, aditivos, micro...</td>\n",
              "      <td>2019</td>\n",
              "      <td>EM EXECUÇÃO</td>\n",
              "      <td>196</td>\n",
              "      <td>1</td>\n",
              "      <td>10601074</td>\n",
              "    </tr>\n",
              "    <tr>\n",
              "      <th>3</th>\n",
              "      <td>3</td>\n",
              "      <td>133419744</td>\n",
              "      <td>Ethos e pathos na formação da sensibilidade in...</td>\n",
              "      <td>Ethos; Pathos; PLE; adaptação; estrangeiro</td>\n",
              "      <td>2019</td>\n",
              "      <td>RENOVADO</td>\n",
              "      <td>82</td>\n",
              "      <td>4</td>\n",
              "      <td>80106005</td>\n",
              "    </tr>\n",
              "    <tr>\n",
              "      <th>4</th>\n",
              "      <td>4</td>\n",
              "      <td>134916342</td>\n",
              "      <td>INFLUÊNCIA DA NEUROMODULAÇÃO NA DINÂMICA UTERI...</td>\n",
              "      <td>Neuromodulação, trabalho de parto, Dinâmica ut...</td>\n",
              "      <td>2019</td>\n",
              "      <td>EM EXECUÇÃO</td>\n",
              "      <td>364</td>\n",
              "      <td>2</td>\n",
              "      <td>40900002</td>\n",
              "    </tr>\n",
              "    <tr>\n",
              "      <th>...</th>\n",
              "      <td>...</td>\n",
              "      <td>...</td>\n",
              "      <td>...</td>\n",
              "      <td>...</td>\n",
              "      <td>...</td>\n",
              "      <td>...</td>\n",
              "      <td>...</td>\n",
              "      <td>...</td>\n",
              "      <td>...</td>\n",
              "    </tr>\n",
              "    <tr>\n",
              "      <th>20374</th>\n",
              "      <td>21364</td>\n",
              "      <td>35745</td>\n",
              "      <td>Implementação de Controladores Adaptativos Rob...</td>\n",
              "      <td>Controle Adaptativo;Sistemas com Estrutura Var...</td>\n",
              "      <td>2000</td>\n",
              "      <td>FINALIZADO</td>\n",
              "      <td>1112</td>\n",
              "      <td>15</td>\n",
              "      <td>30405009</td>\n",
              "    </tr>\n",
              "    <tr>\n",
              "      <th>20375</th>\n",
              "      <td>21365</td>\n",
              "      <td>35746</td>\n",
              "      <td>Controlador de Nível Adaptativo Aplicado a um ...</td>\n",
              "      <td>Controlador PID;Controle Adaptativo;Controle d...</td>\n",
              "      <td>2000</td>\n",
              "      <td>FINALIZADO</td>\n",
              "      <td>1112</td>\n",
              "      <td>15</td>\n",
              "      <td>30405009</td>\n",
              "    </tr>\n",
              "    <tr>\n",
              "      <th>20376</th>\n",
              "      <td>21368</td>\n",
              "      <td>35799</td>\n",
              "      <td>As concepções de professoras sobre linguagem e...</td>\n",
              "      <td>Educação Infantil;Alfabetização;Leitura e Escrita</td>\n",
              "      <td>2000</td>\n",
              "      <td>FINALIZADO</td>\n",
              "      <td>22</td>\n",
              "      <td>1</td>\n",
              "      <td>70804001</td>\n",
              "    </tr>\n",
              "    <tr>\n",
              "      <th>20377</th>\n",
              "      <td>21369</td>\n",
              "      <td>36010</td>\n",
              "      <td>Diferenças especiais de crianças e trabalho pe...</td>\n",
              "      <td>Educação Especial;Educação Infantil;Ensino e A...</td>\n",
              "      <td>2000</td>\n",
              "      <td>FINALIZADO</td>\n",
              "      <td>22</td>\n",
              "      <td>1</td>\n",
              "      <td>70804001</td>\n",
              "    </tr>\n",
              "    <tr>\n",
              "      <th>20378</th>\n",
              "      <td>21370</td>\n",
              "      <td>36012</td>\n",
              "      <td>Organizadores do ensino de matemática na escol...</td>\n",
              "      <td>Educação Infantil;Criança e a matemática;Conte...</td>\n",
              "      <td>2000</td>\n",
              "      <td>FINALIZADO</td>\n",
              "      <td>22</td>\n",
              "      <td>1</td>\n",
              "      <td>70804001</td>\n",
              "    </tr>\n",
              "  </tbody>\n",
              "</table>\n",
              "<p>20003 rows × 9 columns</p>\n",
              "</div>"
            ],
            "text/plain": [
              "       Unnamed: 0  id_projeto_pesquisa  ... linha_pesquisa area_conhecimento_cnpq\n",
              "0               0            134094250  ...              4               20502001\n",
              "1               1            134475410  ...              3               20502001\n",
              "2               2            133516110  ...              1               10601074\n",
              "3               3            133419744  ...              4               80106005\n",
              "4               4            134916342  ...              2               40900002\n",
              "...           ...                  ...  ...            ...                    ...\n",
              "20374       21364                35745  ...             15               30405009\n",
              "20375       21365                35746  ...             15               30405009\n",
              "20376       21368                35799  ...              1               70804001\n",
              "20377       21369                36010  ...              1               70804001\n",
              "20378       21370                36012  ...              1               70804001\n",
              "\n",
              "[20003 rows x 9 columns]"
            ]
          },
          "metadata": {
            "tags": []
          },
          "execution_count": 206
        }
      ]
    },
    {
      "cell_type": "code",
      "metadata": {
        "id": "cAIrEUp-KBOn"
      },
      "source": [
        "#hide\n",
        "df_nomes =  df_final[['unidade','linha_pesquisa','area_conhecimento_cnpq']]"
      ],
      "execution_count": 208,
      "outputs": []
    },
    {
      "cell_type": "code",
      "metadata": {
        "colab": {
          "base_uri": "https://localhost:8080/",
          "height": 419
        },
        "id": "Tu_osE_KKMLE",
        "outputId": "1197446a-af84-431b-8bf3-e15b41fca366"
      },
      "source": [
        "#hide_input\n",
        "df_nomes"
      ],
      "execution_count": 261,
      "outputs": [
        {
          "output_type": "execute_result",
          "data": {
            "text/html": [
              "<div>\n",
              "<style scoped>\n",
              "    .dataframe tbody tr th:only-of-type {\n",
              "        vertical-align: middle;\n",
              "    }\n",
              "\n",
              "    .dataframe tbody tr th {\n",
              "        vertical-align: top;\n",
              "    }\n",
              "\n",
              "    .dataframe thead th {\n",
              "        text-align: right;\n",
              "    }\n",
              "</style>\n",
              "<table border=\"1\" class=\"dataframe\">\n",
              "  <thead>\n",
              "    <tr style=\"text-align: right;\">\n",
              "      <th></th>\n",
              "      <th>unidade</th>\n",
              "      <th>linha_pesquisa</th>\n",
              "      <th>area_conhecimento_cnpq</th>\n",
              "    </tr>\n",
              "  </thead>\n",
              "  <tbody>\n",
              "    <tr>\n",
              "      <th>0</th>\n",
              "      <td>DEPARTAMENTO DE ECOLOGIA</td>\n",
              "      <td>Ecologia Humana</td>\n",
              "      <td>20502001</td>\n",
              "    </tr>\n",
              "    <tr>\n",
              "      <th>1</th>\n",
              "      <td>DEPARTAMENTO DE OCEANOGRAFIA E LIMNOLOGIA</td>\n",
              "      <td>Ecologia Marinha</td>\n",
              "      <td>20502001</td>\n",
              "    </tr>\n",
              "    <tr>\n",
              "      <th>2</th>\n",
              "      <td>INSTITUTO DE QUÍMICA</td>\n",
              "      <td>Gênero, ciência e tecnologia</td>\n",
              "      <td>10601074</td>\n",
              "    </tr>\n",
              "    <tr>\n",
              "      <th>3</th>\n",
              "      <td>DEPARTAMENTO DE LINGUAS E LITERATURAS ESTRANGE...</td>\n",
              "      <td>Ensino-aprendizagem de Línguas Estrangeiras</td>\n",
              "      <td>80106005</td>\n",
              "    </tr>\n",
              "    <tr>\n",
              "      <th>4</th>\n",
              "      <td>DEPARTAMENTO DE FISIOTERAPIA</td>\n",
              "      <td>Grupo de Estudo em Saúde da Mulher</td>\n",
              "      <td>40900002</td>\n",
              "    </tr>\n",
              "    <tr>\n",
              "      <th>...</th>\n",
              "      <td>...</td>\n",
              "      <td>...</td>\n",
              "      <td>...</td>\n",
              "    </tr>\n",
              "    <tr>\n",
              "      <th>20374</th>\n",
              "      <td>CT VICE-DIRETORIA</td>\n",
              "      <td>Automação Industrial e Controle de Processos;;;</td>\n",
              "      <td>30405009</td>\n",
              "    </tr>\n",
              "    <tr>\n",
              "      <th>20375</th>\n",
              "      <td>CT VICE-DIRETORIA</td>\n",
              "      <td>Automação Industrial e Controle de Processos;;;</td>\n",
              "      <td>30405009</td>\n",
              "    </tr>\n",
              "    <tr>\n",
              "      <th>20376</th>\n",
              "      <td>NÚCLEO DE EDUCAÇÃO DA INFÂNCIA</td>\n",
              "      <td>ALFABETIZAÇÃO;LEITURA E ESCRITA;ENSINO E APREN...</td>\n",
              "      <td>70804001</td>\n",
              "    </tr>\n",
              "    <tr>\n",
              "      <th>20377</th>\n",
              "      <td>NÚCLEO DE EDUCAÇÃO DA INFÂNCIA</td>\n",
              "      <td>Educação Especial;Educação Infantil;Diversidad...</td>\n",
              "      <td>70804001</td>\n",
              "    </tr>\n",
              "    <tr>\n",
              "      <th>20378</th>\n",
              "      <td>NÚCLEO DE EDUCAÇÃO DA INFÂNCIA</td>\n",
              "      <td>Ensino da matemática;Educação Infantil;Conteúd...</td>\n",
              "      <td>70804001</td>\n",
              "    </tr>\n",
              "  </tbody>\n",
              "</table>\n",
              "<p>20379 rows × 3 columns</p>\n",
              "</div>"
            ],
            "text/plain": [
              "                                                 unidade  ... area_conhecimento_cnpq\n",
              "0                               DEPARTAMENTO DE ECOLOGIA  ...               20502001\n",
              "1              DEPARTAMENTO DE OCEANOGRAFIA E LIMNOLOGIA  ...               20502001\n",
              "2                                   INSTITUTO DE QUÍMICA  ...               10601074\n",
              "3      DEPARTAMENTO DE LINGUAS E LITERATURAS ESTRANGE...  ...               80106005\n",
              "4                           DEPARTAMENTO DE FISIOTERAPIA  ...               40900002\n",
              "...                                                  ...  ...                    ...\n",
              "20374                                  CT VICE-DIRETORIA  ...               30405009\n",
              "20375                                  CT VICE-DIRETORIA  ...               30405009\n",
              "20376                     NÚCLEO DE EDUCAÇÃO DA INFÂNCIA  ...               70804001\n",
              "20377                     NÚCLEO DE EDUCAÇÃO DA INFÂNCIA  ...               70804001\n",
              "20378                     NÚCLEO DE EDUCAÇÃO DA INFÂNCIA  ...               70804001\n",
              "\n",
              "[20379 rows x 3 columns]"
            ]
          },
          "metadata": {
            "tags": []
          },
          "execution_count": 261
        }
      ]
    },
    {
      "cell_type": "code",
      "metadata": {
        "id": "YvvNS8ww9LB3"
      },
      "source": [
        "#hide\n",
        "df_nan['new_linha'] = df_nan.linha_pesquisa.map(df_nan.linha_pesquisa.value_counts().astype(int))"
      ],
      "execution_count": 214,
      "outputs": []
    },
    {
      "cell_type": "code",
      "metadata": {
        "id": "KxAtKOgtLPNT"
      },
      "source": [
        "#hide\n",
        "df_final['new_linha'] = df_final.linha_pesquisa.map(df_final.linha_pesquisa.value_counts())"
      ],
      "execution_count": 212,
      "outputs": []
    },
    {
      "cell_type": "code",
      "metadata": {
        "id": "H9svQgPVEB2H"
      },
      "source": [
        "#hide\n",
        "df_nan.unidade = df_nan.unidade.map(df_nan.unidade.value_counts())"
      ],
      "execution_count": 177,
      "outputs": []
    },
    {
      "cell_type": "code",
      "metadata": {
        "colab": {
          "base_uri": "https://localhost:8080/",
          "height": 623
        },
        "id": "kZpPyZ219XOO",
        "outputId": "933bba3c-4993-4fea-aac9-98152b8ecc7c"
      },
      "source": [
        "#hide\n",
        "df_final"
      ],
      "execution_count": 215,
      "outputs": [
        {
          "output_type": "execute_result",
          "data": {
            "text/html": [
              "<div>\n",
              "<style scoped>\n",
              "    .dataframe tbody tr th:only-of-type {\n",
              "        vertical-align: middle;\n",
              "    }\n",
              "\n",
              "    .dataframe tbody tr th {\n",
              "        vertical-align: top;\n",
              "    }\n",
              "\n",
              "    .dataframe thead th {\n",
              "        text-align: right;\n",
              "    }\n",
              "</style>\n",
              "<table border=\"1\" class=\"dataframe\">\n",
              "  <thead>\n",
              "    <tr style=\"text-align: right;\">\n",
              "      <th></th>\n",
              "      <th>Unnamed: 0</th>\n",
              "      <th>id_projeto_pesquisa</th>\n",
              "      <th>titulo</th>\n",
              "      <th>palavras_chave</th>\n",
              "      <th>ano</th>\n",
              "      <th>situacao</th>\n",
              "      <th>unidade</th>\n",
              "      <th>linha_pesquisa</th>\n",
              "      <th>area_conhecimento_cnpq</th>\n",
              "      <th>new_linha</th>\n",
              "    </tr>\n",
              "  </thead>\n",
              "  <tbody>\n",
              "    <tr>\n",
              "      <th>0</th>\n",
              "      <td>0</td>\n",
              "      <td>134094250</td>\n",
              "      <td>Cascading consequences of hunting and fishing ...</td>\n",
              "      <td>Pesca; Rio Juruá; conhecimento ecológico local...</td>\n",
              "      <td>2019</td>\n",
              "      <td>EM EXECUÇÃO</td>\n",
              "      <td>DEPARTAMENTO DE ECOLOGIA</td>\n",
              "      <td>Ecologia Humana</td>\n",
              "      <td>20502001</td>\n",
              "      <td>4.0</td>\n",
              "    </tr>\n",
              "    <tr>\n",
              "      <th>1</th>\n",
              "      <td>1</td>\n",
              "      <td>134475410</td>\n",
              "      <td>SAÚDE DO HIDROCORAL Millepora alcicornis: EFEI...</td>\n",
              "      <td>branqueamento de corais, mudanças globais, amb...</td>\n",
              "      <td>2019</td>\n",
              "      <td>EM EXECUÇÃO</td>\n",
              "      <td>DEPARTAMENTO DE OCEANOGRAFIA E LIMNOLOGIA</td>\n",
              "      <td>Ecologia Marinha</td>\n",
              "      <td>20502001</td>\n",
              "      <td>3.0</td>\n",
              "    </tr>\n",
              "    <tr>\n",
              "      <th>2</th>\n",
              "      <td>2</td>\n",
              "      <td>133516110</td>\n",
              "      <td>Desenvolvimento de aditivos químicos e sistema...</td>\n",
              "      <td>Cimentação, poços de petróleo, aditivos, micro...</td>\n",
              "      <td>2019</td>\n",
              "      <td>EM EXECUÇÃO</td>\n",
              "      <td>INSTITUTO DE QUÍMICA</td>\n",
              "      <td>Gênero, ciência e tecnologia</td>\n",
              "      <td>10601074</td>\n",
              "      <td>1.0</td>\n",
              "    </tr>\n",
              "    <tr>\n",
              "      <th>3</th>\n",
              "      <td>3</td>\n",
              "      <td>133419744</td>\n",
              "      <td>Ethos e pathos na formação da sensibilidade in...</td>\n",
              "      <td>Ethos; Pathos; PLE; adaptação; estrangeiro</td>\n",
              "      <td>2019</td>\n",
              "      <td>RENOVADO</td>\n",
              "      <td>DEPARTAMENTO DE LINGUAS E LITERATURAS ESTRANGE...</td>\n",
              "      <td>Ensino-aprendizagem de Línguas Estrangeiras</td>\n",
              "      <td>80106005</td>\n",
              "      <td>4.0</td>\n",
              "    </tr>\n",
              "    <tr>\n",
              "      <th>4</th>\n",
              "      <td>4</td>\n",
              "      <td>134916342</td>\n",
              "      <td>INFLUÊNCIA DA NEUROMODULAÇÃO NA DINÂMICA UTERI...</td>\n",
              "      <td>Neuromodulação, trabalho de parto, Dinâmica ut...</td>\n",
              "      <td>2019</td>\n",
              "      <td>EM EXECUÇÃO</td>\n",
              "      <td>DEPARTAMENTO DE FISIOTERAPIA</td>\n",
              "      <td>Grupo de Estudo em Saúde da Mulher</td>\n",
              "      <td>40900002</td>\n",
              "      <td>2.0</td>\n",
              "    </tr>\n",
              "    <tr>\n",
              "      <th>...</th>\n",
              "      <td>...</td>\n",
              "      <td>...</td>\n",
              "      <td>...</td>\n",
              "      <td>...</td>\n",
              "      <td>...</td>\n",
              "      <td>...</td>\n",
              "      <td>...</td>\n",
              "      <td>...</td>\n",
              "      <td>...</td>\n",
              "      <td>...</td>\n",
              "    </tr>\n",
              "    <tr>\n",
              "      <th>20374</th>\n",
              "      <td>21364</td>\n",
              "      <td>35745</td>\n",
              "      <td>Implementação de Controladores Adaptativos Rob...</td>\n",
              "      <td>Controle Adaptativo;Sistemas com Estrutura Var...</td>\n",
              "      <td>2000</td>\n",
              "      <td>FINALIZADO</td>\n",
              "      <td>CT VICE-DIRETORIA</td>\n",
              "      <td>Automação Industrial e Controle de Processos;;;</td>\n",
              "      <td>30405009</td>\n",
              "      <td>15.0</td>\n",
              "    </tr>\n",
              "    <tr>\n",
              "      <th>20375</th>\n",
              "      <td>21365</td>\n",
              "      <td>35746</td>\n",
              "      <td>Controlador de Nível Adaptativo Aplicado a um ...</td>\n",
              "      <td>Controlador PID;Controle Adaptativo;Controle d...</td>\n",
              "      <td>2000</td>\n",
              "      <td>FINALIZADO</td>\n",
              "      <td>CT VICE-DIRETORIA</td>\n",
              "      <td>Automação Industrial e Controle de Processos;;;</td>\n",
              "      <td>30405009</td>\n",
              "      <td>15.0</td>\n",
              "    </tr>\n",
              "    <tr>\n",
              "      <th>20376</th>\n",
              "      <td>21368</td>\n",
              "      <td>35799</td>\n",
              "      <td>As concepções de professoras sobre linguagem e...</td>\n",
              "      <td>Educação Infantil;Alfabetização;Leitura e Escrita</td>\n",
              "      <td>2000</td>\n",
              "      <td>FINALIZADO</td>\n",
              "      <td>NÚCLEO DE EDUCAÇÃO DA INFÂNCIA</td>\n",
              "      <td>ALFABETIZAÇÃO;LEITURA E ESCRITA;ENSINO E APREN...</td>\n",
              "      <td>70804001</td>\n",
              "      <td>1.0</td>\n",
              "    </tr>\n",
              "    <tr>\n",
              "      <th>20377</th>\n",
              "      <td>21369</td>\n",
              "      <td>36010</td>\n",
              "      <td>Diferenças especiais de crianças e trabalho pe...</td>\n",
              "      <td>Educação Especial;Educação Infantil;Ensino e A...</td>\n",
              "      <td>2000</td>\n",
              "      <td>FINALIZADO</td>\n",
              "      <td>NÚCLEO DE EDUCAÇÃO DA INFÂNCIA</td>\n",
              "      <td>Educação Especial;Educação Infantil;Diversidad...</td>\n",
              "      <td>70804001</td>\n",
              "      <td>1.0</td>\n",
              "    </tr>\n",
              "    <tr>\n",
              "      <th>20378</th>\n",
              "      <td>21370</td>\n",
              "      <td>36012</td>\n",
              "      <td>Organizadores do ensino de matemática na escol...</td>\n",
              "      <td>Educação Infantil;Criança e a matemática;Conte...</td>\n",
              "      <td>2000</td>\n",
              "      <td>FINALIZADO</td>\n",
              "      <td>NÚCLEO DE EDUCAÇÃO DA INFÂNCIA</td>\n",
              "      <td>Ensino da matemática;Educação Infantil;Conteúd...</td>\n",
              "      <td>70804001</td>\n",
              "      <td>1.0</td>\n",
              "    </tr>\n",
              "  </tbody>\n",
              "</table>\n",
              "<p>20379 rows × 10 columns</p>\n",
              "</div>"
            ],
            "text/plain": [
              "       Unnamed: 0  id_projeto_pesquisa  ... area_conhecimento_cnpq new_linha\n",
              "0               0            134094250  ...               20502001       4.0\n",
              "1               1            134475410  ...               20502001       3.0\n",
              "2               2            133516110  ...               10601074       1.0\n",
              "3               3            133419744  ...               80106005       4.0\n",
              "4               4            134916342  ...               40900002       2.0\n",
              "...           ...                  ...  ...                    ...       ...\n",
              "20374       21364                35745  ...               30405009      15.0\n",
              "20375       21365                35746  ...               30405009      15.0\n",
              "20376       21368                35799  ...               70804001       1.0\n",
              "20377       21369                36010  ...               70804001       1.0\n",
              "20378       21370                36012  ...               70804001       1.0\n",
              "\n",
              "[20379 rows x 10 columns]"
            ]
          },
          "metadata": {
            "tags": []
          },
          "execution_count": 215
        }
      ]
    },
    {
      "cell_type": "code",
      "metadata": {
        "id": "Ns4EeVEIMI3d"
      },
      "source": [
        "#hide\n",
        "df_merge = df_final.loc[df_final['new_linha'] > 10]"
      ],
      "execution_count": 223,
      "outputs": []
    },
    {
      "cell_type": "code",
      "metadata": {
        "id": "e37OEJyMLcur"
      },
      "source": [
        "#hide\n",
        "df_merge['cluster'] = kmeans.labels_"
      ],
      "execution_count": 225,
      "outputs": []
    },
    {
      "cell_type": "code",
      "metadata": {
        "colab": {
          "base_uri": "https://localhost:8080/",
          "height": 589
        },
        "id": "nHCdcwiBMbcr",
        "outputId": "d5433ec3-1cc5-4d27-f1e1-70dc948d5c4d"
      },
      "source": [
        "#hide\n",
        "df_merge"
      ],
      "execution_count": 226,
      "outputs": [
        {
          "output_type": "execute_result",
          "data": {
            "text/html": [
              "<div>\n",
              "<style scoped>\n",
              "    .dataframe tbody tr th:only-of-type {\n",
              "        vertical-align: middle;\n",
              "    }\n",
              "\n",
              "    .dataframe tbody tr th {\n",
              "        vertical-align: top;\n",
              "    }\n",
              "\n",
              "    .dataframe thead th {\n",
              "        text-align: right;\n",
              "    }\n",
              "</style>\n",
              "<table border=\"1\" class=\"dataframe\">\n",
              "  <thead>\n",
              "    <tr style=\"text-align: right;\">\n",
              "      <th></th>\n",
              "      <th>Unnamed: 0</th>\n",
              "      <th>id_projeto_pesquisa</th>\n",
              "      <th>titulo</th>\n",
              "      <th>palavras_chave</th>\n",
              "      <th>ano</th>\n",
              "      <th>situacao</th>\n",
              "      <th>unidade</th>\n",
              "      <th>linha_pesquisa</th>\n",
              "      <th>area_conhecimento_cnpq</th>\n",
              "      <th>new_linha</th>\n",
              "      <th>cluster</th>\n",
              "    </tr>\n",
              "  </thead>\n",
              "  <tbody>\n",
              "    <tr>\n",
              "      <th>36</th>\n",
              "      <td>36</td>\n",
              "      <td>134253261</td>\n",
              "      <td>Efeito da Dieta Cardioprotetora Brasileira e n...</td>\n",
              "      <td>Doença Arterial Coronariana; Infarto do Miocár...</td>\n",
              "      <td>2019</td>\n",
              "      <td>RENOVADO</td>\n",
              "      <td>DEPARTAMENTO DE NUTRIÇÃO</td>\n",
              "      <td>Estudos relacionados à nutrição e ao estado nu...</td>\n",
              "      <td>40501000</td>\n",
              "      <td>15.0</td>\n",
              "      <td>2</td>\n",
              "    </tr>\n",
              "    <tr>\n",
              "      <th>107</th>\n",
              "      <td>112</td>\n",
              "      <td>129300124</td>\n",
              "      <td>Avaliação preliminar da qualidade da carne de ...</td>\n",
              "      <td>Nitrito, hambúrguer, aditivos</td>\n",
              "      <td>2018</td>\n",
              "      <td>FINALIZADO</td>\n",
              "      <td>DEPARTAMENTO DE ANÁLISES CLÍNICAS E TOXICOLÓGICAS</td>\n",
              "      <td>Análises Toxicológicas</td>\n",
              "      <td>40303004</td>\n",
              "      <td>14.0</td>\n",
              "      <td>1</td>\n",
              "    </tr>\n",
              "    <tr>\n",
              "      <th>108</th>\n",
              "      <td>113</td>\n",
              "      <td>129299720</td>\n",
              "      <td>Análise do teor do aditivo alimentar Nitrito d...</td>\n",
              "      <td>Presunto, nitrito, aditivos</td>\n",
              "      <td>2018</td>\n",
              "      <td>FINALIZADO</td>\n",
              "      <td>DEPARTAMENTO DE ANÁLISES CLÍNICAS E TOXICOLÓGICAS</td>\n",
              "      <td>Análises Toxicológicas</td>\n",
              "      <td>40303004</td>\n",
              "      <td>14.0</td>\n",
              "      <td>1</td>\n",
              "    </tr>\n",
              "    <tr>\n",
              "      <th>112</th>\n",
              "      <td>117</td>\n",
              "      <td>129416190</td>\n",
              "      <td>Determinação de arsênio total em amostras de c...</td>\n",
              "      <td>Arsênio, Cação, espectrofotometria</td>\n",
              "      <td>2018</td>\n",
              "      <td>FINALIZADO</td>\n",
              "      <td>DEPARTAMENTO DE ANÁLISES CLÍNICAS E TOXICOLÓGICAS</td>\n",
              "      <td>Análises Toxicológicas</td>\n",
              "      <td>40303004</td>\n",
              "      <td>14.0</td>\n",
              "      <td>1</td>\n",
              "    </tr>\n",
              "    <tr>\n",
              "      <th>176</th>\n",
              "      <td>182</td>\n",
              "      <td>129489220</td>\n",
              "      <td>Microencapsulação de Bactérias Lácticas para a...</td>\n",
              "      <td>Bactérias probióticas, microcápsulas, leite fe...</td>\n",
              "      <td>2018</td>\n",
              "      <td>RENOVADO</td>\n",
              "      <td>DEPARTAMENTO DE ENGENHARIA QUIMICA</td>\n",
              "      <td>50701037</td>\n",
              "      <td>50703021</td>\n",
              "      <td>14.0</td>\n",
              "      <td>3</td>\n",
              "    </tr>\n",
              "    <tr>\n",
              "      <th>...</th>\n",
              "      <td>...</td>\n",
              "      <td>...</td>\n",
              "      <td>...</td>\n",
              "      <td>...</td>\n",
              "      <td>...</td>\n",
              "      <td>...</td>\n",
              "      <td>...</td>\n",
              "      <td>...</td>\n",
              "      <td>...</td>\n",
              "      <td>...</td>\n",
              "      <td>...</td>\n",
              "    </tr>\n",
              "    <tr>\n",
              "      <th>20368</th>\n",
              "      <td>21353</td>\n",
              "      <td>35731</td>\n",
              "      <td>Estudo ambiental de Caracterização dos Lodos d...</td>\n",
              "      <td>lodos;águas residuárias;monitoramento ambiental</td>\n",
              "      <td>2000</td>\n",
              "      <td>FINALIZADO</td>\n",
              "      <td>CT VICE-DIRETORIA</td>\n",
              "      <td>;;;</td>\n",
              "      <td>60201002</td>\n",
              "      <td>301.0</td>\n",
              "      <td>0</td>\n",
              "    </tr>\n",
              "    <tr>\n",
              "      <th>20369</th>\n",
              "      <td>21355</td>\n",
              "      <td>35733</td>\n",
              "      <td>Projeto e Construção de um Sistema de Transmis...</td>\n",
              "      <td>;;</td>\n",
              "      <td>2000</td>\n",
              "      <td>FINALIZADO</td>\n",
              "      <td>CT VICE-DIRETORIA</td>\n",
              "      <td>;;;</td>\n",
              "      <td>30504007</td>\n",
              "      <td>301.0</td>\n",
              "      <td>0</td>\n",
              "    </tr>\n",
              "    <tr>\n",
              "      <th>20370</th>\n",
              "      <td>21358</td>\n",
              "      <td>35736</td>\n",
              "      <td>Veículo Híbrico Elétrico Gás Natural</td>\n",
              "      <td>;;</td>\n",
              "      <td>2000</td>\n",
              "      <td>FINALIZADO</td>\n",
              "      <td>CT VICE-DIRETORIA</td>\n",
              "      <td>;;;</td>\n",
              "      <td>30504007</td>\n",
              "      <td>301.0</td>\n",
              "      <td>0</td>\n",
              "    </tr>\n",
              "    <tr>\n",
              "      <th>20374</th>\n",
              "      <td>21364</td>\n",
              "      <td>35745</td>\n",
              "      <td>Implementação de Controladores Adaptativos Rob...</td>\n",
              "      <td>Controle Adaptativo;Sistemas com Estrutura Var...</td>\n",
              "      <td>2000</td>\n",
              "      <td>FINALIZADO</td>\n",
              "      <td>CT VICE-DIRETORIA</td>\n",
              "      <td>Automação Industrial e Controle de Processos;;;</td>\n",
              "      <td>30405009</td>\n",
              "      <td>15.0</td>\n",
              "      <td>4</td>\n",
              "    </tr>\n",
              "    <tr>\n",
              "      <th>20375</th>\n",
              "      <td>21365</td>\n",
              "      <td>35746</td>\n",
              "      <td>Controlador de Nível Adaptativo Aplicado a um ...</td>\n",
              "      <td>Controlador PID;Controle Adaptativo;Controle d...</td>\n",
              "      <td>2000</td>\n",
              "      <td>FINALIZADO</td>\n",
              "      <td>CT VICE-DIRETORIA</td>\n",
              "      <td>Automação Industrial e Controle de Processos;;;</td>\n",
              "      <td>30405009</td>\n",
              "      <td>15.0</td>\n",
              "      <td>4</td>\n",
              "    </tr>\n",
              "  </tbody>\n",
              "</table>\n",
              "<p>2240 rows × 11 columns</p>\n",
              "</div>"
            ],
            "text/plain": [
              "       Unnamed: 0  id_projeto_pesquisa  ... new_linha cluster\n",
              "36             36            134253261  ...      15.0       2\n",
              "107           112            129300124  ...      14.0       1\n",
              "108           113            129299720  ...      14.0       1\n",
              "112           117            129416190  ...      14.0       1\n",
              "176           182            129489220  ...      14.0       3\n",
              "...           ...                  ...  ...       ...     ...\n",
              "20368       21353                35731  ...     301.0       0\n",
              "20369       21355                35733  ...     301.0       0\n",
              "20370       21358                35736  ...     301.0       0\n",
              "20374       21364                35745  ...      15.0       4\n",
              "20375       21365                35746  ...      15.0       4\n",
              "\n",
              "[2240 rows x 11 columns]"
            ]
          },
          "metadata": {
            "tags": []
          },
          "execution_count": 226
        }
      ]
    },
    {
      "cell_type": "code",
      "metadata": {
        "id": "b-O6mREuM9mN"
      },
      "source": [
        "#hide\n",
        "plt.scatter(df_merge['cluster'], df_merge['area_conhecimento_cnpq'])"
      ],
      "execution_count": null,
      "outputs": []
    },
    {
      "cell_type": "code",
      "metadata": {
        "id": "H69lfj069wCf"
      },
      "source": [
        "#hide\n",
        "df_process = df_nan[['unidade','linha_pesquisa','area_conhecimento_cnpq']]"
      ],
      "execution_count": 239,
      "outputs": []
    },
    {
      "cell_type": "code",
      "metadata": {
        "id": "1-3vKP_W-Hhs"
      },
      "source": [
        "#hide_output\n",
        "df_filtered = df_process.loc[df_process['linha_pesquisa'] > 10]"
      ],
      "execution_count": 237,
      "outputs": []
    },
    {
      "cell_type": "code",
      "metadata": {
        "colab": {
          "base_uri": "https://localhost:8080/",
          "height": 204
        },
        "id": "ewZzGDCH-UM0",
        "outputId": "36d0f90c-e16d-4a3c-81b0-33ad0479f7d9"
      },
      "source": [
        "#hide\n",
        "df_filtered.head()"
      ],
      "execution_count": 241,
      "outputs": [
        {
          "output_type": "execute_result",
          "data": {
            "text/html": [
              "<div>\n",
              "<style scoped>\n",
              "    .dataframe tbody tr th:only-of-type {\n",
              "        vertical-align: middle;\n",
              "    }\n",
              "\n",
              "    .dataframe tbody tr th {\n",
              "        vertical-align: top;\n",
              "    }\n",
              "\n",
              "    .dataframe thead th {\n",
              "        text-align: right;\n",
              "    }\n",
              "</style>\n",
              "<table border=\"1\" class=\"dataframe\">\n",
              "  <thead>\n",
              "    <tr style=\"text-align: right;\">\n",
              "      <th></th>\n",
              "      <th>unidade</th>\n",
              "      <th>linha_pesquisa</th>\n",
              "      <th>area_conhecimento_cnpq</th>\n",
              "    </tr>\n",
              "  </thead>\n",
              "  <tbody>\n",
              "    <tr>\n",
              "      <th>36</th>\n",
              "      <td>190</td>\n",
              "      <td>15</td>\n",
              "      <td>40501000</td>\n",
              "    </tr>\n",
              "    <tr>\n",
              "      <th>107</th>\n",
              "      <td>322</td>\n",
              "      <td>14</td>\n",
              "      <td>40303004</td>\n",
              "    </tr>\n",
              "    <tr>\n",
              "      <th>108</th>\n",
              "      <td>322</td>\n",
              "      <td>14</td>\n",
              "      <td>40303004</td>\n",
              "    </tr>\n",
              "    <tr>\n",
              "      <th>112</th>\n",
              "      <td>322</td>\n",
              "      <td>14</td>\n",
              "      <td>40303004</td>\n",
              "    </tr>\n",
              "    <tr>\n",
              "      <th>176</th>\n",
              "      <td>482</td>\n",
              "      <td>14</td>\n",
              "      <td>50703021</td>\n",
              "    </tr>\n",
              "  </tbody>\n",
              "</table>\n",
              "</div>"
            ],
            "text/plain": [
              "     unidade  linha_pesquisa  area_conhecimento_cnpq\n",
              "36       190              15                40501000\n",
              "107      322              14                40303004\n",
              "108      322              14                40303004\n",
              "112      322              14                40303004\n",
              "176      482              14                50703021"
            ]
          },
          "metadata": {
            "tags": []
          },
          "execution_count": 241
        }
      ]
    },
    {
      "cell_type": "code",
      "metadata": {
        "id": "N_JfrCeh-do_"
      },
      "source": [
        "#hide_output\n",
        "X = np.array(df_filtered.drop(['area_conhecimento_cnpq'], 1))"
      ],
      "execution_count": 184,
      "outputs": []
    },
    {
      "cell_type": "code",
      "metadata": {
        "colab": {
          "base_uri": "https://localhost:8080/"
        },
        "id": "FEOs_gA_L9o2",
        "outputId": "387e65f9-54a6-496e-be24-309440653cfa"
      },
      "source": [
        "np.shape(X)"
      ],
      "execution_count": 222,
      "outputs": [
        {
          "output_type": "execute_result",
          "data": {
            "text/plain": [
              "(2240, 2)"
            ]
          },
          "metadata": {
            "tags": []
          },
          "execution_count": 222
        }
      ]
    },
    {
      "cell_type": "code",
      "metadata": {
        "id": "Hkf3otjS-r4J"
      },
      "source": [
        "#hide_output\n",
        "kmeans = KMeans(n_clusters=8).fit(X)"
      ],
      "execution_count": 218,
      "outputs": []
    },
    {
      "cell_type": "code",
      "metadata": {
        "colab": {
          "base_uri": "https://localhost:8080/"
        },
        "id": "0n2Dblu3-vZ8",
        "outputId": "796e8688-b4b8-40be-976c-1e6b124eab5e"
      },
      "source": [
        "centroides = np.array(kmeans.cluster_centers_)\n",
        "centroides"
      ],
      "execution_count": 219,
      "outputs": [
        {
          "output_type": "execute_result",
          "data": {
            "text/plain": [
              "array([[1065.46195652,  301.        ],\n",
              "       [ 322.88969259,   15.05424955],\n",
              "       [ 198.07373272,   36.0483871 ],\n",
              "       [ 551.1375    ,   17.296875  ],\n",
              "       [1140.09090909,   14.33333333],\n",
              "       [ 711.82608696,  301.        ],\n",
              "       [ 106.89757412,   15.38005391],\n",
              "       [ 939.50413223,   14.76033058]])"
            ]
          },
          "metadata": {
            "tags": []
          },
          "execution_count": 219
        }
      ]
    },
    {
      "cell_type": "code",
      "metadata": {
        "id": "NOl9avpdBezk"
      },
      "source": [
        "#hide_output\n",
        "centroides = kmeans.cluster_centers_"
      ],
      "execution_count": 187,
      "outputs": []
    },
    {
      "cell_type": "code",
      "metadata": {
        "id": "WnXlIspY_GLt"
      },
      "source": [
        "#hide_output\n",
        "y = kmeans.predict(X)"
      ],
      "execution_count": 189,
      "outputs": []
    },
    {
      "cell_type": "code",
      "metadata": {
        "colab": {
          "base_uri": "https://localhost:8080/",
          "height": 268
        },
        "id": "pon3WMzQ_MJV",
        "outputId": "1f07547a-35b1-4e0c-fede-0a2b42081836"
      },
      "source": [
        "#hide_input\n",
        "plt.scatter(X[:, 0], X[:, 1], c=y, s=50, cmap='viridis')\n",
        "\n",
        "centers = kmeans.cluster_centers_\n",
        "plt.scatter(centers[:, 0], centers[:, 1], c='black', s=200, alpha=0.5);"
      ],
      "execution_count": 190,
      "outputs": [
        {
          "output_type": "display_data",
          "data": {
            "image/png": "[encoded data removed]",
            "text/plain": [
              "<Figure size 432x288 with 1 Axes>"
            ]
          },
          "metadata": {
            "tags": []
          }
        }
      ]
    },
    {
      "cell_type": "code",
      "metadata": {
        "colab": {
          "base_uri": "https://localhost:8080/",
          "height": 285
        },
        "id": "OEWITsePGNpS",
        "outputId": "f9469ca8-16de-47e1-f7b9-acad887b1f50"
      },
      "source": [
        "#hide_input\n",
        "plt.scatter(X[:,0],X[:,1], c=kmeans.labels_, cmap='rainbow')"
      ],
      "execution_count": 193,
      "outputs": [
        {
          "output_type": "execute_result",
          "data": {
            "text/plain": [
              "<matplotlib.collections.PathCollection at 0x7efbbbe786d0>"
            ]
          },
          "metadata": {
            "tags": []
          },
          "execution_count": 193
        },
        {
          "output_type": "display_data",
          "data": {
            "image/png": "[encoded data removed]",
            "text/plain": [
              "<Figure size 432x288 with 1 Axes>"
            ]
          },
          "metadata": {
            "tags": []
          }
        }
      ]
    },
    {
      "cell_type": "code",
      "metadata": {
        "colab": {
          "base_uri": "https://localhost:8080/",
          "height": 285
        },
        "id": "jNZyvbKUGS52",
        "outputId": "9cb444b9-9fe5-435e-8b89-593679af02d3"
      },
      "source": [
        "#hide_input\n",
        "plt.scatter(X[:,0], X[:,1], c=kmeans.labels_, cmap='rainbow')\n",
        "plt.scatter(kmeans.cluster_centers_[:,0] ,kmeans.cluster_centers_[:,1], color='black')"
      ],
      "execution_count": 194,
      "outputs": [
        {
          "output_type": "execute_result",
          "data": {
            "text/plain": [
              "<matplotlib.collections.PathCollection at 0x7efbb3639dd0>"
            ]
          },
          "metadata": {
            "tags": []
          },
          "execution_count": 194
        },
        {
          "output_type": "display_data",
          "data": {
            "image/png": "[encoded data removed]",
            "text/plain": [
              "<Figure size 432x288 with 1 Axes>"
            ]
          },
          "metadata": {
            "tags": []
          }
        }
      ]
    },
    {
      "cell_type": "code",
      "metadata": {
        "id": "jbZbGk9qHW_j"
      },
      "source": [
        "#hide\n",
        "def doKmeans(X, nclust=8):\n",
        "    model = KMeans(nclust)\n",
        "    model.fit(X)\n",
        "    clust_labels = model.predict(X)\n",
        "    cent = model.cluster_centers_\n",
        "    return (clust_labels, cent)\n",
        "\n",
        "clust_labels, cent = doKmeans(df_filtered, 8)\n",
        "kmeans = pd.DataFrame(clust_labels)\n",
        "df_filtered.insert((df_filtered.shape[1]),'kmeans',kmeans)"
      ],
      "execution_count": 197,
      "outputs": []
    },
    {
      "cell_type": "code",
      "metadata": {
        "colab": {
          "base_uri": "https://localhost:8080/",
          "height": 318
        },
        "id": "8_tQleDlIKSj",
        "outputId": "2d289400-aa74-4ffc-fb7c-29f82800f3cd"
      },
      "source": [
        "#hide\n",
        "fig = plt.figure()\n",
        "ax = fig.add_subplot(111)\n",
        "scatter = ax.scatter(df_filtered['unidade'],df_filtered['linha_pesquisa'],\n",
        "                     c=kmeans[0],s=50)\n",
        "ax.set_title('K-Means Clustering')\n",
        "ax.set_xlabel('unidade')\n",
        "ax.set_ylabel('linha de pesquisa')\n",
        "plt.colorbar(scatter)"
      ],
      "execution_count": 203,
      "outputs": [
        {
          "output_type": "execute_result",
          "data": {
            "text/plain": [
              "<matplotlib.colorbar.Colorbar at 0x7efbb3330490>"
            ]
          },
          "metadata": {
            "tags": []
          },
          "execution_count": 203
        },
        {
          "output_type": "display_data",
          "data": {
            "image/png": "[encoded data removed]",
            "text/plain": [
              "<Figure size 432x288 with 2 Axes>"
            ]
          },
          "metadata": {
            "tags": []
          }
        }
      ]
    },
    {
      "cell_type": "code",
      "metadata": {
        "colab": {
          "base_uri": "https://localhost:8080/",
          "height": 318
        },
        "id": "oLogmTS6Gztg",
        "outputId": "55acf13c-5e7f-4f9e-f5b0-1ade3aa0b0f5"
      },
      "source": [
        "#hide\n",
        "fig = plt.figure()\n",
        "ax = fig.add_subplot(111)\n",
        "scatter = ax.scatter(df_filtered['unidade'],df_filtered['area_conhecimento_cnpq'],\n",
        "                     c=kmeans[0],s=50)\n",
        "ax.set_title('K-Means Clustering')\n",
        "ax.set_xlabel('unidade')\n",
        "ax.set_ylabel('area de conhecimento')\n",
        "plt.colorbar(scatter)"
      ],
      "execution_count": 202,
      "outputs": [
        {
          "output_type": "execute_result",
          "data": {
            "text/plain": [
              "<matplotlib.colorbar.Colorbar at 0x7efbb33e6d50>"
            ]
          },
          "metadata": {
            "tags": []
          },
          "execution_count": 202
        },
        {
          "output_type": "display_data",
          "data": {
            "image/png": "[encoded data removed]",
            "text/plain": [
              "<Figure size 432x288 with 2 Axes>"
            ]
          },
          "metadata": {
            "tags": []
          }
        }
      ]
    }
  ]
}